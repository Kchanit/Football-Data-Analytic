{
 "cells": [
  {
   "cell_type": "markdown",
   "metadata": {
    "cell_id": "1c4628817a114a14ac276e2f5b04c49e",
    "deepnote_cell_type": "text-cell-h1",
    "formattedRanges": [],
    "is_collapsed": false,
    "tags": []
   },
   "source": [
    "# จัดทำโดย"
   ]
  },
  {
   "cell_type": "markdown",
   "metadata": {
    "cell_id": "8786dc4447f248f69b402313199915d0",
    "deepnote_cell_type": "text-cell-p",
    "formattedRanges": [],
    "is_collapsed": false,
    "tags": []
   },
   "source": [
    "นายชนิตพล โลหะมงคล 6410406533                                                                                                                                                                                                        นายชยกร                                                                                                                                                                                                    นายนางสาวแพรวรุ้ง พุดชะวา 6410451253                                                                                                                                                                                                    นายอุรวิศ เจียรจินดา 6410406932"
   ]
  },
  {
   "cell_type": "markdown",
   "metadata": {
    "cell_id": "f3ed562ec6d54ba89876a263ea845419",
    "deepnote_cell_type": "text-cell-h1",
    "formattedRanges": [],
    "is_collapsed": false,
    "tags": []
   },
   "source": [
    "# เขียนคำนำ!!"
   ]
  },
  {
   "cell_type": "markdown",
   "metadata": {
    "cell_id": "57007ade6fa7475c8cfbad5e7a7e41bc",
    "deepnote_cell_type": "text-cell-p",
    "formattedRanges": [],
    "is_collapsed": false,
    "tags": []
   },
   "source": [
    "ทีมที่แข็งแกร่งนั้น คือ ทีมที่สามารถที่จะก้าวขึ้นเป็นที่ 1 ได้อย่างไม่ยาก หรือมีโอกาสคว้าชัยชนะเหนือทีมอื่นๆได้ไม่มากก็น้อย โดยการที่เราจะบอกว่าทีมนั้นเก่งมากๆนั้นสามารถวัดได้จาก อัตราการชนะ, อันดับในลีกต่างๆที่สามารถคว้าได้ และอื่นๆ ซึ่งสิ่งเหล่านี้เกิดจากหลายๆปัจจัยไม่ว่าจะเป็น โค้ชของทีม, แผนที่ใช้ในการเล่นแต่ละเกม แต่หนึ่งปัจจัยหลักนั้นก็คือ นักเตะในทีมนั้นเอง, การวิเคราะห์ข้อมูลต่างๆในแต่ละฤดูกาล จะทำให้เราสามารถเห็นได้ว่าปัจจัยต่างๆเหล่านี้ประกอบกัน จนทำให้ทีมฟุตบอลทีมหนึ่งเป็นทีมที่แข็งแกร่งมากๆ"
   ]
  },
  {
   "cell_type": "code",
   "execution_count": 394,
   "metadata": {
    "cell_id": "342ab96a7fc342da863191fac8cd2ff3",
    "deepnote_cell_type": "code",
    "deepnote_to_be_reexecuted": false,
    "execution_millis": 1303,
    "execution_start": 1679064371581,
    "source_hash": "68301009"
   },
   "outputs": [],
   "source": [
    "import pandas as pd\n",
    "import numpy as np\n",
    "import seaborn as sns\n",
    "import matplotlib.pyplot as plt"
   ]
  },
  {
   "cell_type": "code",
   "execution_count": 395,
   "metadata": {
    "cell_id": "39a8e05eb3c74d2393a4b694ecd8c66b",
    "deepnote_cell_type": "code",
    "deepnote_to_be_reexecuted": false,
    "execution_millis": 4,
    "execution_start": 1679064372992,
    "source_hash": "1ed3300c"
   },
   "outputs": [],
   "source": [
    "%matplotlib inline"
   ]
  },
  {
   "cell_type": "code",
   "execution_count": 396,
   "metadata": {
    "cell_id": "da10e8d888314d018da45256eb6599ec",
    "deepnote_cell_type": "code",
    "deepnote_to_be_reexecuted": false,
    "execution_millis": 3,
    "execution_start": 1679064372993,
    "source_hash": "561b256e"
   },
   "outputs": [],
   "source": [
    "pd.set_option('display.max_columns', None)"
   ]
  },
  {
   "cell_type": "markdown",
   "metadata": {
    "cell_id": "bc23bbcf441a46a19c29f8114d182dce",
    "deepnote_cell_type": "text-cell-h2",
    "formattedRanges": [],
    "is_collapsed": false,
    "tags": []
   },
   "source": [
    "## ข้อมูลที่ใช้ในการวิเคราะห์"
   ]
  },
  {
   "cell_type": "markdown",
   "metadata": {
    "cell_id": "3fe55e5966dd47a88c71f108d6fb2243",
    "deepnote_cell_type": "text-cell-p",
    "formattedRanges": [],
    "is_collapsed": false,
    "tags": []
   },
   "source": [
    "การเพิ่ม field ต่างๆจะทำให้การวิเคราะห์ง่ายขึ้น และสามารถใช้งานและวิเคราะห์ข้อมูลได้หลากหลายมากขึ้น                                                                         xG/90s หมายถึง จำนวนการทำเข้าประตูที่คาดว่าจะสามารถทำได้ ใน 90 นาที                                                                                                             (Gls-xG)/90s หมายถึง ความแตกต่างระหว่างจำนวนการทำประตูที่ทำได้จริง กับ  จำนวนการทำเข้าประตูที่คาดว่าจะสามารถทำได้ ใน 90 นาที                               KP90 หมายถึง  จำนวน Key pass ที่สามารถทำได้ ใน 90 นาที                                                                                                                                                                                              Ast90 หมายถึง จำนวน assist ที่สามารถทำได้ ใน 90 นาที                                                                                                                                                                                                      xA90 หมายถึง จำนวน assist ที่คาดว่าจะสามารถทำได้ ใน 90 นาที    "
   ]
  },
  {
   "cell_type": "code",
   "execution_count": 397,
   "metadata": {
    "cell_id": "0a1e5b563c9642db9173be82054a0fe7",
    "deepnote_cell_type": "code",
    "deepnote_to_be_reexecuted": false,
    "execution_millis": 3,
    "execution_start": 1679064372993,
    "source_hash": "c727dd7d"
   },
   "outputs": [],
   "source": [
    "gk = pd.read_csv('goalkeepers.csv')\n",
    "df = pd.read_csv('players_22-23.csv') # ข้อมูลฤดูกาล 2022-2023\n",
    "df['xG/90s'] = df['xG'] / df['90s']\n",
    "df['(Gls-xG)/90s'] = df['Gls/90s'] - df['xG/90s'] #Goals above xG\n",
    "df['KP90'] = round(df['KP'] / df['90s'], 2)\n",
    "df['Ast90'] = round(df['Ast'] / df['90s'], 3)\n",
    "df['xA90'] = round(df['xA'] / df['90s'], 3)\n",
    "\n",
    "# df['TWR'] = df.TklW / (df.Tkl + df.Lost + df.Fls) * 100"
   ]
  },
  {
   "cell_type": "markdown",
   "metadata": {
    "cell_id": "312c28c73a004bd793199f0940bc8142",
    "deepnote_cell_type": "text-cell-p",
    "formattedRanges": [],
    "is_collapsed": false,
    "tags": []
   },
   "source": [
    "ในการวิเคราห์ประเด็นนี้ จะใช้ dataframe ในฤดูกาล 2022 ถึง 2023 ใน Premier League เท่านั้น                                                                            df_prem_mf จะเป็น dataframe ที่เราจะคัดมาเฉพาะแต่ตำแหน่ง กองกลาง (Midfielder)\n",
    "df_prem_fw จะเป็น dataframe ที่เราจะคัดมาเฉพาะแต่ตำแหน่ง กองหน้า (Forward or Striker)\n",
    "df_prem_fw_big5 จะเป็น dataframe ที่เราจะคัดมาเฉพาะแต่ตำแหน่ง กองหน้า (Forward or Striker) ที่อยู่ในทีม top 5 ของ English Premier League ในฤดูกาล 2022-2023 ได้แก่ Arsenal, Manchester City, Manchester United, Tottenham และ Liverpool"
   ]
  },
  {
   "cell_type": "code",
   "execution_count": 398,
   "metadata": {
    "cell_id": "5e1fd81351384d7ab36f0764d67c1e7d",
    "deepnote_cell_type": "code",
    "deepnote_to_be_reexecuted": false,
    "execution_millis": 17,
    "execution_start": 1679064372994,
    "source_hash": "27cfeeab"
   },
   "outputs": [],
   "source": [
    "df_prem = df[df.Comp.str.contains('Premier League')] #Prem only\n",
    "df_prem_mf = df_prem[(df_prem.Pos.str.startswith('MF') & (df_prem.Starts > 10) )] #Filter Midfield and Playtime\n",
    "df_prem_fw = df_prem[(df_prem.Pos.str.startswith('FW') \n",
    "                                  & (df_prem.Min > 450) & (df_prem.Gls > 2))] #Filter Forward"
   ]
  },
  {
   "cell_type": "code",
   "execution_count": 399,
   "metadata": {
    "cell_id": "7b7492a7feaa41bd830f06c11aa0f526",
    "deepnote_cell_type": "code",
    "deepnote_to_be_reexecuted": false,
    "execution_millis": 9,
    "execution_start": 1679064373002,
    "source_hash": "b22e452d"
   },
   "outputs": [],
   "source": [
    "df_prem_fw_big5 = df_prem_fw[df_prem_fw.Team.isin(['Arsenal', 'Manchester City', 'Manchester Utd', 'Tottenham', 'Liverpool'])]"
   ]
  },
  {
   "cell_type": "markdown",
   "metadata": {
    "cell_id": "0bd6721f2eb84082958aaa6129683df7",
    "deepnote_cell_type": "markdown"
   },
   "source": [
    "# Haaland คือนักเตะตำแหน่งกองหน้าที่ดีสุดใน English Premier League ?"
   ]
  },
  {
   "cell_type": "markdown",
   "metadata": {
    "cell_id": "f11ef47efbfa480dad61c1bf68fba72e",
    "deepnote_cell_type": "text-cell-p",
    "formattedRanges": [],
    "is_collapsed": false,
    "tags": []
   },
   "source": [
    "top_5 คือ ทีมที่ทำการแข่งขันใน English Premier League ในฤดูกาล 2022-2023 แล้วมีฟอร์มการเล่นของทีมที่โดดเด่นที่สุด                                             ได้แก่ Arsenal, Manchester City, Manchester United, Tottenham และ Liverpool"
   ]
  },
  {
   "cell_type": "code",
   "execution_count": 400,
   "metadata": {
    "cell_id": "98b9c767cbde4378a5a14440676b27b3",
    "deepnote_cell_type": "code",
    "deepnote_to_be_reexecuted": false,
    "execution_millis": 17,
    "execution_start": 1679064373004,
    "source_hash": "e360fe12"
   },
   "outputs": [],
   "source": [
    "top_5 = ['Arsenal', 'Manchester City', 'Manchester Utd', 'Tottenham', 'Liverpool']\n",
    "# top_5 = ['Arsenal', 'Manchester City', 'Manchester Utd', 'Tottenham', 'Liverpool', 'Newcastle']\n"
   ]
  },
  {
   "cell_type": "markdown",
   "metadata": {
    "cell_id": "35b2ad69720b496abc04c7fd02593945",
    "deepnote_cell_type": "text-cell-p",
    "formattedRanges": [],
    "is_collapsed": false,
    "tags": []
   },
   "source": [
    "ข้างล่างนี้คือข้อมูลภาพรวมค่า stats ต่างๆ ของตำแหน่ง กองหน้า (forward) แต่ละคนจาก df_prem_fw_big6 โดยเรียงลำดับจากการทำประตู Gls จากมากไปน้อย"
   ]
  },
  {
   "cell_type": "markdown",
   "metadata": {
    "cell_id": "a5fee759fc0f4ebca4fd62eddd9f5339",
    "deepnote_cell_type": "text-cell-h2",
    "formattedRanges": [],
    "is_collapsed": false,
    "tags": []
   },
   "source": [
    "## ภาพรวมการทำประตูของนักเตะใน EPL"
   ]
  },
  {
   "cell_type": "markdown",
   "metadata": {
    "cell_id": "4874a2c5ac59409487769cc63ed767e9",
    "deepnote_cell_type": "text-cell-p",
    "formattedRanges": [],
    "is_collapsed": false,
    "tags": []
   },
   "source": [
    "จากการสังเกตตาราง pivot table จะสังเกตได้ว่า Erling Haaland นักเตะกองหน้าจากทีม Manchester City ได้ทำประตูไป 27 ประตู ซึ่งมากที่สุดใน English Premier League ฤดูกาล 2022-2023 "
   ]
  },
  {
   "cell_type": "code",
   "execution_count": 401,
   "metadata": {
    "cell_id": "f90e1e253c114172a0830e38e63df646",
    "deepnote_cell_type": "code",
    "deepnote_to_be_reexecuted": false,
    "execution_millis": 29,
    "execution_start": 1679064373021,
    "source_hash": "e5664361"
   },
   "outputs": [
    {
     "data": {
      "text/html": [
       "<div>\n",
       "<style scoped>\n",
       "    .dataframe tbody tr th:only-of-type {\n",
       "        vertical-align: middle;\n",
       "    }\n",
       "\n",
       "    .dataframe tbody tr th {\n",
       "        vertical-align: top;\n",
       "    }\n",
       "\n",
       "    .dataframe thead th {\n",
       "        text-align: right;\n",
       "    }\n",
       "</style>\n",
       "<table border=\"1\" class=\"dataframe\">\n",
       "  <thead>\n",
       "    <tr style=\"text-align: right;\">\n",
       "      <th></th>\n",
       "      <th></th>\n",
       "      <th></th>\n",
       "      <th>Age</th>\n",
       "      <th>G/Sh</th>\n",
       "      <th>Gls</th>\n",
       "      <th>MP</th>\n",
       "      <th>SoT</th>\n",
       "      <th>Starts</th>\n",
       "      <th>xG</th>\n",
       "    </tr>\n",
       "    <tr>\n",
       "      <th>Name</th>\n",
       "      <th>Team</th>\n",
       "      <th>Pos</th>\n",
       "      <th></th>\n",
       "      <th></th>\n",
       "      <th></th>\n",
       "      <th></th>\n",
       "      <th></th>\n",
       "      <th></th>\n",
       "      <th></th>\n",
       "    </tr>\n",
       "  </thead>\n",
       "  <tbody>\n",
       "    <tr>\n",
       "      <th>Erling Haaland</th>\n",
       "      <th>Manchester City</th>\n",
       "      <th>FW</th>\n",
       "      <td>22</td>\n",
       "      <td>0.28</td>\n",
       "      <td>27</td>\n",
       "      <td>25</td>\n",
       "      <td>39</td>\n",
       "      <td>24</td>\n",
       "      <td>18.9</td>\n",
       "    </tr>\n",
       "    <tr>\n",
       "      <th>Harry Kane</th>\n",
       "      <th>Tottenham</th>\n",
       "      <th>FW</th>\n",
       "      <td>29</td>\n",
       "      <td>0.18</td>\n",
       "      <td>18</td>\n",
       "      <td>26</td>\n",
       "      <td>37</td>\n",
       "      <td>26</td>\n",
       "      <td>13.8</td>\n",
       "    </tr>\n",
       "    <tr>\n",
       "      <th>Marcus Rashford</th>\n",
       "      <th>Manchester Utd</th>\n",
       "      <th>FW</th>\n",
       "      <td>25</td>\n",
       "      <td>0.21</td>\n",
       "      <td>14</td>\n",
       "      <td>25</td>\n",
       "      <td>31</td>\n",
       "      <td>23</td>\n",
       "      <td>10.3</td>\n",
       "    </tr>\n",
       "    <tr>\n",
       "      <th>Mohamed Salah</th>\n",
       "      <th>Liverpool</th>\n",
       "      <th>FW</th>\n",
       "      <td>30</td>\n",
       "      <td>0.14</td>\n",
       "      <td>11</td>\n",
       "      <td>25</td>\n",
       "      <td>32</td>\n",
       "      <td>25</td>\n",
       "      <td>11.8</td>\n",
       "    </tr>\n",
       "    <tr>\n",
       "      <th>Martinelli</th>\n",
       "      <th>Arsenal</th>\n",
       "      <th>FW</th>\n",
       "      <td>21</td>\n",
       "      <td>0.18</td>\n",
       "      <td>11</td>\n",
       "      <td>26</td>\n",
       "      <td>22</td>\n",
       "      <td>25</td>\n",
       "      <td>6.7</td>\n",
       "    </tr>\n",
       "    <tr>\n",
       "      <th>Bukayo Saka</th>\n",
       "      <th>Arsenal</th>\n",
       "      <th>FW</th>\n",
       "      <td>21</td>\n",
       "      <td>0.13</td>\n",
       "      <td>10</td>\n",
       "      <td>26</td>\n",
       "      <td>19</td>\n",
       "      <td>26</td>\n",
       "      <td>8.7</td>\n",
       "    </tr>\n",
       "    <tr>\n",
       "      <th>Phil Foden</th>\n",
       "      <th>Manchester City</th>\n",
       "      <th>FW</th>\n",
       "      <td>22</td>\n",
       "      <td>0.26</td>\n",
       "      <td>9</td>\n",
       "      <td>23</td>\n",
       "      <td>18</td>\n",
       "      <td>16</td>\n",
       "      <td>4.6</td>\n",
       "    </tr>\n",
       "    <tr>\n",
       "      <th>Roberto Firmino</th>\n",
       "      <th>Liverpool</th>\n",
       "      <th>FWMF</th>\n",
       "      <td>31</td>\n",
       "      <td>0.24</td>\n",
       "      <td>8</td>\n",
       "      <td>18</td>\n",
       "      <td>21</td>\n",
       "      <td>11</td>\n",
       "      <td>4.5</td>\n",
       "    </tr>\n",
       "    <tr>\n",
       "      <th>Darwin Núñez</th>\n",
       "      <th>Liverpool</th>\n",
       "      <th>FW</th>\n",
       "      <td>23</td>\n",
       "      <td>0.11</td>\n",
       "      <td>8</td>\n",
       "      <td>19</td>\n",
       "      <td>30</td>\n",
       "      <td>15</td>\n",
       "      <td>10.3</td>\n",
       "    </tr>\n",
       "    <tr>\n",
       "      <th>Gabriel Jesus</th>\n",
       "      <th>Arsenal</th>\n",
       "      <th>FW</th>\n",
       "      <td>25</td>\n",
       "      <td>0.10</td>\n",
       "      <td>5</td>\n",
       "      <td>14</td>\n",
       "      <td>20</td>\n",
       "      <td>14</td>\n",
       "      <td>7.7</td>\n",
       "    </tr>\n",
       "    <tr>\n",
       "      <th>Riyad Mahrez</th>\n",
       "      <th>Manchester City</th>\n",
       "      <th>FWMF</th>\n",
       "      <td>32</td>\n",
       "      <td>0.15</td>\n",
       "      <td>5</td>\n",
       "      <td>19</td>\n",
       "      <td>9</td>\n",
       "      <td>12</td>\n",
       "      <td>4.6</td>\n",
       "    </tr>\n",
       "    <tr>\n",
       "      <th>Julián Álvarez</th>\n",
       "      <th>Manchester City</th>\n",
       "      <th>FWMF</th>\n",
       "      <td>23</td>\n",
       "      <td>0.20</td>\n",
       "      <td>5</td>\n",
       "      <td>19</td>\n",
       "      <td>10</td>\n",
       "      <td>6</td>\n",
       "      <td>3.2</td>\n",
       "    </tr>\n",
       "    <tr>\n",
       "      <th>Cody Gakpo</th>\n",
       "      <th>Liverpool</th>\n",
       "      <th>FW</th>\n",
       "      <td>23</td>\n",
       "      <td>0.22</td>\n",
       "      <td>4</td>\n",
       "      <td>8</td>\n",
       "      <td>6</td>\n",
       "      <td>7</td>\n",
       "      <td>3.2</td>\n",
       "    </tr>\n",
       "    <tr>\n",
       "      <th>Eddie Nketiah</th>\n",
       "      <th>Arsenal</th>\n",
       "      <th>FW</th>\n",
       "      <td>23</td>\n",
       "      <td>0.10</td>\n",
       "      <td>4</td>\n",
       "      <td>23</td>\n",
       "      <td>14</td>\n",
       "      <td>9</td>\n",
       "      <td>7.7</td>\n",
       "    </tr>\n",
       "    <tr>\n",
       "      <th>Jadon Sancho</th>\n",
       "      <th>Manchester Utd</th>\n",
       "      <th>FWMF</th>\n",
       "      <td>22</td>\n",
       "      <td>0.36</td>\n",
       "      <td>4</td>\n",
       "      <td>13</td>\n",
       "      <td>6</td>\n",
       "      <td>11</td>\n",
       "      <td>2.5</td>\n",
       "    </tr>\n",
       "    <tr>\n",
       "      <th>Anthony Martial</th>\n",
       "      <th>Manchester Utd</th>\n",
       "      <th>FW</th>\n",
       "      <td>27</td>\n",
       "      <td>0.18</td>\n",
       "      <td>3</td>\n",
       "      <td>9</td>\n",
       "      <td>5</td>\n",
       "      <td>6</td>\n",
       "      <td>3.2</td>\n",
       "    </tr>\n",
       "    <tr>\n",
       "      <th>Luis Díaz</th>\n",
       "      <th>Liverpool</th>\n",
       "      <th>FW</th>\n",
       "      <td>26</td>\n",
       "      <td>0.19</td>\n",
       "      <td>3</td>\n",
       "      <td>8</td>\n",
       "      <td>7</td>\n",
       "      <td>7</td>\n",
       "      <td>1.7</td>\n",
       "    </tr>\n",
       "    <tr>\n",
       "      <th>Antony</th>\n",
       "      <th>Manchester Utd</th>\n",
       "      <th>FW</th>\n",
       "      <td>23</td>\n",
       "      <td>0.09</td>\n",
       "      <td>3</td>\n",
       "      <td>13</td>\n",
       "      <td>16</td>\n",
       "      <td>12</td>\n",
       "      <td>2.8</td>\n",
       "    </tr>\n",
       "    <tr>\n",
       "      <th>Jack Grealish</th>\n",
       "      <th>Manchester City</th>\n",
       "      <th>FW</th>\n",
       "      <td>27</td>\n",
       "      <td>0.12</td>\n",
       "      <td>3</td>\n",
       "      <td>20</td>\n",
       "      <td>6</td>\n",
       "      <td>16</td>\n",
       "      <td>3.1</td>\n",
       "    </tr>\n",
       "  </tbody>\n",
       "</table>\n",
       "</div>"
      ],
      "text/plain": [
       "                                      Age  G/Sh  Gls  MP  SoT  Starts    xG\n",
       "Name            Team            Pos                                        \n",
       "Erling Haaland  Manchester City FW     22  0.28   27  25   39      24  18.9\n",
       "Harry Kane      Tottenham       FW     29  0.18   18  26   37      26  13.8\n",
       "Marcus Rashford Manchester Utd  FW     25  0.21   14  25   31      23  10.3\n",
       "Mohamed Salah   Liverpool       FW     30  0.14   11  25   32      25  11.8\n",
       "Martinelli      Arsenal         FW     21  0.18   11  26   22      25   6.7\n",
       "Bukayo Saka     Arsenal         FW     21  0.13   10  26   19      26   8.7\n",
       "Phil Foden      Manchester City FW     22  0.26    9  23   18      16   4.6\n",
       "Roberto Firmino Liverpool       FWMF   31  0.24    8  18   21      11   4.5\n",
       "Darwin Núñez    Liverpool       FW     23  0.11    8  19   30      15  10.3\n",
       "Gabriel Jesus   Arsenal         FW     25  0.10    5  14   20      14   7.7\n",
       "Riyad Mahrez    Manchester City FWMF   32  0.15    5  19    9      12   4.6\n",
       "Julián Álvarez  Manchester City FWMF   23  0.20    5  19   10       6   3.2\n",
       "Cody Gakpo      Liverpool       FW     23  0.22    4   8    6       7   3.2\n",
       "Eddie Nketiah   Arsenal         FW     23  0.10    4  23   14       9   7.7\n",
       "Jadon Sancho    Manchester Utd  FWMF   22  0.36    4  13    6      11   2.5\n",
       "Anthony Martial Manchester Utd  FW     27  0.18    3   9    5       6   3.2\n",
       "Luis Díaz       Liverpool       FW     26  0.19    3   8    7       7   1.7\n",
       "Antony          Manchester Utd  FW     23  0.09    3  13   16      12   2.8\n",
       "Jack Grealish   Manchester City FW     27  0.12    3  20    6      16   3.1"
      ]
     },
     "execution_count": 401,
     "metadata": {},
     "output_type": "execute_result"
    }
   ],
   "source": [
    "df_prem_fw_big5.pivot_table(index=['Name', 'Team', 'Pos'], values=['xG', 'Gls', 'Age', 'MP', 'Starts', 'G/Sh', 'SoT']).sort_values(by='Gls', ascending=False)\n",
    "# ข้อมูลภาพรวมกองหน้าใน EPL (English Premier League)"
   ]
  },
  {
   "cell_type": "markdown",
   "metadata": {
    "cell_id": "22e329009fbc4407a690eb7ff0b8b05c",
    "deepnote_cell_type": "text-cell-h2",
    "formattedRanges": [],
    "is_collapsed": false,
    "tags": []
   },
   "source": [
    "## Manchester City ทำประตูได้มากที่สุดใน EPL เช่นกัน"
   ]
  },
  {
   "cell_type": "markdown",
   "metadata": {
    "cell_id": "996c5324d0bb46ad9d8d5908bc7c1ea4",
    "deepnote_cell_type": "text-cell-p",
    "formattedRanges": [],
    "is_collapsed": false,
    "tags": []
   },
   "source": [
    "เมื่อเปรียบเทียบผลรวมจำนวนการทำประตูของแต่ละทีมแล้ว ค้นพบว่า Manchester City นั้นทำประตูมากที่สุดใน English Premier League ฤดูกาล 2022-2023  เช่นกัน"
   ]
  },
  {
   "cell_type": "code",
   "execution_count": 402,
   "metadata": {
    "cell_id": "e300e3bf6792487bad19b9d58fa1e530",
    "deepnote_cell_type": "code",
    "deepnote_to_be_reexecuted": false,
    "execution_millis": 14,
    "execution_start": 1679064373049,
    "source_hash": "2ed79512"
   },
   "outputs": [
    {
     "data": {
      "text/plain": [
       "Team\n",
       "Manchester City    64\n",
       "Arsenal            56\n",
       "Tottenham          44\n",
       "Liverpool          43\n",
       "Brentford          39\n",
       "Brighton           39\n",
       "Manchester Utd     39\n",
       "Fulham             35\n",
       "Newcastle Utd      34\n",
       "Leicester City     34\n",
       "Name: Gls, dtype: int64"
      ]
     },
     "execution_count": 402,
     "metadata": {},
     "output_type": "execute_result"
    }
   ],
   "source": [
    "df_prem.groupby(by='Team').Gls.sum().sort_values(ascending=False).head(10)\n",
    "#10 ทีมที่ทำประตูเยอะสุด"
   ]
  },
  {
   "cell_type": "markdown",
   "metadata": {
    "cell_id": "4ef79aed603d477388dcca890cc46470",
    "deepnote_cell_type": "text-cell-h2",
    "formattedRanges": [],
    "is_collapsed": false,
    "tags": []
   },
   "source": [
    "## Erling Haaland ทำประตูไปถึง 42% จากการทำประตูของทั้งทีม"
   ]
  },
  {
   "cell_type": "markdown",
   "metadata": {
    "cell_id": "4f6f36bcdb0545778cce0fcd75c2de35",
    "deepnote_cell_type": "text-cell-p",
    "formattedRanges": [],
    "is_collapsed": false,
    "tags": []
   },
   "source": [
    "df_mci คือ dataframe ที่คัดเลือกมาเฉพาะ ผู้เล่นจากทีม Manchester City ใน EPL ฤดูกาล 2022-2033\n",
    "df_mci_fw คือ df_mci ที่คัดเลือกมาเฉพาะนักเตะในตำแหน่ง กองหน้า (forward)"
   ]
  },
  {
   "cell_type": "code",
   "execution_count": 403,
   "metadata": {
    "cell_id": "654064af07654121be4fd871ac3ba4de",
    "deepnote_cell_type": "code",
    "deepnote_to_be_reexecuted": false,
    "execution_millis": 9,
    "execution_start": 1679064373077,
    "source_hash": "36e431f2"
   },
   "outputs": [],
   "source": [
    "df_mci = df_prem[df_prem.Team == 'Manchester City'] #filter MCI\n",
    "df_mci_fw = df_mci[df_mci.Pos.str.startswith('FW')] #filter forward"
   ]
  },
  {
   "cell_type": "markdown",
   "metadata": {
    "cell_id": "fef73db7c43d4fc6a7456fafbb650b5d",
    "deepnote_cell_type": "text-cell-p",
    "formattedRanges": [],
    "is_collapsed": false,
    "tags": []
   },
   "source": [
    "แสดงผลการทำประตูของ ทีม Manchester City ผ่านทาง pie chart, สังเกตได้ว่า Erling Haaland ทำประตูไปถึง 42% จากการทำประตูของทั้งทีม ซึ่งถือว่าเกือบครึ่งของการทำประตูจากทีม Manchester City นั้นมาจากการทำประตูของ Haaland คนเดียว"
   ]
  },
  {
   "cell_type": "code",
   "execution_count": 404,
   "metadata": {
    "cell_id": "73ff2fa4dcf94c009537974447db79ff",
    "deepnote_cell_type": "code",
    "deepnote_to_be_reexecuted": false,
    "execution_millis": 26,
    "execution_start": 1679064373077,
    "source_hash": "f75446cc"
   },
   "outputs": [
    {
     "data": {
      "text/plain": [
       "Text(0.5, 1.0, 'Manchester City Goal Scorer')"
      ]
     },
     "execution_count": 404,
     "metadata": {},
     "output_type": "execute_result"
    },
    {
     "data": {
      "image/png": "[encoded data removed]",
      "text/plain": [
       "<Figure size 640x480 with 1 Axes>"
      ]
     },
     "metadata": {},
     "output_type": "display_data"
    }
   ],
   "source": [
    "plt.pie(data=df_mci[df_mci.Gls > 0], x='Gls', labels='Name', autopct='%.0f%%')\n",
    "plt.title(\"Manchester City Goal Scorer\")"
   ]
  },
  {
   "cell_type": "markdown",
   "metadata": {
    "cell_id": "17c2252b371b4964b9a4d04c7128874b",
    "deepnote_cell_type": "text-cell-h2",
    "formattedRanges": [],
    "is_collapsed": false,
    "tags": []
   },
   "source": [
    "## Erling Haaland อยู่ใน top 5 ผู้ที่ทำประตูเยอะที่สุดใน EPL"
   ]
  },
  {
   "cell_type": "markdown",
   "metadata": {
    "cell_id": "714b50d5fbd5496a977c0d6e4f703e39",
    "deepnote_cell_type": "text-cell-p",
    "formattedRanges": [],
    "is_collapsed": false,
    "tags": []
   },
   "source": [
    "top5_gls คือการคัดเลือก กองหน้าที่สามารถทำประตูได้มากที่สุด 5 คนจาก EPL ในฤดูกาล 2022-2023 โดยเลียงลำดับตามจำนวนการทำประตู"
   ]
  },
  {
   "cell_type": "code",
   "execution_count": 405,
   "metadata": {
    "cell_id": "0bdd85f08aa748d698f57cf261415866",
    "deepnote_cell_type": "code",
    "deepnote_to_be_reexecuted": false,
    "execution_millis": 15,
    "execution_start": 1679064373314,
    "source_hash": "fd0bd208"
   },
   "outputs": [
    {
     "data": {
      "text/html": [
       "<div>\n",
       "<style scoped>\n",
       "    .dataframe tbody tr th:only-of-type {\n",
       "        vertical-align: middle;\n",
       "    }\n",
       "\n",
       "    .dataframe tbody tr th {\n",
       "        vertical-align: top;\n",
       "    }\n",
       "\n",
       "    .dataframe thead th {\n",
       "        text-align: right;\n",
       "    }\n",
       "</style>\n",
       "<table border=\"1\" class=\"dataframe\">\n",
       "  <thead>\n",
       "    <tr style=\"text-align: right;\">\n",
       "      <th></th>\n",
       "      <th>Name</th>\n",
       "      <th>Gls</th>\n",
       "      <th>xG</th>\n",
       "      <th>90s</th>\n",
       "      <th>G/Sh</th>\n",
       "    </tr>\n",
       "  </thead>\n",
       "  <tbody>\n",
       "    <tr>\n",
       "      <th>1081</th>\n",
       "      <td>Erling Haaland</td>\n",
       "      <td>27</td>\n",
       "      <td>18.9</td>\n",
       "      <td>22.5</td>\n",
       "      <td>0.28</td>\n",
       "    </tr>\n",
       "    <tr>\n",
       "      <th>1291</th>\n",
       "      <td>Harry Kane</td>\n",
       "      <td>18</td>\n",
       "      <td>13.8</td>\n",
       "      <td>25.8</td>\n",
       "      <td>0.18</td>\n",
       "    </tr>\n",
       "    <tr>\n",
       "      <th>2095</th>\n",
       "      <td>Marcus Rashford</td>\n",
       "      <td>14</td>\n",
       "      <td>10.3</td>\n",
       "      <td>22.6</td>\n",
       "      <td>0.21</td>\n",
       "    </tr>\n",
       "    <tr>\n",
       "      <th>1608</th>\n",
       "      <td>Martinelli</td>\n",
       "      <td>11</td>\n",
       "      <td>6.7</td>\n",
       "      <td>23.3</td>\n",
       "      <td>0.18</td>\n",
       "    </tr>\n",
       "    <tr>\n",
       "      <th>2220</th>\n",
       "      <td>Mohamed Salah</td>\n",
       "      <td>11</td>\n",
       "      <td>11.8</td>\n",
       "      <td>24.7</td>\n",
       "      <td>0.14</td>\n",
       "    </tr>\n",
       "  </tbody>\n",
       "</table>\n",
       "</div>"
      ],
      "text/plain": [
       "                 Name  Gls    xG   90s  G/Sh\n",
       "1081   Erling Haaland   27  18.9  22.5  0.28\n",
       "1291       Harry Kane   18  13.8  25.8  0.18\n",
       "2095  Marcus Rashford   14  10.3  22.6  0.21\n",
       "1608       Martinelli   11   6.7  23.3  0.18\n",
       "2220    Mohamed Salah   11  11.8  24.7  0.14"
      ]
     },
     "execution_count": 405,
     "metadata": {},
     "output_type": "execute_result"
    }
   ],
   "source": [
    "# This is top 5 goal scorer\n",
    "top5_gls = df_prem_fw[(df_prem_fw.Starts > 10) \n",
    "                            & df_prem_fw.Team.isin(top_5)].sort_values(by='Gls', ascending=False).head(5)\n",
    "top5_gls[['Name', 'Gls', 'xG', '90s', 'G/Sh']]"
   ]
  },
  {
   "cell_type": "markdown",
   "metadata": {
    "cell_id": "6c32e4523df3438591c7a061bdb5e35e",
    "deepnote_cell_type": "text-cell-p",
    "formattedRanges": [],
    "is_collapsed": false,
    "tags": []
   },
   "source": [
    "เมื่อแสดงผล Coversion Rates หรือว่า อัตราการเปลี่ยนโอกาสยิงให้เป็นประตูของนักเตะ ท็อป 5 ของ EPL \n",
    "ยิ่ง Conversion Rates มาก แสดงว่า shot attempt (Sh) ที่นักเตะยิงประตูไป นั้นยิ่งมีโอกาสสูงที่จะเป็นการทำประตู Gls\n",
    "ซึ่งถึงแม้ Harry Kane จะทำประตูมากกว่า Marcus Rashford แต่เมื่อ conversion rates น้อยกว่าแสดงว่าทุกครั้งที่ Rashford ยิงประตูจึงมีโอกาสที่จะทำประตูหรือยิงเข้าประตูได้มากกว่า Kane นั่นเอง"
   ]
  },
  {
   "cell_type": "markdown",
   "metadata": {
    "cell_id": "c31140a1e95746db9b038f21ea632aab",
    "deepnote_cell_type": "text-cell-p",
    "formattedRanges": [],
    "is_collapsed": false,
    "tags": []
   },
   "source": [
    "ที่สำคัญเลยจาก Bar Chart จะสังเกตุได้ว่า Haaland นั้นมี Conversion Rates ที่สูงที่สุดในกองหน้าที่สามารถทำประตูได้มากที่สุด 5 คนจาก EPL"
   ]
  },
  {
   "cell_type": "code",
   "execution_count": 406,
   "metadata": {
    "cell_id": "8ca483568b6240caa65ac0850b5326ac",
    "deepnote_cell_type": "code",
    "deepnote_to_be_reexecuted": false,
    "execution_millis": 40,
    "execution_start": 1679064373332,
    "source_hash": "f8a31d89"
   },
   "outputs": [
    {
     "data": {
      "text/plain": [
       "Text(0, 0.5, '')"
      ]
     },
     "execution_count": 406,
     "metadata": {},
     "output_type": "execute_result"
    },
    {
     "data": {
      "image/png": "[encoded data removed]",
      "text/plain": [
       "<Figure size 640x480 with 1 Axes>"
      ]
     },
     "metadata": {},
     "output_type": "display_data"
    }
   ],
   "source": [
    "sns.barplot(y='Name', x='G/Sh', data=top5_gls)\n",
    "plt.title('Conversion Rates of Different Players')\n",
    "plt.xlabel(\"Goal/Shot\")\n",
    "plt.ylabel(\"\")\n"
   ]
  },
  {
   "cell_type": "markdown",
   "metadata": {},
   "source": [
    "## คาพีบาร่า"
   ]
  },
  {
   "cell_type": "markdown",
   "metadata": {
    "cell_id": "6522ba238dde49b59906dd0802b48fc9",
    "deepnote_cell_type": "text-cell-h3",
    "formattedRanges": [],
    "is_collapsed": false,
    "tags": []
   },
   "source": [
    "### เป็นการเเสดงกราฟแบบจุดมีจุดประสงค์เพื่อให้เห็นการเปรียบเทียบว่า จากการที่ได้คัดเลือกนักเตะที่ทำประตูได้มากที่สุด 5 คน ทั้ง  5 คนมีจำนวนของการทำประตูได้เมื่อเปรียบเทียบกับ ผลคาดคะเนของการทำประตูก่อนการเเข่งว่าเป็นอย่างไร "
   ]
  },
  {
   "cell_type": "code",
   "execution_count": 407,
   "metadata": {
    "cell_id": "f149163c474a44cc8eb2c1fcfd862b66",
    "deepnote_cell_type": "code",
    "deepnote_to_be_reexecuted": false,
    "execution_millis": 484,
    "execution_start": 1679064373585,
    "source_hash": "e8e49682"
   },
   "outputs": [
    {
     "data": {
      "image/png": "[encoded data removed]",
      "text/plain": [
       "<Figure size 640x480 with 1 Axes>"
      ]
     },
     "metadata": {},
     "output_type": "display_data"
    }
   ],
   "source": [
    "sns.scatterplot(x='Gls/90s', y='xG/90s', data=top5_gls, size='Min', hue='Pos', alpha=0.5)\n",
    "plt.title(\"Player Goals vs xG\")\n",
    "for i, row in top5_gls.iterrows():\n",
    "    plt.text(row['Gls/90s'] , row['xG/90s']-0.025, row['Name'], fontsize=8, ha='center')"
   ]
  },
  {
   "cell_type": "markdown",
   "metadata": {
    "cell_id": "c76ec6051eba466cb470f198b1705642",
    "deepnote_cell_type": "markdown"
   },
   "source": [
    "Above xG"
   ]
  },
  {
   "cell_type": "code",
   "execution_count": 408,
   "metadata": {
    "cell_id": "6c82b38bf61d4f29bf86beef7819f102",
    "deepnote_cell_type": "code",
    "deepnote_to_be_reexecuted": false,
    "execution_millis": 287,
    "execution_start": 1679064374116,
    "source_hash": "34d083b4"
   },
   "outputs": [
    {
     "data": {
      "text/plain": [
       "Text(57.829996527777766, 0.5, 'Above xG')"
      ]
     },
     "execution_count": 408,
     "metadata": {},
     "output_type": "execute_result"
    },
    {
     "data": {
      "image/png": "[encoded data removed]",
      "text/plain": [
       "<Figure size 665.875x500 with 1 Axes>"
      ]
     },
     "metadata": {},
     "output_type": "display_data"
    }
   ],
   "source": [
    "sns.relplot(data=top5_gls, x='xG/90s', y='(Gls-xG)/90s', hue='Name', style='Name')\n",
    "plt.ylabel(\"Above xG\")\n"
   ]
  },
  {
   "cell_type": "code",
   "execution_count": 409,
   "metadata": {
    "cell_id": "093d0e290a674e3f8d555ed1434698d6",
    "deepnote_cell_type": "code",
    "deepnote_to_be_reexecuted": false,
    "execution_millis": 243,
    "execution_start": 1679064374568,
    "source_hash": "e6ffe71e"
   },
   "outputs": [
    {
     "data": {
      "text/plain": [
       "Text(0.5, 1.0, 'In the box involvement')"
      ]
     },
     "execution_count": 409,
     "metadata": {},
     "output_type": "execute_result"
    },
    {
     "data": {
      "image/png": "[encoded data removed]",
      "text/plain": [
       "<Figure size 500x500 with 1 Axes>"
      ]
     },
     "metadata": {},
     "output_type": "display_data"
    }
   ],
   "source": [
    "#Att Pen : Touch in penalty area\n",
    "#SoT : Shot on Target\n",
    "sns.relplot(data=top5_gls, x='Att Pen', y='SoT')\n",
    "for i, row in top5_gls.iterrows():\n",
    "    plt.text(row['Att Pen'] , row['SoT']-0.7, row['Name'], fontsize=8, ha='center')\n",
    "plt.title(\"In the box involvement\")"
   ]
  },
  {
   "cell_type": "markdown",
   "metadata": {
    "cell_id": "5149a34bcb7846b194280d9463916d82",
    "deepnote_cell_type": "markdown"
   },
   "source": [
    "### Key Pass with Shot creating action"
   ]
  },
  {
   "cell_type": "code",
   "execution_count": 410,
   "metadata": {
    "cell_id": "371360d863194fb1b12ad3ce29d4a925",
    "deepnote_cell_type": "code",
    "deepnote_to_be_reexecuted": false,
    "execution_millis": 13,
    "execution_start": 1679064374944,
    "source_hash": "a53cae"
   },
   "outputs": [
    {
     "name": "stderr",
     "output_type": "stream",
     "text": [
      "C:\\Users\\Kean\\AppData\\Local\\Temp\\ipykernel_2124\\2025171448.py:1: UserWarning: Boolean Series key will be reindexed to match DataFrame index.\n",
      "  df_prem_mf_top5 =  df_prem_mf[df_prem.Team.isin(top_5)]\n"
     ]
    }
   ],
   "source": [
    "df_prem_mf_top5 =  df_prem_mf[df_prem.Team.isin(top_5)]"
   ]
  },
  {
   "cell_type": "code",
   "execution_count": 411,
   "metadata": {
    "cell_id": "ca5aeb5416e04d9484b55efe9a725e99",
    "deepnote_cell_type": "code",
    "deepnote_to_be_reexecuted": false,
    "execution_millis": 328,
    "execution_start": 1679064374964,
    "source_hash": "c13f5da5",
    "tags": []
   },
   "outputs": [
    {
     "data": {
      "text/plain": [
       "<seaborn.axisgrid.FacetGrid at 0x2af735d4fa0>"
      ]
     },
     "execution_count": 411,
     "metadata": {},
     "output_type": "execute_result"
    },
    {
     "data": {
      "image/png": "[encoded data removed]",
      "text/plain": [
       "<Figure size 662.875x500 with 1 Axes>"
      ]
     },
     "metadata": {},
     "output_type": "display_data"
    }
   ],
   "source": [
    "sns.displot(data=df_prem_mf_top5, x='TotCmp%', hue='Team', kind='kde', palette='Set2')"
   ]
  },
  {
   "cell_type": "code",
   "execution_count": 412,
   "metadata": {
    "cell_id": "dbb27750aac6430ebe2d0b3c621bb2e0",
    "deepnote_cell_type": "code",
    "deepnote_to_be_reexecuted": false,
    "execution_millis": 176,
    "execution_start": 1679064375515,
    "source_hash": "9edcc3b4"
   },
   "outputs": [
    {
     "data": {
      "text/plain": [
       "<seaborn.axisgrid.FacetGrid at 0x2af08407c10>"
      ]
     },
     "execution_count": 412,
     "metadata": {},
     "output_type": "execute_result"
    },
    {
     "data": {
      "image/png": "[encoded data removed]",
      "text/plain": [
       "<Figure size 500x500 with 1 Axes>"
      ]
     },
     "metadata": {},
     "output_type": "display_data"
    }
   ],
   "source": [
    "#SCA : Shot Creation Action\n",
    "#KP : KeyPass\n",
    "sns.relplot(data=df_prem_mf, x='KP90', y='SCA90')\n",
    "# จากข้อมูลจะเห็นว่ายิ่งมีการสร้างสรรค์โอกาสมากยิ่งมีkey passมาก"
   ]
  },
  {
   "cell_type": "code",
   "execution_count": 413,
   "metadata": {
    "cell_id": "56a8645fda7e4aac8ae06153674473d5",
    "deepnote_cell_type": "code",
    "deepnote_to_be_reexecuted": false,
    "execution_millis": 22,
    "execution_start": 1679064375817,
    "source_hash": "f7605cbe"
   },
   "outputs": [
    {
     "data": {
      "text/html": [
       "<div>\n",
       "<style scoped>\n",
       "    .dataframe tbody tr th:only-of-type {\n",
       "        vertical-align: middle;\n",
       "    }\n",
       "\n",
       "    .dataframe tbody tr th {\n",
       "        vertical-align: top;\n",
       "    }\n",
       "\n",
       "    .dataframe thead th {\n",
       "        text-align: right;\n",
       "    }\n",
       "</style>\n",
       "<table border=\"1\" class=\"dataframe\">\n",
       "  <thead>\n",
       "    <tr style=\"text-align: right;\">\n",
       "      <th></th>\n",
       "      <th>TotCmp%</th>\n",
       "      <th>SCA90</th>\n",
       "      <th>KP90</th>\n",
       "    </tr>\n",
       "    <tr>\n",
       "      <th>Team</th>\n",
       "      <th></th>\n",
       "      <th></th>\n",
       "      <th></th>\n",
       "    </tr>\n",
       "  </thead>\n",
       "  <tbody>\n",
       "    <tr>\n",
       "      <th>Manchester City</th>\n",
       "      <td>83.400000</td>\n",
       "      <td>4.145000</td>\n",
       "      <td>1.910000</td>\n",
       "    </tr>\n",
       "    <tr>\n",
       "      <th>Arsenal</th>\n",
       "      <td>83.366667</td>\n",
       "      <td>3.916667</td>\n",
       "      <td>1.730000</td>\n",
       "    </tr>\n",
       "    <tr>\n",
       "      <th>Manchester Utd</th>\n",
       "      <td>76.300000</td>\n",
       "      <td>3.663333</td>\n",
       "      <td>1.826667</td>\n",
       "    </tr>\n",
       "    <tr>\n",
       "      <th>Tottenham</th>\n",
       "      <td>80.050000</td>\n",
       "      <td>3.247500</td>\n",
       "      <td>1.362500</td>\n",
       "    </tr>\n",
       "    <tr>\n",
       "      <th>Liverpool</th>\n",
       "      <td>83.925000</td>\n",
       "      <td>2.967500</td>\n",
       "      <td>1.037500</td>\n",
       "    </tr>\n",
       "    <tr>\n",
       "      <th>Brighton</th>\n",
       "      <td>84.175000</td>\n",
       "      <td>2.960000</td>\n",
       "      <td>1.560000</td>\n",
       "    </tr>\n",
       "    <tr>\n",
       "      <th>Crystal Palace</th>\n",
       "      <td>76.550000</td>\n",
       "      <td>2.737500</td>\n",
       "      <td>1.340000</td>\n",
       "    </tr>\n",
       "    <tr>\n",
       "      <th>West Ham</th>\n",
       "      <td>79.800000</td>\n",
       "      <td>2.706667</td>\n",
       "      <td>0.960000</td>\n",
       "    </tr>\n",
       "    <tr>\n",
       "      <th>Newcastle Utd</th>\n",
       "      <td>81.000000</td>\n",
       "      <td>2.602500</td>\n",
       "      <td>0.997500</td>\n",
       "    </tr>\n",
       "    <tr>\n",
       "      <th>Wolves</th>\n",
       "      <td>80.966667</td>\n",
       "      <td>2.593333</td>\n",
       "      <td>1.276667</td>\n",
       "    </tr>\n",
       "    <tr>\n",
       "      <th>Brentford</th>\n",
       "      <td>75.225000</td>\n",
       "      <td>2.555000</td>\n",
       "      <td>0.860000</td>\n",
       "    </tr>\n",
       "    <tr>\n",
       "      <th>Aston Villa</th>\n",
       "      <td>81.080000</td>\n",
       "      <td>2.488000</td>\n",
       "      <td>1.002000</td>\n",
       "    </tr>\n",
       "    <tr>\n",
       "      <th>Leicester City</th>\n",
       "      <td>79.666667</td>\n",
       "      <td>2.396667</td>\n",
       "      <td>1.063333</td>\n",
       "    </tr>\n",
       "    <tr>\n",
       "      <th>Chelsea</th>\n",
       "      <td>81.800000</td>\n",
       "      <td>2.346667</td>\n",
       "      <td>0.926667</td>\n",
       "    </tr>\n",
       "    <tr>\n",
       "      <th>Fulham</th>\n",
       "      <td>74.100000</td>\n",
       "      <td>2.273333</td>\n",
       "      <td>1.126667</td>\n",
       "    </tr>\n",
       "    <tr>\n",
       "      <th>Leeds United</th>\n",
       "      <td>77.833333</td>\n",
       "      <td>2.220000</td>\n",
       "      <td>1.236667</td>\n",
       "    </tr>\n",
       "    <tr>\n",
       "      <th>Nott'ham Forest</th>\n",
       "      <td>73.233333</td>\n",
       "      <td>2.166667</td>\n",
       "      <td>1.033333</td>\n",
       "    </tr>\n",
       "    <tr>\n",
       "      <th>Southampton</th>\n",
       "      <td>75.350000</td>\n",
       "      <td>2.157500</td>\n",
       "      <td>1.072500</td>\n",
       "    </tr>\n",
       "    <tr>\n",
       "      <th>Bournemouth</th>\n",
       "      <td>76.960000</td>\n",
       "      <td>1.950000</td>\n",
       "      <td>0.918000</td>\n",
       "    </tr>\n",
       "    <tr>\n",
       "      <th>Everton</th>\n",
       "      <td>81.800000</td>\n",
       "      <td>1.833333</td>\n",
       "      <td>0.853333</td>\n",
       "    </tr>\n",
       "  </tbody>\n",
       "</table>\n",
       "</div>"
      ],
      "text/plain": [
       "                   TotCmp%     SCA90      KP90\n",
       "Team                                          \n",
       "Manchester City  83.400000  4.145000  1.910000\n",
       "Arsenal          83.366667  3.916667  1.730000\n",
       "Manchester Utd   76.300000  3.663333  1.826667\n",
       "Tottenham        80.050000  3.247500  1.362500\n",
       "Liverpool        83.925000  2.967500  1.037500\n",
       "Brighton         84.175000  2.960000  1.560000\n",
       "Crystal Palace   76.550000  2.737500  1.340000\n",
       "West Ham         79.800000  2.706667  0.960000\n",
       "Newcastle Utd    81.000000  2.602500  0.997500\n",
       "Wolves           80.966667  2.593333  1.276667\n",
       "Brentford        75.225000  2.555000  0.860000\n",
       "Aston Villa      81.080000  2.488000  1.002000\n",
       "Leicester City   79.666667  2.396667  1.063333\n",
       "Chelsea          81.800000  2.346667  0.926667\n",
       "Fulham           74.100000  2.273333  1.126667\n",
       "Leeds United     77.833333  2.220000  1.236667\n",
       "Nott'ham Forest  73.233333  2.166667  1.033333\n",
       "Southampton      75.350000  2.157500  1.072500\n",
       "Bournemouth      76.960000  1.950000  0.918000\n",
       "Everton          81.800000  1.833333  0.853333"
      ]
     },
     "execution_count": 413,
     "metadata": {},
     "output_type": "execute_result"
    }
   ],
   "source": [
    "#TotCMp% : TotalPassComp%\n",
    "df_prem_mf.groupby(by='Team')[['TotCmp%', 'SCA90', 'KP90']].mean().sort_values(by='SCA90', ascending=False) # Rank 1\n",
    "# df_prem_mf.groupby(by='Team')[['TotCmp%', 'SCA90', 'KP90']].mean().sort_values(by='KP90', ascending=False) # Rank 1\n",
    "# df_prem_mf.groupby(by='Team')[['TotCmp%', 'SCA90', 'KP90']].mean().sort_values(by='TotCmp%', ascending=False) # Rank 2\n",
    "\n",
    "# ปัดเลขให้สวยๆให้หน่อย"
   ]
  },
  {
   "cell_type": "markdown",
   "metadata": {
    "cell_id": "7d56ca8c592c47d5992f497bdd226439",
    "deepnote_cell_type": "markdown"
   },
   "source": [
    "### Expected assist and Actual assist"
   ]
  },
  {
   "cell_type": "code",
   "execution_count": 414,
   "metadata": {
    "cell_id": "d9d6692442bd4452982360ec2c98e2f2",
    "deepnote_cell_type": "code",
    "deepnote_to_be_reexecuted": false,
    "execution_millis": 325,
    "execution_start": 1679064375823,
    "source_hash": "65e98b45"
   },
   "outputs": [
    {
     "data": {
      "text/plain": [
       "<seaborn.axisgrid.FacetGrid at 0x2af0846b700>"
      ]
     },
     "execution_count": 414,
     "metadata": {},
     "output_type": "execute_result"
    },
    {
     "data": {
      "image/png": "[encoded data removed]",
      "text/plain": [
       "<Figure size 662.875x500 with 1 Axes>"
      ]
     },
     "metadata": {},
     "output_type": "display_data"
    }
   ],
   "source": [
    "sns.relplot(data=df_prem_mf_top5, x='Ast90', y='xA90', hue='Team')"
   ]
  },
  {
   "cell_type": "markdown",
   "metadata": {
    "cell_id": "e45db8a3da174805ae79e6ff3a834bc3",
    "deepnote_cell_type": "text-cell-h2",
    "formattedRanges": [],
    "is_collapsed": false,
    "tags": []
   },
   "source": [
    "## คาพีบาร่า"
   ]
  },
  {
   "cell_type": "code",
   "execution_count": 415,
   "metadata": {
    "cell_id": "6ac17e7097c1479da98a5db0ab4ca146",
    "deepnote_cell_type": "code",
    "deepnote_to_be_reexecuted": false,
    "execution_millis": 19,
    "execution_start": 1679064376337,
    "source_hash": "3ded7ae5"
   },
   "outputs": [],
   "source": [
    "#Takes on = เลี้ยงผ่าน"
   ]
  },
  {
   "cell_type": "markdown",
   "metadata": {
    "cell_id": "c2008a06783e4991b114f8a53ef6ae09",
    "deepnote_cell_type": "markdown"
   },
   "source": [
    "# นักเตะคนใดในทีม Liverpool ที่สมควรได้รับเวลาในการเล่นเพิ่ม"
   ]
  },
  {
   "cell_type": "markdown",
   "metadata": {
    "cell_id": "ff58a13f4df54f699ddc33b57126ec09",
    "deepnote_cell_type": "text-cell-p",
    "formattedRanges": [],
    "is_collapsed": false,
    "tags": []
   },
   "source": [
    "ก่อนอื่นต้องมาดูภาพรวมผลงานของทีม Liverpool ทั้งฤดูกาล 2021-2022 และ ฤดูลกาล 2022-2023 โดย\n",
    "table_21_22 คือ dataframe ผลงานของทีม Liverpool ฤดูกาล 2021-2022\n",
    "table_22_23 คือ dataframe ผลงานของทีม Liverpool ฤดูกาล 2022-2023\n",
    "เราจะสร้าง field ชื่อ 'Season' เพื่อเป็น tag บอกว่าเป็น field ของฤดูกาลไหน\n",
    "เมื่อเราได้ 2 ตารางแล้วเราจะนำ table_21_22 และ table_22_23 มาเชื่อมกัน บน dataframe ชื่อว่า table\n",
    "เราจะทำการ drop columns บาง columns ที่เราไม่ได้ใช้ในการวิเคราะห์\n",
    "ละจะทำการเปลี่ยนชื่อ Column 'Squad' เป็นคำว่า 'Team' เพื่อให้ง่ายต่อความเข้าใจ\n",
    "xG/90 คือ xG (expected goal) หารด้วย Mp (จำนวน match ที่ได้เล่น โดย 1 matchใช้ระยะเวลา 90 นาที)\n",
    "เราจึงได้ จำนวนประตูที่คาดว่าจะทำได้ ต่อ 1 match การเล่น\n",
    "G/90 คือ GF ( ประดูที่ทำได้ ) หารด้วย MP (จำนวน match ที่ได้เล่น โดย 1 matchใช้ระยะเวลา 90 นาที)\n",
    "เราจึงได้ จำนวนประตูที่ทำได้ ต่อ 1 match การเล่น"
   ]
  },
  {
   "cell_type": "code",
   "execution_count": 416,
   "metadata": {
    "cell_id": "44152c4a6ddd43ddba4d4ea80f73e0e4",
    "deepnote_cell_type": "code",
    "deepnote_to_be_reexecuted": false,
    "execution_millis": 27,
    "execution_start": 1679064376340,
    "source_hash": "3ed15bd1"
   },
   "outputs": [],
   "source": [
    "table_21_22 = pd.read_csv('table/table_21-22.csv') #season ก่อน\n",
    "table_22_23 = pd.read_csv('table/table_22-23.csv') #current\n",
    "table_21_22['Season'] = '21-22'\n",
    "table_22_23['Season'] = '22-23'\n",
    "table = pd.concat([table_21_22, table_22_23])\n",
    "table = table.drop(columns=['Attendance', 'Top Team Scorer', 'Goalkeeper', 'Notes', 'Last 5',])\n",
    "table = table.rename(columns={'Squad' : 'Team'})\n",
    "table['xG/90'] = table.xG / table.MP\n",
    "table['G/90'] = table.GF / table.MP\n",
    "# โหลดตารางของ 2 seasonแล้วรวมกัน"
   ]
  },
  {
   "cell_type": "markdown",
   "metadata": {},
   "source": [
    "เมื่อแสดงผล stats ต่างๆของทีม Liverpool ไม่ว่าจะเป็น\n",
    "Team หมายถึง ชื่อทีม\n",
    "Season หมายถึง ฤดูกาล\n",
    "Mp หมายถึง จำนวน match ที่เล่น\n",
    "Pts หมายถึง แต้มสะสมของทีม\n",
    "GF หมายถึง จำนวนประตูที่ทำได้\n",
    "G/90 หมายถึง จำนวนประตูที่ทำได้ ต่อ 1 match การเล่น\n",
    "xG หมายถึง จำนวนประตูที่คาดว่าจะทำได้\n",
    "xG/90 หมายถึง จำนวนประตูที่คาดว่าจะทำได้ ต่อ 1 match การเล่น"
   ]
  },
  {
   "cell_type": "code",
   "execution_count": 1,
   "metadata": {
    "cell_id": "a5856c83471e45549fdfc59d8defec2c",
    "deepnote_cell_type": "code",
    "deepnote_to_be_reexecuted": false,
    "execution_millis": 2,
    "execution_start": 1679064376390,
    "scrolled": true,
    "source_hash": "bf961dca"
   },
   "outputs": [
    {
     "ename": "NameError",
     "evalue": "name 'table' is not defined",
     "output_type": "error",
     "traceback": [
      "\u001b[1;31m---------------------------------------------------------------------------\u001b[0m",
      "\u001b[1;31mNameError\u001b[0m                                 Traceback (most recent call last)",
      "\u001b[1;32m~\\AppData\\Local\\Temp\\ipykernel_24900\\1208327626.py\u001b[0m in \u001b[0;36m<module>\u001b[1;34m\u001b[0m\n\u001b[1;32m----> 1\u001b[1;33m \u001b[0mtable\u001b[0m\u001b[1;33m[\u001b[0m\u001b[0mtable\u001b[0m\u001b[1;33m.\u001b[0m\u001b[0mTeam\u001b[0m \u001b[1;33m==\u001b[0m \u001b[1;34m'Liverpool'\u001b[0m\u001b[1;33m]\u001b[0m\u001b[1;33m[\u001b[0m\u001b[1;33m[\u001b[0m\u001b[1;34m'Team'\u001b[0m\u001b[1;33m,\u001b[0m \u001b[1;34m'Season'\u001b[0m\u001b[1;33m,\u001b[0m \u001b[1;34m'MP'\u001b[0m\u001b[1;33m,\u001b[0m \u001b[1;34m'Pts'\u001b[0m\u001b[1;33m,\u001b[0m \u001b[1;34m'GF'\u001b[0m\u001b[1;33m,\u001b[0m \u001b[1;34m'G/90'\u001b[0m\u001b[1;33m,\u001b[0m \u001b[1;34m'xG'\u001b[0m\u001b[1;33m,\u001b[0m \u001b[1;34m'xG/90'\u001b[0m\u001b[1;33m]\u001b[0m\u001b[1;33m]\u001b[0m\u001b[1;33m\u001b[0m\u001b[1;33m\u001b[0m\u001b[0m\n\u001b[0m\u001b[0;32m      2\u001b[0m \u001b[1;31m#GF : ประตูที่ทำได้\u001b[0m\u001b[1;33m\u001b[0m\u001b[1;33m\u001b[0m\u001b[0m\n\u001b[0;32m      3\u001b[0m \u001b[1;31m#MP : จำนวนเกมที่เล่น\u001b[0m\u001b[1;33m\u001b[0m\u001b[1;33m\u001b[0m\u001b[0m\n\u001b[0;32m      4\u001b[0m \u001b[1;31m#Pts : แต้ม\u001b[0m\u001b[1;33m\u001b[0m\u001b[1;33m\u001b[0m\u001b[0m\n\u001b[0;32m      5\u001b[0m \u001b[1;31m#G/90 : ประตูที่ทำได้ต่อเกม\u001b[0m\u001b[1;33m\u001b[0m\u001b[1;33m\u001b[0m\u001b[0m\n",
      "\u001b[1;31mNameError\u001b[0m: name 'table' is not defined"
     ]
    }
   ],
   "source": [
    "table[table.Team == 'Liverpool'][['Team', 'Season', 'MP', 'Pts', 'GF', 'G/90', 'xG', 'xG/90']]\n",
    "#GF : ประตูที่ทำได้\n",
    "#MP : จำนวนเกมที่เล่น\n",
    "#Pts : แต้ม\n",
    "#G/90 : ประตูที่ทำได้ต่อเกม"
   ]
  },
  {
   "cell_type": "markdown",
   "metadata": {
    "cell_id": "ca82283132c34b19bcb21c597bfeba73",
    "deepnote_cell_type": "markdown"
   },
   "source": [
    "เราจะเห็นได้ว่าเมื่อเทียบสถิติของทีม Liverpool ระหว่าง 2 ฤดูกาล และจากกราฟข้างล่างนี้ เราจะเห็นได้ว่า\n",
    "G/90 นั้นลดลงจากฤดูกาลเดิมถึงร้อยละ 27 ซึ่งเป็นสถิติที่ยืนยันได้ว่า Liverpool ในฤดูกาลก่อนนั้นมีผลงานที่ดีกว่า ฤดูกาลปัจจุบัน "
   ]
  },
  {
   "cell_type": "code",
   "execution_count": 418,
   "metadata": {
    "cell_id": "3d3d781f1d2644998a40ed6dba79ee78",
    "deepnote_cell_type": "code",
    "deepnote_to_be_reexecuted": false,
    "execution_millis": 2,
    "execution_start": 1679064376436,
    "source_hash": "495ab2dc"
   },
   "outputs": [
    {
     "data": {
      "text/plain": [
       "Text(0, 0.5, 'Season')"
      ]
     },
     "execution_count": 418,
     "metadata": {},
     "output_type": "execute_result"
    },
    {
     "data": {
      "image/png": "[encoded data removed]",
      "text/plain": [
       "<Figure size 640x480 with 1 Axes>"
      ]
     },
     "metadata": {},
     "output_type": "display_data"
    }
   ],
   "source": [
    "sns.barplot(y='Season', x='G/90', data=table[table.Team == 'Liverpool'])\n",
    "plt.title(\"Liverpool's goals per game\")\n",
    "plt.xlabel(\"G/90\")\n",
    "plt.ylabel(\"Season\")"
   ]
  },
  {
   "cell_type": "markdown",
   "metadata": {},
   "source": [
    "df_22_23_liv คือ dataframe ที่คัดมาเฉพาะทีม Liverpool จากทีมทั้ง Premier League df_22_23_liv_fw คือ dataframe ที่คัดมาเฉพาะทีม Liverpool และ position ตัวรุก half_playtime คือ dataframe ที่นำ df_22_23_liv มาเรียงลำดับระยะเวลาที่เล่นครึ่งนึง โดยแสดงระยะที่นานที่สุด time_mean คือ ระยะเวลาเฉลี่ย"
   ]
  },
  {
   "cell_type": "code",
   "execution_count": 419,
   "metadata": {
    "cell_id": "87ac8b0d1ec5427a8c30b86041db2995",
    "deepnote_cell_type": "code",
    "deepnote_to_be_reexecuted": false,
    "execution_millis": 3,
    "execution_start": 1679064376652,
    "source_hash": "5be96bd0"
   },
   "outputs": [
    {
     "data": {
      "text/plain": [
       "915.4074074074074"
      ]
     },
     "execution_count": 419,
     "metadata": {},
     "output_type": "execute_result"
    }
   ],
   "source": [
    "df_liv = df_prem[df_prem.Team == 'Liverpool'] #filter LIV\n",
    "df_liv_fw = df_liv[df_liv.Pos.str.contains('FW')] #filter forward\n",
    "half_playtime = df_liv.sort_values(by='Min', ascending=False).head(1)['Min'].iloc[0] / 2 #ระยะเวลาที่เล่นครึ่งนึงของคนที่มากที่สุด\n",
    "time_mean = df_liv.Min.mean()\n",
    "time_mean\n",
    "#half คือเวลาเล่นครึ่งนึงของคนที่มากสุด\n",
    "#mean คือ เวลาเฉลี่ย"
   ]
  },
  {
   "cell_type": "code",
   "execution_count": 420,
   "metadata": {
    "cell_id": "01c42229a3564a8886401f0ff74bfd84",
    "deepnote_cell_type": "code",
    "deepnote_to_be_reexecuted": false,
    "execution_millis": 110,
    "execution_start": 1679064376654,
    "source_hash": "f30c2451"
   },
   "outputs": [
    {
     "data": {
      "text/plain": [
       "<matplotlib.legend.Legend at 0x2af088073a0>"
      ]
     },
     "execution_count": 420,
     "metadata": {},
     "output_type": "execute_result"
    },
    {
     "data": {
      "image/png": "[encoded data removed]",
      "text/plain": [
       "<Figure size 640x480 with 1 Axes>"
      ]
     },
     "metadata": {},
     "output_type": "display_data"
    }
   ],
   "source": [
    "sns.scatterplot(data=df_liv, x='Age', y='Min')\n",
    "plt.axhline(time_mean, color='red', label='mean')\n",
    "plt.axhline(half_playtime, color='green', label='half')\n",
    "for i, row in df_liv.iterrows():\n",
    "    plt.text(row['Age'] , row['Min'], row['Name'], fontsize=8, ha='center')\n",
    "plt.title(\"Player's Playtime\")\n",
    "plt.legend()"
   ]
  },
  {
   "cell_type": "markdown",
   "metadata": {
    "cell_id": "4c5844d680ff422aaf8802298cce91f2",
    "deepnote_cell_type": "text-cell-p",
    "formattedRanges": [],
    "is_collapsed": false,
    "tags": []
   },
   "source": [
    "สังเกตจากตารางข้างบนเราจะเห็นได้ว่ามีบางผู้เล่นที่ได้เล่นนานกว่าเวลาเฉลี่ยอีก และผู้เล่นที่ได้เล่นน้อยกว่าเวลาเฉลี่ย (เส้นสีแดง) และ มีเส้นสีเขียวที่แบ่งให้เห็นถึงระยะเวลาครึ่งนึง (ครึ่ง match)"
   ]
  },
  {
   "cell_type": "markdown",
   "metadata": {
    "cell_id": "5e691298-31bd-487e-8d90-26356cd1300b",
    "deepnote_cell_type": "text-cell-p",
    "formattedRanges": [],
    "is_collapsed": false,
    "tags": []
   },
   "source": [
    "df_22_23_liv_low คือ dataframe ที่คัดเฉพาะผู้เล่นที่ได้รับเวลาเล่นน้อยกว่าเวลาเฉลี่ย\n",
    "df_22_23_liv_high คือ dataframe ที่คัดเฉพาะผู้เล่นที่ได้รับเวลาเล่นมากกว่าเวลาเฉลี่ย\n",
    "column ชื่อ Playtime บ่งบอกว่าผู้เล่นนั้นได้รับเวลามากกว่า (high) หรือ น้อยกว่าเวลาเฉลี่ย (low)"
   ]
  },
  {
   "cell_type": "markdown",
   "metadata": {
    "cell_id": "fa09c860-8061-46a6-bf6a-df804e89c3d5",
    "deepnote_cell_type": "text-cell-p",
    "formattedRanges": [],
    "is_collapsed": false,
    "tags": []
   },
   "source": [
    "จากการที่เราสืบค้นและเพื่อทำให้การวิเคราะห์เป็นไปตามเป้าหมายที่วางไว้ การวิเคราะห์เรื่องนี้จึงต้องตัด นักเตะที่มีอาการบาดเจ็บออก ได้แก่\n",
    "Luis, Diogo, Naby, และ Cody ทั้งหมด 4 คน, โดยผู้เล่นบาดเจ็บเหล่านี้จะมีผลกับการวิเคราะห์เฉพาะ ผู้เล่นที่ได้รับเวลาเล่นน้อยกว่าเวลาเฉลี่ย\n",
    "df_22_23_liv_low_ninj คือ dataframe ที่เราจะคัดนักเตะที่บาดเจ็บออกจาก df_22_23_liv_low\n",
    "df_22_23_liv_fw_low_ninj คือนำ dataframe เดิมมาคัดให้เหลือแค่ตำแหน่ง ตัวรุก\n",
    "df_22_23_liv_fw_high คือ df_22_23_liv_high ที่คัดเฉพาะตำแหน่ง ตัวรุก"
   ]
  },
  {
   "cell_type": "code",
   "execution_count": null,
   "metadata": {},
   "outputs": [],
   "source": [
    "สังเกตจากตารางข้างบนเราจะเห็นได้ว่ามีบางผู้เล่นที่ได้เล่นนานกว่าเวลาเฉลี่ยอีก และผู้เล่นที่ได้เล่นน้อยกว่าเวลาเฉลี่ย (เส้นสีแดง) และ มีเส้นสีเขียวที่แบ่งให้เห็นถึงระยะเวลาครึ่งนึง (ครึ่ง match)\n",
    "\n",
    "df_22_23_liv_low คือ dataframe ที่คัดเฉพาะผู้เล่นที่ได้รับเวลาเล่นน้อยกว่าเวลาเฉลี่ย\n",
    "df_22_23_liv_high คือ dataframe ที่คัดเฉพาะผู้เล่นที่ได้รับเวลาเล่นมากกว่าเวลาเฉลี่ย\n",
    "column ชื่อ Playtime บ่งบอกว่าผู้เล่นนั้นได้รับเวลามากกว่า (high) หรือ น้อยกว่าเวลาเฉลี่ย (low)\n",
    "\n",
    "จากการที่เราสืบค้นและเพื่อทำให้การวิเคราะห์เป็นไปตามเป้าหมายที่วางไว้ การวิเคราะห์เรื่องนี้จึงต้องตัด นักเตะที่มีอาการบาดเจ็บออก ได้แก่\n",
    "Luis, Diogo, Naby, และ Cody ทั้งหมด 4 คน, โดยผู้เล่นบาดเจ็บเหล่านี้จะมีผลกับการวิเคราะห์เฉพาะ ผู้เล่นที่ได้รับเวลาเล่นน้อยกว่าเวลาเฉลี่ย\n",
    "df_22_23_liv_low_ninj คือ dataframe ที่เราจะคัดนักเตะที่บาดเจ็บออกจาก df_22_23_liv_low\n",
    "df_22_23_liv_fw_low_ninj คือนำ dataframe เดิมมาคัดให้เหลือแค่ตำแหน่ง ตัวรุก\n",
    "df_22_23_liv_fw_high คือ df_22_23_liv_high ที่คัดเฉพาะตำแหน่ง ตัวรุก"
   ]
  },
  {
   "cell_type": "code",
   "execution_count": 421,
   "metadata": {
    "cell_id": "24306150decf4116afa0031c24c0c951",
    "deepnote_cell_type": "code",
    "deepnote_to_be_reexecuted": false,
    "execution_millis": 44,
    "execution_start": 1679064377061,
    "source_hash": "1f932078"
   },
   "outputs": [
    {
     "name": "stderr",
     "output_type": "stream",
     "text": [
      "C:\\Users\\Kean\\AppData\\Local\\Temp\\ipykernel_2124\\414768652.py:3: SettingWithCopyWarning: \n",
      "A value is trying to be set on a copy of a slice from a DataFrame.\n",
      "Try using .loc[row_indexer,col_indexer] = value instead\n",
      "\n",
      "See the caveats in the documentation: https://pandas.pydata.org/pandas-docs/stable/user_guide/indexing.html#returning-a-view-versus-a-copy\n",
      "  df_liv_low['PlayTime'] = 'low'\n",
      "C:\\Users\\Kean\\AppData\\Local\\Temp\\ipykernel_2124\\414768652.py:5: SettingWithCopyWarning: \n",
      "A value is trying to be set on a copy of a slice from a DataFrame.\n",
      "Try using .loc[row_indexer,col_indexer] = value instead\n",
      "\n",
      "See the caveats in the documentation: https://pandas.pydata.org/pandas-docs/stable/user_guide/indexing.html#returning-a-view-versus-a-copy\n",
      "  df_liv_high['PlayTime'] = 'high'\n"
     ]
    }
   ],
   "source": [
    "#แยกกลุ่มผู้เล่นเกมรุกที่ได้เล่นเยอะและเล่นน้อย\n",
    "df_liv_low = df_liv[df_liv.Min < time_mean]\n",
    "df_liv_low['PlayTime'] = 'low'\n",
    "df_liv_high = df_liv[df_liv.Min >= time_mean]\n",
    "df_liv_high['PlayTime'] = 'high'\n",
    "liv_inj = ['Luis', 'Diogo', 'Naby', 'Cody']\n",
    "df_liv_low_ninj = df_liv_low[~df_liv_low['Name'].str.contains('|'.join(liv_inj))]\n",
    "df_liv_fw_low_ninj = df_liv_low_ninj[df_liv_low_ninj.Pos.str.contains('FW')]\n",
    "df_liv_fw_high = df_liv_high[df_liv_high.Pos.str.contains('FW')]\n",
    "# df_liv_low.sort_values(by='Min', ascending=False)\n"
   ]
  },
  {
   "cell_type": "code",
   "execution_count": 422,
   "metadata": {
    "cell_id": "6f7698b007de4d82b0986f3b9ce6ce48",
    "deepnote_cell_type": "code",
    "deepnote_to_be_reexecuted": false,
    "execution_millis": 6,
    "execution_start": 1679064377110,
    "source_hash": "1779c78"
   },
   "outputs": [
    {
     "data": {
      "text/plain": [
       "(15, 118)"
      ]
     },
     "execution_count": 422,
     "metadata": {},
     "output_type": "execute_result"
    }
   ],
   "source": [
    "df_liv_low.shape\n",
    "# ต่ำมีกี่คน\n"
   ]
  },
  {
   "cell_type": "code",
   "execution_count": 423,
   "metadata": {
    "cell_id": "32e23d1f5ed94241aa21dbee16cb0b0d",
    "deepnote_cell_type": "code",
    "deepnote_to_be_reexecuted": false,
    "execution_millis": 5,
    "execution_start": 1679064377111,
    "source_hash": "71aa4500"
   },
   "outputs": [
    {
     "data": {
      "text/plain": [
       "(11, 118)"
      ]
     },
     "execution_count": 423,
     "metadata": {},
     "output_type": "execute_result"
    }
   ],
   "source": [
    "df_liv_low_ninj.shape\n",
    "# ต่ำไม่เจ็บมีกี่คน"
   ]
  },
  {
   "cell_type": "markdown",
   "metadata": {
    "cell_id": "1ca0675108204cf6aea2a39a4503ac5e",
    "deepnote_cell_type": "text-cell-p",
    "formattedRanges": [],
    "is_collapsed": false,
    "tags": []
   },
   "source": [
    "ตารางนี้เป็นการแสดงผลผู้เล่นตำแหน่งตัวรุกที่ได้รับเวลาเล่นน้อยกว่าเวลาเฉลี่ย"
   ]
  },
  {
   "cell_type": "code",
   "execution_count": 424,
   "metadata": {
    "cell_id": "8afe405ecb604b61a75f5b768fdb491a",
    "deepnote_cell_type": "code",
    "deepnote_to_be_reexecuted": false,
    "execution_millis": 5,
    "execution_start": 1679064377113,
    "source_hash": "854316fa"
   },
   "outputs": [
    {
     "data": {
      "text/html": [
       "<div>\n",
       "<style scoped>\n",
       "    .dataframe tbody tr th:only-of-type {\n",
       "        vertical-align: middle;\n",
       "    }\n",
       "\n",
       "    .dataframe tbody tr th {\n",
       "        vertical-align: top;\n",
       "    }\n",
       "\n",
       "    .dataframe thead th {\n",
       "        text-align: right;\n",
       "    }\n",
       "</style>\n",
       "<table border=\"1\" class=\"dataframe\">\n",
       "  <thead>\n",
       "    <tr style=\"text-align: right;\">\n",
       "      <th></th>\n",
       "      <th>Name</th>\n",
       "      <th>Age</th>\n",
       "      <th>Pos</th>\n",
       "      <th>Min</th>\n",
       "      <th>TotCmp%</th>\n",
       "      <th>SCA90</th>\n",
       "      <th>KP90</th>\n",
       "      <th>Gls</th>\n",
       "      <th>Gls/90s</th>\n",
       "      <th>xG</th>\n",
       "      <th>xG/90s</th>\n",
       "      <th>G/Sh</th>\n",
       "      <th>Ast</th>\n",
       "      <th>xA</th>\n",
       "      <th>Ast90</th>\n",
       "      <th>PlayTime</th>\n",
       "    </tr>\n",
       "  </thead>\n",
       "  <tbody>\n",
       "    <tr>\n",
       "      <th>461</th>\n",
       "      <td>Fabio Carvalho</td>\n",
       "      <td>20</td>\n",
       "      <td>MFFW</td>\n",
       "      <td>337</td>\n",
       "      <td>82.2</td>\n",
       "      <td>2.40</td>\n",
       "      <td>0.27</td>\n",
       "      <td>2</td>\n",
       "      <td>0.53</td>\n",
       "      <td>1.1</td>\n",
       "      <td>0.297297</td>\n",
       "      <td>0.18</td>\n",
       "      <td>0</td>\n",
       "      <td>0.2</td>\n",
       "      <td>0.0</td>\n",
       "      <td>low</td>\n",
       "    </tr>\n",
       "    <tr>\n",
       "      <th>1915</th>\n",
       "      <td>Alex Oxlade-Chamberlain</td>\n",
       "      <td>29</td>\n",
       "      <td>FWMF</td>\n",
       "      <td>314</td>\n",
       "      <td>73.7</td>\n",
       "      <td>2.59</td>\n",
       "      <td>1.43</td>\n",
       "      <td>1</td>\n",
       "      <td>0.29</td>\n",
       "      <td>1.3</td>\n",
       "      <td>0.371429</td>\n",
       "      <td>0.14</td>\n",
       "      <td>0</td>\n",
       "      <td>0.2</td>\n",
       "      <td>0.0</td>\n",
       "      <td>low</td>\n",
       "    </tr>\n",
       "    <tr>\n",
       "      <th>730</th>\n",
       "      <td>Ben Doak</td>\n",
       "      <td>17</td>\n",
       "      <td>FW</td>\n",
       "      <td>26</td>\n",
       "      <td>71.4</td>\n",
       "      <td>0.00</td>\n",
       "      <td>0.00</td>\n",
       "      <td>0</td>\n",
       "      <td>0.00</td>\n",
       "      <td>0.0</td>\n",
       "      <td>0.000000</td>\n",
       "      <td>NaN</td>\n",
       "      <td>0</td>\n",
       "      <td>0.0</td>\n",
       "      <td>0.0</td>\n",
       "      <td>low</td>\n",
       "    </tr>\n",
       "    <tr>\n",
       "      <th>1244</th>\n",
       "      <td>Curtis Jones</td>\n",
       "      <td>22</td>\n",
       "      <td>MFFW</td>\n",
       "      <td>195</td>\n",
       "      <td>85.8</td>\n",
       "      <td>4.62</td>\n",
       "      <td>0.91</td>\n",
       "      <td>0</td>\n",
       "      <td>0.00</td>\n",
       "      <td>0.2</td>\n",
       "      <td>0.090909</td>\n",
       "      <td>0.00</td>\n",
       "      <td>0</td>\n",
       "      <td>0.3</td>\n",
       "      <td>0.0</td>\n",
       "      <td>low</td>\n",
       "    </tr>\n",
       "  </tbody>\n",
       "</table>\n",
       "</div>"
      ],
      "text/plain": [
       "                         Name  Age   Pos  Min  TotCmp%  SCA90  KP90  Gls  \\\n",
       "461            Fabio Carvalho   20  MFFW  337     82.2   2.40  0.27    2   \n",
       "1915  Alex Oxlade-Chamberlain   29  FWMF  314     73.7   2.59  1.43    1   \n",
       "730                  Ben Doak   17    FW   26     71.4   0.00  0.00    0   \n",
       "1244             Curtis Jones   22  MFFW  195     85.8   4.62  0.91    0   \n",
       "\n",
       "      Gls/90s   xG    xG/90s  G/Sh  Ast   xA  Ast90 PlayTime  \n",
       "461      0.53  1.1  0.297297  0.18    0  0.2    0.0      low  \n",
       "1915     0.29  1.3  0.371429  0.14    0  0.2    0.0      low  \n",
       "730      0.00  0.0  0.000000   NaN    0  0.0    0.0      low  \n",
       "1244     0.00  0.2  0.090909  0.00    0  0.3    0.0      low  "
      ]
     },
     "execution_count": 424,
     "metadata": {},
     "output_type": "execute_result"
    }
   ],
   "source": [
    "ตารางนี้เป็นการแสดงผลผู้เล่นตำแหน่งตัวรุกที่ได้รับเวลาเล่นน้อยกว่าเวลาเฉลี่ย#ผู้เล่นเกมรุกที่ได้เล่นน้อย\n",
    "df_liv_fw_low_ninj[['Name', 'Age', 'Pos', 'Min', 'TotCmp%', 'SCA90', 'KP90', 'Gls', 'Gls/90s', 'xG', 'xG/90s', 'G/Sh', 'Ast', 'xA', 'Ast90', 'PlayTime']].sort_values(by='Gls/90s', ascending=False)"
   ]
  },
  {
   "cell_type": "markdown",
   "metadata": {
    "cell_id": "97a7a11a8941453d8da625876211febb",
    "deepnote_cell_type": "text-cell-p",
    "formattedRanges": [],
    "is_collapsed": false,
    "tags": []
   },
   "source": [
    "ตารางนี้เป็นการแสดงผลผู้เล่นตำแหน่งตัวรุกที่ได้รับเวลาเล่นมากกว่าเวลาเฉลี่ย"
   ]
  },
  {
   "cell_type": "code",
   "execution_count": 425,
   "metadata": {
    "cell_id": "2358c891e5cc43539cdf5195ddb3ee04",
    "deepnote_cell_type": "code",
    "deepnote_to_be_reexecuted": false,
    "execution_millis": 66,
    "execution_start": 1679064377117,
    "source_hash": "5a1ffd94"
   },
   "outputs": [
    {
     "data": {
      "text/html": [
       "<div>\n",
       "<style scoped>\n",
       "    .dataframe tbody tr th:only-of-type {\n",
       "        vertical-align: middle;\n",
       "    }\n",
       "\n",
       "    .dataframe tbody tr th {\n",
       "        vertical-align: top;\n",
       "    }\n",
       "\n",
       "    .dataframe thead th {\n",
       "        text-align: right;\n",
       "    }\n",
       "</style>\n",
       "<table border=\"1\" class=\"dataframe\">\n",
       "  <thead>\n",
       "    <tr style=\"text-align: right;\">\n",
       "      <th></th>\n",
       "      <th>Name</th>\n",
       "      <th>Age</th>\n",
       "      <th>Pos</th>\n",
       "      <th>Min</th>\n",
       "      <th>TotCmp%</th>\n",
       "      <th>SCA90</th>\n",
       "      <th>KP90</th>\n",
       "      <th>Gls</th>\n",
       "      <th>Gls/90s</th>\n",
       "      <th>xG</th>\n",
       "      <th>xG/90s</th>\n",
       "      <th>G/Sh</th>\n",
       "      <th>Ast</th>\n",
       "      <th>xA</th>\n",
       "      <th>Ast90</th>\n",
       "      <th>PlayTime</th>\n",
       "    </tr>\n",
       "  </thead>\n",
       "  <tbody>\n",
       "    <tr>\n",
       "      <th>880</th>\n",
       "      <td>Roberto Firmino</td>\n",
       "      <td>31</td>\n",
       "      <td>FWMF</td>\n",
       "      <td>1006</td>\n",
       "      <td>78.5</td>\n",
       "      <td>3.66</td>\n",
       "      <td>1.79</td>\n",
       "      <td>8</td>\n",
       "      <td>0.72</td>\n",
       "      <td>4.5</td>\n",
       "      <td>0.401786</td>\n",
       "      <td>0.24</td>\n",
       "      <td>4</td>\n",
       "      <td>1.8</td>\n",
       "      <td>0.357</td>\n",
       "      <td>high</td>\n",
       "    </tr>\n",
       "    <tr>\n",
       "      <th>1850</th>\n",
       "      <td>Darwin Núñez</td>\n",
       "      <td>23</td>\n",
       "      <td>FW</td>\n",
       "      <td>1282</td>\n",
       "      <td>63.2</td>\n",
       "      <td>3.23</td>\n",
       "      <td>1.62</td>\n",
       "      <td>8</td>\n",
       "      <td>0.56</td>\n",
       "      <td>10.3</td>\n",
       "      <td>0.725352</td>\n",
       "      <td>0.11</td>\n",
       "      <td>3</td>\n",
       "      <td>2.3</td>\n",
       "      <td>0.211</td>\n",
       "      <td>high</td>\n",
       "    </tr>\n",
       "    <tr>\n",
       "      <th>2220</th>\n",
       "      <td>Mohamed Salah</td>\n",
       "      <td>30</td>\n",
       "      <td>FW</td>\n",
       "      <td>2225</td>\n",
       "      <td>75.7</td>\n",
       "      <td>3.84</td>\n",
       "      <td>1.90</td>\n",
       "      <td>11</td>\n",
       "      <td>0.44</td>\n",
       "      <td>11.8</td>\n",
       "      <td>0.477733</td>\n",
       "      <td>0.14</td>\n",
       "      <td>7</td>\n",
       "      <td>4.4</td>\n",
       "      <td>0.283</td>\n",
       "      <td>high</td>\n",
       "    </tr>\n",
       "    <tr>\n",
       "      <th>801</th>\n",
       "      <td>Harvey Elliott</td>\n",
       "      <td>19</td>\n",
       "      <td>MFFW</td>\n",
       "      <td>1383</td>\n",
       "      <td>79.5</td>\n",
       "      <td>3.97</td>\n",
       "      <td>1.30</td>\n",
       "      <td>1</td>\n",
       "      <td>0.07</td>\n",
       "      <td>1.7</td>\n",
       "      <td>0.110390</td>\n",
       "      <td>0.04</td>\n",
       "      <td>2</td>\n",
       "      <td>3.9</td>\n",
       "      <td>0.130</td>\n",
       "      <td>high</td>\n",
       "    </tr>\n",
       "  </tbody>\n",
       "</table>\n",
       "</div>"
      ],
      "text/plain": [
       "                 Name  Age   Pos   Min  TotCmp%  SCA90  KP90  Gls  Gls/90s  \\\n",
       "880   Roberto Firmino   31  FWMF  1006     78.5   3.66  1.79    8     0.72   \n",
       "1850     Darwin Núñez   23    FW  1282     63.2   3.23  1.62    8     0.56   \n",
       "2220    Mohamed Salah   30    FW  2225     75.7   3.84  1.90   11     0.44   \n",
       "801    Harvey Elliott   19  MFFW  1383     79.5   3.97  1.30    1     0.07   \n",
       "\n",
       "        xG    xG/90s  G/Sh  Ast   xA  Ast90 PlayTime  \n",
       "880    4.5  0.401786  0.24    4  1.8  0.357     high  \n",
       "1850  10.3  0.725352  0.11    3  2.3  0.211     high  \n",
       "2220  11.8  0.477733  0.14    7  4.4  0.283     high  \n",
       "801    1.7  0.110390  0.04    2  3.9  0.130     high  "
      ]
     },
     "execution_count": 425,
     "metadata": {},
     "output_type": "execute_result"
    }
   ],
   "source": [
    "ตารางนี้เป็นการแสดงผลผู้เล่นตำแหน่งตัวรุกที่ได้รับเวลาเล่นมากกว่าเวลาเฉลี่ย#ผู้เล่นเกมรุกที่ได้เล่นเยอะ\n",
    "df_liv_fw_high[['Name', 'Age', 'Pos', 'Min', 'TotCmp%', 'SCA90', 'KP90', 'Gls', 'Gls/90s', 'xG', 'xG/90s', 'G/Sh', 'Ast', 'xA', 'Ast90', 'PlayTime']].sort_values(by='Gls/90s', ascending=False)"
   ]
  },
  {
   "cell_type": "markdown",
   "metadata": {
    "cell_id": "91007266f60e47b0a28ddf778be2cafe",
    "deepnote_cell_type": "text-cell-p",
    "formattedRanges": [],
    "is_collapsed": false,
    "tags": []
   },
   "source": [
    "ตารางนี้เป็นการรวมตารางกันของทั้งผู้เล่นตำแหน่งตัวรุกที่ได้รับเวลาเล่นน้อยกว่าเวลาเฉลี่ย และ ผู้เล่นตำแหน่งตัวรุกที่ได้รับเวลาเล่นมากกว่าเวลาเฉลี่ย"
   ]
  },
  {
   "cell_type": "code",
   "execution_count": 426,
   "metadata": {
    "cell_id": "a197ef5417d54648ab6338a9e9f10cf5",
    "deepnote_cell_type": "code",
    "deepnote_to_be_reexecuted": false,
    "execution_millis": 36,
    "execution_start": 1679064377190,
    "source_hash": "c80da2f9"
   },
   "outputs": [
    {
     "data": {
      "text/html": [
       "<div>\n",
       "<style scoped>\n",
       "    .dataframe tbody tr th:only-of-type {\n",
       "        vertical-align: middle;\n",
       "    }\n",
       "\n",
       "    .dataframe tbody tr th {\n",
       "        vertical-align: top;\n",
       "    }\n",
       "\n",
       "    .dataframe thead th {\n",
       "        text-align: right;\n",
       "    }\n",
       "</style>\n",
       "<table border=\"1\" class=\"dataframe\">\n",
       "  <thead>\n",
       "    <tr style=\"text-align: right;\">\n",
       "      <th></th>\n",
       "      <th>Name</th>\n",
       "      <th>Age</th>\n",
       "      <th>Pos</th>\n",
       "      <th>Min</th>\n",
       "      <th>TotCmp%</th>\n",
       "      <th>SCA90</th>\n",
       "      <th>KP90</th>\n",
       "      <th>Gls</th>\n",
       "      <th>Gls/90s</th>\n",
       "      <th>xG</th>\n",
       "      <th>xG/90s</th>\n",
       "      <th>G/Sh</th>\n",
       "      <th>(Gls-xG)/90s</th>\n",
       "      <th>PlayTime</th>\n",
       "    </tr>\n",
       "  </thead>\n",
       "  <tbody>\n",
       "    <tr>\n",
       "      <th>461</th>\n",
       "      <td>Fabio Carvalho</td>\n",
       "      <td>20</td>\n",
       "      <td>MFFW</td>\n",
       "      <td>337</td>\n",
       "      <td>82.2</td>\n",
       "      <td>2.40</td>\n",
       "      <td>0.27</td>\n",
       "      <td>2</td>\n",
       "      <td>0.53</td>\n",
       "      <td>1.1</td>\n",
       "      <td>0.297297</td>\n",
       "      <td>0.18</td>\n",
       "      <td>0.232703</td>\n",
       "      <td>low</td>\n",
       "    </tr>\n",
       "    <tr>\n",
       "      <th>730</th>\n",
       "      <td>Ben Doak</td>\n",
       "      <td>17</td>\n",
       "      <td>FW</td>\n",
       "      <td>26</td>\n",
       "      <td>71.4</td>\n",
       "      <td>0.00</td>\n",
       "      <td>0.00</td>\n",
       "      <td>0</td>\n",
       "      <td>0.00</td>\n",
       "      <td>0.0</td>\n",
       "      <td>0.000000</td>\n",
       "      <td>NaN</td>\n",
       "      <td>0.000000</td>\n",
       "      <td>low</td>\n",
       "    </tr>\n",
       "    <tr>\n",
       "      <th>1244</th>\n",
       "      <td>Curtis Jones</td>\n",
       "      <td>22</td>\n",
       "      <td>MFFW</td>\n",
       "      <td>195</td>\n",
       "      <td>85.8</td>\n",
       "      <td>4.62</td>\n",
       "      <td>0.91</td>\n",
       "      <td>0</td>\n",
       "      <td>0.00</td>\n",
       "      <td>0.2</td>\n",
       "      <td>0.090909</td>\n",
       "      <td>0.00</td>\n",
       "      <td>-0.090909</td>\n",
       "      <td>low</td>\n",
       "    </tr>\n",
       "    <tr>\n",
       "      <th>1915</th>\n",
       "      <td>Alex Oxlade-Chamberlain</td>\n",
       "      <td>29</td>\n",
       "      <td>FWMF</td>\n",
       "      <td>314</td>\n",
       "      <td>73.7</td>\n",
       "      <td>2.59</td>\n",
       "      <td>1.43</td>\n",
       "      <td>1</td>\n",
       "      <td>0.29</td>\n",
       "      <td>1.3</td>\n",
       "      <td>0.371429</td>\n",
       "      <td>0.14</td>\n",
       "      <td>-0.081429</td>\n",
       "      <td>low</td>\n",
       "    </tr>\n",
       "    <tr>\n",
       "      <th>801</th>\n",
       "      <td>Harvey Elliott</td>\n",
       "      <td>19</td>\n",
       "      <td>MFFW</td>\n",
       "      <td>1383</td>\n",
       "      <td>79.5</td>\n",
       "      <td>3.97</td>\n",
       "      <td>1.30</td>\n",
       "      <td>1</td>\n",
       "      <td>0.07</td>\n",
       "      <td>1.7</td>\n",
       "      <td>0.110390</td>\n",
       "      <td>0.04</td>\n",
       "      <td>-0.040390</td>\n",
       "      <td>high</td>\n",
       "    </tr>\n",
       "    <tr>\n",
       "      <th>880</th>\n",
       "      <td>Roberto Firmino</td>\n",
       "      <td>31</td>\n",
       "      <td>FWMF</td>\n",
       "      <td>1006</td>\n",
       "      <td>78.5</td>\n",
       "      <td>3.66</td>\n",
       "      <td>1.79</td>\n",
       "      <td>8</td>\n",
       "      <td>0.72</td>\n",
       "      <td>4.5</td>\n",
       "      <td>0.401786</td>\n",
       "      <td>0.24</td>\n",
       "      <td>0.318214</td>\n",
       "      <td>high</td>\n",
       "    </tr>\n",
       "    <tr>\n",
       "      <th>1850</th>\n",
       "      <td>Darwin Núñez</td>\n",
       "      <td>23</td>\n",
       "      <td>FW</td>\n",
       "      <td>1282</td>\n",
       "      <td>63.2</td>\n",
       "      <td>3.23</td>\n",
       "      <td>1.62</td>\n",
       "      <td>8</td>\n",
       "      <td>0.56</td>\n",
       "      <td>10.3</td>\n",
       "      <td>0.725352</td>\n",
       "      <td>0.11</td>\n",
       "      <td>-0.165352</td>\n",
       "      <td>high</td>\n",
       "    </tr>\n",
       "    <tr>\n",
       "      <th>2220</th>\n",
       "      <td>Mohamed Salah</td>\n",
       "      <td>30</td>\n",
       "      <td>FW</td>\n",
       "      <td>2225</td>\n",
       "      <td>75.7</td>\n",
       "      <td>3.84</td>\n",
       "      <td>1.90</td>\n",
       "      <td>11</td>\n",
       "      <td>0.44</td>\n",
       "      <td>11.8</td>\n",
       "      <td>0.477733</td>\n",
       "      <td>0.14</td>\n",
       "      <td>-0.037733</td>\n",
       "      <td>high</td>\n",
       "    </tr>\n",
       "  </tbody>\n",
       "</table>\n",
       "</div>"
      ],
      "text/plain": [
       "                         Name  Age   Pos   Min  TotCmp%  SCA90  KP90  Gls  \\\n",
       "461            Fabio Carvalho   20  MFFW   337     82.2   2.40  0.27    2   \n",
       "730                  Ben Doak   17    FW    26     71.4   0.00  0.00    0   \n",
       "1244             Curtis Jones   22  MFFW   195     85.8   4.62  0.91    0   \n",
       "1915  Alex Oxlade-Chamberlain   29  FWMF   314     73.7   2.59  1.43    1   \n",
       "801            Harvey Elliott   19  MFFW  1383     79.5   3.97  1.30    1   \n",
       "880           Roberto Firmino   31  FWMF  1006     78.5   3.66  1.79    8   \n",
       "1850             Darwin Núñez   23    FW  1282     63.2   3.23  1.62    8   \n",
       "2220            Mohamed Salah   30    FW  2225     75.7   3.84  1.90   11   \n",
       "\n",
       "      Gls/90s    xG    xG/90s  G/Sh  (Gls-xG)/90s PlayTime  \n",
       "461      0.53   1.1  0.297297  0.18      0.232703      low  \n",
       "730      0.00   0.0  0.000000   NaN      0.000000      low  \n",
       "1244     0.00   0.2  0.090909  0.00     -0.090909      low  \n",
       "1915     0.29   1.3  0.371429  0.14     -0.081429      low  \n",
       "801      0.07   1.7  0.110390  0.04     -0.040390     high  \n",
       "880      0.72   4.5  0.401786  0.24      0.318214     high  \n",
       "1850     0.56  10.3  0.725352  0.11     -0.165352     high  \n",
       "2220     0.44  11.8  0.477733  0.14     -0.037733     high  "
      ]
     },
     "execution_count": 426,
     "metadata": {},
     "output_type": "execute_result"
    }
   ],
   "source": [
    "ตารางนี้เป็นการรวมตารางกันของทั้งผู้เล่นตำแหน่งตัวรุกที่ได้รับเวลาเล่นน้อยกว่าเวลาเฉลี่ย และ ผู้เล่นตำแหน่งตัวรุกที่ได้รับเวลาเล่นมากกว่าเวลาเฉลี่ย#2กลุ่มรวมกัน\n",
    "df_pt = pd.concat([df_liv_fw_low_ninj, df_liv_fw_high])\n",
    "df_pt[['Name', 'Age', 'Pos', 'Min', 'TotCmp%', 'SCA90', 'KP90', 'Gls', 'Gls/90s', 'xG', 'xG/90s', 'G/Sh', '(Gls-xG)/90s', 'PlayTime']]"
   ]
  },
  {
   "cell_type": "markdown",
   "metadata": {
    "cell_id": "9aa0b6e01f414c25bc58b2aab72de3a3",
    "deepnote_cell_type": "text-cell-p",
    "formattedRanges": [],
    "is_collapsed": false,
    "tags": []
   },
   "source": [
    "Elliot!!!"
   ]
  },
  {
   "cell_type": "markdown",
   "metadata": {
    "cell_id": "a1003f8ce18642ef96ad8e12b037eb40",
    "deepnote_cell_type": "text-cell-p",
    "formattedRanges": [],
    "is_collapsed": false,
    "tags": []
   },
   "source": [
    "เมื่อนำตารางข้างบนมา plot เป็นกราฟ ซึ่งแกน x คือ Gls/90s (อัตราส่วนการทำประตูต่อ 90 วินาที) ส่วนแกน y คือ xG/90s (อัตราส่วนการประตูที่คาดว่าจะทำได้ต่อ 90 วิ) โดยจะมี สีของจุดเป็นตัวแบ่งผู้เล่นว่าผู้เล่นใด ได้รับเวลาเล่นมากกว่าหรือน้อยกว่าเวลาเฉลี่ย"
   ]
  },
  {
   "cell_type": "markdown",
   "metadata": {
    "cell_id": "6308b479-0494-4d22-8264-cdf1e8fabf16",
    "deepnote_cell_type": "text-cell-p",
    "formattedRanges": [],
    "is_collapsed": false,
    "tags": []
   },
   "source": [
    "จากการสังเกตกราฟ แสดงให้เห็นว่า Fabio Carvelho และ Oxlade-Chamberlain มีผลงานที่ดีกว่า Harvey Elliott ทั้งๆที่ทั้งคู่นั้นเป็นนักเตะที่ได้รับเวลาเล่นน้อยกว่าเวลาเฉลี่ยซะอีก แต่กลับกัน Harvey Elliott นั้นได้เวลาการลงเตะมากกว่า 2 คนนั้นที่มีผลงานดีกว่า"
   ]
  },
  {
   "cell_type": "code",
   "execution_count": 427,
   "metadata": {},
   "outputs": [
    {
     "data": {
      "text/html": [
       "<div>\n",
       "<style scoped>\n",
       "    .dataframe tbody tr th:only-of-type {\n",
       "        vertical-align: middle;\n",
       "    }\n",
       "\n",
       "    .dataframe tbody tr th {\n",
       "        vertical-align: top;\n",
       "    }\n",
       "\n",
       "    .dataframe thead th {\n",
       "        text-align: right;\n",
       "    }\n",
       "</style>\n",
       "<table border=\"1\" class=\"dataframe\">\n",
       "  <thead>\n",
       "    <tr style=\"text-align: right;\">\n",
       "      <th></th>\n",
       "      <th></th>\n",
       "      <th>(Gls-xG)/90s</th>\n",
       "      <th>Age</th>\n",
       "      <th>G/Sh</th>\n",
       "      <th>Gls</th>\n",
       "      <th>Gls/90s</th>\n",
       "      <th>KP90</th>\n",
       "      <th>Min</th>\n",
       "      <th>SCA90</th>\n",
       "      <th>TotCmp%</th>\n",
       "      <th>xG</th>\n",
       "      <th>xG/90s</th>\n",
       "    </tr>\n",
       "    <tr>\n",
       "      <th>Name</th>\n",
       "      <th>Pos</th>\n",
       "      <th></th>\n",
       "      <th></th>\n",
       "      <th></th>\n",
       "      <th></th>\n",
       "      <th></th>\n",
       "      <th></th>\n",
       "      <th></th>\n",
       "      <th></th>\n",
       "      <th></th>\n",
       "      <th></th>\n",
       "      <th></th>\n",
       "    </tr>\n",
       "  </thead>\n",
       "  <tbody>\n",
       "    <tr>\n",
       "      <th>Alex Oxlade-Chamberlain</th>\n",
       "      <th>FWMF</th>\n",
       "      <td>-0.081429</td>\n",
       "      <td>29</td>\n",
       "      <td>0.14</td>\n",
       "      <td>1</td>\n",
       "      <td>0.29</td>\n",
       "      <td>1.43</td>\n",
       "      <td>314</td>\n",
       "      <td>2.59</td>\n",
       "      <td>73.7</td>\n",
       "      <td>1.3</td>\n",
       "      <td>0.371429</td>\n",
       "    </tr>\n",
       "    <tr>\n",
       "      <th>Ben Doak</th>\n",
       "      <th>FW</th>\n",
       "      <td>0.000000</td>\n",
       "      <td>17</td>\n",
       "      <td>NaN</td>\n",
       "      <td>0</td>\n",
       "      <td>0.00</td>\n",
       "      <td>0.00</td>\n",
       "      <td>26</td>\n",
       "      <td>0.00</td>\n",
       "      <td>71.4</td>\n",
       "      <td>0.0</td>\n",
       "      <td>0.000000</td>\n",
       "    </tr>\n",
       "    <tr>\n",
       "      <th>Curtis Jones</th>\n",
       "      <th>MFFW</th>\n",
       "      <td>-0.090909</td>\n",
       "      <td>22</td>\n",
       "      <td>0.00</td>\n",
       "      <td>0</td>\n",
       "      <td>0.00</td>\n",
       "      <td>0.91</td>\n",
       "      <td>195</td>\n",
       "      <td>4.62</td>\n",
       "      <td>85.8</td>\n",
       "      <td>0.2</td>\n",
       "      <td>0.090909</td>\n",
       "    </tr>\n",
       "    <tr>\n",
       "      <th>Darwin Núñez</th>\n",
       "      <th>FW</th>\n",
       "      <td>-0.165352</td>\n",
       "      <td>23</td>\n",
       "      <td>0.11</td>\n",
       "      <td>8</td>\n",
       "      <td>0.56</td>\n",
       "      <td>1.62</td>\n",
       "      <td>1282</td>\n",
       "      <td>3.23</td>\n",
       "      <td>63.2</td>\n",
       "      <td>10.3</td>\n",
       "      <td>0.725352</td>\n",
       "    </tr>\n",
       "    <tr>\n",
       "      <th>Fabio Carvalho</th>\n",
       "      <th>MFFW</th>\n",
       "      <td>0.232703</td>\n",
       "      <td>20</td>\n",
       "      <td>0.18</td>\n",
       "      <td>2</td>\n",
       "      <td>0.53</td>\n",
       "      <td>0.27</td>\n",
       "      <td>337</td>\n",
       "      <td>2.40</td>\n",
       "      <td>82.2</td>\n",
       "      <td>1.1</td>\n",
       "      <td>0.297297</td>\n",
       "    </tr>\n",
       "    <tr>\n",
       "      <th>Harvey Elliott</th>\n",
       "      <th>MFFW</th>\n",
       "      <td>-0.040390</td>\n",
       "      <td>19</td>\n",
       "      <td>0.04</td>\n",
       "      <td>1</td>\n",
       "      <td>0.07</td>\n",
       "      <td>1.30</td>\n",
       "      <td>1383</td>\n",
       "      <td>3.97</td>\n",
       "      <td>79.5</td>\n",
       "      <td>1.7</td>\n",
       "      <td>0.110390</td>\n",
       "    </tr>\n",
       "    <tr>\n",
       "      <th>Mohamed Salah</th>\n",
       "      <th>FW</th>\n",
       "      <td>-0.037733</td>\n",
       "      <td>30</td>\n",
       "      <td>0.14</td>\n",
       "      <td>11</td>\n",
       "      <td>0.44</td>\n",
       "      <td>1.90</td>\n",
       "      <td>2225</td>\n",
       "      <td>3.84</td>\n",
       "      <td>75.7</td>\n",
       "      <td>11.8</td>\n",
       "      <td>0.477733</td>\n",
       "    </tr>\n",
       "    <tr>\n",
       "      <th>Roberto Firmino</th>\n",
       "      <th>FWMF</th>\n",
       "      <td>0.318214</td>\n",
       "      <td>31</td>\n",
       "      <td>0.24</td>\n",
       "      <td>8</td>\n",
       "      <td>0.72</td>\n",
       "      <td>1.79</td>\n",
       "      <td>1006</td>\n",
       "      <td>3.66</td>\n",
       "      <td>78.5</td>\n",
       "      <td>4.5</td>\n",
       "      <td>0.401786</td>\n",
       "    </tr>\n",
       "  </tbody>\n",
       "</table>\n",
       "</div>"
      ],
      "text/plain": [
       "                              (Gls-xG)/90s  Age  G/Sh  Gls  Gls/90s  KP90  \\\n",
       "Name                    Pos                                                 \n",
       "Alex Oxlade-Chamberlain FWMF     -0.081429   29  0.14    1     0.29  1.43   \n",
       "Ben Doak                FW        0.000000   17   NaN    0     0.00  0.00   \n",
       "Curtis Jones            MFFW     -0.090909   22  0.00    0     0.00  0.91   \n",
       "Darwin Núñez            FW       -0.165352   23  0.11    8     0.56  1.62   \n",
       "Fabio Carvalho          MFFW      0.232703   20  0.18    2     0.53  0.27   \n",
       "Harvey Elliott          MFFW     -0.040390   19  0.04    1     0.07  1.30   \n",
       "Mohamed Salah           FW       -0.037733   30  0.14   11     0.44  1.90   \n",
       "Roberto Firmino         FWMF      0.318214   31  0.24    8     0.72  1.79   \n",
       "\n",
       "                               Min  SCA90  TotCmp%    xG    xG/90s  \n",
       "Name                    Pos                                         \n",
       "Alex Oxlade-Chamberlain FWMF   314   2.59     73.7   1.3  0.371429  \n",
       "Ben Doak                FW      26   0.00     71.4   0.0  0.000000  \n",
       "Curtis Jones            MFFW   195   4.62     85.8   0.2  0.090909  \n",
       "Darwin Núñez            FW    1282   3.23     63.2  10.3  0.725352  \n",
       "Fabio Carvalho          MFFW   337   2.40     82.2   1.1  0.297297  \n",
       "Harvey Elliott          MFFW  1383   3.97     79.5   1.7  0.110390  \n",
       "Mohamed Salah           FW    2225   3.84     75.7  11.8  0.477733  \n",
       "Roberto Firmino         FWMF  1006   3.66     78.5   4.5  0.401786  "
      ]
     },
     "execution_count": 427,
     "metadata": {},
     "output_type": "execute_result"
    }
   ],
   "source": [
    "df_pt.pivot_table(index=['Name', 'Pos'], values=['Age', 'Min', 'TotCmp%', 'SCA90', 'KP90', 'Gls', 'Gls/90s', 'xG', 'xG/90s', 'G/Sh', '(Gls-xG)/90s', 'PlayTime'])\n"
   ]
  },
  {
   "cell_type": "code",
   "execution_count": 428,
   "metadata": {},
   "outputs": [
    {
     "data": {
      "text/html": [
       "<div>\n",
       "<style scoped>\n",
       "    .dataframe tbody tr th:only-of-type {\n",
       "        vertical-align: middle;\n",
       "    }\n",
       "\n",
       "    .dataframe tbody tr th {\n",
       "        vertical-align: top;\n",
       "    }\n",
       "\n",
       "    .dataframe thead th {\n",
       "        text-align: right;\n",
       "    }\n",
       "</style>\n",
       "<table border=\"1\" class=\"dataframe\">\n",
       "  <thead>\n",
       "    <tr style=\"text-align: right;\">\n",
       "      <th></th>\n",
       "      <th></th>\n",
       "      <th></th>\n",
       "      <th>Age</th>\n",
       "      <th>G/Sh</th>\n",
       "      <th>Gls</th>\n",
       "      <th>MP</th>\n",
       "      <th>SoT</th>\n",
       "      <th>Starts</th>\n",
       "      <th>xG</th>\n",
       "    </tr>\n",
       "    <tr>\n",
       "      <th>Name</th>\n",
       "      <th>Team</th>\n",
       "      <th>Pos</th>\n",
       "      <th></th>\n",
       "      <th></th>\n",
       "      <th></th>\n",
       "      <th></th>\n",
       "      <th></th>\n",
       "      <th></th>\n",
       "      <th></th>\n",
       "    </tr>\n",
       "  </thead>\n",
       "  <tbody>\n",
       "    <tr>\n",
       "      <th>Erling Haaland</th>\n",
       "      <th>Manchester City</th>\n",
       "      <th>FW</th>\n",
       "      <td>22</td>\n",
       "      <td>0.28</td>\n",
       "      <td>27</td>\n",
       "      <td>25</td>\n",
       "      <td>39</td>\n",
       "      <td>24</td>\n",
       "      <td>18.9</td>\n",
       "    </tr>\n",
       "    <tr>\n",
       "      <th>Harry Kane</th>\n",
       "      <th>Tottenham</th>\n",
       "      <th>FW</th>\n",
       "      <td>29</td>\n",
       "      <td>0.18</td>\n",
       "      <td>18</td>\n",
       "      <td>26</td>\n",
       "      <td>37</td>\n",
       "      <td>26</td>\n",
       "      <td>13.8</td>\n",
       "    </tr>\n",
       "    <tr>\n",
       "      <th>Marcus Rashford</th>\n",
       "      <th>Manchester Utd</th>\n",
       "      <th>FW</th>\n",
       "      <td>25</td>\n",
       "      <td>0.21</td>\n",
       "      <td>14</td>\n",
       "      <td>25</td>\n",
       "      <td>31</td>\n",
       "      <td>23</td>\n",
       "      <td>10.3</td>\n",
       "    </tr>\n",
       "    <tr>\n",
       "      <th>Mohamed Salah</th>\n",
       "      <th>Liverpool</th>\n",
       "      <th>FW</th>\n",
       "      <td>30</td>\n",
       "      <td>0.14</td>\n",
       "      <td>11</td>\n",
       "      <td>25</td>\n",
       "      <td>32</td>\n",
       "      <td>25</td>\n",
       "      <td>11.8</td>\n",
       "    </tr>\n",
       "    <tr>\n",
       "      <th>Martinelli</th>\n",
       "      <th>Arsenal</th>\n",
       "      <th>FW</th>\n",
       "      <td>21</td>\n",
       "      <td>0.18</td>\n",
       "      <td>11</td>\n",
       "      <td>26</td>\n",
       "      <td>22</td>\n",
       "      <td>25</td>\n",
       "      <td>6.7</td>\n",
       "    </tr>\n",
       "    <tr>\n",
       "      <th>Bukayo Saka</th>\n",
       "      <th>Arsenal</th>\n",
       "      <th>FW</th>\n",
       "      <td>21</td>\n",
       "      <td>0.13</td>\n",
       "      <td>10</td>\n",
       "      <td>26</td>\n",
       "      <td>19</td>\n",
       "      <td>26</td>\n",
       "      <td>8.7</td>\n",
       "    </tr>\n",
       "    <tr>\n",
       "      <th>Phil Foden</th>\n",
       "      <th>Manchester City</th>\n",
       "      <th>FW</th>\n",
       "      <td>22</td>\n",
       "      <td>0.26</td>\n",
       "      <td>9</td>\n",
       "      <td>23</td>\n",
       "      <td>18</td>\n",
       "      <td>16</td>\n",
       "      <td>4.6</td>\n",
       "    </tr>\n",
       "    <tr>\n",
       "      <th>Roberto Firmino</th>\n",
       "      <th>Liverpool</th>\n",
       "      <th>FWMF</th>\n",
       "      <td>31</td>\n",
       "      <td>0.24</td>\n",
       "      <td>8</td>\n",
       "      <td>18</td>\n",
       "      <td>21</td>\n",
       "      <td>11</td>\n",
       "      <td>4.5</td>\n",
       "    </tr>\n",
       "    <tr>\n",
       "      <th>Darwin Núñez</th>\n",
       "      <th>Liverpool</th>\n",
       "      <th>FW</th>\n",
       "      <td>23</td>\n",
       "      <td>0.11</td>\n",
       "      <td>8</td>\n",
       "      <td>19</td>\n",
       "      <td>30</td>\n",
       "      <td>15</td>\n",
       "      <td>10.3</td>\n",
       "    </tr>\n",
       "    <tr>\n",
       "      <th>Gabriel Jesus</th>\n",
       "      <th>Arsenal</th>\n",
       "      <th>FW</th>\n",
       "      <td>25</td>\n",
       "      <td>0.10</td>\n",
       "      <td>5</td>\n",
       "      <td>14</td>\n",
       "      <td>20</td>\n",
       "      <td>14</td>\n",
       "      <td>7.7</td>\n",
       "    </tr>\n",
       "    <tr>\n",
       "      <th>Riyad Mahrez</th>\n",
       "      <th>Manchester City</th>\n",
       "      <th>FWMF</th>\n",
       "      <td>32</td>\n",
       "      <td>0.15</td>\n",
       "      <td>5</td>\n",
       "      <td>19</td>\n",
       "      <td>9</td>\n",
       "      <td>12</td>\n",
       "      <td>4.6</td>\n",
       "    </tr>\n",
       "    <tr>\n",
       "      <th>Julián Álvarez</th>\n",
       "      <th>Manchester City</th>\n",
       "      <th>FWMF</th>\n",
       "      <td>23</td>\n",
       "      <td>0.20</td>\n",
       "      <td>5</td>\n",
       "      <td>19</td>\n",
       "      <td>10</td>\n",
       "      <td>6</td>\n",
       "      <td>3.2</td>\n",
       "    </tr>\n",
       "    <tr>\n",
       "      <th>Cody Gakpo</th>\n",
       "      <th>Liverpool</th>\n",
       "      <th>FW</th>\n",
       "      <td>23</td>\n",
       "      <td>0.22</td>\n",
       "      <td>4</td>\n",
       "      <td>8</td>\n",
       "      <td>6</td>\n",
       "      <td>7</td>\n",
       "      <td>3.2</td>\n",
       "    </tr>\n",
       "    <tr>\n",
       "      <th>Eddie Nketiah</th>\n",
       "      <th>Arsenal</th>\n",
       "      <th>FW</th>\n",
       "      <td>23</td>\n",
       "      <td>0.10</td>\n",
       "      <td>4</td>\n",
       "      <td>23</td>\n",
       "      <td>14</td>\n",
       "      <td>9</td>\n",
       "      <td>7.7</td>\n",
       "    </tr>\n",
       "    <tr>\n",
       "      <th>Jadon Sancho</th>\n",
       "      <th>Manchester Utd</th>\n",
       "      <th>FWMF</th>\n",
       "      <td>22</td>\n",
       "      <td>0.36</td>\n",
       "      <td>4</td>\n",
       "      <td>13</td>\n",
       "      <td>6</td>\n",
       "      <td>11</td>\n",
       "      <td>2.5</td>\n",
       "    </tr>\n",
       "    <tr>\n",
       "      <th>Anthony Martial</th>\n",
       "      <th>Manchester Utd</th>\n",
       "      <th>FW</th>\n",
       "      <td>27</td>\n",
       "      <td>0.18</td>\n",
       "      <td>3</td>\n",
       "      <td>9</td>\n",
       "      <td>5</td>\n",
       "      <td>6</td>\n",
       "      <td>3.2</td>\n",
       "    </tr>\n",
       "    <tr>\n",
       "      <th>Luis Díaz</th>\n",
       "      <th>Liverpool</th>\n",
       "      <th>FW</th>\n",
       "      <td>26</td>\n",
       "      <td>0.19</td>\n",
       "      <td>3</td>\n",
       "      <td>8</td>\n",
       "      <td>7</td>\n",
       "      <td>7</td>\n",
       "      <td>1.7</td>\n",
       "    </tr>\n",
       "    <tr>\n",
       "      <th>Antony</th>\n",
       "      <th>Manchester Utd</th>\n",
       "      <th>FW</th>\n",
       "      <td>23</td>\n",
       "      <td>0.09</td>\n",
       "      <td>3</td>\n",
       "      <td>13</td>\n",
       "      <td>16</td>\n",
       "      <td>12</td>\n",
       "      <td>2.8</td>\n",
       "    </tr>\n",
       "    <tr>\n",
       "      <th>Jack Grealish</th>\n",
       "      <th>Manchester City</th>\n",
       "      <th>FW</th>\n",
       "      <td>27</td>\n",
       "      <td>0.12</td>\n",
       "      <td>3</td>\n",
       "      <td>20</td>\n",
       "      <td>6</td>\n",
       "      <td>16</td>\n",
       "      <td>3.1</td>\n",
       "    </tr>\n",
       "  </tbody>\n",
       "</table>\n",
       "</div>"
      ],
      "text/plain": [
       "                                      Age  G/Sh  Gls  MP  SoT  Starts    xG\n",
       "Name            Team            Pos                                        \n",
       "Erling Haaland  Manchester City FW     22  0.28   27  25   39      24  18.9\n",
       "Harry Kane      Tottenham       FW     29  0.18   18  26   37      26  13.8\n",
       "Marcus Rashford Manchester Utd  FW     25  0.21   14  25   31      23  10.3\n",
       "Mohamed Salah   Liverpool       FW     30  0.14   11  25   32      25  11.8\n",
       "Martinelli      Arsenal         FW     21  0.18   11  26   22      25   6.7\n",
       "Bukayo Saka     Arsenal         FW     21  0.13   10  26   19      26   8.7\n",
       "Phil Foden      Manchester City FW     22  0.26    9  23   18      16   4.6\n",
       "Roberto Firmino Liverpool       FWMF   31  0.24    8  18   21      11   4.5\n",
       "Darwin Núñez    Liverpool       FW     23  0.11    8  19   30      15  10.3\n",
       "Gabriel Jesus   Arsenal         FW     25  0.10    5  14   20      14   7.7\n",
       "Riyad Mahrez    Manchester City FWMF   32  0.15    5  19    9      12   4.6\n",
       "Julián Álvarez  Manchester City FWMF   23  0.20    5  19   10       6   3.2\n",
       "Cody Gakpo      Liverpool       FW     23  0.22    4   8    6       7   3.2\n",
       "Eddie Nketiah   Arsenal         FW     23  0.10    4  23   14       9   7.7\n",
       "Jadon Sancho    Manchester Utd  FWMF   22  0.36    4  13    6      11   2.5\n",
       "Anthony Martial Manchester Utd  FW     27  0.18    3   9    5       6   3.2\n",
       "Luis Díaz       Liverpool       FW     26  0.19    3   8    7       7   1.7\n",
       "Antony          Manchester Utd  FW     23  0.09    3  13   16      12   2.8\n",
       "Jack Grealish   Manchester City FW     27  0.12    3  20    6      16   3.1"
      ]
     },
     "execution_count": 428,
     "metadata": {},
     "output_type": "execute_result"
    }
   ],
   "source": [
    "df_prem_fw_big5.pivot_table(index=['Name', 'Team', 'Pos'], values=['xG', 'Gls', 'Age', 'MP', 'Starts', 'G/Sh', 'SoT']).sort_values(by='Gls', ascending=False)\n",
    "# ข้อมูลภาพรวมกองหน้าใน EPL (English Premier League)"
   ]
  },
  {
   "cell_type": "markdown",
   "metadata": {
    "cell_id": "9aa0b6e01f414c25bc58b2aab72de3a3",
    "deepnote_cell_type": "text-cell-p",
    "formattedRanges": [],
    "is_collapsed": false,
    "tags": []
   },
   "source": [
    "Elliot!!!"
   ]
  },
  {
   "cell_type": "code",
   "execution_count": 429,
   "metadata": {
    "cell_id": "a4e5c7c50b7d4689a73d612de9061328",
    "deepnote_cell_type": "code",
    "deepnote_to_be_reexecuted": false,
    "execution_millis": 431,
    "execution_start": 1679064377243,
    "source_hash": "347c8761"
   },
   "outputs": [
    {
     "data": {
      "image/png": "[encoded data removed]",
      "text/plain": [
       "<Figure size 640x480 with 1 Axes>"
      ]
     },
     "metadata": {},
     "output_type": "display_data"
    }
   ],
   "source": [
    "#จะเห็นว่า Fabio Carvalho, Oxlade-Chamb ทำได้ดีกว่า Harvey Elliott อย่างเห็นได้ชัด\n",
    "sns.scatterplot(x='Gls/90s', y='xG/90s', data=df_pt, hue='PlayTime', alpha=0.5)\n",
    "plt.title(\"Player Goals vs xG\")\n",
    "for i, row in df_pt.iterrows():\n",
    "    plt.text(row['Gls/90s'] , row['xG/90s']-0.025, row['Name'], fontsize=8, ha='center')"
   ]
  },
  {
   "cell_type": "code",
   "execution_count": 430,
   "metadata": {
    "cell_id": "439c31414a8048b78b3e41028fed17ab",
    "deepnote_cell_type": "code",
    "deepnote_to_be_reexecuted": false,
    "execution_millis": 52,
    "execution_start": 1679064377624,
    "source_hash": "2b96b3c9"
   },
   "outputs": [
    {
     "data": {
      "text/plain": [
       "Text(0, 0.5, '')"
      ]
     },
     "execution_count": 430,
     "metadata": {},
     "output_type": "execute_result"
    },
    {
     "data": {
      "image/png": "[encoded data removed]",
      "text/plain": [
       "<Figure size 640x480 with 1 Axes>"
      ]
     },
     "metadata": {},
     "output_type": "display_data"
    }
   ],
   "source": [
    "# convers-rate ก็ดีกว่าคนที่ได้เล่นเยอะหลายคน\n",
    "sns.barplot(y='Name', x='G/Sh', data=df_pt[df_pt['G/Sh'] > 0].sort_values(by='G/Sh', ascending=False), hue='PlayTime')\n",
    "plt.title('Conversion Rates of Different Players')\n",
    "plt.xlabel(\"Goal/Shot\")\n",
    "plt.ylabel(\"\")\n"
   ]
  },
  {
   "cell_type": "markdown",
   "metadata": {
    "cell_id": "d607c135d40246748a43b4a4bb4c80fc",
    "deepnote_cell_type": "markdown"
   },
   "source": [
    "ให้สรุปว่า 2 คนนี้ควรได้โอกาสลงเล่นเยอะขึ้น ถ้าต้องเลือกคนเดียวเอา Fabio"
   ]
  },
  {
   "cell_type": "markdown",
   "metadata": {},
   "source": [
    "## Is goalkeeper's Prime Age really around 27 - 31?"
   ]
  },
  {
   "cell_type": "markdown",
   "metadata": {},
   "source": [
    "- We will use the data of the player who exist in all these 5 seasons (Exist in every seasons) and the player's 90s is more than 15 (90s : minutes played divided by 90)"
   ]
  },
  {
   "cell_type": "code",
   "execution_count": 431,
   "metadata": {},
   "outputs": [],
   "source": [
    "# We will use the data of the player who exist in all these 5 seasons (Exist in every seasons)\n",
    "\n",
    "# Group the dataframe by player name\n",
    "grouped_df = gk.groupby('Player')\n",
    "\n",
    "# Count the number of unique seasons each player has played in\n",
    "season_counts = grouped_df['Season'].nunique()\n",
    "\n",
    "# Filter the dataframe to only include players who have played in all five seasons\n",
    "filtered_gk = gk[gk['Player'].isin(season_counts[season_counts == 5].index)]\n",
    "\n",
    "# Filter only the player whose 90s is more than 15 (90s : minutes played divided by 90)\n",
    "filtered_gk = filtered_gk.loc[filtered_gk['90s'] > 15]"
   ]
  },
  {
   "cell_type": "code",
   "execution_count": 432,
   "metadata": {},
   "outputs": [],
   "source": [
    "# There are metric that's not updated in 2023\n",
    "filtered_gk_no_23 = filtered_gk.loc[filtered_gk.Season != '22-23']"
   ]
  },
  {
   "cell_type": "markdown",
   "metadata": {},
   "source": [
    "### The interesting metrics that we'll use to analyze our topic \n",
    "- Save Percentage (Save%)\n",
    "- Cleansheet Percentage (CS%)\n",
    "- Penalty Kicks Save Percentage (PSave%)\n",
    "- Defensive action outside of penalty area per 90 minutes (OPA/90)\n",
    "- Post-Shot Expected Goals minus Goals Allowed per 90 minutes (PSxG-GA/90)\n",
    "#### To determine a good goalkeeper, we'll need to analyze with more specific data than these one like the style of each league the player's in but in the topic we'll be analyzing we'll focus on the peak spot of the player in each seasons"
   ]
  },
  {
   "cell_type": "markdown",
   "metadata": {},
   "source": [
    "### Save% : Save Percentage \n",
    "- (Shots on target against - Goals against) / Shots on target against\n",
    "- (ลูกที่ยิงตรงกรอบ - ลูกที่ยิงเข้า) / ลูกที่ยิงตรงกรอบ"
   ]
  },
  {
   "cell_type": "markdown",
   "metadata": {},
   "source": [
    "- We will make it more standard by divided the Save% by 90s so all the players can be on the equal terms"
   ]
  },
  {
   "cell_type": "code",
   "execution_count": 433,
   "metadata": {
    "scrolled": true
   },
   "outputs": [
    {
     "name": "stderr",
     "output_type": "stream",
     "text": [
      "C:\\Users\\Kean\\AppData\\Local\\Temp\\ipykernel_2124\\3354574473.py:1: SettingWithCopyWarning: \n",
      "A value is trying to be set on a copy of a slice from a DataFrame.\n",
      "Try using .loc[row_indexer,col_indexer] = value instead\n",
      "\n",
      "See the caveats in the documentation: https://pandas.pydata.org/pandas-docs/stable/user_guide/indexing.html#returning-a-view-versus-a-copy\n",
      "  filtered_gk_no_23['Save%/90s'] = filtered_gk_no_23['Save%'] / filtered_gk_no_23['90s']\n"
     ]
    }
   ],
   "source": [
    "filtered_gk_no_23['Save%/90s'] = filtered_gk_no_23['Save%'] / filtered_gk_no_23['90s']"
   ]
  },
  {
   "cell_type": "code",
   "execution_count": 434,
   "metadata": {
    "scrolled": false
   },
   "outputs": [
    {
     "data": {
      "text/plain": [
       "<seaborn.axisgrid.FacetGrid at 0x2af0650c640>"
      ]
     },
     "execution_count": 434,
     "metadata": {},
     "output_type": "execute_result"
    },
    {
     "data": {
      "image/png": "[encoded data removed]",
      "text/plain": [
       "<Figure size 1280x400 with 4 Axes>"
      ]
     },
     "metadata": {},
     "output_type": "display_data"
    }
   ],
   "source": [
    "sns.relplot(data=filtered_gk_no_23, x='Age', y='Save%/90s',\n",
    "           col='Season',\n",
    "           col_order=['18-19', '19-20', '20-21', '21-22',],\n",
    "            height=4, aspect=0.8)"
   ]
  },
  {
   "cell_type": "markdown",
   "metadata": {},
   "source": [
    "Top player in term of Save%/90s in each seasons"
   ]
  },
  {
   "cell_type": "code",
   "execution_count": 435,
   "metadata": {},
   "outputs": [
    {
     "data": {
      "text/html": [
       "<div>\n",
       "<style scoped>\n",
       "    .dataframe tbody tr th:only-of-type {\n",
       "        vertical-align: middle;\n",
       "    }\n",
       "\n",
       "    .dataframe tbody tr th {\n",
       "        vertical-align: top;\n",
       "    }\n",
       "\n",
       "    .dataframe thead th {\n",
       "        text-align: right;\n",
       "    }\n",
       "</style>\n",
       "<table border=\"1\" class=\"dataframe\">\n",
       "  <thead>\n",
       "    <tr style=\"text-align: right;\">\n",
       "      <th></th>\n",
       "      <th>Player</th>\n",
       "      <th>Comp</th>\n",
       "      <th>Age</th>\n",
       "      <th>Born</th>\n",
       "      <th>Season</th>\n",
       "      <th>Save%</th>\n",
       "      <th>90s</th>\n",
       "      <th>Save%/90s</th>\n",
       "    </tr>\n",
       "  </thead>\n",
       "  <tbody>\n",
       "    <tr>\n",
       "      <th>59</th>\n",
       "      <td>Aitor Fernández</td>\n",
       "      <td>es La Liga</td>\n",
       "      <td>27</td>\n",
       "      <td>1991</td>\n",
       "      <td>18-19</td>\n",
       "      <td>75.9</td>\n",
       "      <td>16.0</td>\n",
       "      <td>4.743750</td>\n",
       "    </tr>\n",
       "    <tr>\n",
       "      <th>241</th>\n",
       "      <td>Alessio Cragno</td>\n",
       "      <td>it Serie A</td>\n",
       "      <td>25</td>\n",
       "      <td>1994</td>\n",
       "      <td>19-20</td>\n",
       "      <td>77.5</td>\n",
       "      <td>16.0</td>\n",
       "      <td>4.843750</td>\n",
       "    </tr>\n",
       "    <tr>\n",
       "      <th>541</th>\n",
       "      <td>David Ospina</td>\n",
       "      <td>it Serie A</td>\n",
       "      <td>31</td>\n",
       "      <td>1988</td>\n",
       "      <td>20-21</td>\n",
       "      <td>78.6</td>\n",
       "      <td>16.0</td>\n",
       "      <td>4.912500</td>\n",
       "    </tr>\n",
       "    <tr>\n",
       "      <th>802</th>\n",
       "      <td>Luigi Sepe</td>\n",
       "      <td>it Serie A</td>\n",
       "      <td>30</td>\n",
       "      <td>1991</td>\n",
       "      <td>21-22</td>\n",
       "      <td>73.1</td>\n",
       "      <td>15.5</td>\n",
       "      <td>4.716129</td>\n",
       "    </tr>\n",
       "  </tbody>\n",
       "</table>\n",
       "</div>"
      ],
      "text/plain": [
       "              Player        Comp  Age  Born Season  Save%   90s  Save%/90s\n",
       "59   Aitor Fernández  es La Liga   27  1991  18-19   75.9  16.0   4.743750\n",
       "241   Alessio Cragno  it Serie A   25  1994  19-20   77.5  16.0   4.843750\n",
       "541     David Ospina  it Serie A   31  1988  20-21   78.6  16.0   4.912500\n",
       "802       Luigi Sepe  it Serie A   30  1991  21-22   73.1  15.5   4.716129"
      ]
     },
     "execution_count": 435,
     "metadata": {},
     "output_type": "execute_result"
    }
   ],
   "source": [
    "filtered_gk_no_23.loc[filtered_gk_no_23.groupby('Season')['Save%/90s'].idxmax(), ['Player', 'Comp','Age', 'Born', 'Season', 'Save%', '90s', 'Save%/90s',]].sort_values(by='Season', )"
   ]
  },
  {
   "cell_type": "markdown",
   "metadata": {},
   "source": [
    "We will use the 95th percentile of Save%/90s to determine who's one of the top player"
   ]
  },
  {
   "cell_type": "code",
   "execution_count": 436,
   "metadata": {
    "scrolled": true
   },
   "outputs": [
    {
     "data": {
      "text/plain": [
       "3.9675"
      ]
     },
     "execution_count": 436,
     "metadata": {},
     "output_type": "execute_result"
    }
   ],
   "source": [
    "save_per95 = round(filtered_gk_no_23['Save%/90s'].quantile(0.95), 4)\n",
    "save_per95"
   ]
  },
  {
   "cell_type": "markdown",
   "metadata": {},
   "source": [
    "Player whose Save%/90s is above the 95th percentile"
   ]
  },
  {
   "cell_type": "code",
   "execution_count": 437,
   "metadata": {},
   "outputs": [
    {
     "data": {
      "text/html": [
       "<div>\n",
       "<style scoped>\n",
       "    .dataframe tbody tr th:only-of-type {\n",
       "        vertical-align: middle;\n",
       "    }\n",
       "\n",
       "    .dataframe tbody tr th {\n",
       "        vertical-align: top;\n",
       "    }\n",
       "\n",
       "    .dataframe thead th {\n",
       "        text-align: right;\n",
       "    }\n",
       "</style>\n",
       "<table border=\"1\" class=\"dataframe\">\n",
       "  <thead>\n",
       "    <tr style=\"text-align: right;\">\n",
       "      <th></th>\n",
       "      <th>Player</th>\n",
       "      <th>Comp</th>\n",
       "      <th>Age</th>\n",
       "      <th>Born</th>\n",
       "      <th>Season</th>\n",
       "      <th>Save%</th>\n",
       "      <th>90s</th>\n",
       "      <th>Save%/90s</th>\n",
       "    </tr>\n",
       "  </thead>\n",
       "  <tbody>\n",
       "    <tr>\n",
       "      <th>59</th>\n",
       "      <td>Aitor Fernández</td>\n",
       "      <td>es La Liga</td>\n",
       "      <td>27</td>\n",
       "      <td>1991</td>\n",
       "      <td>18-19</td>\n",
       "      <td>75.9</td>\n",
       "      <td>16.0</td>\n",
       "      <td>4.743750</td>\n",
       "    </tr>\n",
       "    <tr>\n",
       "      <th>132</th>\n",
       "      <td>David Ospina</td>\n",
       "      <td>it Serie A</td>\n",
       "      <td>29</td>\n",
       "      <td>1988</td>\n",
       "      <td>18-19</td>\n",
       "      <td>69.4</td>\n",
       "      <td>16.2</td>\n",
       "      <td>4.283951</td>\n",
       "    </tr>\n",
       "    <tr>\n",
       "      <th>241</th>\n",
       "      <td>Alessio Cragno</td>\n",
       "      <td>it Serie A</td>\n",
       "      <td>25</td>\n",
       "      <td>1994</td>\n",
       "      <td>19-20</td>\n",
       "      <td>77.5</td>\n",
       "      <td>16.0</td>\n",
       "      <td>4.843750</td>\n",
       "    </tr>\n",
       "    <tr>\n",
       "      <th>267</th>\n",
       "      <td>Alfred Gomis</td>\n",
       "      <td>fr Ligue 1</td>\n",
       "      <td>25</td>\n",
       "      <td>1993</td>\n",
       "      <td>19-20</td>\n",
       "      <td>76.5</td>\n",
       "      <td>18.0</td>\n",
       "      <td>4.250000</td>\n",
       "    </tr>\n",
       "    <tr>\n",
       "      <th>297</th>\n",
       "      <td>Hugo Lloris</td>\n",
       "      <td>eng Premier League</td>\n",
       "      <td>32</td>\n",
       "      <td>1986</td>\n",
       "      <td>19-20</td>\n",
       "      <td>80.8</td>\n",
       "      <td>20.1</td>\n",
       "      <td>4.019900</td>\n",
       "    </tr>\n",
       "    <tr>\n",
       "      <th>326</th>\n",
       "      <td>Robin Olsen</td>\n",
       "      <td>it Serie A</td>\n",
       "      <td>29</td>\n",
       "      <td>1990</td>\n",
       "      <td>19-20</td>\n",
       "      <td>77.5</td>\n",
       "      <td>16.9</td>\n",
       "      <td>4.585799</td>\n",
       "    </tr>\n",
       "    <tr>\n",
       "      <th>327</th>\n",
       "      <td>David Ospina</td>\n",
       "      <td>it Serie A</td>\n",
       "      <td>30</td>\n",
       "      <td>1988</td>\n",
       "      <td>19-20</td>\n",
       "      <td>72.2</td>\n",
       "      <td>16.3</td>\n",
       "      <td>4.429448</td>\n",
       "    </tr>\n",
       "    <tr>\n",
       "      <th>346</th>\n",
       "      <td>Ionuț Radu</td>\n",
       "      <td>it Serie A</td>\n",
       "      <td>22</td>\n",
       "      <td>1997</td>\n",
       "      <td>19-20</td>\n",
       "      <td>70.4</td>\n",
       "      <td>17.0</td>\n",
       "      <td>4.141176</td>\n",
       "    </tr>\n",
       "    <tr>\n",
       "      <th>488</th>\n",
       "      <td>Marwin Hitz</td>\n",
       "      <td>de Bundesliga</td>\n",
       "      <td>32</td>\n",
       "      <td>1987</td>\n",
       "      <td>20-21</td>\n",
       "      <td>68.2</td>\n",
       "      <td>15.5</td>\n",
       "      <td>4.400000</td>\n",
       "    </tr>\n",
       "    <tr>\n",
       "      <th>541</th>\n",
       "      <td>David Ospina</td>\n",
       "      <td>it Serie A</td>\n",
       "      <td>31</td>\n",
       "      <td>1988</td>\n",
       "      <td>20-21</td>\n",
       "      <td>78.6</td>\n",
       "      <td>16.0</td>\n",
       "      <td>4.912500</td>\n",
       "    </tr>\n",
       "    <tr>\n",
       "      <th>650</th>\n",
       "      <td>Jasper Cillessen</td>\n",
       "      <td>es La Liga</td>\n",
       "      <td>32</td>\n",
       "      <td>1989</td>\n",
       "      <td>21-22</td>\n",
       "      <td>68.8</td>\n",
       "      <td>16.2</td>\n",
       "      <td>4.246914</td>\n",
       "    </tr>\n",
       "    <tr>\n",
       "      <th>665</th>\n",
       "      <td>Gianluigi Donnarumma</td>\n",
       "      <td>fr Ligue 1</td>\n",
       "      <td>22</td>\n",
       "      <td>1999</td>\n",
       "      <td>21-22</td>\n",
       "      <td>73.8</td>\n",
       "      <td>17.0</td>\n",
       "      <td>4.341176</td>\n",
       "    </tr>\n",
       "    <tr>\n",
       "      <th>802</th>\n",
       "      <td>Luigi Sepe</td>\n",
       "      <td>it Serie A</td>\n",
       "      <td>30</td>\n",
       "      <td>1991</td>\n",
       "      <td>21-22</td>\n",
       "      <td>73.1</td>\n",
       "      <td>15.5</td>\n",
       "      <td>4.716129</td>\n",
       "    </tr>\n",
       "  </tbody>\n",
       "</table>\n",
       "</div>"
      ],
      "text/plain": [
       "                   Player                Comp  Age  Born Season  Save%   90s  \\\n",
       "59        Aitor Fernández          es La Liga   27  1991  18-19   75.9  16.0   \n",
       "132          David Ospina          it Serie A   29  1988  18-19   69.4  16.2   \n",
       "241        Alessio Cragno          it Serie A   25  1994  19-20   77.5  16.0   \n",
       "267          Alfred Gomis          fr Ligue 1   25  1993  19-20   76.5  18.0   \n",
       "297           Hugo Lloris  eng Premier League   32  1986  19-20   80.8  20.1   \n",
       "326           Robin Olsen          it Serie A   29  1990  19-20   77.5  16.9   \n",
       "327          David Ospina          it Serie A   30  1988  19-20   72.2  16.3   \n",
       "346            Ionuț Radu          it Serie A   22  1997  19-20   70.4  17.0   \n",
       "488           Marwin Hitz       de Bundesliga   32  1987  20-21   68.2  15.5   \n",
       "541          David Ospina          it Serie A   31  1988  20-21   78.6  16.0   \n",
       "650      Jasper Cillessen          es La Liga   32  1989  21-22   68.8  16.2   \n",
       "665  Gianluigi Donnarumma          fr Ligue 1   22  1999  21-22   73.8  17.0   \n",
       "802            Luigi Sepe          it Serie A   30  1991  21-22   73.1  15.5   \n",
       "\n",
       "     Save%/90s  \n",
       "59    4.743750  \n",
       "132   4.283951  \n",
       "241   4.843750  \n",
       "267   4.250000  \n",
       "297   4.019900  \n",
       "326   4.585799  \n",
       "327   4.429448  \n",
       "346   4.141176  \n",
       "488   4.400000  \n",
       "541   4.912500  \n",
       "650   4.246914  \n",
       "665   4.341176  \n",
       "802   4.716129  "
      ]
     },
     "execution_count": 437,
     "metadata": {},
     "output_type": "execute_result"
    }
   ],
   "source": [
    "top_save = filtered_gk_no_23.loc[filtered_gk_no_23['Save%/90s'] >= save_per95, ['Player', 'Comp','Age', 'Born', 'Season', 'Save%', '90s', 'Save%/90s',]].sort_values(by='Season', )\n",
    "top_save"
   ]
  },
  {
   "cell_type": "markdown",
   "metadata": {},
   "source": [
    "Player whose Save%/90s is above 95th percentile with their age's between 27 and 31"
   ]
  },
  {
   "cell_type": "code",
   "execution_count": 438,
   "metadata": {},
   "outputs": [
    {
     "data": {
      "text/html": [
       "<div>\n",
       "<style scoped>\n",
       "    .dataframe tbody tr th:only-of-type {\n",
       "        vertical-align: middle;\n",
       "    }\n",
       "\n",
       "    .dataframe tbody tr th {\n",
       "        vertical-align: top;\n",
       "    }\n",
       "\n",
       "    .dataframe thead th {\n",
       "        text-align: right;\n",
       "    }\n",
       "</style>\n",
       "<table border=\"1\" class=\"dataframe\">\n",
       "  <thead>\n",
       "    <tr style=\"text-align: right;\">\n",
       "      <th></th>\n",
       "      <th>Player</th>\n",
       "      <th>Comp</th>\n",
       "      <th>Age</th>\n",
       "      <th>Born</th>\n",
       "      <th>Season</th>\n",
       "      <th>Save%</th>\n",
       "      <th>90s</th>\n",
       "      <th>Save%/90s</th>\n",
       "    </tr>\n",
       "  </thead>\n",
       "  <tbody>\n",
       "    <tr>\n",
       "      <th>59</th>\n",
       "      <td>Aitor Fernández</td>\n",
       "      <td>es La Liga</td>\n",
       "      <td>27</td>\n",
       "      <td>1991</td>\n",
       "      <td>18-19</td>\n",
       "      <td>75.9</td>\n",
       "      <td>16.0</td>\n",
       "      <td>4.743750</td>\n",
       "    </tr>\n",
       "    <tr>\n",
       "      <th>132</th>\n",
       "      <td>David Ospina</td>\n",
       "      <td>it Serie A</td>\n",
       "      <td>29</td>\n",
       "      <td>1988</td>\n",
       "      <td>18-19</td>\n",
       "      <td>69.4</td>\n",
       "      <td>16.2</td>\n",
       "      <td>4.283951</td>\n",
       "    </tr>\n",
       "    <tr>\n",
       "      <th>326</th>\n",
       "      <td>Robin Olsen</td>\n",
       "      <td>it Serie A</td>\n",
       "      <td>29</td>\n",
       "      <td>1990</td>\n",
       "      <td>19-20</td>\n",
       "      <td>77.5</td>\n",
       "      <td>16.9</td>\n",
       "      <td>4.585799</td>\n",
       "    </tr>\n",
       "    <tr>\n",
       "      <th>327</th>\n",
       "      <td>David Ospina</td>\n",
       "      <td>it Serie A</td>\n",
       "      <td>30</td>\n",
       "      <td>1988</td>\n",
       "      <td>19-20</td>\n",
       "      <td>72.2</td>\n",
       "      <td>16.3</td>\n",
       "      <td>4.429448</td>\n",
       "    </tr>\n",
       "    <tr>\n",
       "      <th>541</th>\n",
       "      <td>David Ospina</td>\n",
       "      <td>it Serie A</td>\n",
       "      <td>31</td>\n",
       "      <td>1988</td>\n",
       "      <td>20-21</td>\n",
       "      <td>78.6</td>\n",
       "      <td>16.0</td>\n",
       "      <td>4.912500</td>\n",
       "    </tr>\n",
       "    <tr>\n",
       "      <th>802</th>\n",
       "      <td>Luigi Sepe</td>\n",
       "      <td>it Serie A</td>\n",
       "      <td>30</td>\n",
       "      <td>1991</td>\n",
       "      <td>21-22</td>\n",
       "      <td>73.1</td>\n",
       "      <td>15.5</td>\n",
       "      <td>4.716129</td>\n",
       "    </tr>\n",
       "  </tbody>\n",
       "</table>\n",
       "</div>"
      ],
      "text/plain": [
       "              Player        Comp  Age  Born Season  Save%   90s  Save%/90s\n",
       "59   Aitor Fernández  es La Liga   27  1991  18-19   75.9  16.0   4.743750\n",
       "132     David Ospina  it Serie A   29  1988  18-19   69.4  16.2   4.283951\n",
       "326      Robin Olsen  it Serie A   29  1990  19-20   77.5  16.9   4.585799\n",
       "327     David Ospina  it Serie A   30  1988  19-20   72.2  16.3   4.429448\n",
       "541     David Ospina  it Serie A   31  1988  20-21   78.6  16.0   4.912500\n",
       "802       Luigi Sepe  it Serie A   30  1991  21-22   73.1  15.5   4.716129"
      ]
     },
     "execution_count": 438,
     "metadata": {},
     "output_type": "execute_result"
    }
   ],
   "source": [
    "top_save_27_31 = filtered_gk_no_23.loc[(filtered_gk_no_23['Save%/90s'] >= save_per95) & ((filtered_gk_no_23.Age >= 27) & (filtered_gk_no_23.Age <= 31)), ['Player', 'Comp','Age', 'Born', 'Season', 'Save%', '90s', 'Save%/90s',]].sort_values(by='Season', )\n",
    "top_save_27_31"
   ]
  },
  {
   "cell_type": "markdown",
   "metadata": {},
   "source": [
    "Then we will compare the amount of the top_save player with the amount of top_save_27_31 player"
   ]
  },
  {
   "cell_type": "code",
   "execution_count": 439,
   "metadata": {},
   "outputs": [
    {
     "data": {
      "text/plain": [
       "46.15"
      ]
     },
     "execution_count": 439,
     "metadata": {},
     "output_type": "execute_result"
    }
   ],
   "source": [
    "round((top_save_27_31.Player.size / top_save.Player.size) * 100, 2)"
   ]
  },
  {
   "cell_type": "markdown",
   "metadata": {},
   "source": [
    "As we can see, the player with the top stat of Save%/90s, their age's between 27 and 31 is around 46.15% of all"
   ]
  },
  {
   "cell_type": "markdown",
   "metadata": {},
   "source": [
    "### CS% : Cleansheet Percentage \n",
    "(Percentage of match that result in cleansheet)"
   ]
  },
  {
   "cell_type": "code",
   "execution_count": 440,
   "metadata": {},
   "outputs": [
    {
     "data": {
      "text/plain": [
       "<seaborn.axisgrid.FacetGrid at 0x2af044bc2b0>"
      ]
     },
     "execution_count": 440,
     "metadata": {},
     "output_type": "execute_result"
    },
    {
     "data": {
      "image/png": "[encoded data removed]",
      "text/plain": [
       "<Figure size 1200x400 with 4 Axes>"
      ]
     },
     "metadata": {},
     "output_type": "display_data"
    }
   ],
   "source": [
    "# CS% : Cleansheet Percentage (Percentage of match that result in cleansheet)\n",
    "sns.relplot(data=filtered_gk_no_23, x='Age', y='CS%',\n",
    "           col='Season',\n",
    "           col_order=['18-19', '19-20', '20-21', '21-22',],\n",
    "            height=4, aspect=0.75)"
   ]
  },
  {
   "cell_type": "markdown",
   "metadata": {},
   "source": [
    "Top player in term of CS% in each seasons"
   ]
  },
  {
   "cell_type": "code",
   "execution_count": 441,
   "metadata": {},
   "outputs": [
    {
     "data": {
      "text/html": [
       "<div>\n",
       "<style scoped>\n",
       "    .dataframe tbody tr th:only-of-type {\n",
       "        vertical-align: middle;\n",
       "    }\n",
       "\n",
       "    .dataframe tbody tr th {\n",
       "        vertical-align: top;\n",
       "    }\n",
       "\n",
       "    .dataframe thead th {\n",
       "        text-align: right;\n",
       "    }\n",
       "</style>\n",
       "<table border=\"1\" class=\"dataframe\">\n",
       "  <thead>\n",
       "    <tr style=\"text-align: right;\">\n",
       "      <th></th>\n",
       "      <th>Player</th>\n",
       "      <th>Comp</th>\n",
       "      <th>Age</th>\n",
       "      <th>Born</th>\n",
       "      <th>Season</th>\n",
       "      <th>CS</th>\n",
       "      <th>MP</th>\n",
       "      <th>CS%</th>\n",
       "    </tr>\n",
       "  </thead>\n",
       "  <tbody>\n",
       "    <tr>\n",
       "      <th>2</th>\n",
       "      <td>Alisson</td>\n",
       "      <td>eng Premier League</td>\n",
       "      <td>25</td>\n",
       "      <td>1992</td>\n",
       "      <td>18-19</td>\n",
       "      <td>21.0</td>\n",
       "      <td>38</td>\n",
       "      <td>55.3</td>\n",
       "    </tr>\n",
       "    <tr>\n",
       "      <th>240</th>\n",
       "      <td>Thibaut Courtois</td>\n",
       "      <td>es La Liga</td>\n",
       "      <td>27</td>\n",
       "      <td>1992</td>\n",
       "      <td>19-20</td>\n",
       "      <td>18.0</td>\n",
       "      <td>34</td>\n",
       "      <td>52.9</td>\n",
       "    </tr>\n",
       "    <tr>\n",
       "      <th>511</th>\n",
       "      <td>Mike Maignan</td>\n",
       "      <td>fr Ligue 1</td>\n",
       "      <td>25</td>\n",
       "      <td>1995</td>\n",
       "      <td>20-21</td>\n",
       "      <td>21.0</td>\n",
       "      <td>38</td>\n",
       "      <td>55.3</td>\n",
       "    </tr>\n",
       "    <tr>\n",
       "      <th>617</th>\n",
       "      <td>Alisson</td>\n",
       "      <td>eng Premier League</td>\n",
       "      <td>28</td>\n",
       "      <td>1992</td>\n",
       "      <td>21-22</td>\n",
       "      <td>20.0</td>\n",
       "      <td>36</td>\n",
       "      <td>55.6</td>\n",
       "    </tr>\n",
       "  </tbody>\n",
       "</table>\n",
       "</div>"
      ],
      "text/plain": [
       "               Player                Comp  Age  Born Season    CS  MP   CS%\n",
       "2             Alisson  eng Premier League   25  1992  18-19  21.0  38  55.3\n",
       "240  Thibaut Courtois          es La Liga   27  1992  19-20  18.0  34  52.9\n",
       "511      Mike Maignan          fr Ligue 1   25  1995  20-21  21.0  38  55.3\n",
       "617           Alisson  eng Premier League   28  1992  21-22  20.0  36  55.6"
      ]
     },
     "execution_count": 441,
     "metadata": {},
     "output_type": "execute_result"
    }
   ],
   "source": [
    "filtered_gk_no_23.loc[filtered_gk_no_23.groupby('Season')['CS%'].idxmax(), ['Player', 'Comp','Age', 'Born', 'Season', 'CS', 'MP', 'CS%',]].sort_values(by='Season', )"
   ]
  },
  {
   "cell_type": "code",
   "execution_count": 442,
   "metadata": {},
   "outputs": [
    {
     "data": {
      "text/plain": [
       "49.235"
      ]
     },
     "execution_count": 442,
     "metadata": {},
     "output_type": "execute_result"
    }
   ],
   "source": [
    "cs_per95 = round(filtered_gk_no_23['CS%'].quantile(0.95), 4)\n",
    "cs_per95"
   ]
  },
  {
   "cell_type": "markdown",
   "metadata": {},
   "source": [
    "Player whose CS% is above the 95th percentile"
   ]
  },
  {
   "cell_type": "code",
   "execution_count": 443,
   "metadata": {},
   "outputs": [
    {
     "data": {
      "text/html": [
       "<div>\n",
       "<style scoped>\n",
       "    .dataframe tbody tr th:only-of-type {\n",
       "        vertical-align: middle;\n",
       "    }\n",
       "\n",
       "    .dataframe tbody tr th {\n",
       "        vertical-align: top;\n",
       "    }\n",
       "\n",
       "    .dataframe thead th {\n",
       "        text-align: right;\n",
       "    }\n",
       "</style>\n",
       "<table border=\"1\" class=\"dataframe\">\n",
       "  <thead>\n",
       "    <tr style=\"text-align: right;\">\n",
       "      <th></th>\n",
       "      <th>Player</th>\n",
       "      <th>Comp</th>\n",
       "      <th>Age</th>\n",
       "      <th>Born</th>\n",
       "      <th>Season</th>\n",
       "      <th>CS</th>\n",
       "      <th>MP</th>\n",
       "      <th>CS%</th>\n",
       "    </tr>\n",
       "  </thead>\n",
       "  <tbody>\n",
       "    <tr>\n",
       "      <th>2</th>\n",
       "      <td>Alisson</td>\n",
       "      <td>eng Premier League</td>\n",
       "      <td>25</td>\n",
       "      <td>1992</td>\n",
       "      <td>18-19</td>\n",
       "      <td>21.0</td>\n",
       "      <td>38</td>\n",
       "      <td>55.3</td>\n",
       "    </tr>\n",
       "    <tr>\n",
       "      <th>6</th>\n",
       "      <td>Alphonse Areola</td>\n",
       "      <td>fr Ligue 1</td>\n",
       "      <td>25</td>\n",
       "      <td>1993</td>\n",
       "      <td>18-19</td>\n",
       "      <td>11.0</td>\n",
       "      <td>21</td>\n",
       "      <td>52.4</td>\n",
       "    </tr>\n",
       "    <tr>\n",
       "      <th>53</th>\n",
       "      <td>Ederson</td>\n",
       "      <td>eng Premier League</td>\n",
       "      <td>24</td>\n",
       "      <td>1993</td>\n",
       "      <td>18-19</td>\n",
       "      <td>20.0</td>\n",
       "      <td>38</td>\n",
       "      <td>52.6</td>\n",
       "    </tr>\n",
       "    <tr>\n",
       "      <th>128</th>\n",
       "      <td>Jan Oblak</td>\n",
       "      <td>es La Liga</td>\n",
       "      <td>25</td>\n",
       "      <td>1993</td>\n",
       "      <td>18-19</td>\n",
       "      <td>20.0</td>\n",
       "      <td>37</td>\n",
       "      <td>54.1</td>\n",
       "    </tr>\n",
       "    <tr>\n",
       "      <th>240</th>\n",
       "      <td>Thibaut Courtois</td>\n",
       "      <td>es La Liga</td>\n",
       "      <td>27</td>\n",
       "      <td>1992</td>\n",
       "      <td>19-20</td>\n",
       "      <td>18.0</td>\n",
       "      <td>34</td>\n",
       "      <td>52.9</td>\n",
       "    </tr>\n",
       "    <tr>\n",
       "      <th>318</th>\n",
       "      <td>Keylor Navas</td>\n",
       "      <td>fr Ligue 1</td>\n",
       "      <td>32</td>\n",
       "      <td>1986</td>\n",
       "      <td>19-20</td>\n",
       "      <td>11.0</td>\n",
       "      <td>21</td>\n",
       "      <td>52.4</td>\n",
       "    </tr>\n",
       "    <tr>\n",
       "      <th>460</th>\n",
       "      <td>Ederson</td>\n",
       "      <td>eng Premier League</td>\n",
       "      <td>26</td>\n",
       "      <td>1993</td>\n",
       "      <td>20-21</td>\n",
       "      <td>19.0</td>\n",
       "      <td>36</td>\n",
       "      <td>52.8</td>\n",
       "    </tr>\n",
       "    <tr>\n",
       "      <th>511</th>\n",
       "      <td>Mike Maignan</td>\n",
       "      <td>fr Ligue 1</td>\n",
       "      <td>25</td>\n",
       "      <td>1995</td>\n",
       "      <td>20-21</td>\n",
       "      <td>21.0</td>\n",
       "      <td>38</td>\n",
       "      <td>55.3</td>\n",
       "    </tr>\n",
       "    <tr>\n",
       "      <th>521</th>\n",
       "      <td>Edouard Mendy</td>\n",
       "      <td>eng Premier League</td>\n",
       "      <td>28</td>\n",
       "      <td>1992</td>\n",
       "      <td>20-21</td>\n",
       "      <td>16.0</td>\n",
       "      <td>31</td>\n",
       "      <td>51.6</td>\n",
       "    </tr>\n",
       "    <tr>\n",
       "      <th>541</th>\n",
       "      <td>David Ospina</td>\n",
       "      <td>it Serie A</td>\n",
       "      <td>31</td>\n",
       "      <td>1988</td>\n",
       "      <td>20-21</td>\n",
       "      <td>8.0</td>\n",
       "      <td>16</td>\n",
       "      <td>50.0</td>\n",
       "    </tr>\n",
       "    <tr>\n",
       "      <th>617</th>\n",
       "      <td>Alisson</td>\n",
       "      <td>eng Premier League</td>\n",
       "      <td>28</td>\n",
       "      <td>1992</td>\n",
       "      <td>21-22</td>\n",
       "      <td>20.0</td>\n",
       "      <td>36</td>\n",
       "      <td>55.6</td>\n",
       "    </tr>\n",
       "    <tr>\n",
       "      <th>669</th>\n",
       "      <td>Ederson</td>\n",
       "      <td>eng Premier League</td>\n",
       "      <td>27</td>\n",
       "      <td>1993</td>\n",
       "      <td>21-22</td>\n",
       "      <td>20.0</td>\n",
       "      <td>37</td>\n",
       "      <td>54.1</td>\n",
       "    </tr>\n",
       "    <tr>\n",
       "      <th>726</th>\n",
       "      <td>Mike Maignan</td>\n",
       "      <td>it Serie A</td>\n",
       "      <td>26</td>\n",
       "      <td>1995</td>\n",
       "      <td>21-22</td>\n",
       "      <td>17.0</td>\n",
       "      <td>32</td>\n",
       "      <td>53.1</td>\n",
       "    </tr>\n",
       "  </tbody>\n",
       "</table>\n",
       "</div>"
      ],
      "text/plain": [
       "               Player                Comp  Age  Born Season    CS  MP   CS%\n",
       "2             Alisson  eng Premier League   25  1992  18-19  21.0  38  55.3\n",
       "6     Alphonse Areola          fr Ligue 1   25  1993  18-19  11.0  21  52.4\n",
       "53            Ederson  eng Premier League   24  1993  18-19  20.0  38  52.6\n",
       "128         Jan Oblak          es La Liga   25  1993  18-19  20.0  37  54.1\n",
       "240  Thibaut Courtois          es La Liga   27  1992  19-20  18.0  34  52.9\n",
       "318      Keylor Navas          fr Ligue 1   32  1986  19-20  11.0  21  52.4\n",
       "460           Ederson  eng Premier League   26  1993  20-21  19.0  36  52.8\n",
       "511      Mike Maignan          fr Ligue 1   25  1995  20-21  21.0  38  55.3\n",
       "521     Edouard Mendy  eng Premier League   28  1992  20-21  16.0  31  51.6\n",
       "541      David Ospina          it Serie A   31  1988  20-21   8.0  16  50.0\n",
       "617           Alisson  eng Premier League   28  1992  21-22  20.0  36  55.6\n",
       "669           Ederson  eng Premier League   27  1993  21-22  20.0  37  54.1\n",
       "726      Mike Maignan          it Serie A   26  1995  21-22  17.0  32  53.1"
      ]
     },
     "execution_count": 443,
     "metadata": {},
     "output_type": "execute_result"
    }
   ],
   "source": [
    "top_cs = filtered_gk_no_23.loc[filtered_gk_no_23['CS%'] >= cs_per95, ['Player', 'Comp','Age', 'Born', 'Season', 'CS', 'MP', 'CS%',]].sort_values(by='Season', )\n",
    "top_cs"
   ]
  },
  {
   "cell_type": "markdown",
   "metadata": {},
   "source": [
    "Player whose CS% is above the 95th percentile with their age's between 27 and 31"
   ]
  },
  {
   "cell_type": "code",
   "execution_count": 444,
   "metadata": {},
   "outputs": [
    {
     "data": {
      "text/html": [
       "<div>\n",
       "<style scoped>\n",
       "    .dataframe tbody tr th:only-of-type {\n",
       "        vertical-align: middle;\n",
       "    }\n",
       "\n",
       "    .dataframe tbody tr th {\n",
       "        vertical-align: top;\n",
       "    }\n",
       "\n",
       "    .dataframe thead th {\n",
       "        text-align: right;\n",
       "    }\n",
       "</style>\n",
       "<table border=\"1\" class=\"dataframe\">\n",
       "  <thead>\n",
       "    <tr style=\"text-align: right;\">\n",
       "      <th></th>\n",
       "      <th>Player</th>\n",
       "      <th>Comp</th>\n",
       "      <th>Age</th>\n",
       "      <th>Born</th>\n",
       "      <th>Season</th>\n",
       "      <th>CS</th>\n",
       "      <th>MP</th>\n",
       "      <th>CS%</th>\n",
       "    </tr>\n",
       "  </thead>\n",
       "  <tbody>\n",
       "    <tr>\n",
       "      <th>240</th>\n",
       "      <td>Thibaut Courtois</td>\n",
       "      <td>es La Liga</td>\n",
       "      <td>27</td>\n",
       "      <td>1992</td>\n",
       "      <td>19-20</td>\n",
       "      <td>18.0</td>\n",
       "      <td>34</td>\n",
       "      <td>52.9</td>\n",
       "    </tr>\n",
       "    <tr>\n",
       "      <th>521</th>\n",
       "      <td>Edouard Mendy</td>\n",
       "      <td>eng Premier League</td>\n",
       "      <td>28</td>\n",
       "      <td>1992</td>\n",
       "      <td>20-21</td>\n",
       "      <td>16.0</td>\n",
       "      <td>31</td>\n",
       "      <td>51.6</td>\n",
       "    </tr>\n",
       "    <tr>\n",
       "      <th>541</th>\n",
       "      <td>David Ospina</td>\n",
       "      <td>it Serie A</td>\n",
       "      <td>31</td>\n",
       "      <td>1988</td>\n",
       "      <td>20-21</td>\n",
       "      <td>8.0</td>\n",
       "      <td>16</td>\n",
       "      <td>50.0</td>\n",
       "    </tr>\n",
       "    <tr>\n",
       "      <th>617</th>\n",
       "      <td>Alisson</td>\n",
       "      <td>eng Premier League</td>\n",
       "      <td>28</td>\n",
       "      <td>1992</td>\n",
       "      <td>21-22</td>\n",
       "      <td>20.0</td>\n",
       "      <td>36</td>\n",
       "      <td>55.6</td>\n",
       "    </tr>\n",
       "    <tr>\n",
       "      <th>669</th>\n",
       "      <td>Ederson</td>\n",
       "      <td>eng Premier League</td>\n",
       "      <td>27</td>\n",
       "      <td>1993</td>\n",
       "      <td>21-22</td>\n",
       "      <td>20.0</td>\n",
       "      <td>37</td>\n",
       "      <td>54.1</td>\n",
       "    </tr>\n",
       "  </tbody>\n",
       "</table>\n",
       "</div>"
      ],
      "text/plain": [
       "               Player                Comp  Age  Born Season    CS  MP   CS%\n",
       "240  Thibaut Courtois          es La Liga   27  1992  19-20  18.0  34  52.9\n",
       "521     Edouard Mendy  eng Premier League   28  1992  20-21  16.0  31  51.6\n",
       "541      David Ospina          it Serie A   31  1988  20-21   8.0  16  50.0\n",
       "617           Alisson  eng Premier League   28  1992  21-22  20.0  36  55.6\n",
       "669           Ederson  eng Premier League   27  1993  21-22  20.0  37  54.1"
      ]
     },
     "execution_count": 444,
     "metadata": {},
     "output_type": "execute_result"
    }
   ],
   "source": [
    "top_cs_27_31 = filtered_gk_no_23.loc[(filtered_gk_no_23['CS%'] >= cs_per95) & ((filtered_gk_no_23.Age >= 27) & (filtered_gk_no_23.Age <= 31)), ['Player', 'Comp','Age', 'Born', 'Season', 'CS', 'MP', 'CS%',]].sort_values(by='Season', )\n",
    "top_cs_27_31"
   ]
  },
  {
   "cell_type": "code",
   "execution_count": 445,
   "metadata": {},
   "outputs": [
    {
     "data": {
      "text/plain": [
       "38.46"
      ]
     },
     "execution_count": 445,
     "metadata": {},
     "output_type": "execute_result"
    }
   ],
   "source": [
    "round((top_cs_27_31.Player.size / top_cs.Player.size) * 100, 2)"
   ]
  },
  {
   "cell_type": "markdown",
   "metadata": {},
   "source": [
    "Same goes for the percentage of cleansheet, the player with the top stat of CS%, their age's between 27 and 31 is around 38.46% of all"
   ]
  },
  {
   "cell_type": "markdown",
   "metadata": {},
   "source": [
    "### PSave% : Penalty Kicks Save Percentage\n",
    "(Penalty goal against (PKA) / penalty kick attempts (PKatt))\n"
   ]
  },
  {
   "cell_type": "code",
   "execution_count": 446,
   "metadata": {},
   "outputs": [
    {
     "data": {
      "text/plain": [
       "<seaborn.axisgrid.FacetGrid at 0x2af0a959f70>"
      ]
     },
     "execution_count": 446,
     "metadata": {},
     "output_type": "execute_result"
    },
    {
     "data": {
      "image/png": "[encoded data removed]",
      "text/plain": [
       "<Figure size 1200x400 with 4 Axes>"
      ]
     },
     "metadata": {},
     "output_type": "display_data"
    }
   ],
   "source": [
    "# PSave% : Penalty Kicks Save Percentage\n",
    "pSave = filtered_gk_no_23.loc[filtered_gk_no_23['PKatt'] >= 5] # we will use the data of the goalkeeper who have attempted the penalty kick more than 4 times\n",
    "sns.relplot(data=pSave, x='Age', y='PSave%',\n",
    "           col='Season',\n",
    "           col_order=['18-19', '19-20', '20-21', '21-22',],\n",
    "            height=4, aspect=0.75)"
   ]
  },
  {
   "cell_type": "markdown",
   "metadata": {},
   "source": [
    "Top player in term of PSave% in each seasons"
   ]
  },
  {
   "cell_type": "markdown",
   "metadata": {},
   "source": [
    "Definition\n",
    "- PKatt : \"Penalty kicks attempted\"\n",
    "- PKA : \"Penalty kicks allowed\"\n",
    "- PKsv : \"Penalty kicks saved\"\n",
    "- PKm : \"Penalty kicks missed\"\n",
    "- PSave% : \"Penalty save percentage\" (penalty shot that missed not included)"
   ]
  },
  {
   "cell_type": "code",
   "execution_count": 447,
   "metadata": {},
   "outputs": [
    {
     "data": {
      "text/html": [
       "<div>\n",
       "<style scoped>\n",
       "    .dataframe tbody tr th:only-of-type {\n",
       "        vertical-align: middle;\n",
       "    }\n",
       "\n",
       "    .dataframe tbody tr th {\n",
       "        vertical-align: top;\n",
       "    }\n",
       "\n",
       "    .dataframe thead th {\n",
       "        text-align: right;\n",
       "    }\n",
       "</style>\n",
       "<table border=\"1\" class=\"dataframe\">\n",
       "  <thead>\n",
       "    <tr style=\"text-align: right;\">\n",
       "      <th></th>\n",
       "      <th>Player</th>\n",
       "      <th>Comp</th>\n",
       "      <th>Age</th>\n",
       "      <th>Born</th>\n",
       "      <th>Season</th>\n",
       "      <th>MP</th>\n",
       "      <th>PKatt</th>\n",
       "      <th>PKA</th>\n",
       "      <th>PKsv</th>\n",
       "      <th>PKm</th>\n",
       "      <th>PSave%</th>\n",
       "    </tr>\n",
       "  </thead>\n",
       "  <tbody>\n",
       "    <tr>\n",
       "      <th>14</th>\n",
       "      <td>Walter Benítez</td>\n",
       "      <td>fr Ligue 1</td>\n",
       "      <td>25</td>\n",
       "      <td>1993</td>\n",
       "      <td>18-19</td>\n",
       "      <td>35</td>\n",
       "      <td>5.0</td>\n",
       "      <td>2.0</td>\n",
       "      <td>3.0</td>\n",
       "      <td>0.0</td>\n",
       "      <td>60.0</td>\n",
       "    </tr>\n",
       "    <tr>\n",
       "      <th>247</th>\n",
       "      <td>Gianluigi Donnarumma</td>\n",
       "      <td>it Serie A</td>\n",
       "      <td>20</td>\n",
       "      <td>1999</td>\n",
       "      <td>19-20</td>\n",
       "      <td>36</td>\n",
       "      <td>8.0</td>\n",
       "      <td>4.0</td>\n",
       "      <td>4.0</td>\n",
       "      <td>0.0</td>\n",
       "      <td>50.0</td>\n",
       "    </tr>\n",
       "    <tr>\n",
       "      <th>439</th>\n",
       "      <td>Koen Casteels</td>\n",
       "      <td>de Bundesliga</td>\n",
       "      <td>28</td>\n",
       "      <td>1992</td>\n",
       "      <td>20-21</td>\n",
       "      <td>32</td>\n",
       "      <td>5.0</td>\n",
       "      <td>3.0</td>\n",
       "      <td>2.0</td>\n",
       "      <td>0.0</td>\n",
       "      <td>40.0</td>\n",
       "    </tr>\n",
       "    <tr>\n",
       "      <th>672</th>\n",
       "      <td>Łukasz Fabiański</td>\n",
       "      <td>eng Premier League</td>\n",
       "      <td>36</td>\n",
       "      <td>1985</td>\n",
       "      <td>21-22</td>\n",
       "      <td>37</td>\n",
       "      <td>6.0</td>\n",
       "      <td>2.0</td>\n",
       "      <td>3.0</td>\n",
       "      <td>1.0</td>\n",
       "      <td>60.0</td>\n",
       "    </tr>\n",
       "  </tbody>\n",
       "</table>\n",
       "</div>"
      ],
      "text/plain": [
       "                   Player                Comp  Age  Born Season  MP  PKatt  \\\n",
       "14         Walter Benítez          fr Ligue 1   25  1993  18-19  35    5.0   \n",
       "247  Gianluigi Donnarumma          it Serie A   20  1999  19-20  36    8.0   \n",
       "439         Koen Casteels       de Bundesliga   28  1992  20-21  32    5.0   \n",
       "672      Łukasz Fabiański  eng Premier League   36  1985  21-22  37    6.0   \n",
       "\n",
       "     PKA  PKsv  PKm  PSave%  \n",
       "14   2.0   3.0  0.0    60.0  \n",
       "247  4.0   4.0  0.0    50.0  \n",
       "439  3.0   2.0  0.0    40.0  \n",
       "672  2.0   3.0  1.0    60.0  "
      ]
     },
     "execution_count": 447,
     "metadata": {},
     "output_type": "execute_result"
    }
   ],
   "source": [
    "pSave.loc[pSave.groupby('Season')['PSave%'].idxmax(), ['Player', 'Comp','Age', 'Born', 'Season', 'MP', 'PKatt', 'PKA', 'PKsv', 'PKm', 'PSave%',]].sort_values(by='Season', )"
   ]
  },
  {
   "cell_type": "code",
   "execution_count": 448,
   "metadata": {},
   "outputs": [
    {
     "data": {
      "text/plain": [
       "50.0"
      ]
     },
     "execution_count": 448,
     "metadata": {},
     "output_type": "execute_result"
    }
   ],
   "source": [
    "pSave_per95 = round(filtered_gk_no_23['PSave%'].quantile(0.95), 4)\n",
    "pSave_per95"
   ]
  },
  {
   "cell_type": "markdown",
   "metadata": {},
   "source": [
    "Player whose PSave% is above the 95th percentile"
   ]
  },
  {
   "cell_type": "code",
   "execution_count": 449,
   "metadata": {},
   "outputs": [
    {
     "data": {
      "text/html": [
       "<div>\n",
       "<style scoped>\n",
       "    .dataframe tbody tr th:only-of-type {\n",
       "        vertical-align: middle;\n",
       "    }\n",
       "\n",
       "    .dataframe tbody tr th {\n",
       "        vertical-align: top;\n",
       "    }\n",
       "\n",
       "    .dataframe thead th {\n",
       "        text-align: right;\n",
       "    }\n",
       "</style>\n",
       "<table border=\"1\" class=\"dataframe\">\n",
       "  <thead>\n",
       "    <tr style=\"text-align: right;\">\n",
       "      <th></th>\n",
       "      <th>Player</th>\n",
       "      <th>Comp</th>\n",
       "      <th>Age</th>\n",
       "      <th>Born</th>\n",
       "      <th>Season</th>\n",
       "      <th>MP</th>\n",
       "      <th>PKatt</th>\n",
       "      <th>PKA</th>\n",
       "      <th>PKsv</th>\n",
       "      <th>PKm</th>\n",
       "      <th>PSave%</th>\n",
       "    </tr>\n",
       "  </thead>\n",
       "  <tbody>\n",
       "    <tr>\n",
       "      <th>7</th>\n",
       "      <td>Kepa Arrizabalaga</td>\n",
       "      <td>eng Premier League</td>\n",
       "      <td>23</td>\n",
       "      <td>1994</td>\n",
       "      <td>18-19</td>\n",
       "      <td>36</td>\n",
       "      <td>2.0</td>\n",
       "      <td>1.0</td>\n",
       "      <td>1.0</td>\n",
       "      <td>0.0</td>\n",
       "      <td>50.0</td>\n",
       "    </tr>\n",
       "    <tr>\n",
       "      <th>14</th>\n",
       "      <td>Walter Benítez</td>\n",
       "      <td>fr Ligue 1</td>\n",
       "      <td>25</td>\n",
       "      <td>1993</td>\n",
       "      <td>18-19</td>\n",
       "      <td>35</td>\n",
       "      <td>5.0</td>\n",
       "      <td>2.0</td>\n",
       "      <td>3.0</td>\n",
       "      <td>0.0</td>\n",
       "      <td>60.0</td>\n",
       "    </tr>\n",
       "    <tr>\n",
       "      <th>141</th>\n",
       "      <td>Jordan Pickford</td>\n",
       "      <td>eng Premier League</td>\n",
       "      <td>24</td>\n",
       "      <td>1994</td>\n",
       "      <td>18-19</td>\n",
       "      <td>38</td>\n",
       "      <td>5.0</td>\n",
       "      <td>2.0</td>\n",
       "      <td>3.0</td>\n",
       "      <td>0.0</td>\n",
       "      <td>60.0</td>\n",
       "    </tr>\n",
       "    <tr>\n",
       "      <th>172</th>\n",
       "      <td>Salvatore Sirigu</td>\n",
       "      <td>it Serie A</td>\n",
       "      <td>31</td>\n",
       "      <td>1987</td>\n",
       "      <td>18-19</td>\n",
       "      <td>36</td>\n",
       "      <td>4.0</td>\n",
       "      <td>2.0</td>\n",
       "      <td>2.0</td>\n",
       "      <td>0.0</td>\n",
       "      <td>50.0</td>\n",
       "    </tr>\n",
       "    <tr>\n",
       "      <th>184</th>\n",
       "      <td>Wojciech Szczęsny</td>\n",
       "      <td>it Serie A</td>\n",
       "      <td>28</td>\n",
       "      <td>1990</td>\n",
       "      <td>18-19</td>\n",
       "      <td>28</td>\n",
       "      <td>3.0</td>\n",
       "      <td>1.0</td>\n",
       "      <td>1.0</td>\n",
       "      <td>1.0</td>\n",
       "      <td>50.0</td>\n",
       "    </tr>\n",
       "    <tr>\n",
       "      <th>185</th>\n",
       "      <td>Ciprian Tătărușanu</td>\n",
       "      <td>fr Ligue 1</td>\n",
       "      <td>32</td>\n",
       "      <td>1986</td>\n",
       "      <td>18-19</td>\n",
       "      <td>27</td>\n",
       "      <td>4.0</td>\n",
       "      <td>1.0</td>\n",
       "      <td>3.0</td>\n",
       "      <td>0.0</td>\n",
       "      <td>75.0</td>\n",
       "    </tr>\n",
       "    <tr>\n",
       "      <th>405</th>\n",
       "      <td>Robin Zentner</td>\n",
       "      <td>de Bundesliga</td>\n",
       "      <td>24</td>\n",
       "      <td>1994</td>\n",
       "      <td>19-20</td>\n",
       "      <td>22</td>\n",
       "      <td>2.0</td>\n",
       "      <td>1.0</td>\n",
       "      <td>1.0</td>\n",
       "      <td>0.0</td>\n",
       "      <td>50.0</td>\n",
       "    </tr>\n",
       "    <tr>\n",
       "      <th>332</th>\n",
       "      <td>Rui Patrício</td>\n",
       "      <td>eng Premier League</td>\n",
       "      <td>31</td>\n",
       "      <td>1988</td>\n",
       "      <td>19-20</td>\n",
       "      <td>38</td>\n",
       "      <td>3.0</td>\n",
       "      <td>1.0</td>\n",
       "      <td>2.0</td>\n",
       "      <td>0.0</td>\n",
       "      <td>66.7</td>\n",
       "    </tr>\n",
       "    <tr>\n",
       "      <th>381</th>\n",
       "      <td>Yann Sommer</td>\n",
       "      <td>de Bundesliga</td>\n",
       "      <td>30</td>\n",
       "      <td>1988</td>\n",
       "      <td>19-20</td>\n",
       "      <td>34</td>\n",
       "      <td>2.0</td>\n",
       "      <td>1.0</td>\n",
       "      <td>1.0</td>\n",
       "      <td>0.0</td>\n",
       "      <td>50.0</td>\n",
       "    </tr>\n",
       "    <tr>\n",
       "      <th>247</th>\n",
       "      <td>Gianluigi Donnarumma</td>\n",
       "      <td>it Serie A</td>\n",
       "      <td>20</td>\n",
       "      <td>1999</td>\n",
       "      <td>19-20</td>\n",
       "      <td>36</td>\n",
       "      <td>8.0</td>\n",
       "      <td>4.0</td>\n",
       "      <td>4.0</td>\n",
       "      <td>0.0</td>\n",
       "      <td>50.0</td>\n",
       "    </tr>\n",
       "    <tr>\n",
       "      <th>241</th>\n",
       "      <td>Alessio Cragno</td>\n",
       "      <td>it Serie A</td>\n",
       "      <td>25</td>\n",
       "      <td>1994</td>\n",
       "      <td>19-20</td>\n",
       "      <td>16</td>\n",
       "      <td>2.0</td>\n",
       "      <td>1.0</td>\n",
       "      <td>1.0</td>\n",
       "      <td>0.0</td>\n",
       "      <td>50.0</td>\n",
       "    </tr>\n",
       "    <tr>\n",
       "      <th>308</th>\n",
       "      <td>Alex McCarthy</td>\n",
       "      <td>eng Premier League</td>\n",
       "      <td>29</td>\n",
       "      <td>1989</td>\n",
       "      <td>19-20</td>\n",
       "      <td>28</td>\n",
       "      <td>2.0</td>\n",
       "      <td>1.0</td>\n",
       "      <td>1.0</td>\n",
       "      <td>0.0</td>\n",
       "      <td>50.0</td>\n",
       "    </tr>\n",
       "    <tr>\n",
       "      <th>490</th>\n",
       "      <td>Lukáš Hrádecký</td>\n",
       "      <td>de Bundesliga</td>\n",
       "      <td>30</td>\n",
       "      <td>1989</td>\n",
       "      <td>20-21</td>\n",
       "      <td>29</td>\n",
       "      <td>2.0</td>\n",
       "      <td>1.0</td>\n",
       "      <td>1.0</td>\n",
       "      <td>0.0</td>\n",
       "      <td>50.0</td>\n",
       "    </tr>\n",
       "    <tr>\n",
       "      <th>504</th>\n",
       "      <td>Bernd Leno</td>\n",
       "      <td>eng Premier League</td>\n",
       "      <td>28</td>\n",
       "      <td>1992</td>\n",
       "      <td>20-21</td>\n",
       "      <td>35</td>\n",
       "      <td>2.0</td>\n",
       "      <td>1.0</td>\n",
       "      <td>1.0</td>\n",
       "      <td>0.0</td>\n",
       "      <td>50.0</td>\n",
       "    </tr>\n",
       "    <tr>\n",
       "      <th>511</th>\n",
       "      <td>Mike Maignan</td>\n",
       "      <td>fr Ligue 1</td>\n",
       "      <td>25</td>\n",
       "      <td>1995</td>\n",
       "      <td>20-21</td>\n",
       "      <td>38</td>\n",
       "      <td>2.0</td>\n",
       "      <td>1.0</td>\n",
       "      <td>1.0</td>\n",
       "      <td>0.0</td>\n",
       "      <td>50.0</td>\n",
       "    </tr>\n",
       "    <tr>\n",
       "      <th>532</th>\n",
       "      <td>Keylor Navas</td>\n",
       "      <td>fr Ligue 1</td>\n",
       "      <td>33</td>\n",
       "      <td>1986</td>\n",
       "      <td>20-21</td>\n",
       "      <td>29</td>\n",
       "      <td>2.0</td>\n",
       "      <td>1.0</td>\n",
       "      <td>1.0</td>\n",
       "      <td>0.0</td>\n",
       "      <td>50.0</td>\n",
       "    </tr>\n",
       "    <tr>\n",
       "      <th>534</th>\n",
       "      <td>Manuel Neuer</td>\n",
       "      <td>de Bundesliga</td>\n",
       "      <td>34</td>\n",
       "      <td>1986</td>\n",
       "      <td>20-21</td>\n",
       "      <td>33</td>\n",
       "      <td>3.0</td>\n",
       "      <td>1.0</td>\n",
       "      <td>1.0</td>\n",
       "      <td>1.0</td>\n",
       "      <td>50.0</td>\n",
       "    </tr>\n",
       "    <tr>\n",
       "      <th>537</th>\n",
       "      <td>Jan Oblak</td>\n",
       "      <td>es La Liga</td>\n",
       "      <td>27</td>\n",
       "      <td>1993</td>\n",
       "      <td>20-21</td>\n",
       "      <td>38</td>\n",
       "      <td>4.0</td>\n",
       "      <td>1.0</td>\n",
       "      <td>2.0</td>\n",
       "      <td>1.0</td>\n",
       "      <td>66.7</td>\n",
       "    </tr>\n",
       "    <tr>\n",
       "      <th>672</th>\n",
       "      <td>Łukasz Fabiański</td>\n",
       "      <td>eng Premier League</td>\n",
       "      <td>36</td>\n",
       "      <td>1985</td>\n",
       "      <td>21-22</td>\n",
       "      <td>37</td>\n",
       "      <td>6.0</td>\n",
       "      <td>2.0</td>\n",
       "      <td>3.0</td>\n",
       "      <td>1.0</td>\n",
       "      <td>60.0</td>\n",
       "    </tr>\n",
       "    <tr>\n",
       "      <th>621</th>\n",
       "      <td>Emil Audero</td>\n",
       "      <td>it Serie A</td>\n",
       "      <td>24</td>\n",
       "      <td>1997</td>\n",
       "      <td>21-22</td>\n",
       "      <td>29</td>\n",
       "      <td>2.0</td>\n",
       "      <td>1.0</td>\n",
       "      <td>1.0</td>\n",
       "      <td>0.0</td>\n",
       "      <td>50.0</td>\n",
       "    </tr>\n",
       "    <tr>\n",
       "      <th>817</th>\n",
       "      <td>Wojciech Szczęsny</td>\n",
       "      <td>it Serie A</td>\n",
       "      <td>31</td>\n",
       "      <td>1990</td>\n",
       "      <td>21-22</td>\n",
       "      <td>33</td>\n",
       "      <td>6.0</td>\n",
       "      <td>3.0</td>\n",
       "      <td>3.0</td>\n",
       "      <td>0.0</td>\n",
       "      <td>50.0</td>\n",
       "    </tr>\n",
       "  </tbody>\n",
       "</table>\n",
       "</div>"
      ],
      "text/plain": [
       "                   Player                Comp  Age  Born Season  MP  PKatt  \\\n",
       "7       Kepa Arrizabalaga  eng Premier League   23  1994  18-19  36    2.0   \n",
       "14         Walter Benítez          fr Ligue 1   25  1993  18-19  35    5.0   \n",
       "141       Jordan Pickford  eng Premier League   24  1994  18-19  38    5.0   \n",
       "172      Salvatore Sirigu          it Serie A   31  1987  18-19  36    4.0   \n",
       "184     Wojciech Szczęsny          it Serie A   28  1990  18-19  28    3.0   \n",
       "185    Ciprian Tătărușanu          fr Ligue 1   32  1986  18-19  27    4.0   \n",
       "405         Robin Zentner       de Bundesliga   24  1994  19-20  22    2.0   \n",
       "332          Rui Patrício  eng Premier League   31  1988  19-20  38    3.0   \n",
       "381           Yann Sommer       de Bundesliga   30  1988  19-20  34    2.0   \n",
       "247  Gianluigi Donnarumma          it Serie A   20  1999  19-20  36    8.0   \n",
       "241        Alessio Cragno          it Serie A   25  1994  19-20  16    2.0   \n",
       "308         Alex McCarthy  eng Premier League   29  1989  19-20  28    2.0   \n",
       "490        Lukáš Hrádecký       de Bundesliga   30  1989  20-21  29    2.0   \n",
       "504            Bernd Leno  eng Premier League   28  1992  20-21  35    2.0   \n",
       "511          Mike Maignan          fr Ligue 1   25  1995  20-21  38    2.0   \n",
       "532          Keylor Navas          fr Ligue 1   33  1986  20-21  29    2.0   \n",
       "534          Manuel Neuer       de Bundesliga   34  1986  20-21  33    3.0   \n",
       "537             Jan Oblak          es La Liga   27  1993  20-21  38    4.0   \n",
       "672      Łukasz Fabiański  eng Premier League   36  1985  21-22  37    6.0   \n",
       "621           Emil Audero          it Serie A   24  1997  21-22  29    2.0   \n",
       "817     Wojciech Szczęsny          it Serie A   31  1990  21-22  33    6.0   \n",
       "\n",
       "     PKA  PKsv  PKm  PSave%  \n",
       "7    1.0   1.0  0.0    50.0  \n",
       "14   2.0   3.0  0.0    60.0  \n",
       "141  2.0   3.0  0.0    60.0  \n",
       "172  2.0   2.0  0.0    50.0  \n",
       "184  1.0   1.0  1.0    50.0  \n",
       "185  1.0   3.0  0.0    75.0  \n",
       "405  1.0   1.0  0.0    50.0  \n",
       "332  1.0   2.0  0.0    66.7  \n",
       "381  1.0   1.0  0.0    50.0  \n",
       "247  4.0   4.0  0.0    50.0  \n",
       "241  1.0   1.0  0.0    50.0  \n",
       "308  1.0   1.0  0.0    50.0  \n",
       "490  1.0   1.0  0.0    50.0  \n",
       "504  1.0   1.0  0.0    50.0  \n",
       "511  1.0   1.0  0.0    50.0  \n",
       "532  1.0   1.0  0.0    50.0  \n",
       "534  1.0   1.0  1.0    50.0  \n",
       "537  1.0   2.0  1.0    66.7  \n",
       "672  2.0   3.0  1.0    60.0  \n",
       "621  1.0   1.0  0.0    50.0  \n",
       "817  3.0   3.0  0.0    50.0  "
      ]
     },
     "execution_count": 449,
     "metadata": {},
     "output_type": "execute_result"
    }
   ],
   "source": [
    "top_Psave = filtered_gk_no_23.loc[filtered_gk_no_23['PSave%'] >= pSave_per95, ['Player', 'Comp','Age', 'Born', 'Season', 'MP', 'PKatt', 'PKA', 'PKsv', 'PKm', 'PSave%',]].sort_values(by='Season', )\n",
    "top_Psave"
   ]
  },
  {
   "cell_type": "markdown",
   "metadata": {},
   "source": [
    "Player whose PSave% is above 95th percentile with their age's between 27 and 31"
   ]
  },
  {
   "cell_type": "code",
   "execution_count": 450,
   "metadata": {},
   "outputs": [
    {
     "data": {
      "text/html": [
       "<div>\n",
       "<style scoped>\n",
       "    .dataframe tbody tr th:only-of-type {\n",
       "        vertical-align: middle;\n",
       "    }\n",
       "\n",
       "    .dataframe tbody tr th {\n",
       "        vertical-align: top;\n",
       "    }\n",
       "\n",
       "    .dataframe thead th {\n",
       "        text-align: right;\n",
       "    }\n",
       "</style>\n",
       "<table border=\"1\" class=\"dataframe\">\n",
       "  <thead>\n",
       "    <tr style=\"text-align: right;\">\n",
       "      <th></th>\n",
       "      <th>Player</th>\n",
       "      <th>Comp</th>\n",
       "      <th>Age</th>\n",
       "      <th>Born</th>\n",
       "      <th>Season</th>\n",
       "      <th>MP</th>\n",
       "      <th>PKatt</th>\n",
       "      <th>PKA</th>\n",
       "      <th>PKsv</th>\n",
       "      <th>PKm</th>\n",
       "      <th>PSave%</th>\n",
       "    </tr>\n",
       "  </thead>\n",
       "  <tbody>\n",
       "    <tr>\n",
       "      <th>172</th>\n",
       "      <td>Salvatore Sirigu</td>\n",
       "      <td>it Serie A</td>\n",
       "      <td>31</td>\n",
       "      <td>1987</td>\n",
       "      <td>18-19</td>\n",
       "      <td>36</td>\n",
       "      <td>4.0</td>\n",
       "      <td>2.0</td>\n",
       "      <td>2.0</td>\n",
       "      <td>0.0</td>\n",
       "      <td>50.0</td>\n",
       "    </tr>\n",
       "    <tr>\n",
       "      <th>184</th>\n",
       "      <td>Wojciech Szczęsny</td>\n",
       "      <td>it Serie A</td>\n",
       "      <td>28</td>\n",
       "      <td>1990</td>\n",
       "      <td>18-19</td>\n",
       "      <td>28</td>\n",
       "      <td>3.0</td>\n",
       "      <td>1.0</td>\n",
       "      <td>1.0</td>\n",
       "      <td>1.0</td>\n",
       "      <td>50.0</td>\n",
       "    </tr>\n",
       "    <tr>\n",
       "      <th>308</th>\n",
       "      <td>Alex McCarthy</td>\n",
       "      <td>eng Premier League</td>\n",
       "      <td>29</td>\n",
       "      <td>1989</td>\n",
       "      <td>19-20</td>\n",
       "      <td>28</td>\n",
       "      <td>2.0</td>\n",
       "      <td>1.0</td>\n",
       "      <td>1.0</td>\n",
       "      <td>0.0</td>\n",
       "      <td>50.0</td>\n",
       "    </tr>\n",
       "    <tr>\n",
       "      <th>332</th>\n",
       "      <td>Rui Patrício</td>\n",
       "      <td>eng Premier League</td>\n",
       "      <td>31</td>\n",
       "      <td>1988</td>\n",
       "      <td>19-20</td>\n",
       "      <td>38</td>\n",
       "      <td>3.0</td>\n",
       "      <td>1.0</td>\n",
       "      <td>2.0</td>\n",
       "      <td>0.0</td>\n",
       "      <td>66.7</td>\n",
       "    </tr>\n",
       "    <tr>\n",
       "      <th>381</th>\n",
       "      <td>Yann Sommer</td>\n",
       "      <td>de Bundesliga</td>\n",
       "      <td>30</td>\n",
       "      <td>1988</td>\n",
       "      <td>19-20</td>\n",
       "      <td>34</td>\n",
       "      <td>2.0</td>\n",
       "      <td>1.0</td>\n",
       "      <td>1.0</td>\n",
       "      <td>0.0</td>\n",
       "      <td>50.0</td>\n",
       "    </tr>\n",
       "    <tr>\n",
       "      <th>490</th>\n",
       "      <td>Lukáš Hrádecký</td>\n",
       "      <td>de Bundesliga</td>\n",
       "      <td>30</td>\n",
       "      <td>1989</td>\n",
       "      <td>20-21</td>\n",
       "      <td>29</td>\n",
       "      <td>2.0</td>\n",
       "      <td>1.0</td>\n",
       "      <td>1.0</td>\n",
       "      <td>0.0</td>\n",
       "      <td>50.0</td>\n",
       "    </tr>\n",
       "    <tr>\n",
       "      <th>504</th>\n",
       "      <td>Bernd Leno</td>\n",
       "      <td>eng Premier League</td>\n",
       "      <td>28</td>\n",
       "      <td>1992</td>\n",
       "      <td>20-21</td>\n",
       "      <td>35</td>\n",
       "      <td>2.0</td>\n",
       "      <td>1.0</td>\n",
       "      <td>1.0</td>\n",
       "      <td>0.0</td>\n",
       "      <td>50.0</td>\n",
       "    </tr>\n",
       "    <tr>\n",
       "      <th>537</th>\n",
       "      <td>Jan Oblak</td>\n",
       "      <td>es La Liga</td>\n",
       "      <td>27</td>\n",
       "      <td>1993</td>\n",
       "      <td>20-21</td>\n",
       "      <td>38</td>\n",
       "      <td>4.0</td>\n",
       "      <td>1.0</td>\n",
       "      <td>2.0</td>\n",
       "      <td>1.0</td>\n",
       "      <td>66.7</td>\n",
       "    </tr>\n",
       "    <tr>\n",
       "      <th>817</th>\n",
       "      <td>Wojciech Szczęsny</td>\n",
       "      <td>it Serie A</td>\n",
       "      <td>31</td>\n",
       "      <td>1990</td>\n",
       "      <td>21-22</td>\n",
       "      <td>33</td>\n",
       "      <td>6.0</td>\n",
       "      <td>3.0</td>\n",
       "      <td>3.0</td>\n",
       "      <td>0.0</td>\n",
       "      <td>50.0</td>\n",
       "    </tr>\n",
       "  </tbody>\n",
       "</table>\n",
       "</div>"
      ],
      "text/plain": [
       "                Player                Comp  Age  Born Season  MP  PKatt  PKA  \\\n",
       "172   Salvatore Sirigu          it Serie A   31  1987  18-19  36    4.0  2.0   \n",
       "184  Wojciech Szczęsny          it Serie A   28  1990  18-19  28    3.0  1.0   \n",
       "308      Alex McCarthy  eng Premier League   29  1989  19-20  28    2.0  1.0   \n",
       "332       Rui Patrício  eng Premier League   31  1988  19-20  38    3.0  1.0   \n",
       "381        Yann Sommer       de Bundesliga   30  1988  19-20  34    2.0  1.0   \n",
       "490     Lukáš Hrádecký       de Bundesliga   30  1989  20-21  29    2.0  1.0   \n",
       "504         Bernd Leno  eng Premier League   28  1992  20-21  35    2.0  1.0   \n",
       "537          Jan Oblak          es La Liga   27  1993  20-21  38    4.0  1.0   \n",
       "817  Wojciech Szczęsny          it Serie A   31  1990  21-22  33    6.0  3.0   \n",
       "\n",
       "     PKsv  PKm  PSave%  \n",
       "172   2.0  0.0    50.0  \n",
       "184   1.0  1.0    50.0  \n",
       "308   1.0  0.0    50.0  \n",
       "332   2.0  0.0    66.7  \n",
       "381   1.0  0.0    50.0  \n",
       "490   1.0  0.0    50.0  \n",
       "504   1.0  0.0    50.0  \n",
       "537   2.0  1.0    66.7  \n",
       "817   3.0  0.0    50.0  "
      ]
     },
     "execution_count": 450,
     "metadata": {},
     "output_type": "execute_result"
    }
   ],
   "source": [
    "top_Psave_27_31 = filtered_gk_no_23.loc[(filtered_gk_no_23['PSave%'] >= pSave_per95) & ((filtered_gk_no_23.Age >= 27) & (filtered_gk_no_23.Age <= 31)), ['Player', 'Comp','Age', 'Born', 'Season', 'MP', 'PKatt', 'PKA', 'PKsv', 'PKm', 'PSave%',]].sort_values(by='Season', )\n",
    "top_Psave_27_31"
   ]
  },
  {
   "cell_type": "code",
   "execution_count": 451,
   "metadata": {},
   "outputs": [
    {
     "data": {
      "text/plain": [
       "42.86"
      ]
     },
     "execution_count": 451,
     "metadata": {},
     "output_type": "execute_result"
    }
   ],
   "source": [
    "round((top_Psave_27_31.Player.size / top_Psave.Player.size) * 100, 2)"
   ]
  },
  {
   "cell_type": "markdown",
   "metadata": {},
   "source": [
    "The player with the top stat of PSave%, their age's between 27 and 31 is around 42.86 of all"
   ]
  },
  {
   "cell_type": "markdown",
   "metadata": {},
   "source": [
    "### OPA/90 : Defensive action outside of penalty area per 90 minutes"
   ]
  },
  {
   "cell_type": "code",
   "execution_count": 452,
   "metadata": {},
   "outputs": [
    {
     "data": {
      "text/plain": [
       "<seaborn.axisgrid.FacetGrid at 0x2af0ae81fa0>"
      ]
     },
     "execution_count": 452,
     "metadata": {},
     "output_type": "execute_result"
    },
    {
     "data": {
      "image/png": "[encoded data removed]",
      "text/plain": [
       "<Figure size 1500x400 with 5 Axes>"
      ]
     },
     "metadata": {},
     "output_type": "display_data"
    }
   ],
   "source": [
    "# OPA/90 : Defensive action outside of penalty area per 90 mins\n",
    "opa = filtered_gk.loc[filtered_gk['#OPA'] > 5]\n",
    "sns.relplot(data=opa, x='Age', y='#OPA/90',\n",
    "           col='Season',\n",
    "           col_order=['18-19', '19-20', '20-21', '21-22', '22-23'],\n",
    "            height=4, aspect=0.75)"
   ]
  },
  {
   "cell_type": "markdown",
   "metadata": {},
   "source": [
    "Top player in term of #OPA/90 in each seasons"
   ]
  },
  {
   "cell_type": "markdown",
   "metadata": {},
   "source": [
    "Definition\n",
    "- #OPA : Defensive actions outside penalty area\n",
    "- #OPA/90 : Defensive actions outside penalty area per 90 mins\n",
    "- AvgDist : Average distance of defensive actions"
   ]
  },
  {
   "cell_type": "code",
   "execution_count": 453,
   "metadata": {},
   "outputs": [
    {
     "data": {
      "text/html": [
       "<div>\n",
       "<style scoped>\n",
       "    .dataframe tbody tr th:only-of-type {\n",
       "        vertical-align: middle;\n",
       "    }\n",
       "\n",
       "    .dataframe tbody tr th {\n",
       "        vertical-align: top;\n",
       "    }\n",
       "\n",
       "    .dataframe thead th {\n",
       "        text-align: right;\n",
       "    }\n",
       "</style>\n",
       "<table border=\"1\" class=\"dataframe\">\n",
       "  <thead>\n",
       "    <tr style=\"text-align: right;\">\n",
       "      <th></th>\n",
       "      <th>Player</th>\n",
       "      <th>Comp</th>\n",
       "      <th>Age</th>\n",
       "      <th>Born</th>\n",
       "      <th>Season</th>\n",
       "      <th>90s</th>\n",
       "      <th>#OPA</th>\n",
       "      <th>#OPA/90</th>\n",
       "      <th>AvgDist</th>\n",
       "    </tr>\n",
       "  </thead>\n",
       "  <tbody>\n",
       "    <tr>\n",
       "      <th>45</th>\n",
       "      <td>Marko Dmitrović</td>\n",
       "      <td>es La Liga</td>\n",
       "      <td>26</td>\n",
       "      <td>1992</td>\n",
       "      <td>18-19</td>\n",
       "      <td>24.0</td>\n",
       "      <td>57.0</td>\n",
       "      <td>2.38</td>\n",
       "      <td>18.6</td>\n",
       "    </tr>\n",
       "    <tr>\n",
       "      <th>320</th>\n",
       "      <td>Manuel Neuer</td>\n",
       "      <td>de Bundesliga</td>\n",
       "      <td>33</td>\n",
       "      <td>1986</td>\n",
       "      <td>19-20</td>\n",
       "      <td>33.0</td>\n",
       "      <td>123.0</td>\n",
       "      <td>3.73</td>\n",
       "      <td>23.7</td>\n",
       "    </tr>\n",
       "    <tr>\n",
       "      <th>534</th>\n",
       "      <td>Manuel Neuer</td>\n",
       "      <td>de Bundesliga</td>\n",
       "      <td>34</td>\n",
       "      <td>1986</td>\n",
       "      <td>20-21</td>\n",
       "      <td>33.0</td>\n",
       "      <td>105.0</td>\n",
       "      <td>3.18</td>\n",
       "      <td>23.6</td>\n",
       "    </tr>\n",
       "    <tr>\n",
       "      <th>746</th>\n",
       "      <td>Manuel Neuer</td>\n",
       "      <td>de Bundesliga</td>\n",
       "      <td>35</td>\n",
       "      <td>1986</td>\n",
       "      <td>21-22</td>\n",
       "      <td>27.9</td>\n",
       "      <td>95.0</td>\n",
       "      <td>3.41</td>\n",
       "      <td>26.2</td>\n",
       "    </tr>\n",
       "    <tr>\n",
       "      <th>964</th>\n",
       "      <td>Manuel Neuer</td>\n",
       "      <td>de Bundesliga</td>\n",
       "      <td>35</td>\n",
       "      <td>1986</td>\n",
       "      <td>22-23</td>\n",
       "      <td>27.9</td>\n",
       "      <td>95.0</td>\n",
       "      <td>3.41</td>\n",
       "      <td>26.2</td>\n",
       "    </tr>\n",
       "  </tbody>\n",
       "</table>\n",
       "</div>"
      ],
      "text/plain": [
       "              Player           Comp  Age  Born Season   90s   #OPA  #OPA/90  \\\n",
       "45   Marko Dmitrović     es La Liga   26  1992  18-19  24.0   57.0     2.38   \n",
       "320     Manuel Neuer  de Bundesliga   33  1986  19-20  33.0  123.0     3.73   \n",
       "534     Manuel Neuer  de Bundesliga   34  1986  20-21  33.0  105.0     3.18   \n",
       "746     Manuel Neuer  de Bundesliga   35  1986  21-22  27.9   95.0     3.41   \n",
       "964     Manuel Neuer  de Bundesliga   35  1986  22-23  27.9   95.0     3.41   \n",
       "\n",
       "     AvgDist  \n",
       "45      18.6  \n",
       "320     23.7  \n",
       "534     23.6  \n",
       "746     26.2  \n",
       "964     26.2  "
      ]
     },
     "execution_count": 453,
     "metadata": {},
     "output_type": "execute_result"
    }
   ],
   "source": [
    "opa.loc[opa.groupby('Season')['#OPA/90'].idxmax(), ['Player', 'Comp','Age', 'Born', 'Season', '90s', '#OPA', '#OPA/90', 'AvgDist']].sort_values(by='Season', )"
   ]
  },
  {
   "cell_type": "code",
   "execution_count": 454,
   "metadata": {},
   "outputs": [
    {
     "data": {
      "text/plain": [
       "2.034"
      ]
     },
     "execution_count": 454,
     "metadata": {},
     "output_type": "execute_result"
    }
   ],
   "source": [
    "opa_per95 = round(opa['#OPA/90'].quantile(0.95), 4)\n",
    "opa_per95"
   ]
  },
  {
   "cell_type": "markdown",
   "metadata": {},
   "source": [
    "Player whose #OPA/90 is above the 95th percentile"
   ]
  },
  {
   "cell_type": "code",
   "execution_count": 455,
   "metadata": {},
   "outputs": [
    {
     "data": {
      "text/html": [
       "<div>\n",
       "<style scoped>\n",
       "    .dataframe tbody tr th:only-of-type {\n",
       "        vertical-align: middle;\n",
       "    }\n",
       "\n",
       "    .dataframe tbody tr th {\n",
       "        vertical-align: top;\n",
       "    }\n",
       "\n",
       "    .dataframe thead th {\n",
       "        text-align: right;\n",
       "    }\n",
       "</style>\n",
       "<table border=\"1\" class=\"dataframe\">\n",
       "  <thead>\n",
       "    <tr style=\"text-align: right;\">\n",
       "      <th></th>\n",
       "      <th>Player</th>\n",
       "      <th>Comp</th>\n",
       "      <th>Age</th>\n",
       "      <th>Born</th>\n",
       "      <th>Season</th>\n",
       "      <th>90s</th>\n",
       "      <th>#OPA</th>\n",
       "      <th>#OPA/90</th>\n",
       "      <th>AvgDist</th>\n",
       "    </tr>\n",
       "  </thead>\n",
       "  <tbody>\n",
       "    <tr>\n",
       "      <th>45</th>\n",
       "      <td>Marko Dmitrović</td>\n",
       "      <td>es La Liga</td>\n",
       "      <td>26</td>\n",
       "      <td>1992</td>\n",
       "      <td>18-19</td>\n",
       "      <td>24.0</td>\n",
       "      <td>57.0</td>\n",
       "      <td>2.38</td>\n",
       "      <td>18.6</td>\n",
       "    </tr>\n",
       "    <tr>\n",
       "      <th>206</th>\n",
       "      <td>Alisson</td>\n",
       "      <td>eng Premier League</td>\n",
       "      <td>26</td>\n",
       "      <td>1992</td>\n",
       "      <td>19-20</td>\n",
       "      <td>28.3</td>\n",
       "      <td>63.0</td>\n",
       "      <td>2.23</td>\n",
       "      <td>19.2</td>\n",
       "    </tr>\n",
       "    <tr>\n",
       "      <th>245</th>\n",
       "      <td>Marko Dmitrović</td>\n",
       "      <td>es La Liga</td>\n",
       "      <td>27</td>\n",
       "      <td>1992</td>\n",
       "      <td>19-20</td>\n",
       "      <td>35.0</td>\n",
       "      <td>75.0</td>\n",
       "      <td>2.14</td>\n",
       "      <td>17.9</td>\n",
       "    </tr>\n",
       "    <tr>\n",
       "      <th>269</th>\n",
       "      <td>Péter Gulácsi</td>\n",
       "      <td>de Bundesliga</td>\n",
       "      <td>29</td>\n",
       "      <td>1990</td>\n",
       "      <td>19-20</td>\n",
       "      <td>32.0</td>\n",
       "      <td>68.0</td>\n",
       "      <td>2.13</td>\n",
       "      <td>18.5</td>\n",
       "    </tr>\n",
       "    <tr>\n",
       "      <th>320</th>\n",
       "      <td>Manuel Neuer</td>\n",
       "      <td>de Bundesliga</td>\n",
       "      <td>33</td>\n",
       "      <td>1986</td>\n",
       "      <td>19-20</td>\n",
       "      <td>33.0</td>\n",
       "      <td>123.0</td>\n",
       "      <td>3.73</td>\n",
       "      <td>23.7</td>\n",
       "    </tr>\n",
       "    <tr>\n",
       "      <th>409</th>\n",
       "      <td>Alisson</td>\n",
       "      <td>eng Premier League</td>\n",
       "      <td>27</td>\n",
       "      <td>1992</td>\n",
       "      <td>20-21</td>\n",
       "      <td>33.0</td>\n",
       "      <td>87.0</td>\n",
       "      <td>2.64</td>\n",
       "      <td>18.6</td>\n",
       "    </tr>\n",
       "    <tr>\n",
       "      <th>490</th>\n",
       "      <td>Lukáš Hrádecký</td>\n",
       "      <td>de Bundesliga</td>\n",
       "      <td>30</td>\n",
       "      <td>1989</td>\n",
       "      <td>20-21</td>\n",
       "      <td>28.5</td>\n",
       "      <td>58.0</td>\n",
       "      <td>2.04</td>\n",
       "      <td>18.2</td>\n",
       "    </tr>\n",
       "    <tr>\n",
       "      <th>534</th>\n",
       "      <td>Manuel Neuer</td>\n",
       "      <td>de Bundesliga</td>\n",
       "      <td>34</td>\n",
       "      <td>1986</td>\n",
       "      <td>20-21</td>\n",
       "      <td>33.0</td>\n",
       "      <td>105.0</td>\n",
       "      <td>3.18</td>\n",
       "      <td>23.6</td>\n",
       "    </tr>\n",
       "    <tr>\n",
       "      <th>617</th>\n",
       "      <td>Alisson</td>\n",
       "      <td>eng Premier League</td>\n",
       "      <td>28</td>\n",
       "      <td>1992</td>\n",
       "      <td>21-22</td>\n",
       "      <td>36.0</td>\n",
       "      <td>89.0</td>\n",
       "      <td>2.47</td>\n",
       "      <td>18.7</td>\n",
       "    </tr>\n",
       "    <tr>\n",
       "      <th>634</th>\n",
       "      <td>Paul Bernardoni</td>\n",
       "      <td>fr Ligue 1</td>\n",
       "      <td>24</td>\n",
       "      <td>1997</td>\n",
       "      <td>21-22</td>\n",
       "      <td>19.0</td>\n",
       "      <td>56.0</td>\n",
       "      <td>2.95</td>\n",
       "      <td>18.9</td>\n",
       "    </tr>\n",
       "    <tr>\n",
       "      <th>746</th>\n",
       "      <td>Manuel Neuer</td>\n",
       "      <td>de Bundesliga</td>\n",
       "      <td>35</td>\n",
       "      <td>1986</td>\n",
       "      <td>21-22</td>\n",
       "      <td>27.9</td>\n",
       "      <td>95.0</td>\n",
       "      <td>3.41</td>\n",
       "      <td>26.2</td>\n",
       "    </tr>\n",
       "    <tr>\n",
       "      <th>829</th>\n",
       "      <td>Robin Zentner</td>\n",
       "      <td>de Bundesliga</td>\n",
       "      <td>26</td>\n",
       "      <td>1994</td>\n",
       "      <td>21-22</td>\n",
       "      <td>32.0</td>\n",
       "      <td>68.0</td>\n",
       "      <td>2.13</td>\n",
       "      <td>17.9</td>\n",
       "    </tr>\n",
       "    <tr>\n",
       "      <th>835</th>\n",
       "      <td>Alisson</td>\n",
       "      <td>eng Premier League</td>\n",
       "      <td>28</td>\n",
       "      <td>1992</td>\n",
       "      <td>22-23</td>\n",
       "      <td>36.0</td>\n",
       "      <td>89.0</td>\n",
       "      <td>2.47</td>\n",
       "      <td>18.7</td>\n",
       "    </tr>\n",
       "    <tr>\n",
       "      <th>852</th>\n",
       "      <td>Paul Bernardoni</td>\n",
       "      <td>fr Ligue 1</td>\n",
       "      <td>24</td>\n",
       "      <td>1997</td>\n",
       "      <td>22-23</td>\n",
       "      <td>19.0</td>\n",
       "      <td>56.0</td>\n",
       "      <td>2.95</td>\n",
       "      <td>18.9</td>\n",
       "    </tr>\n",
       "    <tr>\n",
       "      <th>964</th>\n",
       "      <td>Manuel Neuer</td>\n",
       "      <td>de Bundesliga</td>\n",
       "      <td>35</td>\n",
       "      <td>1986</td>\n",
       "      <td>22-23</td>\n",
       "      <td>27.9</td>\n",
       "      <td>95.0</td>\n",
       "      <td>3.41</td>\n",
       "      <td>26.2</td>\n",
       "    </tr>\n",
       "    <tr>\n",
       "      <th>1047</th>\n",
       "      <td>Robin Zentner</td>\n",
       "      <td>de Bundesliga</td>\n",
       "      <td>26</td>\n",
       "      <td>1994</td>\n",
       "      <td>22-23</td>\n",
       "      <td>32.0</td>\n",
       "      <td>68.0</td>\n",
       "      <td>2.13</td>\n",
       "      <td>17.9</td>\n",
       "    </tr>\n",
       "  </tbody>\n",
       "</table>\n",
       "</div>"
      ],
      "text/plain": [
       "               Player                Comp  Age  Born Season   90s   #OPA  \\\n",
       "45    Marko Dmitrović          es La Liga   26  1992  18-19  24.0   57.0   \n",
       "206           Alisson  eng Premier League   26  1992  19-20  28.3   63.0   \n",
       "245   Marko Dmitrović          es La Liga   27  1992  19-20  35.0   75.0   \n",
       "269     Péter Gulácsi       de Bundesliga   29  1990  19-20  32.0   68.0   \n",
       "320      Manuel Neuer       de Bundesliga   33  1986  19-20  33.0  123.0   \n",
       "409           Alisson  eng Premier League   27  1992  20-21  33.0   87.0   \n",
       "490    Lukáš Hrádecký       de Bundesliga   30  1989  20-21  28.5   58.0   \n",
       "534      Manuel Neuer       de Bundesliga   34  1986  20-21  33.0  105.0   \n",
       "617           Alisson  eng Premier League   28  1992  21-22  36.0   89.0   \n",
       "634   Paul Bernardoni          fr Ligue 1   24  1997  21-22  19.0   56.0   \n",
       "746      Manuel Neuer       de Bundesliga   35  1986  21-22  27.9   95.0   \n",
       "829     Robin Zentner       de Bundesliga   26  1994  21-22  32.0   68.0   \n",
       "835           Alisson  eng Premier League   28  1992  22-23  36.0   89.0   \n",
       "852   Paul Bernardoni          fr Ligue 1   24  1997  22-23  19.0   56.0   \n",
       "964      Manuel Neuer       de Bundesliga   35  1986  22-23  27.9   95.0   \n",
       "1047    Robin Zentner       de Bundesliga   26  1994  22-23  32.0   68.0   \n",
       "\n",
       "      #OPA/90  AvgDist  \n",
       "45       2.38     18.6  \n",
       "206      2.23     19.2  \n",
       "245      2.14     17.9  \n",
       "269      2.13     18.5  \n",
       "320      3.73     23.7  \n",
       "409      2.64     18.6  \n",
       "490      2.04     18.2  \n",
       "534      3.18     23.6  \n",
       "617      2.47     18.7  \n",
       "634      2.95     18.9  \n",
       "746      3.41     26.2  \n",
       "829      2.13     17.9  \n",
       "835      2.47     18.7  \n",
       "852      2.95     18.9  \n",
       "964      3.41     26.2  \n",
       "1047     2.13     17.9  "
      ]
     },
     "execution_count": 455,
     "metadata": {},
     "output_type": "execute_result"
    }
   ],
   "source": [
    "top_opa = opa.loc[opa['#OPA/90'] >= opa_per95, ['Player', 'Comp','Age', 'Born', 'Season', '90s', '#OPA', '#OPA/90', 'AvgDist',]].sort_values(by='Season', )\n",
    "top_opa"
   ]
  },
  {
   "cell_type": "markdown",
   "metadata": {},
   "source": [
    "Player whose #OPA/90 is above 95th percentile with their age's between 27 and 31"
   ]
  },
  {
   "cell_type": "code",
   "execution_count": 456,
   "metadata": {},
   "outputs": [
    {
     "data": {
      "text/html": [
       "<div>\n",
       "<style scoped>\n",
       "    .dataframe tbody tr th:only-of-type {\n",
       "        vertical-align: middle;\n",
       "    }\n",
       "\n",
       "    .dataframe tbody tr th {\n",
       "        vertical-align: top;\n",
       "    }\n",
       "\n",
       "    .dataframe thead th {\n",
       "        text-align: right;\n",
       "    }\n",
       "</style>\n",
       "<table border=\"1\" class=\"dataframe\">\n",
       "  <thead>\n",
       "    <tr style=\"text-align: right;\">\n",
       "      <th></th>\n",
       "      <th>Player</th>\n",
       "      <th>Comp</th>\n",
       "      <th>Age</th>\n",
       "      <th>Born</th>\n",
       "      <th>Season</th>\n",
       "      <th>90s</th>\n",
       "      <th>#OPA</th>\n",
       "      <th>#OPA/90</th>\n",
       "      <th>AvgDist</th>\n",
       "    </tr>\n",
       "  </thead>\n",
       "  <tbody>\n",
       "    <tr>\n",
       "      <th>245</th>\n",
       "      <td>Marko Dmitrović</td>\n",
       "      <td>es La Liga</td>\n",
       "      <td>27</td>\n",
       "      <td>1992</td>\n",
       "      <td>19-20</td>\n",
       "      <td>35.0</td>\n",
       "      <td>75.0</td>\n",
       "      <td>2.14</td>\n",
       "      <td>17.9</td>\n",
       "    </tr>\n",
       "    <tr>\n",
       "      <th>269</th>\n",
       "      <td>Péter Gulácsi</td>\n",
       "      <td>de Bundesliga</td>\n",
       "      <td>29</td>\n",
       "      <td>1990</td>\n",
       "      <td>19-20</td>\n",
       "      <td>32.0</td>\n",
       "      <td>68.0</td>\n",
       "      <td>2.13</td>\n",
       "      <td>18.5</td>\n",
       "    </tr>\n",
       "    <tr>\n",
       "      <th>409</th>\n",
       "      <td>Alisson</td>\n",
       "      <td>eng Premier League</td>\n",
       "      <td>27</td>\n",
       "      <td>1992</td>\n",
       "      <td>20-21</td>\n",
       "      <td>33.0</td>\n",
       "      <td>87.0</td>\n",
       "      <td>2.64</td>\n",
       "      <td>18.6</td>\n",
       "    </tr>\n",
       "    <tr>\n",
       "      <th>490</th>\n",
       "      <td>Lukáš Hrádecký</td>\n",
       "      <td>de Bundesliga</td>\n",
       "      <td>30</td>\n",
       "      <td>1989</td>\n",
       "      <td>20-21</td>\n",
       "      <td>28.5</td>\n",
       "      <td>58.0</td>\n",
       "      <td>2.04</td>\n",
       "      <td>18.2</td>\n",
       "    </tr>\n",
       "    <tr>\n",
       "      <th>617</th>\n",
       "      <td>Alisson</td>\n",
       "      <td>eng Premier League</td>\n",
       "      <td>28</td>\n",
       "      <td>1992</td>\n",
       "      <td>21-22</td>\n",
       "      <td>36.0</td>\n",
       "      <td>89.0</td>\n",
       "      <td>2.47</td>\n",
       "      <td>18.7</td>\n",
       "    </tr>\n",
       "  </tbody>\n",
       "</table>\n",
       "</div>"
      ],
      "text/plain": [
       "              Player                Comp  Age  Born Season   90s  #OPA  \\\n",
       "245  Marko Dmitrović          es La Liga   27  1992  19-20  35.0  75.0   \n",
       "269    Péter Gulácsi       de Bundesliga   29  1990  19-20  32.0  68.0   \n",
       "409          Alisson  eng Premier League   27  1992  20-21  33.0  87.0   \n",
       "490   Lukáš Hrádecký       de Bundesliga   30  1989  20-21  28.5  58.0   \n",
       "617          Alisson  eng Premier League   28  1992  21-22  36.0  89.0   \n",
       "\n",
       "     #OPA/90  AvgDist  \n",
       "245     2.14     17.9  \n",
       "269     2.13     18.5  \n",
       "409     2.64     18.6  \n",
       "490     2.04     18.2  \n",
       "617     2.47     18.7  "
      ]
     },
     "execution_count": 456,
     "metadata": {},
     "output_type": "execute_result"
    }
   ],
   "source": [
    "top_opa_27_31 = opa.loc[(opa['#OPA/90'] >= opa_per95) & ((filtered_gk_no_23.Age >= 27) & (filtered_gk_no_23.Age <= 31)), ['Player', 'Comp','Age', 'Born', 'Season', '90s', '#OPA', '#OPA/90', 'AvgDist',]].sort_values(by='Season', )\n",
    "top_opa_27_31"
   ]
  },
  {
   "cell_type": "code",
   "execution_count": 457,
   "metadata": {},
   "outputs": [
    {
     "data": {
      "text/plain": [
       "31.25"
      ]
     },
     "execution_count": 457,
     "metadata": {},
     "output_type": "execute_result"
    }
   ],
   "source": [
    "round((top_opa_27_31.Player.size / top_opa.Player.size) * 100, 2)"
   ]
  },
  {
   "cell_type": "markdown",
   "metadata": {},
   "source": [
    "The player with the top stat of #OPA/90, their age's between 27 and 31 is around 36.36% of all"
   ]
  },
  {
   "cell_type": "markdown",
   "metadata": {},
   "source": [
    "### PSxG - GA / 90 : Post-Shot Expected Goals minus Goals Allowed per 90 minutes\n",
    "- Positive numbers suggest better luck or an above average ability to stop shots\n",
    "- PsXG : Expected goals based on how likely the goalkeeper is to save the shot\n",
    "- PSxG - GA / 90 is the most stable stat to categorize the goalkeeper as an good or bad one in the first sight"
   ]
  },
  {
   "cell_type": "code",
   "execution_count": 458,
   "metadata": {},
   "outputs": [
    {
     "data": {
      "text/plain": [
       "<seaborn.axisgrid.FacetGrid at 0x2af0b510a60>"
      ]
     },
     "execution_count": 458,
     "metadata": {},
     "output_type": "execute_result"
    },
    {
     "data": {
      "image/png": "[encoded data removed]",
      "text/plain": [
       "<Figure size 1500x400 with 5 Axes>"
      ]
     },
     "metadata": {},
     "output_type": "display_data"
    }
   ],
   "source": [
    "# PSxG - GA / 90 : Post-Shot Expected Goals minus Goals Allowed per 90 minutes\n",
    "sns.relplot(data=filtered_gk, x='Age', y='/90',\n",
    "           col='Season',\n",
    "           col_order=['18-19', '19-20', '20-21', '21-22', '22-23'],\n",
    "            height=4, aspect=0.75)"
   ]
  },
  {
   "cell_type": "markdown",
   "metadata": {},
   "source": [
    "Top player in term of PSxG-GA/90 in each seasons"
   ]
  },
  {
   "cell_type": "markdown",
   "metadata": {},
   "source": [
    "Definition \n",
    "- PSxG : Post-shot expected goals\n",
    "- PSxG/SoT : Post-shot expected goals per shot on target\n",
    "- PSxG+/- : Post-shot expected goals minus goals allow\n",
    "- /90 : Post-shot expected goals minus goals allow per 90 mins"
   ]
  },
  {
   "cell_type": "code",
   "execution_count": 459,
   "metadata": {},
   "outputs": [
    {
     "data": {
      "text/html": [
       "<div>\n",
       "<style scoped>\n",
       "    .dataframe tbody tr th:only-of-type {\n",
       "        vertical-align: middle;\n",
       "    }\n",
       "\n",
       "    .dataframe tbody tr th {\n",
       "        vertical-align: top;\n",
       "    }\n",
       "\n",
       "    .dataframe thead th {\n",
       "        text-align: right;\n",
       "    }\n",
       "</style>\n",
       "<table border=\"1\" class=\"dataframe\">\n",
       "  <thead>\n",
       "    <tr style=\"text-align: right;\">\n",
       "      <th></th>\n",
       "      <th>Player</th>\n",
       "      <th>Comp</th>\n",
       "      <th>Age</th>\n",
       "      <th>Born</th>\n",
       "      <th>Season</th>\n",
       "      <th>90s</th>\n",
       "      <th>PSxG</th>\n",
       "      <th>PSxG/SoT</th>\n",
       "      <th>PSxG+/-</th>\n",
       "      <th>/90</th>\n",
       "    </tr>\n",
       "  </thead>\n",
       "  <tbody>\n",
       "    <tr>\n",
       "      <th>128</th>\n",
       "      <td>Jan Oblak</td>\n",
       "      <td>es La Liga</td>\n",
       "      <td>25</td>\n",
       "      <td>1993</td>\n",
       "      <td>18-19</td>\n",
       "      <td>37.0</td>\n",
       "      <td>39.3</td>\n",
       "      <td>0.27</td>\n",
       "      <td>14.3</td>\n",
       "      <td>0.39</td>\n",
       "    </tr>\n",
       "    <tr>\n",
       "      <th>297</th>\n",
       "      <td>Hugo Lloris</td>\n",
       "      <td>eng Premier League</td>\n",
       "      <td>32</td>\n",
       "      <td>1986</td>\n",
       "      <td>19-20</td>\n",
       "      <td>20.1</td>\n",
       "      <td>30.4</td>\n",
       "      <td>0.28</td>\n",
       "      <td>10.4</td>\n",
       "      <td>0.52</td>\n",
       "    </tr>\n",
       "    <tr>\n",
       "      <th>537</th>\n",
       "      <td>Jan Oblak</td>\n",
       "      <td>es La Liga</td>\n",
       "      <td>27</td>\n",
       "      <td>1993</td>\n",
       "      <td>20-21</td>\n",
       "      <td>38.0</td>\n",
       "      <td>33.1</td>\n",
       "      <td>0.25</td>\n",
       "      <td>11.1</td>\n",
       "      <td>0.29</td>\n",
       "    </tr>\n",
       "    <tr>\n",
       "      <th>630</th>\n",
       "      <td>Walter Benítez</td>\n",
       "      <td>fr Ligue 1</td>\n",
       "      <td>28</td>\n",
       "      <td>1993</td>\n",
       "      <td>21-22</td>\n",
       "      <td>37.0</td>\n",
       "      <td>42.6</td>\n",
       "      <td>0.27</td>\n",
       "      <td>7.6</td>\n",
       "      <td>0.21</td>\n",
       "    </tr>\n",
       "    <tr>\n",
       "      <th>848</th>\n",
       "      <td>Walter Benítez</td>\n",
       "      <td>fr Ligue 1</td>\n",
       "      <td>28</td>\n",
       "      <td>1993</td>\n",
       "      <td>22-23</td>\n",
       "      <td>37.0</td>\n",
       "      <td>42.6</td>\n",
       "      <td>0.27</td>\n",
       "      <td>7.6</td>\n",
       "      <td>0.21</td>\n",
       "    </tr>\n",
       "  </tbody>\n",
       "</table>\n",
       "</div>"
      ],
      "text/plain": [
       "             Player                Comp  Age  Born Season   90s  PSxG  \\\n",
       "128       Jan Oblak          es La Liga   25  1993  18-19  37.0  39.3   \n",
       "297     Hugo Lloris  eng Premier League   32  1986  19-20  20.1  30.4   \n",
       "537       Jan Oblak          es La Liga   27  1993  20-21  38.0  33.1   \n",
       "630  Walter Benítez          fr Ligue 1   28  1993  21-22  37.0  42.6   \n",
       "848  Walter Benítez          fr Ligue 1   28  1993  22-23  37.0  42.6   \n",
       "\n",
       "     PSxG/SoT  PSxG+/-   /90  \n",
       "128      0.27     14.3  0.39  \n",
       "297      0.28     10.4  0.52  \n",
       "537      0.25     11.1  0.29  \n",
       "630      0.27      7.6  0.21  \n",
       "848      0.27      7.6  0.21  "
      ]
     },
     "execution_count": 459,
     "metadata": {},
     "output_type": "execute_result"
    }
   ],
   "source": [
    "filtered_gk.loc[filtered_gk.groupby('Season')['/90'].idxmax(), ['Player', 'Comp','Age', 'Born', 'Season', '90s', 'PSxG', 'PSxG/SoT', 'PSxG+/-', '/90', ]].sort_values(by='Season', )"
   ]
  },
  {
   "cell_type": "code",
   "execution_count": 460,
   "metadata": {},
   "outputs": [
    {
     "data": {
      "text/plain": [
       "0.2255"
      ]
     },
     "execution_count": 460,
     "metadata": {},
     "output_type": "execute_result"
    }
   ],
   "source": [
    "psxg_per95 = round(filtered_gk_no_23['/90'].quantile(0.95), 4)\n",
    "psxg_per95"
   ]
  },
  {
   "cell_type": "markdown",
   "metadata": {},
   "source": [
    "Player whose PSxG-GA/90 is above the 95th percentile"
   ]
  },
  {
   "cell_type": "code",
   "execution_count": 461,
   "metadata": {},
   "outputs": [
    {
     "data": {
      "text/html": [
       "<div>\n",
       "<style scoped>\n",
       "    .dataframe tbody tr th:only-of-type {\n",
       "        vertical-align: middle;\n",
       "    }\n",
       "\n",
       "    .dataframe tbody tr th {\n",
       "        vertical-align: top;\n",
       "    }\n",
       "\n",
       "    .dataframe thead th {\n",
       "        text-align: right;\n",
       "    }\n",
       "</style>\n",
       "<table border=\"1\" class=\"dataframe\">\n",
       "  <thead>\n",
       "    <tr style=\"text-align: right;\">\n",
       "      <th></th>\n",
       "      <th>Player</th>\n",
       "      <th>Comp</th>\n",
       "      <th>Age</th>\n",
       "      <th>Born</th>\n",
       "      <th>Season</th>\n",
       "      <th>90s</th>\n",
       "      <th>PSxG</th>\n",
       "      <th>PSxG/SoT</th>\n",
       "      <th>PSxG+/-</th>\n",
       "      <th>/90</th>\n",
       "    </tr>\n",
       "  </thead>\n",
       "  <tbody>\n",
       "    <tr>\n",
       "      <th>14</th>\n",
       "      <td>Walter Benítez</td>\n",
       "      <td>fr Ligue 1</td>\n",
       "      <td>25</td>\n",
       "      <td>1993</td>\n",
       "      <td>18-19</td>\n",
       "      <td>35.0</td>\n",
       "      <td>40.4</td>\n",
       "      <td>0.25</td>\n",
       "      <td>12.4</td>\n",
       "      <td>0.35</td>\n",
       "    </tr>\n",
       "    <tr>\n",
       "      <th>22</th>\n",
       "      <td>Yassine Bounou</td>\n",
       "      <td>es La Liga</td>\n",
       "      <td>27</td>\n",
       "      <td>1991</td>\n",
       "      <td>18-19</td>\n",
       "      <td>31.8</td>\n",
       "      <td>49.7</td>\n",
       "      <td>0.27</td>\n",
       "      <td>7.7</td>\n",
       "      <td>0.24</td>\n",
       "    </tr>\n",
       "    <tr>\n",
       "      <th>40</th>\n",
       "      <td>Alessio Cragno</td>\n",
       "      <td>it Serie A</td>\n",
       "      <td>24</td>\n",
       "      <td>1994</td>\n",
       "      <td>18-19</td>\n",
       "      <td>38.0</td>\n",
       "      <td>61.5</td>\n",
       "      <td>0.26</td>\n",
       "      <td>9.5</td>\n",
       "      <td>0.25</td>\n",
       "    </tr>\n",
       "    <tr>\n",
       "      <th>56</th>\n",
       "      <td>Łukasz Fabiański</td>\n",
       "      <td>eng Premier League</td>\n",
       "      <td>33</td>\n",
       "      <td>1985</td>\n",
       "      <td>18-19</td>\n",
       "      <td>38.0</td>\n",
       "      <td>62.7</td>\n",
       "      <td>0.31</td>\n",
       "      <td>8.7</td>\n",
       "      <td>0.23</td>\n",
       "    </tr>\n",
       "    <tr>\n",
       "      <th>75</th>\n",
       "      <td>Péter Gulácsi</td>\n",
       "      <td>de Bundesliga</td>\n",
       "      <td>28</td>\n",
       "      <td>1990</td>\n",
       "      <td>18-19</td>\n",
       "      <td>32.5</td>\n",
       "      <td>37.9</td>\n",
       "      <td>0.30</td>\n",
       "      <td>11.9</td>\n",
       "      <td>0.37</td>\n",
       "    </tr>\n",
       "    <tr>\n",
       "      <th>102</th>\n",
       "      <td>Hugo Lloris</td>\n",
       "      <td>eng Premier League</td>\n",
       "      <td>31</td>\n",
       "      <td>1986</td>\n",
       "      <td>18-19</td>\n",
       "      <td>33.0</td>\n",
       "      <td>39.2</td>\n",
       "      <td>0.27</td>\n",
       "      <td>9.2</td>\n",
       "      <td>0.28</td>\n",
       "    </tr>\n",
       "    <tr>\n",
       "      <th>124</th>\n",
       "      <td>Neto</td>\n",
       "      <td>es La Liga</td>\n",
       "      <td>29</td>\n",
       "      <td>1989</td>\n",
       "      <td>18-19</td>\n",
       "      <td>34.0</td>\n",
       "      <td>39.8</td>\n",
       "      <td>0.24</td>\n",
       "      <td>7.8</td>\n",
       "      <td>0.23</td>\n",
       "    </tr>\n",
       "    <tr>\n",
       "      <th>128</th>\n",
       "      <td>Jan Oblak</td>\n",
       "      <td>es La Liga</td>\n",
       "      <td>25</td>\n",
       "      <td>1993</td>\n",
       "      <td>18-19</td>\n",
       "      <td>37.0</td>\n",
       "      <td>39.3</td>\n",
       "      <td>0.27</td>\n",
       "      <td>14.3</td>\n",
       "      <td>0.39</td>\n",
       "    </tr>\n",
       "    <tr>\n",
       "      <th>218</th>\n",
       "      <td>Walter Benítez</td>\n",
       "      <td>fr Ligue 1</td>\n",
       "      <td>26</td>\n",
       "      <td>1993</td>\n",
       "      <td>19-20</td>\n",
       "      <td>26.0</td>\n",
       "      <td>41.1</td>\n",
       "      <td>0.28</td>\n",
       "      <td>7.1</td>\n",
       "      <td>0.27</td>\n",
       "    </tr>\n",
       "    <tr>\n",
       "      <th>297</th>\n",
       "      <td>Hugo Lloris</td>\n",
       "      <td>eng Premier League</td>\n",
       "      <td>32</td>\n",
       "      <td>1986</td>\n",
       "      <td>19-20</td>\n",
       "      <td>20.1</td>\n",
       "      <td>30.4</td>\n",
       "      <td>0.28</td>\n",
       "      <td>10.4</td>\n",
       "      <td>0.52</td>\n",
       "    </tr>\n",
       "    <tr>\n",
       "      <th>376</th>\n",
       "      <td>Unai Simón</td>\n",
       "      <td>es La Liga</td>\n",
       "      <td>22</td>\n",
       "      <td>1997</td>\n",
       "      <td>19-20</td>\n",
       "      <td>33.2</td>\n",
       "      <td>34.6</td>\n",
       "      <td>0.28</td>\n",
       "      <td>7.6</td>\n",
       "      <td>0.23</td>\n",
       "    </tr>\n",
       "    <tr>\n",
       "      <th>532</th>\n",
       "      <td>Keylor Navas</td>\n",
       "      <td>fr Ligue 1</td>\n",
       "      <td>33</td>\n",
       "      <td>1986</td>\n",
       "      <td>20-21</td>\n",
       "      <td>28.0</td>\n",
       "      <td>26.0</td>\n",
       "      <td>0.26</td>\n",
       "      <td>8.0</td>\n",
       "      <td>0.28</td>\n",
       "    </tr>\n",
       "    <tr>\n",
       "      <th>537</th>\n",
       "      <td>Jan Oblak</td>\n",
       "      <td>es La Liga</td>\n",
       "      <td>27</td>\n",
       "      <td>1993</td>\n",
       "      <td>20-21</td>\n",
       "      <td>38.0</td>\n",
       "      <td>33.1</td>\n",
       "      <td>0.25</td>\n",
       "      <td>11.1</td>\n",
       "      <td>0.29</td>\n",
       "    </tr>\n",
       "  </tbody>\n",
       "</table>\n",
       "</div>"
      ],
      "text/plain": [
       "               Player                Comp  Age  Born Season   90s  PSxG  \\\n",
       "14     Walter Benítez          fr Ligue 1   25  1993  18-19  35.0  40.4   \n",
       "22     Yassine Bounou          es La Liga   27  1991  18-19  31.8  49.7   \n",
       "40     Alessio Cragno          it Serie A   24  1994  18-19  38.0  61.5   \n",
       "56   Łukasz Fabiański  eng Premier League   33  1985  18-19  38.0  62.7   \n",
       "75      Péter Gulácsi       de Bundesliga   28  1990  18-19  32.5  37.9   \n",
       "102       Hugo Lloris  eng Premier League   31  1986  18-19  33.0  39.2   \n",
       "124              Neto          es La Liga   29  1989  18-19  34.0  39.8   \n",
       "128         Jan Oblak          es La Liga   25  1993  18-19  37.0  39.3   \n",
       "218    Walter Benítez          fr Ligue 1   26  1993  19-20  26.0  41.1   \n",
       "297       Hugo Lloris  eng Premier League   32  1986  19-20  20.1  30.4   \n",
       "376        Unai Simón          es La Liga   22  1997  19-20  33.2  34.6   \n",
       "532      Keylor Navas          fr Ligue 1   33  1986  20-21  28.0  26.0   \n",
       "537         Jan Oblak          es La Liga   27  1993  20-21  38.0  33.1   \n",
       "\n",
       "     PSxG/SoT  PSxG+/-   /90  \n",
       "14       0.25     12.4  0.35  \n",
       "22       0.27      7.7  0.24  \n",
       "40       0.26      9.5  0.25  \n",
       "56       0.31      8.7  0.23  \n",
       "75       0.30     11.9  0.37  \n",
       "102      0.27      9.2  0.28  \n",
       "124      0.24      7.8  0.23  \n",
       "128      0.27     14.3  0.39  \n",
       "218      0.28      7.1  0.27  \n",
       "297      0.28     10.4  0.52  \n",
       "376      0.28      7.6  0.23  \n",
       "532      0.26      8.0  0.28  \n",
       "537      0.25     11.1  0.29  "
      ]
     },
     "execution_count": 461,
     "metadata": {},
     "output_type": "execute_result"
    }
   ],
   "source": [
    "top_psxg = filtered_gk.loc[filtered_gk['/90'] >= psxg_per95, ['Player', 'Comp','Age', 'Born', 'Season', '90s', 'PSxG', 'PSxG/SoT', 'PSxG+/-', '/90', ]].sort_values(by='Season', )\n",
    "top_psxg"
   ]
  },
  {
   "cell_type": "markdown",
   "metadata": {},
   "source": [
    "Player whose PSxG-GA/90 is above 95th percentile with their age's between 27 and 31"
   ]
  },
  {
   "cell_type": "code",
   "execution_count": 462,
   "metadata": {},
   "outputs": [
    {
     "data": {
      "text/html": [
       "<div>\n",
       "<style scoped>\n",
       "    .dataframe tbody tr th:only-of-type {\n",
       "        vertical-align: middle;\n",
       "    }\n",
       "\n",
       "    .dataframe tbody tr th {\n",
       "        vertical-align: top;\n",
       "    }\n",
       "\n",
       "    .dataframe thead th {\n",
       "        text-align: right;\n",
       "    }\n",
       "</style>\n",
       "<table border=\"1\" class=\"dataframe\">\n",
       "  <thead>\n",
       "    <tr style=\"text-align: right;\">\n",
       "      <th></th>\n",
       "      <th>Player</th>\n",
       "      <th>Comp</th>\n",
       "      <th>Age</th>\n",
       "      <th>Born</th>\n",
       "      <th>Season</th>\n",
       "      <th>90s</th>\n",
       "      <th>PSxG</th>\n",
       "      <th>PSxG/SoT</th>\n",
       "      <th>PSxG+/-</th>\n",
       "      <th>/90</th>\n",
       "    </tr>\n",
       "  </thead>\n",
       "  <tbody>\n",
       "    <tr>\n",
       "      <th>22</th>\n",
       "      <td>Yassine Bounou</td>\n",
       "      <td>es La Liga</td>\n",
       "      <td>27</td>\n",
       "      <td>1991</td>\n",
       "      <td>18-19</td>\n",
       "      <td>31.8</td>\n",
       "      <td>49.7</td>\n",
       "      <td>0.27</td>\n",
       "      <td>7.7</td>\n",
       "      <td>0.24</td>\n",
       "    </tr>\n",
       "    <tr>\n",
       "      <th>75</th>\n",
       "      <td>Péter Gulácsi</td>\n",
       "      <td>de Bundesliga</td>\n",
       "      <td>28</td>\n",
       "      <td>1990</td>\n",
       "      <td>18-19</td>\n",
       "      <td>32.5</td>\n",
       "      <td>37.9</td>\n",
       "      <td>0.30</td>\n",
       "      <td>11.9</td>\n",
       "      <td>0.37</td>\n",
       "    </tr>\n",
       "    <tr>\n",
       "      <th>102</th>\n",
       "      <td>Hugo Lloris</td>\n",
       "      <td>eng Premier League</td>\n",
       "      <td>31</td>\n",
       "      <td>1986</td>\n",
       "      <td>18-19</td>\n",
       "      <td>33.0</td>\n",
       "      <td>39.2</td>\n",
       "      <td>0.27</td>\n",
       "      <td>9.2</td>\n",
       "      <td>0.28</td>\n",
       "    </tr>\n",
       "    <tr>\n",
       "      <th>124</th>\n",
       "      <td>Neto</td>\n",
       "      <td>es La Liga</td>\n",
       "      <td>29</td>\n",
       "      <td>1989</td>\n",
       "      <td>18-19</td>\n",
       "      <td>34.0</td>\n",
       "      <td>39.8</td>\n",
       "      <td>0.24</td>\n",
       "      <td>7.8</td>\n",
       "      <td>0.23</td>\n",
       "    </tr>\n",
       "    <tr>\n",
       "      <th>537</th>\n",
       "      <td>Jan Oblak</td>\n",
       "      <td>es La Liga</td>\n",
       "      <td>27</td>\n",
       "      <td>1993</td>\n",
       "      <td>20-21</td>\n",
       "      <td>38.0</td>\n",
       "      <td>33.1</td>\n",
       "      <td>0.25</td>\n",
       "      <td>11.1</td>\n",
       "      <td>0.29</td>\n",
       "    </tr>\n",
       "  </tbody>\n",
       "</table>\n",
       "</div>"
      ],
      "text/plain": [
       "             Player                Comp  Age  Born Season   90s  PSxG  \\\n",
       "22   Yassine Bounou          es La Liga   27  1991  18-19  31.8  49.7   \n",
       "75    Péter Gulácsi       de Bundesliga   28  1990  18-19  32.5  37.9   \n",
       "102     Hugo Lloris  eng Premier League   31  1986  18-19  33.0  39.2   \n",
       "124            Neto          es La Liga   29  1989  18-19  34.0  39.8   \n",
       "537       Jan Oblak          es La Liga   27  1993  20-21  38.0  33.1   \n",
       "\n",
       "     PSxG/SoT  PSxG+/-   /90  \n",
       "22       0.27      7.7  0.24  \n",
       "75       0.30     11.9  0.37  \n",
       "102      0.27      9.2  0.28  \n",
       "124      0.24      7.8  0.23  \n",
       "537      0.25     11.1  0.29  "
      ]
     },
     "execution_count": 462,
     "metadata": {},
     "output_type": "execute_result"
    }
   ],
   "source": [
    "top_psxg_27_31 = filtered_gk.loc[(filtered_gk['/90'] >= psxg_per95) & ((filtered_gk_no_23.Age >= 27) & (filtered_gk_no_23.Age <= 31)), ['Player', 'Comp','Age', 'Born', 'Season', '90s', 'PSxG', 'PSxG/SoT', 'PSxG+/-', '/90', ]].sort_values(by='Season', )\n",
    "top_psxg_27_31"
   ]
  },
  {
   "cell_type": "code",
   "execution_count": 463,
   "metadata": {},
   "outputs": [
    {
     "data": {
      "text/plain": [
       "38.46"
      ]
     },
     "execution_count": 463,
     "metadata": {},
     "output_type": "execute_result"
    }
   ],
   "source": [
    "round((top_psxg_27_31.Player.size / top_psxg.Player.size) * 100, 2)"
   ]
  },
  {
   "cell_type": "markdown",
   "metadata": {},
   "source": [
    "The player with the top stat of PSxG-GA/90 (The most stable metric for each certain player), their age's between 27 and 31 is around 30.77% of all"
   ]
  },
  {
   "cell_type": "markdown",
   "metadata": {},
   "source": [
    "### Summarization"
   ]
  },
  {
   "cell_type": "markdown",
   "metadata": {},
   "source": [
    "- Save%/90s : 46.15%\n",
    "- CS% : 38.46%\n",
    "- PSave% : 42.86\n",
    "- #OPA/90 : 36.36%\n",
    "- PSxG-GA/90 : 30.77%"
   ]
  },
  {
   "cell_type": "markdown",
   "metadata": {},
   "source": [
    "From these stats we've proved, all of these are above 30% of all the population and in every stats we used the 95th percentile to find the most stable value for the work peak or to defining top player which means \"The goalkeepers prime age is around 27 and 31\" is correct so far"
   ]
  }
 ],
 "metadata": {
  "deepnote": {},
  "deepnote_execution_queue": [],
  "deepnote_notebook_id": "e89459b265b546c791dfca15f617dcd0",
  "deepnote_persisted_session": {
   "createdAt": "2023-03-15T21:00:32.542Z"
  },
  "kernelspec": {
   "display_name": "Python 3 (ipykernel)",
   "language": "python",
   "name": "python3"
  },
  "language_info": {
   "codemirror_mode": {
    "name": "ipython",
    "version": 3
   },
   "file_extension": ".py",
   "mimetype": "text/x-python",
   "name": "python",
   "nbconvert_exporter": "python",
   "pygments_lexer": "ipython3",
   "version": "3.9.13"
  }
 },
 "nbformat": 4,
 "nbformat_minor": 1
}
