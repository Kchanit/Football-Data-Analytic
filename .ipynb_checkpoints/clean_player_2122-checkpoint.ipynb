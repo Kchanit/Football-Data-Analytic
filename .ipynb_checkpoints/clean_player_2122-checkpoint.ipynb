{
 "cells": [
  {
   "cell_type": "code",
   "execution_count": 3,
   "id": "9eb0f0e3",
   "metadata": {},
   "outputs": [
    {
     "ename": "ModuleNotFoundError",
     "evalue": "No module named 'seaborn'",
     "output_type": "error",
     "traceback": [
      "\u001b[1;31m---------------------------------------------------------------------------\u001b[0m",
      "\u001b[1;31mModuleNotFoundError\u001b[0m                       Traceback (most recent call last)",
      "Cell \u001b[1;32mIn [3], line 2\u001b[0m\n\u001b[0;32m      1\u001b[0m \u001b[38;5;28;01mimport\u001b[39;00m \u001b[38;5;21;01mpandas\u001b[39;00m \u001b[38;5;28;01mas\u001b[39;00m \u001b[38;5;21;01mpd\u001b[39;00m\n\u001b[1;32m----> 2\u001b[0m \u001b[38;5;28;01mimport\u001b[39;00m \u001b[38;5;21;01mseaborn\u001b[39;00m \u001b[38;5;28;01mas\u001b[39;00m \u001b[38;5;21;01msns\u001b[39;00m\n",
      "\u001b[1;31mModuleNotFoundError\u001b[0m: No module named 'seaborn'"
     ]
    }
   ],
   "source": [
    "import pandas as pd\n",
    "import seaborn as sns"
   ]
  },
  {
   "cell_type": "code",
   "execution_count": null,
   "id": "eafd5a46",
   "metadata": {},
   "outputs": [],
   "source": [
    "%matplotlib inline\n",
    "pd.set_option('display.max_columns', None)"
   ]
  },
  {
   "cell_type": "code",
   "execution_count": null,
   "id": "69379fc0",
   "metadata": {},
   "outputs": [],
   "source": [
    "df_standard22 = pd.read_csv('players_stat/standard(21-22).csv')\n",
    "df_passing22 = pd.read_csv('players_stat/passing(21-22).csv')\n",
    "df_creation22 = pd.read_csv('players_stat/creation(21-22).csv')\n",
    "df_shooting22 = pd.read_csv('players_stat/shooting(21-22).csv')\n",
    "df_defensive22 = pd.read_csv('players_stat/defensive(21-22).csv')\n",
    "df_possession22 = pd.read_csv('players_stat/possession(21-22).csv')\n",
    "df_keeper22 = pd.read_csv('players_stat/keeper(21-22).csv')\n",
    "df_keeperadv22 = pd.read_csv('players_stat/keeperadv(21-22).csv')\n",
    "df_playingtime22 = pd.read_csv('players_stat/playingtime(21-22).csv')\n",
    "df_misc22 = pd.read_csv('players_stat/misc(21-22).csv')\n"
   ]
  },
  {
   "cell_type": "code",
   "execution_count": null,
   "id": "30819a4c",
   "metadata": {},
   "outputs": [],
   "source": [
    "# add all the dataframes to a list\n",
    "df_list = [df_standard22, df_passing22, df_creation22, df_shooting22, df_defensive22,\n",
    "           df_possession22, df_keeper22, df_keeperadv22, df_playingtime22, df_misc22]\n",
    "#loop to concat all df\n",
    "for df in df_list:\n",
    "    new_cols = [col for col in df.columns if col not in df_standard22.columns]\n",
    "    df_standard22 = pd.concat([df_standard22, df[new_cols]], axis=1)"
   ]
  },
  {
   "cell_type": "code",
   "execution_count": null,
   "id": "846b6cf4",
   "metadata": {},
   "outputs": [],
   "source": [
    "# drop rows with NaN player names\n",
    "df_standard22.dropna(subset=['Player'], inplace=True)"
   ]
  },
  {
   "cell_type": "code",
   "execution_count": null,
   "id": "85f63ddc",
   "metadata": {},
   "outputs": [],
   "source": [
    "# df_standard22 = df_standard22.rename(columns={\"Goals\":\"G/90s\"})\n",
    "# df_21_21['Goals']= round(df_21_21['G/90s'] * df_21_21['90s'])\n",
    "# df_21_21.Goals = df_21_21.Goals.astype(int)"
   ]
  },
  {
   "cell_type": "code",
   "execution_count": null,
   "id": "e49c81b6",
   "metadata": {},
   "outputs": [],
   "source": [
    "df_standard22 = df_standard22.rename(columns={\"Player\": \"Name\", \"Squad\": \"Team\"})\n",
    "#Passing\n",
    "df_standard22 = df_standard22.rename(columns={\"Cmp\": \"TotCmp\", \"Att\": \"TotAtt\", \"Cmp%\": \"TotCmp%\", })\n",
    "df_standard22 = df_standard22.rename(columns={\"Cmp.1\": \"Cmp.Short\", \"Cmp.2\": \"Cmp.Medium\", \"Cmp.3\": \"Cmp.Long\", })\n",
    "df_standard22 = df_standard22.rename(columns={\"Att.1\": \"Att.Short\", \"Att.2\": \"Att.Medium\", \"Att.3\": \"Att.Long\", })\n",
    "df_standard22 = df_standard22.rename(columns={\"Cmp%.1\": \"Cmp%.Short\", \"Cmp%.2\": \"Cmp%.Medium\", \"Cmp%.3\": \"Cmp%.Long\",})\n",
    "df_standard22 = df_standard22.rename(columns={\"Gls.1\": \"Gls/90s\", \"Att\": \"TotAtt\", \"Cmp%\": \"TotCmp%\", })\n"
   ]
  },
  {
   "cell_type": "code",
   "execution_count": null,
   "id": "2e341131",
   "metadata": {},
   "outputs": [],
   "source": [
    "# Standard stat\n",
    "df_standard22 = df_standard22.rename(columns={\"Gls.1\": \"Gls.Per90min\",\n",
    "                                              \"Ast.1\": \"Ast.Per90min\",\n",
    "                                              \"G+A.1\": \"G+A.Per90min\",\n",
    "                                              \"G-PK.1\": \"G-PK.Per90min\",\n",
    "                                              \"xG.1\": \"xG.Per90min\",\n",
    "                                              \"xAG.1\": \"xAG.Per90min\",\n",
    "                                              \"npxG.1\": \"npxG.Per90min\",\n",
    "                                              \"npxG+xAG.1\": \"G-npxG+xAG.Per90min\"})\n",
    "# Goalkeeping & Advance Goalkeeping\n",
    "#PK = Penalty kick\n",
    "#GK = Goal Kick\n",
    "df_standard22 = df_standard22.rename(columns={\"AvgLen.1\": \"AvgLen.GK\",\n",
    "                                              \"Save%.1\": \"Save%.PK\",\n",
    "                                              \"Launch%.1\": \"Launch%.GK\"})\n",
    "# Goal and Shot Creation\n",
    "#GCA = Goal creating actions\n",
    "df_standard22 = df_standard22.rename(columns={\"PassLive.1\": \"PassLive.GCA\",\n",
    "                                              \"PassDead.1\": \"PassDead.GCA\",\n",
    "                                              \"TO.1\": \"TO.GCA\",\n",
    "                                              \"Sh.1\": \"Sh.GCA\",\n",
    "                                              \"Fld.1\": \"Fld.GCA\",\n",
    "                                              \"Def.1\": \"Def.GCA\"})\n",
    "# Defensive Action\n",
    "#CHLG = challenge\n",
    "df_standard22 = df_standard22.rename(columns={\"Tkl.1\": \"Tkl.CHLG\"})\n",
    "# Playing time\n",
    "df_standard22 = df_standard22.rename(columns={\"On-Off.1\": \"On-Off.xG\"})"
   ]
  },
  {
   "cell_type": "code",
   "execution_count": null,
   "id": "70e0b018",
   "metadata": {},
   "outputs": [],
   "source": [
    "#do only once or RESTART AND RUN ALL\n",
    "df_standard22.Nation = df_standard22.Nation.str.split(n=1).str.get(1)\n",
    "df_standard22.Comp = df_standard22.Comp.str.split(n=1).str.get(1)\n",
    "df_standard22.Age = df_standard22.Age.str.split('-').str.get(0)\n",
    "df_standard22 = df_standard22.drop(['Matches', '-9999'], axis=1)"
   ]
  },
  {
   "cell_type": "code",
   "execution_count": null,
   "id": "09161217",
   "metadata": {},
   "outputs": [],
   "source": [
    "df_standard22"
   ]
  },
  {
   "cell_type": "code",
   "execution_count": null,
   "id": "535fdb7a",
   "metadata": {},
   "outputs": [],
   "source": [
    "# df_standard22.filter(like='.3').columns.tolist()"
   ]
  },
  {
   "cell_type": "code",
   "execution_count": null,
   "id": "b9772ee0",
   "metadata": {
    "scrolled": true
   },
   "outputs": [],
   "source": [
    "temp = df_standard22[(df_standard22.Pos.str.startswith('FW') & df_standard22.Comp.str.contains('eng Premier League'))]\n",
    "temp = temp[(temp.Starts > 5) & (temp.Min > 450) & (temp.Gls > 2)]\n",
    "temp.shape"
   ]
  },
  {
   "cell_type": "code",
   "execution_count": null,
   "id": "91371ede",
   "metadata": {},
   "outputs": [],
   "source": [
    "temp['Gls-xG'] = temp['Gls'] - temp['xG']"
   ]
  },
  {
   "cell_type": "code",
   "execution_count": null,
   "id": "b61a3f88",
   "metadata": {},
   "outputs": [],
   "source": [
    "temp.sort_values(by='xG', ascending=False).head(10)[['Name','Gls','xG','Starts','Min']]"
   ]
  },
  {
   "cell_type": "code",
   "execution_count": null,
   "id": "b9f03eb4",
   "metadata": {
    "scrolled": false
   },
   "outputs": [],
   "source": [
    "import matplotlib.pyplot as plt\n",
    "sns.scatterplot(x='Gls', y='Gls-xG', data=temp.sort_values(by='xG', ascending=False).head(10), hue='Name')\n",
    "for i, row in temp.sort_values(by='xG', ascending=False).head(10).iterrows():\n",
    "    plt.text(row['Gls'], row['Gls-xG'], row['Name'], ha='center', va='center')"
   ]
  },
  {
   "cell_type": "code",
   "execution_count": null,
   "id": "dc4df13b",
   "metadata": {},
   "outputs": [],
   "source": []
  }
 ],
 "metadata": {
  "kernelspec": {
   "display_name": "Python 3 (ipykernel)",
   "language": "python",
   "name": "python3"
  },
  "language_info": {
   "codemirror_mode": {
    "name": "ipython",
    "version": 3
   },
   "file_extension": ".py",
   "mimetype": "text/x-python",
   "name": "python",
   "nbconvert_exporter": "python",
   "pygments_lexer": "ipython3",
   "version": "3.9.15"
  }
 },
 "nbformat": 4,
 "nbformat_minor": 5
}
