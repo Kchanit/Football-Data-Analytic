{
 "cells": [
  {
   "cell_type": "markdown",
   "metadata": {
    "cell_id": "1c4628817a114a14ac276e2f5b04c49e",
    "deepnote_cell_type": "text-cell-h1",
    "formattedRanges": [],
    "is_collapsed": false,
    "tags": []
   },
   "source": [
    "# จัดทำโดย"
   ]
  },
  {
   "cell_type": "markdown",
   "metadata": {
    "cell_id": "8786dc4447f248f69b402313199915d0",
    "deepnote_cell_type": "text-cell-p",
    "formattedRanges": [],
    "is_collapsed": false,
    "tags": []
   },
   "source": [
    "นายชนิตพล โลหะมงคล 6410406533                                                                                                                                                                                                        นายชยกร                                                                                                                                                                                                    นายนางสาวแพรวรุ้ง พุดชะวา 6410451253                                                                                                                                                                                                    นายอุรวิศ เจียรจินดา 6410406932"
   ]
  },
  {
   "cell_type": "markdown",
   "metadata": {
    "cell_id": "f3ed562ec6d54ba89876a263ea845419",
    "deepnote_cell_type": "text-cell-h1",
    "formattedRanges": [],
    "is_collapsed": false,
    "tags": []
   },
   "source": [
    "# เขียนคำนำ!!"
   ]
  },
  {
   "cell_type": "markdown",
   "metadata": {
    "cell_id": "57007ade6fa7475c8cfbad5e7a7e41bc",
    "deepnote_cell_type": "text-cell-p",
    "formattedRanges": [],
    "is_collapsed": false,
    "tags": []
   },
   "source": [
    "ทีมที่แข็งแกร่งนั้น คือ ทีมที่สามารถที่จะก้าวขึ้นเป็นที่ 1 ได้อย่างไม่ยาก หรือมีโอกาสคว้าชัยชนะเหนือทีมอื่นๆได้ไม่มากก็น้อย โดยการที่เราจะบอกว่าทีมนั้นเก่งมากๆนั้นสามารถวัดได้จาก อัตราการชนะ, อันดับในลีกต่างๆที่สามารถคว้าได้ และอื่นๆ ซึ่งสิ่งเหล่านี้เกิดจากหลายๆปัจจัยไม่ว่าจะเป็น โค้ชของทีม, แผนที่ใช้ในการเล่นแต่ละเกม แต่หนึ่งปัจจัยหลักนั้นก็คือ นักเตะในทีมนั้นเอง, การวิเคราะห์ข้อมูลต่างๆในแต่ละฤดูกาล จะทำให้เราสามารถเห็นได้ว่าปัจจัยต่างๆเหล่านี้ประกอบกัน จนทำให้ทีมฟุตบอลทีมหนึ่งเป็นทีมที่แข็งแกร่งมากๆ"
   ]
  },
  {
   "cell_type": "code",
   "execution_count": 1,
   "metadata": {
    "cell_id": "342ab96a7fc342da863191fac8cd2ff3",
    "deepnote_cell_type": "code",
    "deepnote_to_be_reexecuted": false,
    "execution_millis": 2329,
    "execution_start": 1679166175772,
    "source_hash": "68301009"
   },
   "outputs": [],
   "source": [
    "import pandas as pd\n",
    "import numpy as np\n",
    "import seaborn as sns\n",
    "import matplotlib.pyplot as plt"
   ]
  },
  {
   "cell_type": "code",
   "execution_count": 2,
   "metadata": {
    "cell_id": "39a8e05eb3c74d2393a4b694ecd8c66b",
    "deepnote_cell_type": "code",
    "deepnote_to_be_reexecuted": false,
    "execution_millis": 101,
    "execution_start": 1679166178098,
    "source_hash": "1ed3300c"
   },
   "outputs": [],
   "source": [
    "%matplotlib inline"
   ]
  },
  {
   "cell_type": "code",
   "execution_count": 3,
   "metadata": {
    "cell_id": "da10e8d888314d018da45256eb6599ec",
    "deepnote_cell_type": "code",
    "deepnote_to_be_reexecuted": false,
    "execution_millis": 28,
    "execution_start": 1679166178172,
    "source_hash": "561b256e"
   },
   "outputs": [],
   "source": [
    "pd.set_option('display.max_columns', None)"
   ]
  },
  {
   "cell_type": "markdown",
   "metadata": {
    "cell_id": "bc23bbcf441a46a19c29f8114d182dce",
    "deepnote_cell_type": "text-cell-h2",
    "formattedRanges": [],
    "is_collapsed": false,
    "tags": []
   },
   "source": [
    "## ข้อมูลที่ใช้ในการวิเคราะห์"
   ]
  },
  {
   "cell_type": "markdown",
   "metadata": {
    "cell_id": "3fe55e5966dd47a88c71f108d6fb2243",
    "deepnote_cell_type": "text-cell-p",
    "formattedRanges": [],
    "is_collapsed": false,
    "tags": []
   },
   "source": [
    "การเพิ่ม field ต่างๆจะทำให้การวิเคราะห์ง่ายขึ้น และสามารถใช้งานและวิเคราะห์ข้อมูลได้หลากหลายมากขึ้น                                                                         xG/90s หมายถึง จำนวนการทำเข้าประตูที่คาดว่าจะสามารถทำได้ ใน 90 นาที                                                                                                             (Gls-xG)/90s หมายถึง ความแตกต่างระหว่างจำนวนการทำประตูที่ทำได้จริง กับ  จำนวนการทำเข้าประตูที่คาดว่าจะสามารถทำได้ ใน 90 นาที                               KP90 หมายถึง  จำนวน Key pass ที่สามารถทำได้ ใน 90 นาที                                                                                                                                                                                              Ast90 หมายถึง จำนวน assist ที่สามารถทำได้ ใน 90 นาที                                                                                                                                                                                                      xA90 หมายถึง จำนวน assist ที่คาดว่าจะสามารถทำได้ ใน 90 นาที    "
   ]
  },
  {
   "cell_type": "code",
   "execution_count": 4,
   "metadata": {
    "cell_id": "0a1e5b563c9642db9173be82054a0fe7",
    "deepnote_cell_type": "code",
    "deepnote_to_be_reexecuted": false,
    "execution_millis": 118,
    "execution_start": 1679166178173,
    "source_hash": "c727dd7d"
   },
   "outputs": [],
   "source": [
    "df_22_23 = pd.read_csv('players_22-23.csv') # ข้อมูลฤดูกาล 2022-2023\n",
    "df_22_23['xG/90s'] = df_22_23['xG'] / df_22_23['90s']\n",
    "df_22_23['(Gls-xG)/90s'] = df_22_23['Gls/90s'] - df_22_23['xG/90s'] #Goals above xG\n",
    "df_22_23['KP90'] = round(df_22_23['KP'] / df_22_23['90s'], 2)\n",
    "df_22_23['Ast90'] = round(df_22_23['Ast'] / df_22_23['90s'], 3)\n",
    "df_22_23['xA90'] = round(df_22_23['xA'] / df_22_23['90s'], 3)\n",
    "\n",
    "df_22_23['TWR'] = df_22_23.TklW / (df_22_23.Tkl + df_22_23.Lost + df_22_23.Fls) * 100"
   ]
  },
  {
   "cell_type": "markdown",
   "metadata": {
    "cell_id": "312c28c73a004bd793199f0940bc8142",
    "deepnote_cell_type": "text-cell-p",
    "formattedRanges": [],
    "is_collapsed": false,
    "tags": []
   },
   "source": [
    "ในการวิเคราห์ประเด็นนี้ จะใช้ dataframe ในฤดูกาล 2022 ถึง 2023 ใน Premier League เท่านั้น                                                                            df_22_23_prem_mf จะเป็น dataframe ที่เราจะคัดมาเฉพาะแต่ตำแหน่ง กองกลาง (Midfielder)\n",
    "df_22_23_prem_fw จะเป็น dataframe ที่เราจะคัดมาเฉพาะแต่ตำแหน่ง กองหน้า (Forward or Striker)\n",
    "df_22_23_prem_fw_big5 จะเป็น dataframe ที่เราจะคัดมาเฉพาะแต่ตำแหน่ง กองหน้า (Forward or Striker) ที่อยู่ในทีม top 5 ของ English Premier League ในฤดูกาล 2022-2023 ได้แก่ Arsenal, Manchester City, Manchester United, Tottenham และ Liverpool"
   ]
  },
  {
   "cell_type": "code",
   "execution_count": 5,
   "metadata": {
    "cell_id": "5e1fd81351384d7ab36f0764d67c1e7d",
    "deepnote_cell_type": "code",
    "deepnote_to_be_reexecuted": false,
    "execution_millis": 28,
    "execution_start": 1679166178294,
    "source_hash": "27cfeeab"
   },
   "outputs": [],
   "source": [
    "df_22_23_prem = df_22_23[df_22_23.Comp.str.contains('Premier League')] #Prem only\n",
    "df_22_23_prem_mf = df_22_23_prem[(df_22_23_prem.Pos.str.startswith('MF') & (df_22_23_prem.Starts > 10) )] #Filter Midfield and Playtime\n",
    "df_22_23_prem_fw = df_22_23_prem[(df_22_23_prem.Pos.str.startswith('FW') \n",
    "                                  & (df_22_23_prem.Min > 450) & (df_22_23_prem.Gls > 2))] #Filter Forward"
   ]
  },
  {
   "cell_type": "code",
   "execution_count": 6,
   "metadata": {
    "cell_id": "7b7492a7feaa41bd830f06c11aa0f526",
    "deepnote_cell_type": "code",
    "deepnote_to_be_reexecuted": false,
    "execution_millis": 11,
    "execution_start": 1679166178329,
    "source_hash": "b22e452d"
   },
   "outputs": [],
   "source": [
    "df_22_23_prem_fw_big5 = df_22_23_prem_fw[df_22_23_prem_fw.Team.isin(['Arsenal', 'Manchester City', 'Manchester Utd', 'Tottenham', 'Liverpool'])]"
   ]
  },
  {
   "cell_type": "markdown",
   "metadata": {
    "cell_id": "0bd6721f2eb84082958aaa6129683df7",
    "deepnote_cell_type": "markdown"
   },
   "source": [
    "# Haaland คือนักเตะตำแหน่งกองหน้าที่ดีสุดใน English Premier League ?"
   ]
  },
  {
   "cell_type": "markdown",
   "metadata": {
    "cell_id": "f11ef47efbfa480dad61c1bf68fba72e",
    "deepnote_cell_type": "text-cell-p",
    "formattedRanges": [],
    "is_collapsed": false,
    "tags": []
   },
   "source": [
    "top_5 คือ ทีมที่ทำการแข่งขันใน English Premier League ในฤดูกาล 2022-2023 แล้วมีฟอร์มการเล่นของทีมที่โดดเด่นที่สุด                                             ได้แก่ Arsenal, Manchester City, Manchester United, Tottenham และ Liverpool"
   ]
  },
  {
   "cell_type": "code",
   "execution_count": 7,
   "metadata": {
    "cell_id": "98b9c767cbde4378a5a14440676b27b3",
    "deepnote_cell_type": "code",
    "deepnote_to_be_reexecuted": false,
    "execution_millis": 23,
    "execution_start": 1679166178348,
    "source_hash": "e360fe12"
   },
   "outputs": [],
   "source": [
    "top_5 = ['Arsenal', 'Manchester City', 'Manchester Utd', 'Tottenham', 'Liverpool']\n",
    "# top_5 = ['Arsenal', 'Manchester City', 'Manchester Utd', 'Tottenham', 'Liverpool', 'Newcastle']\n"
   ]
  },
  {
   "cell_type": "markdown",
   "metadata": {
    "cell_id": "35b2ad69720b496abc04c7fd02593945",
    "deepnote_cell_type": "text-cell-p",
    "formattedRanges": [],
    "is_collapsed": false,
    "tags": []
   },
   "source": [
    "ข้างล่างนี้คือข้อมูลภาพรวมค่า stats ต่างๆ ของตำแหน่ง กองหน้า (forward) แต่ละคนจาก df_22_23_prem_fw_big6 โดยเรียงลำดับจากการทำประตู Gls จากมากไปน้อย"
   ]
  },
  {
   "cell_type": "markdown",
   "metadata": {
    "cell_id": "a5fee759fc0f4ebca4fd62eddd9f5339",
    "deepnote_cell_type": "text-cell-h2",
    "formattedRanges": [],
    "is_collapsed": false,
    "tags": []
   },
   "source": [
    "## ภาพรวมการทำประตูของนักเตะใน EPL"
   ]
  },
  {
   "cell_type": "markdown",
   "metadata": {
    "cell_id": "4874a2c5ac59409487769cc63ed767e9",
    "deepnote_cell_type": "text-cell-p",
    "formattedRanges": [],
    "is_collapsed": false,
    "tags": []
   },
   "source": [
    "จากการสังเกตตาราง pivot table จะสังเกตได้ว่า Erling Haaland นักเตะกองหน้าจากทีม Manchester City ได้ทำประตูไป 27 ประตู ซึ่งมากที่สุดใน English Premier League ฤดูกาล 2022-2023 "
   ]
  },
  {
   "cell_type": "code",
   "execution_count": 8,
   "metadata": {
    "cell_id": "f90e1e253c114172a0830e38e63df646",
    "deepnote_cell_type": "code",
    "deepnote_to_be_reexecuted": false,
    "execution_millis": 73,
    "execution_start": 1679166178411,
    "source_hash": "f8a86333"
   },
   "outputs": [
    {
     "data": {
      "application/vnd.deepnote.dataframe.v3+json": {
       "column_count": 7,
       "columns": [
        {
         "dtype": "int64",
         "name": "Age",
         "stats": {
          "histogram": [
           {
            "bin_end": 22.1,
            "bin_start": 21,
            "count": 5
           },
           {
            "bin_end": 23.2,
            "bin_start": 22.1,
            "count": 5
           },
           {
            "bin_end": 24.3,
            "bin_start": 23.2,
            "count": 0
           },
           {
            "bin_end": 25.4,
            "bin_start": 24.3,
            "count": 2
           },
           {
            "bin_end": 26.5,
            "bin_start": 25.4,
            "count": 1
           },
           {
            "bin_end": 27.6,
            "bin_start": 26.5,
            "count": 2
           },
           {
            "bin_end": 28.700000000000003,
            "bin_start": 27.6,
            "count": 0
           },
           {
            "bin_end": 29.8,
            "bin_start": 28.700000000000003,
            "count": 1
           },
           {
            "bin_end": 30.9,
            "bin_start": 29.8,
            "count": 1
           },
           {
            "bin_end": 32,
            "bin_start": 30.9,
            "count": 2
           }
          ],
          "max": "32",
          "min": "21",
          "nan_count": 0,
          "unique_count": 10
         }
        },
        {
         "dtype": "float64",
         "name": "G/Sh",
         "stats": {
          "histogram": [
           {
            "bin_end": 0.11699999999999999,
            "bin_start": 0.09,
            "count": 4
           },
           {
            "bin_end": 0.14400000000000002,
            "bin_start": 0.11699999999999999,
            "count": 3
           },
           {
            "bin_end": 0.171,
            "bin_start": 0.14400000000000002,
            "count": 1
           },
           {
            "bin_end": 0.198,
            "bin_start": 0.171,
            "count": 4
           },
           {
            "bin_end": 0.225,
            "bin_start": 0.198,
            "count": 3
           },
           {
            "bin_end": 0.252,
            "bin_start": 0.225,
            "count": 1
           },
           {
            "bin_end": 0.279,
            "bin_start": 0.252,
            "count": 1
           },
           {
            "bin_end": 0.30600000000000005,
            "bin_start": 0.279,
            "count": 1
           },
           {
            "bin_end": 0.333,
            "bin_start": 0.30600000000000005,
            "count": 0
           },
           {
            "bin_end": 0.36,
            "bin_start": 0.333,
            "count": 1
           }
          ],
          "max": "0.36",
          "min": "0.09",
          "nan_count": 0,
          "unique_count": 16
         }
        },
        {
         "dtype": "float64",
         "name": "Gls",
         "stats": {
          "histogram": [
           {
            "bin_end": 5.4,
            "bin_start": 3,
            "count": 10
           },
           {
            "bin_end": 7.8,
            "bin_start": 5.4,
            "count": 0
           },
           {
            "bin_end": 10.2,
            "bin_start": 7.8,
            "count": 4
           },
           {
            "bin_end": 12.6,
            "bin_start": 10.2,
            "count": 2
           },
           {
            "bin_end": 15,
            "bin_start": 12.6,
            "count": 1
           },
           {
            "bin_end": 17.4,
            "bin_start": 15,
            "count": 0
           },
           {
            "bin_end": 19.8,
            "bin_start": 17.4,
            "count": 1
           },
           {
            "bin_end": 22.2,
            "bin_start": 19.8,
            "count": 0
           },
           {
            "bin_end": 24.599999999999998,
            "bin_start": 22.2,
            "count": 0
           },
           {
            "bin_end": 27,
            "bin_start": 24.599999999999998,
            "count": 1
           }
          ],
          "max": "27.0",
          "min": "3.0",
          "nan_count": 0,
          "unique_count": 10
         }
        },
        {
         "dtype": "float64",
         "name": "MP",
         "stats": {
          "histogram": [
           {
            "bin_end": 9.8,
            "bin_start": 8,
            "count": 3
           },
           {
            "bin_end": 11.6,
            "bin_start": 9.8,
            "count": 0
           },
           {
            "bin_end": 13.4,
            "bin_start": 11.6,
            "count": 2
           },
           {
            "bin_end": 15.2,
            "bin_start": 13.4,
            "count": 1
           },
           {
            "bin_end": 17,
            "bin_start": 15.2,
            "count": 0
           },
           {
            "bin_end": 18.8,
            "bin_start": 17,
            "count": 1
           },
           {
            "bin_end": 20.6,
            "bin_start": 18.8,
            "count": 4
           },
           {
            "bin_end": 22.4,
            "bin_start": 20.6,
            "count": 0
           },
           {
            "bin_end": 24.2,
            "bin_start": 22.4,
            "count": 2
           },
           {
            "bin_end": 26,
            "bin_start": 24.2,
            "count": 6
           }
          ],
          "max": "26.0",
          "min": "8.0",
          "nan_count": 0,
          "unique_count": 10
         }
        },
        {
         "dtype": "float64",
         "name": "SoT",
         "stats": {
          "histogram": [
           {
            "bin_end": 8.4,
            "bin_start": 5,
            "count": 5
           },
           {
            "bin_end": 11.8,
            "bin_start": 8.4,
            "count": 2
           },
           {
            "bin_end": 15.2,
            "bin_start": 11.8,
            "count": 1
           },
           {
            "bin_end": 18.6,
            "bin_start": 15.2,
            "count": 2
           },
           {
            "bin_end": 22,
            "bin_start": 18.6,
            "count": 3
           },
           {
            "bin_end": 25.4,
            "bin_start": 22,
            "count": 1
           },
           {
            "bin_end": 28.8,
            "bin_start": 25.4,
            "count": 0
           },
           {
            "bin_end": 32.2,
            "bin_start": 28.8,
            "count": 3
           },
           {
            "bin_end": 35.599999999999994,
            "bin_start": 32.2,
            "count": 0
           },
           {
            "bin_end": 39,
            "bin_start": 35.599999999999994,
            "count": 2
           }
          ],
          "max": "39.0",
          "min": "5.0",
          "nan_count": 0,
          "unique_count": 17
         }
        },
        {
         "dtype": "float64",
         "name": "Starts",
         "stats": {
          "histogram": [
           {
            "bin_end": 8,
            "bin_start": 6,
            "count": 4
           },
           {
            "bin_end": 10,
            "bin_start": 8,
            "count": 1
           },
           {
            "bin_end": 12,
            "bin_start": 10,
            "count": 2
           },
           {
            "bin_end": 14,
            "bin_start": 12,
            "count": 2
           },
           {
            "bin_end": 16,
            "bin_start": 14,
            "count": 2
           },
           {
            "bin_end": 18,
            "bin_start": 16,
            "count": 2
           },
           {
            "bin_end": 20,
            "bin_start": 18,
            "count": 0
           },
           {
            "bin_end": 22,
            "bin_start": 20,
            "count": 0
           },
           {
            "bin_end": 24,
            "bin_start": 22,
            "count": 1
           },
           {
            "bin_end": 26,
            "bin_start": 24,
            "count": 5
           }
          ],
          "max": "26.0",
          "min": "6.0",
          "nan_count": 0,
          "unique_count": 12
         }
        },
        {
         "dtype": "float64",
         "name": "xG",
         "stats": {
          "histogram": [
           {
            "bin_end": 3.42,
            "bin_start": 1.7,
            "count": 7
           },
           {
            "bin_end": 5.14,
            "bin_start": 3.42,
            "count": 3
           },
           {
            "bin_end": 6.86,
            "bin_start": 5.14,
            "count": 1
           },
           {
            "bin_end": 8.58,
            "bin_start": 6.86,
            "count": 2
           },
           {
            "bin_end": 10.299999999999999,
            "bin_start": 8.58,
            "count": 1
           },
           {
            "bin_end": 12.02,
            "bin_start": 10.299999999999999,
            "count": 3
           },
           {
            "bin_end": 13.739999999999998,
            "bin_start": 12.02,
            "count": 0
           },
           {
            "bin_end": 15.459999999999999,
            "bin_start": 13.739999999999998,
            "count": 1
           },
           {
            "bin_end": 17.18,
            "bin_start": 15.459999999999999,
            "count": 0
           },
           {
            "bin_end": 18.9,
            "bin_start": 17.18,
            "count": 1
           }
          ],
          "max": "18.9",
          "min": "1.7",
          "nan_count": 0,
          "unique_count": 14
         }
        },
        {
         "dtype": "object",
         "name": "_deepnote_index_column"
        }
       ],
       "row_count": 19,
       "rows": [
        {
         "Age": "22",
         "G/Sh": "0.28",
         "Gls": "27.0",
         "MP": "25.0",
         "SoT": "39.0",
         "Starts": "24.0",
         "_deepnote_index_column": "('Erling Haaland', 'Manchester City', 'FW')",
         "xG": "18.9"
        },
        {
         "Age": "29",
         "G/Sh": "0.18",
         "Gls": "18.0",
         "MP": "26.0",
         "SoT": "37.0",
         "Starts": "26.0",
         "_deepnote_index_column": "('Harry Kane', 'Tottenham', 'FW')",
         "xG": "13.8"
        },
        {
         "Age": "25",
         "G/Sh": "0.21",
         "Gls": "14.0",
         "MP": "25.0",
         "SoT": "31.0",
         "Starts": "23.0",
         "_deepnote_index_column": "('Marcus Rashford', 'Manchester Utd', 'FW')",
         "xG": "10.3"
        },
        {
         "Age": "30",
         "G/Sh": "0.14",
         "Gls": "11.0",
         "MP": "25.0",
         "SoT": "32.0",
         "Starts": "25.0",
         "_deepnote_index_column": "('Mohamed Salah', 'Liverpool', 'FW')",
         "xG": "11.8"
        },
        {
         "Age": "21",
         "G/Sh": "0.18",
         "Gls": "11.0",
         "MP": "26.0",
         "SoT": "22.0",
         "Starts": "25.0",
         "_deepnote_index_column": "('Martinelli', 'Arsenal', 'FW')",
         "xG": "6.7"
        },
        {
         "Age": "21",
         "G/Sh": "0.13",
         "Gls": "10.0",
         "MP": "26.0",
         "SoT": "19.0",
         "Starts": "26.0",
         "_deepnote_index_column": "('Bukayo Saka', 'Arsenal', 'FW')",
         "xG": "8.7"
        },
        {
         "Age": "22",
         "G/Sh": "0.26",
         "Gls": "9.0",
         "MP": "23.0",
         "SoT": "18.0",
         "Starts": "16.0",
         "_deepnote_index_column": "('Phil Foden', 'Manchester City', 'FW')",
         "xG": "4.6"
        },
        {
         "Age": "31",
         "G/Sh": "0.24",
         "Gls": "8.0",
         "MP": "18.0",
         "SoT": "21.0",
         "Starts": "11.0",
         "_deepnote_index_column": "('Roberto Firmino', 'Liverpool', 'FWMF')",
         "xG": "4.5"
        },
        {
         "Age": "23",
         "G/Sh": "0.11",
         "Gls": "8.0",
         "MP": "19.0",
         "SoT": "30.0",
         "Starts": "15.0",
         "_deepnote_index_column": "('Darwin Núñez', 'Liverpool', 'FW')",
         "xG": "10.3"
        },
        {
         "Age": "25",
         "G/Sh": "0.1",
         "Gls": "5.0",
         "MP": "14.0",
         "SoT": "20.0",
         "Starts": "14.0",
         "_deepnote_index_column": "('Gabriel Jesus', 'Arsenal', 'FW')",
         "xG": "7.7"
        }
       ]
      },
      "text/html": [
       "<div>\n",
       "<style scoped>\n",
       "    .dataframe tbody tr th:only-of-type {\n",
       "        vertical-align: middle;\n",
       "    }\n",
       "\n",
       "    .dataframe tbody tr th {\n",
       "        vertical-align: top;\n",
       "    }\n",
       "\n",
       "    .dataframe thead th {\n",
       "        text-align: right;\n",
       "    }\n",
       "</style>\n",
       "<table border=\"1\" class=\"dataframe\">\n",
       "  <thead>\n",
       "    <tr style=\"text-align: right;\">\n",
       "      <th></th>\n",
       "      <th></th>\n",
       "      <th></th>\n",
       "      <th>Age</th>\n",
       "      <th>G/Sh</th>\n",
       "      <th>Gls</th>\n",
       "      <th>MP</th>\n",
       "      <th>SoT</th>\n",
       "      <th>Starts</th>\n",
       "      <th>xG</th>\n",
       "    </tr>\n",
       "    <tr>\n",
       "      <th>Name</th>\n",
       "      <th>Team</th>\n",
       "      <th>Pos</th>\n",
       "      <th></th>\n",
       "      <th></th>\n",
       "      <th></th>\n",
       "      <th></th>\n",
       "      <th></th>\n",
       "      <th></th>\n",
       "      <th></th>\n",
       "    </tr>\n",
       "  </thead>\n",
       "  <tbody>\n",
       "    <tr>\n",
       "      <th>Erling Haaland</th>\n",
       "      <th>Manchester City</th>\n",
       "      <th>FW</th>\n",
       "      <td>22</td>\n",
       "      <td>0.28</td>\n",
       "      <td>27.0</td>\n",
       "      <td>25.0</td>\n",
       "      <td>39.0</td>\n",
       "      <td>24.0</td>\n",
       "      <td>18.9</td>\n",
       "    </tr>\n",
       "    <tr>\n",
       "      <th>Harry Kane</th>\n",
       "      <th>Tottenham</th>\n",
       "      <th>FW</th>\n",
       "      <td>29</td>\n",
       "      <td>0.18</td>\n",
       "      <td>18.0</td>\n",
       "      <td>26.0</td>\n",
       "      <td>37.0</td>\n",
       "      <td>26.0</td>\n",
       "      <td>13.8</td>\n",
       "    </tr>\n",
       "    <tr>\n",
       "      <th>Marcus Rashford</th>\n",
       "      <th>Manchester Utd</th>\n",
       "      <th>FW</th>\n",
       "      <td>25</td>\n",
       "      <td>0.21</td>\n",
       "      <td>14.0</td>\n",
       "      <td>25.0</td>\n",
       "      <td>31.0</td>\n",
       "      <td>23.0</td>\n",
       "      <td>10.3</td>\n",
       "    </tr>\n",
       "    <tr>\n",
       "      <th>Mohamed Salah</th>\n",
       "      <th>Liverpool</th>\n",
       "      <th>FW</th>\n",
       "      <td>30</td>\n",
       "      <td>0.14</td>\n",
       "      <td>11.0</td>\n",
       "      <td>25.0</td>\n",
       "      <td>32.0</td>\n",
       "      <td>25.0</td>\n",
       "      <td>11.8</td>\n",
       "    </tr>\n",
       "    <tr>\n",
       "      <th>Martinelli</th>\n",
       "      <th>Arsenal</th>\n",
       "      <th>FW</th>\n",
       "      <td>21</td>\n",
       "      <td>0.18</td>\n",
       "      <td>11.0</td>\n",
       "      <td>26.0</td>\n",
       "      <td>22.0</td>\n",
       "      <td>25.0</td>\n",
       "      <td>6.7</td>\n",
       "    </tr>\n",
       "    <tr>\n",
       "      <th>Bukayo Saka</th>\n",
       "      <th>Arsenal</th>\n",
       "      <th>FW</th>\n",
       "      <td>21</td>\n",
       "      <td>0.13</td>\n",
       "      <td>10.0</td>\n",
       "      <td>26.0</td>\n",
       "      <td>19.0</td>\n",
       "      <td>26.0</td>\n",
       "      <td>8.7</td>\n",
       "    </tr>\n",
       "    <tr>\n",
       "      <th>Phil Foden</th>\n",
       "      <th>Manchester City</th>\n",
       "      <th>FW</th>\n",
       "      <td>22</td>\n",
       "      <td>0.26</td>\n",
       "      <td>9.0</td>\n",
       "      <td>23.0</td>\n",
       "      <td>18.0</td>\n",
       "      <td>16.0</td>\n",
       "      <td>4.6</td>\n",
       "    </tr>\n",
       "    <tr>\n",
       "      <th>Roberto Firmino</th>\n",
       "      <th>Liverpool</th>\n",
       "      <th>FWMF</th>\n",
       "      <td>31</td>\n",
       "      <td>0.24</td>\n",
       "      <td>8.0</td>\n",
       "      <td>18.0</td>\n",
       "      <td>21.0</td>\n",
       "      <td>11.0</td>\n",
       "      <td>4.5</td>\n",
       "    </tr>\n",
       "    <tr>\n",
       "      <th>Darwin Núñez</th>\n",
       "      <th>Liverpool</th>\n",
       "      <th>FW</th>\n",
       "      <td>23</td>\n",
       "      <td>0.11</td>\n",
       "      <td>8.0</td>\n",
       "      <td>19.0</td>\n",
       "      <td>30.0</td>\n",
       "      <td>15.0</td>\n",
       "      <td>10.3</td>\n",
       "    </tr>\n",
       "    <tr>\n",
       "      <th>Gabriel Jesus</th>\n",
       "      <th>Arsenal</th>\n",
       "      <th>FW</th>\n",
       "      <td>25</td>\n",
       "      <td>0.10</td>\n",
       "      <td>5.0</td>\n",
       "      <td>14.0</td>\n",
       "      <td>20.0</td>\n",
       "      <td>14.0</td>\n",
       "      <td>7.7</td>\n",
       "    </tr>\n",
       "    <tr>\n",
       "      <th>Riyad Mahrez</th>\n",
       "      <th>Manchester City</th>\n",
       "      <th>FWMF</th>\n",
       "      <td>32</td>\n",
       "      <td>0.15</td>\n",
       "      <td>5.0</td>\n",
       "      <td>19.0</td>\n",
       "      <td>9.0</td>\n",
       "      <td>12.0</td>\n",
       "      <td>4.6</td>\n",
       "    </tr>\n",
       "    <tr>\n",
       "      <th>Julián Álvarez</th>\n",
       "      <th>Manchester City</th>\n",
       "      <th>FWMF</th>\n",
       "      <td>23</td>\n",
       "      <td>0.20</td>\n",
       "      <td>5.0</td>\n",
       "      <td>19.0</td>\n",
       "      <td>10.0</td>\n",
       "      <td>6.0</td>\n",
       "      <td>3.2</td>\n",
       "    </tr>\n",
       "    <tr>\n",
       "      <th>Cody Gakpo</th>\n",
       "      <th>Liverpool</th>\n",
       "      <th>FW</th>\n",
       "      <td>23</td>\n",
       "      <td>0.22</td>\n",
       "      <td>4.0</td>\n",
       "      <td>8.0</td>\n",
       "      <td>6.0</td>\n",
       "      <td>7.0</td>\n",
       "      <td>3.2</td>\n",
       "    </tr>\n",
       "    <tr>\n",
       "      <th>Eddie Nketiah</th>\n",
       "      <th>Arsenal</th>\n",
       "      <th>FW</th>\n",
       "      <td>23</td>\n",
       "      <td>0.10</td>\n",
       "      <td>4.0</td>\n",
       "      <td>23.0</td>\n",
       "      <td>14.0</td>\n",
       "      <td>9.0</td>\n",
       "      <td>7.7</td>\n",
       "    </tr>\n",
       "    <tr>\n",
       "      <th>Jadon Sancho</th>\n",
       "      <th>Manchester Utd</th>\n",
       "      <th>FWMF</th>\n",
       "      <td>22</td>\n",
       "      <td>0.36</td>\n",
       "      <td>4.0</td>\n",
       "      <td>13.0</td>\n",
       "      <td>6.0</td>\n",
       "      <td>11.0</td>\n",
       "      <td>2.5</td>\n",
       "    </tr>\n",
       "    <tr>\n",
       "      <th>Anthony Martial</th>\n",
       "      <th>Manchester Utd</th>\n",
       "      <th>FW</th>\n",
       "      <td>27</td>\n",
       "      <td>0.18</td>\n",
       "      <td>3.0</td>\n",
       "      <td>9.0</td>\n",
       "      <td>5.0</td>\n",
       "      <td>6.0</td>\n",
       "      <td>3.2</td>\n",
       "    </tr>\n",
       "    <tr>\n",
       "      <th>Luis Díaz</th>\n",
       "      <th>Liverpool</th>\n",
       "      <th>FW</th>\n",
       "      <td>26</td>\n",
       "      <td>0.19</td>\n",
       "      <td>3.0</td>\n",
       "      <td>8.0</td>\n",
       "      <td>7.0</td>\n",
       "      <td>7.0</td>\n",
       "      <td>1.7</td>\n",
       "    </tr>\n",
       "    <tr>\n",
       "      <th>Antony</th>\n",
       "      <th>Manchester Utd</th>\n",
       "      <th>FW</th>\n",
       "      <td>23</td>\n",
       "      <td>0.09</td>\n",
       "      <td>3.0</td>\n",
       "      <td>13.0</td>\n",
       "      <td>16.0</td>\n",
       "      <td>12.0</td>\n",
       "      <td>2.8</td>\n",
       "    </tr>\n",
       "    <tr>\n",
       "      <th>Jack Grealish</th>\n",
       "      <th>Manchester City</th>\n",
       "      <th>FW</th>\n",
       "      <td>27</td>\n",
       "      <td>0.12</td>\n",
       "      <td>3.0</td>\n",
       "      <td>20.0</td>\n",
       "      <td>6.0</td>\n",
       "      <td>16.0</td>\n",
       "      <td>3.1</td>\n",
       "    </tr>\n",
       "  </tbody>\n",
       "</table>\n",
       "</div>"
      ],
      "text/plain": [
       "                                      Age  G/Sh   Gls    MP   SoT  Starts  \\\n",
       "Name            Team            Pos                                         \n",
       "Erling Haaland  Manchester City FW     22  0.28  27.0  25.0  39.0    24.0   \n",
       "Harry Kane      Tottenham       FW     29  0.18  18.0  26.0  37.0    26.0   \n",
       "Marcus Rashford Manchester Utd  FW     25  0.21  14.0  25.0  31.0    23.0   \n",
       "Mohamed Salah   Liverpool       FW     30  0.14  11.0  25.0  32.0    25.0   \n",
       "Martinelli      Arsenal         FW     21  0.18  11.0  26.0  22.0    25.0   \n",
       "Bukayo Saka     Arsenal         FW     21  0.13  10.0  26.0  19.0    26.0   \n",
       "Phil Foden      Manchester City FW     22  0.26   9.0  23.0  18.0    16.0   \n",
       "Roberto Firmino Liverpool       FWMF   31  0.24   8.0  18.0  21.0    11.0   \n",
       "Darwin Núñez    Liverpool       FW     23  0.11   8.0  19.0  30.0    15.0   \n",
       "Gabriel Jesus   Arsenal         FW     25  0.10   5.0  14.0  20.0    14.0   \n",
       "Riyad Mahrez    Manchester City FWMF   32  0.15   5.0  19.0   9.0    12.0   \n",
       "Julián Álvarez  Manchester City FWMF   23  0.20   5.0  19.0  10.0     6.0   \n",
       "Cody Gakpo      Liverpool       FW     23  0.22   4.0   8.0   6.0     7.0   \n",
       "Eddie Nketiah   Arsenal         FW     23  0.10   4.0  23.0  14.0     9.0   \n",
       "Jadon Sancho    Manchester Utd  FWMF   22  0.36   4.0  13.0   6.0    11.0   \n",
       "Anthony Martial Manchester Utd  FW     27  0.18   3.0   9.0   5.0     6.0   \n",
       "Luis Díaz       Liverpool       FW     26  0.19   3.0   8.0   7.0     7.0   \n",
       "Antony          Manchester Utd  FW     23  0.09   3.0  13.0  16.0    12.0   \n",
       "Jack Grealish   Manchester City FW     27  0.12   3.0  20.0   6.0    16.0   \n",
       "\n",
       "                                        xG  \n",
       "Name            Team            Pos         \n",
       "Erling Haaland  Manchester City FW    18.9  \n",
       "Harry Kane      Tottenham       FW    13.8  \n",
       "Marcus Rashford Manchester Utd  FW    10.3  \n",
       "Mohamed Salah   Liverpool       FW    11.8  \n",
       "Martinelli      Arsenal         FW     6.7  \n",
       "Bukayo Saka     Arsenal         FW     8.7  \n",
       "Phil Foden      Manchester City FW     4.6  \n",
       "Roberto Firmino Liverpool       FWMF   4.5  \n",
       "Darwin Núñez    Liverpool       FW    10.3  \n",
       "Gabriel Jesus   Arsenal         FW     7.7  \n",
       "Riyad Mahrez    Manchester City FWMF   4.6  \n",
       "Julián Álvarez  Manchester City FWMF   3.2  \n",
       "Cody Gakpo      Liverpool       FW     3.2  \n",
       "Eddie Nketiah   Arsenal         FW     7.7  \n",
       "Jadon Sancho    Manchester Utd  FWMF   2.5  \n",
       "Anthony Martial Manchester Utd  FW     3.2  \n",
       "Luis Díaz       Liverpool       FW     1.7  \n",
       "Antony          Manchester Utd  FW     2.8  \n",
       "Jack Grealish   Manchester City FW     3.1  "
      ]
     },
     "execution_count": 8,
     "metadata": {},
     "output_type": "execute_result"
    }
   ],
   "source": [
    "df_22_23_prem_fw_big5.pivot_table(index=['Name', 'Team', 'Pos'], values=['xG', 'Gls', 'Age', 'MP', 'Starts', 'G/Sh', 'SoT']).sort_values(by='Gls', ascending=False)\n",
    "# ข้อมูลภาพรวมกองหน้าใน EPL (English Premier League)"
   ]
  },
  {
   "cell_type": "markdown",
   "metadata": {
    "cell_id": "22e329009fbc4407a690eb7ff0b8b05c",
    "deepnote_cell_type": "text-cell-h2",
    "formattedRanges": [],
    "is_collapsed": false,
    "tags": []
   },
   "source": [
    "## Manchester City ทำประตูได้มากที่สุดใน EPL เช่นกัน"
   ]
  },
  {
   "cell_type": "markdown",
   "metadata": {
    "cell_id": "996c5324d0bb46ad9d8d5908bc7c1ea4",
    "deepnote_cell_type": "text-cell-p",
    "formattedRanges": [],
    "is_collapsed": false,
    "tags": []
   },
   "source": [
    "เมื่อเปรียบเทียบผลรวมจำนวนการทำประตูของแต่ละทีมแล้ว ค้นพบว่า Manchester City นั้นทำประตูมากที่สุดใน English Premier League ฤดูกาล 2022-2023  เช่นกัน"
   ]
  },
  {
   "cell_type": "code",
   "execution_count": 9,
   "metadata": {
    "cell_id": "e300e3bf6792487bad19b9d58fa1e530",
    "deepnote_cell_type": "code",
    "deepnote_to_be_reexecuted": false,
    "execution_millis": 5,
    "execution_start": 1679166178513,
    "source_hash": "2ed79512"
   },
   "outputs": [
    {
     "data": {
      "text/plain": [
       "Team\n",
       "Manchester City    64.0\n",
       "Arsenal            56.0\n",
       "Tottenham          44.0\n",
       "Liverpool          43.0\n",
       "Brentford          39.0\n",
       "Brighton           39.0\n",
       "Manchester Utd     39.0\n",
       "Fulham             35.0\n",
       "Newcastle Utd      34.0\n",
       "Leicester City     34.0\n",
       "Name: Gls, dtype: float64"
      ]
     },
     "execution_count": 9,
     "metadata": {},
     "output_type": "execute_result"
    }
   ],
   "source": [
    "df_22_23_prem.groupby(by='Team').Gls.sum().sort_values(ascending=False).head(10)\n",
    "#10 ทีมที่ทำประตูเยอะสุด"
   ]
  },
  {
   "cell_type": "markdown",
   "metadata": {
    "cell_id": "4ef79aed603d477388dcca890cc46470",
    "deepnote_cell_type": "text-cell-h2",
    "formattedRanges": [],
    "is_collapsed": false,
    "tags": []
   },
   "source": [
    "## Erling Haaland ทำประตูไปถึง 42% จากการทำประตูของทั้งทีม"
   ]
  },
  {
   "cell_type": "markdown",
   "metadata": {
    "cell_id": "4f6f36bcdb0545778cce0fcd75c2de35",
    "deepnote_cell_type": "text-cell-p",
    "formattedRanges": [],
    "is_collapsed": false,
    "tags": []
   },
   "source": [
    "df_22_23_mci คือ dataframe ที่คัดเลือกมาเฉพาะ ผู้เล่นจากทีม Manchester City ใน EPL ฤดูกาล 2022-2033\n",
    "df_22_23_mci_fw คือ df_22_23_mci ที่คัดเลือกมาเฉพาะนักเตะในตำแหน่ง กองหน้า (forward)"
   ]
  },
  {
   "cell_type": "code",
   "execution_count": 10,
   "metadata": {
    "cell_id": "654064af07654121be4fd871ac3ba4de",
    "deepnote_cell_type": "code",
    "deepnote_to_be_reexecuted": false,
    "execution_millis": 3,
    "execution_start": 1679166178530,
    "source_hash": "36e431f2"
   },
   "outputs": [],
   "source": [
    "df_22_23_mci = df_22_23_prem[df_22_23_prem.Team == 'Manchester City'] #filter MCI\n",
    "df_22_23_mci_fw = df_22_23_mci[df_22_23_mci.Pos.str.startswith('FW')] #filter forward"
   ]
  },
  {
   "cell_type": "markdown",
   "metadata": {
    "cell_id": "fef73db7c43d4fc6a7456fafbb650b5d",
    "deepnote_cell_type": "text-cell-p",
    "formattedRanges": [],
    "is_collapsed": false,
    "tags": []
   },
   "source": [
    "แสดงผลการทำประตูของ ทีม Manchester City ผ่านทาง pie chart, สังเกตได้ว่า Erling Haaland ทำประตูไปถึง 42% จากการทำประตูของทั้งทีม ซึ่งถือว่าเกือบครึ่งของการทำประตูจากทีม Manchester City นั้นมาจากการทำประตูของ Haaland คนเดียว"
   ]
  },
  {
   "cell_type": "code",
   "execution_count": 11,
   "metadata": {
    "cell_id": "73ff2fa4dcf94c009537974447db79ff",
    "deepnote_cell_type": "code",
    "deepnote_to_be_reexecuted": false,
    "execution_millis": 97,
    "execution_start": 1679166178535,
    "source_hash": "f75446cc"
   },
   "outputs": [
    {
     "data": {
      "text/plain": [
       "Text(0.5, 1.0, 'Manchester City Goal Scorer')"
      ]
     },
     "execution_count": 11,
     "metadata": {},
     "output_type": "execute_result"
    },
    {
     "data": {
      "image/png": "[encoded data removed]",
      "text/plain": [
       "<Figure size 640x480 with 1 Axes>"
      ]
     },
     "metadata": {
      "image/png": {
       "height": 411,
       "width": 510
      }
     },
     "output_type": "display_data"
    }
   ],
   "source": [
    "plt.pie(data=df_22_23_mci[df_22_23_mci.Gls > 0], x='Gls', labels='Name', autopct='%.0f%%')\n",
    "plt.title(\"Manchester City Goal Scorer\")"
   ]
  },
  {
   "cell_type": "markdown",
   "metadata": {
    "cell_id": "17c2252b371b4964b9a4d04c7128874b",
    "deepnote_cell_type": "text-cell-h2",
    "formattedRanges": [],
    "is_collapsed": false,
    "tags": []
   },
   "source": [
    "## Erling Haaland อยู่ใน top 5 ผู้ที่ทำประตูเยอะที่สุดใน EPL"
   ]
  },
  {
   "cell_type": "markdown",
   "metadata": {
    "cell_id": "714b50d5fbd5496a977c0d6e4f703e39",
    "deepnote_cell_type": "text-cell-p",
    "formattedRanges": [],
    "is_collapsed": false,
    "tags": []
   },
   "source": [
    "top5_gls คือการคัดเลือก กองหน้าที่สามารถทำประตูได้มากที่สุด 5 คนจาก EPL ในฤดูกาล 2022-2023 โดยเลียงลำดับตามจำนวนการทำประตู"
   ]
  },
  {
   "cell_type": "code",
   "execution_count": 12,
   "metadata": {
    "cell_id": "0bdd85f08aa748d698f57cf261415866",
    "deepnote_cell_type": "code",
    "deepnote_to_be_reexecuted": false,
    "execution_millis": 155,
    "execution_start": 1679166179048,
    "source_hash": "fd0bd208"
   },
   "outputs": [
    {
     "data": {
      "application/vnd.deepnote.dataframe.v3+json": {
       "column_count": 5,
       "columns": [
        {
         "dtype": "object",
         "name": "Name",
         "stats": {
          "categories": [
           {
            "count": 1,
            "name": "Erling Haaland"
           },
           {
            "count": 1,
            "name": "Harry Kane"
           },
           {
            "count": 3,
            "name": "3 others"
           }
          ],
          "nan_count": 0,
          "unique_count": 5
         }
        },
        {
         "dtype": "float64",
         "name": "Gls",
         "stats": {
          "histogram": [
           {
            "bin_end": 12.6,
            "bin_start": 11,
            "count": 2
           },
           {
            "bin_end": 14.2,
            "bin_start": 12.6,
            "count": 1
           },
           {
            "bin_end": 15.8,
            "bin_start": 14.2,
            "count": 0
           },
           {
            "bin_end": 17.4,
            "bin_start": 15.8,
            "count": 0
           },
           {
            "bin_end": 19,
            "bin_start": 17.4,
            "count": 1
           },
           {
            "bin_end": 20.6,
            "bin_start": 19,
            "count": 0
           },
           {
            "bin_end": 22.200000000000003,
            "bin_start": 20.6,
            "count": 0
           },
           {
            "bin_end": 23.8,
            "bin_start": 22.200000000000003,
            "count": 0
           },
           {
            "bin_end": 25.4,
            "bin_start": 23.8,
            "count": 0
           },
           {
            "bin_end": 27,
            "bin_start": 25.4,
            "count": 1
           }
          ],
          "max": "27.0",
          "min": "11.0",
          "nan_count": 0,
          "unique_count": 4
         }
        },
        {
         "dtype": "float64",
         "name": "xG",
         "stats": {
          "histogram": [
           {
            "bin_end": 7.92,
            "bin_start": 6.7,
            "count": 1
           },
           {
            "bin_end": 9.14,
            "bin_start": 7.92,
            "count": 0
           },
           {
            "bin_end": 10.36,
            "bin_start": 9.14,
            "count": 1
           },
           {
            "bin_end": 11.58,
            "bin_start": 10.36,
            "count": 0
           },
           {
            "bin_end": 12.8,
            "bin_start": 11.58,
            "count": 1
           },
           {
            "bin_end": 14.02,
            "bin_start": 12.8,
            "count": 1
           },
           {
            "bin_end": 15.239999999999998,
            "bin_start": 14.02,
            "count": 0
           },
           {
            "bin_end": 16.46,
            "bin_start": 15.239999999999998,
            "count": 0
           },
           {
            "bin_end": 17.68,
            "bin_start": 16.46,
            "count": 0
           },
           {
            "bin_end": 18.9,
            "bin_start": 17.68,
            "count": 1
           }
          ],
          "max": "18.9",
          "min": "6.7",
          "nan_count": 0,
          "unique_count": 5
         }
        },
        {
         "dtype": "float64",
         "name": "90s",
         "stats": {
          "histogram": [
           {
            "bin_end": 22.83,
            "bin_start": 22.5,
            "count": 2
           },
           {
            "bin_end": 23.16,
            "bin_start": 22.83,
            "count": 0
           },
           {
            "bin_end": 23.490000000000002,
            "bin_start": 23.16,
            "count": 1
           },
           {
            "bin_end": 23.82,
            "bin_start": 23.490000000000002,
            "count": 0
           },
           {
            "bin_end": 24.15,
            "bin_start": 23.82,
            "count": 0
           },
           {
            "bin_end": 24.48,
            "bin_start": 24.15,
            "count": 0
           },
           {
            "bin_end": 24.810000000000002,
            "bin_start": 24.48,
            "count": 1
           },
           {
            "bin_end": 25.14,
            "bin_start": 24.810000000000002,
            "count": 0
           },
           {
            "bin_end": 25.47,
            "bin_start": 25.14,
            "count": 0
           },
           {
            "bin_end": 25.8,
            "bin_start": 25.47,
            "count": 1
           }
          ],
          "max": "25.8",
          "min": "22.5",
          "nan_count": 0,
          "unique_count": 5
         }
        },
        {
         "dtype": "float64",
         "name": "G/Sh",
         "stats": {
          "histogram": [
           {
            "bin_end": 0.15400000000000003,
            "bin_start": 0.14,
            "count": 1
           },
           {
            "bin_end": 0.168,
            "bin_start": 0.15400000000000003,
            "count": 0
           },
           {
            "bin_end": 0.18200000000000002,
            "bin_start": 0.168,
            "count": 2
           },
           {
            "bin_end": 0.196,
            "bin_start": 0.18200000000000002,
            "count": 0
           },
           {
            "bin_end": 0.21000000000000002,
            "bin_start": 0.196,
            "count": 1
           },
           {
            "bin_end": 0.22400000000000003,
            "bin_start": 0.21000000000000002,
            "count": 0
           },
           {
            "bin_end": 0.23800000000000004,
            "bin_start": 0.22400000000000003,
            "count": 0
           },
           {
            "bin_end": 0.252,
            "bin_start": 0.23800000000000004,
            "count": 0
           },
           {
            "bin_end": 0.266,
            "bin_start": 0.252,
            "count": 0
           },
           {
            "bin_end": 0.28,
            "bin_start": 0.266,
            "count": 1
           }
          ],
          "max": "0.28",
          "min": "0.14",
          "nan_count": 0,
          "unique_count": 4
         }
        },
        {
         "dtype": "int64",
         "name": "_deepnote_index_column"
        }
       ],
       "row_count": 5,
       "rows": [
        {
         "90s": "22.5",
         "G/Sh": "0.28",
         "Gls": "27.0",
         "Name": "Erling Haaland",
         "_deepnote_index_column": "1081",
         "xG": "18.9"
        },
        {
         "90s": "25.8",
         "G/Sh": "0.18",
         "Gls": "18.0",
         "Name": "Harry Kane",
         "_deepnote_index_column": "1291",
         "xG": "13.8"
        },
        {
         "90s": "22.6",
         "G/Sh": "0.21",
         "Gls": "14.0",
         "Name": "Marcus Rashford",
         "_deepnote_index_column": "2095",
         "xG": "10.3"
        },
        {
         "90s": "23.3",
         "G/Sh": "0.18",
         "Gls": "11.0",
         "Name": "Martinelli",
         "_deepnote_index_column": "1608",
         "xG": "6.7"
        },
        {
         "90s": "24.7",
         "G/Sh": "0.14",
         "Gls": "11.0",
         "Name": "Mohamed Salah",
         "_deepnote_index_column": "2220",
         "xG": "11.8"
        }
       ]
      },
      "text/html": [
       "<div>\n",
       "<style scoped>\n",
       "    .dataframe tbody tr th:only-of-type {\n",
       "        vertical-align: middle;\n",
       "    }\n",
       "\n",
       "    .dataframe tbody tr th {\n",
       "        vertical-align: top;\n",
       "    }\n",
       "\n",
       "    .dataframe thead th {\n",
       "        text-align: right;\n",
       "    }\n",
       "</style>\n",
       "<table border=\"1\" class=\"dataframe\">\n",
       "  <thead>\n",
       "    <tr style=\"text-align: right;\">\n",
       "      <th></th>\n",
       "      <th>Name</th>\n",
       "      <th>Gls</th>\n",
       "      <th>xG</th>\n",
       "      <th>90s</th>\n",
       "      <th>G/Sh</th>\n",
       "    </tr>\n",
       "  </thead>\n",
       "  <tbody>\n",
       "    <tr>\n",
       "      <th>1081</th>\n",
       "      <td>Erling Haaland</td>\n",
       "      <td>27.0</td>\n",
       "      <td>18.9</td>\n",
       "      <td>22.5</td>\n",
       "      <td>0.28</td>\n",
       "    </tr>\n",
       "    <tr>\n",
       "      <th>1291</th>\n",
       "      <td>Harry Kane</td>\n",
       "      <td>18.0</td>\n",
       "      <td>13.8</td>\n",
       "      <td>25.8</td>\n",
       "      <td>0.18</td>\n",
       "    </tr>\n",
       "    <tr>\n",
       "      <th>2095</th>\n",
       "      <td>Marcus Rashford</td>\n",
       "      <td>14.0</td>\n",
       "      <td>10.3</td>\n",
       "      <td>22.6</td>\n",
       "      <td>0.21</td>\n",
       "    </tr>\n",
       "    <tr>\n",
       "      <th>1608</th>\n",
       "      <td>Martinelli</td>\n",
       "      <td>11.0</td>\n",
       "      <td>6.7</td>\n",
       "      <td>23.3</td>\n",
       "      <td>0.18</td>\n",
       "    </tr>\n",
       "    <tr>\n",
       "      <th>2220</th>\n",
       "      <td>Mohamed Salah</td>\n",
       "      <td>11.0</td>\n",
       "      <td>11.8</td>\n",
       "      <td>24.7</td>\n",
       "      <td>0.14</td>\n",
       "    </tr>\n",
       "  </tbody>\n",
       "</table>\n",
       "</div>"
      ],
      "text/plain": [
       "                 Name   Gls    xG   90s  G/Sh\n",
       "1081   Erling Haaland  27.0  18.9  22.5  0.28\n",
       "1291       Harry Kane  18.0  13.8  25.8  0.18\n",
       "2095  Marcus Rashford  14.0  10.3  22.6  0.21\n",
       "1608       Martinelli  11.0   6.7  23.3  0.18\n",
       "2220    Mohamed Salah  11.0  11.8  24.7  0.14"
      ]
     },
     "execution_count": 12,
     "metadata": {},
     "output_type": "execute_result"
    }
   ],
   "source": [
    "# This is top 5 goal scorer\n",
    "top5_gls = df_22_23_prem_fw[(df_22_23_prem_fw.Starts > 10) \n",
    "                            & df_22_23_prem_fw.Team.isin(top_5)].sort_values(by='Gls', ascending=False).head(5)\n",
    "top5_gls[['Name', 'Gls', 'xG', '90s', 'G/Sh']]"
   ]
  },
  {
   "cell_type": "markdown",
   "metadata": {
    "cell_id": "6c32e4523df3438591c7a061bdb5e35e",
    "deepnote_cell_type": "text-cell-p",
    "formattedRanges": [],
    "is_collapsed": false,
    "tags": []
   },
   "source": [
    "เมื่อแสดงผล Coversion Rates หรือว่า อัตราการเปลี่ยนโอกาสยิงให้เป็นประตูของนักเตะ ท็อป 5 ของ EPL \n",
    "ยิ่ง Conversion Rates มาก แสดงว่า shot attempt (Sh) ที่นักเตะยิงประตูไป นั้นยิ่งมีโอกาสสูงที่จะเป็นการทำประตู Gls\n",
    "ซึ่งถึงแม้ Harry Kane จะทำประตูมากกว่า Marcus Rashford แต่เมื่อ conversion rates น้อยกว่าแสดงว่าทุกครั้งที่ Rashford ยิงประตูจึงมีโอกาสที่จะทำประตูหรือยิงเข้าประตูได้มากกว่า Kane นั่นเอง"
   ]
  },
  {
   "cell_type": "markdown",
   "metadata": {
    "cell_id": "c31140a1e95746db9b038f21ea632aab",
    "deepnote_cell_type": "text-cell-p",
    "formattedRanges": [],
    "is_collapsed": false,
    "tags": []
   },
   "source": [
    "ที่สำคัญเลยจาก Bar Chart จะสังเกตุได้ว่า Haaland นั้นมี Conversion Rates ที่สูงที่สุดในกองหน้าที่สามารถทำประตูได้มากที่สุด 5 คนจาก EPL"
   ]
  },
  {
   "cell_type": "code",
   "execution_count": 13,
   "metadata": {
    "cell_id": "8ca483568b6240caa65ac0850b5326ac",
    "deepnote_cell_type": "code",
    "deepnote_to_be_reexecuted": false,
    "execution_millis": 193,
    "execution_start": 1679166179255,
    "source_hash": "f8a31d89"
   },
   "outputs": [
    {
     "data": {
      "text/plain": [
       "Text(0, 0.5, '')"
      ]
     },
     "execution_count": 13,
     "metadata": {},
     "output_type": "execute_result"
    },
    {
     "data": {
      "image/png": "[encoded data removed]",
      "text/plain": [
       "<Figure size 640x480 with 1 Axes>"
      ]
     },
     "metadata": {
      "image/png": {
       "height": 455,
       "width": 641
      }
     },
     "output_type": "display_data"
    }
   ],
   "source": [
    "sns.barplot(y='Name', x='G/Sh', data=top5_gls)\n",
    "plt.title('Conversion Rates of Different Players')\n",
    "plt.xlabel(\"Goal/Shot\")\n",
    "plt.ylabel(\"\")\n"
   ]
  },
  {
   "cell_type": "markdown",
   "metadata": {
    "cell_id": "ffcac2f2adb343cf912ccf7f93e792e3",
    "deepnote_cell_type": "text-cell-h2",
    "formattedRanges": [],
    "is_collapsed": false,
    "tags": []
   },
   "source": [
    "## คาพีบาร่า"
   ]
  },
  {
   "cell_type": "markdown",
   "metadata": {
    "cell_id": "6522ba238dde49b59906dd0802b48fc9",
    "deepnote_cell_type": "text-cell-h3",
    "formattedRanges": [],
    "is_collapsed": false,
    "tags": []
   },
   "source": [
    "### เป็นการเเสดงกราฟแบบจุดมีจุดประสงค์เพื่อให้เห็นการเปรียบเทียบว่า จากการที่ได้คัดเลือกนักเตะที่ทำประตูได้มากที่สุด 5 คน ทั้ง  5 คนมีจำนวนของการทำประตูได้เมื่อเปรียบเทียบกับ ผลคาดคะเนของการทำประตูก่อนการเเข่งว่าเป็นอย่างไร "
   ]
  },
  {
   "cell_type": "code",
   "execution_count": 14,
   "metadata": {
    "cell_id": "f149163c474a44cc8eb2c1fcfd862b66",
    "deepnote_cell_type": "code",
    "deepnote_to_be_reexecuted": false,
    "execution_millis": 587,
    "execution_start": 1679166179723,
    "source_hash": "e8e49682"
   },
   "outputs": [
    {
     "data": {
      "image/png": "[encoded data removed]",
      "text/plain": [
       "<Figure size 640x480 with 1 Axes>"
      ]
     },
     "metadata": {
      "image/png": {
       "height": 455,
       "width": 585
      }
     },
     "output_type": "display_data"
    }
   ],
   "source": [
    "sns.scatterplot(x='Gls/90s', y='xG/90s', data=top5_gls, size='Min', hue='Pos', alpha=0.5)\n",
    "plt.title(\"Player Goals vs xG\")\n",
    "for i, row in top5_gls.iterrows():\n",
    "    plt.text(row['Gls/90s'] , row['xG/90s']-0.025, row['Name'], fontsize=8, ha='center')"
   ]
  },
  {
   "cell_type": "markdown",
   "metadata": {
    "cell_id": "c76ec6051eba466cb470f198b1705642",
    "deepnote_cell_type": "markdown"
   },
   "source": [
    "Above xG"
   ]
  },
  {
   "cell_type": "code",
   "execution_count": 15,
   "metadata": {
    "cell_id": "6c82b38bf61d4f29bf86beef7819f102",
    "deepnote_cell_type": "code",
    "deepnote_to_be_reexecuted": false,
    "execution_millis": 406,
    "execution_start": 1679166180304,
    "source_hash": "34d083b4"
   },
   "outputs": [
    {
     "data": {
      "text/plain": [
       "Text(57.68395833333332, 0.5, 'Above xG')"
      ]
     },
     "execution_count": 15,
     "metadata": {},
     "output_type": "execute_result"
    },
    {
     "data": {
      "image/png": "[encoded data removed]",
      "text/plain": [
       "<Figure size 665.75x500 with 1 Axes>"
      ]
     },
     "metadata": {
      "image/png": {
       "height": 489,
       "width": 635
      }
     },
     "output_type": "display_data"
    }
   ],
   "source": [
    "sns.relplot(data=top5_gls, x='xG/90s', y='(Gls-xG)/90s', hue='Name', style='Name')\n",
    "plt.ylabel(\"Above xG\")\n"
   ]
  },
  {
   "cell_type": "code",
   "execution_count": 16,
   "metadata": {
    "cell_id": "093d0e290a674e3f8d555ed1434698d6",
    "deepnote_cell_type": "code",
    "deepnote_to_be_reexecuted": false,
    "execution_millis": 558,
    "execution_start": 1679166180962,
    "source_hash": "e6ffe71e"
   },
   "outputs": [
    {
     "data": {
      "text/plain": [
       "Text(0.5, 1.0, 'In the box involvement')"
      ]
     },
     "execution_count": 16,
     "metadata": {},
     "output_type": "execute_result"
    },
    {
     "data": {
      "image/png": "[encoded data removed]",
      "text/plain": [
       "<Figure size 500x500 with 1 Axes>"
      ]
     },
     "metadata": {
      "image/png": {
       "height": 512,
       "width": 516
      }
     },
     "output_type": "display_data"
    }
   ],
   "source": [
    "#Att Pen : Touch in penalty area\n",
    "#SoT : Shot on Target\n",
    "sns.relplot(data=top5_gls, x='Att Pen', y='SoT')\n",
    "for i, row in top5_gls.iterrows():\n",
    "    plt.text(row['Att Pen'] , row['SoT']-0.7, row['Name'], fontsize=8, ha='center')\n",
    "plt.title(\"In the box involvement\")"
   ]
  },
  {
   "cell_type": "markdown",
   "metadata": {
    "cell_id": "5149a34bcb7846b194280d9463916d82",
    "deepnote_cell_type": "markdown"
   },
   "source": [
    "### Key Pass with Shot creating action"
   ]
  },
  {
   "cell_type": "code",
   "execution_count": 17,
   "metadata": {
    "cell_id": "371360d863194fb1b12ad3ce29d4a925",
    "deepnote_cell_type": "code",
    "deepnote_to_be_reexecuted": false,
    "execution_millis": 54,
    "execution_start": 1679166182122,
    "source_hash": "a53cae"
   },
   "outputs": [
    {
     "name": "stderr",
     "output_type": "stream",
     "text": [
      "/tmp/ipykernel_81/1532616408.py:1: UserWarning: Boolean Series key will be reindexed to match DataFrame index.\n",
      "  df_22_23_prem_mf_top5 =  df_22_23_prem_mf[df_22_23_prem.Team.isin(top_5)]\n"
     ]
    }
   ],
   "source": [
    "df_22_23_prem_mf_top5 =  df_22_23_prem_mf[df_22_23_prem.Team.isin(top_5)]"
   ]
  },
  {
   "cell_type": "code",
   "execution_count": 18,
   "metadata": {
    "cell_id": "ca5aeb5416e04d9484b55efe9a725e99",
    "deepnote_cell_type": "code",
    "deepnote_to_be_reexecuted": false,
    "execution_millis": 649,
    "execution_start": 1679166182248,
    "source_hash": "c13f5da5",
    "tags": []
   },
   "outputs": [
    {
     "data": {
      "text/plain": [
       "<seaborn.axisgrid.FacetGrid at 0x7f8afba3df10>"
      ]
     },
     "execution_count": 18,
     "metadata": {},
     "output_type": "execute_result"
    },
    {
     "data": {
      "image/png": "[encoded data removed]",
      "text/plain": [
       "<Figure size 662.875x500 with 1 Axes>"
      ]
     },
     "metadata": {
      "image/png": {
       "height": 489,
       "width": 660
      }
     },
     "output_type": "display_data"
    }
   ],
   "source": [
    "sns.displot(data=df_22_23_prem_mf_top5, x='TotCmp%', hue='Team', kind='kde', palette='Set2')"
   ]
  },
  {
   "cell_type": "code",
   "execution_count": 19,
   "metadata": {
    "cell_id": "dbb27750aac6430ebe2d0b3c621bb2e0",
    "deepnote_cell_type": "code",
    "deepnote_to_be_reexecuted": false,
    "execution_millis": 196,
    "execution_start": 1679166183200,
    "source_hash": "9edcc3b4"
   },
   "outputs": [
    {
     "data": {
      "text/plain": [
       "<seaborn.axisgrid.FacetGrid at 0x7f8afbba1310>"
      ]
     },
     "execution_count": 19,
     "metadata": {},
     "output_type": "execute_result"
    },
    {
     "data": {
      "image/png": "[encoded data removed]",
      "text/plain": [
       "<Figure size 500x500 with 1 Axes>"
      ]
     },
     "metadata": {
      "image/png": {
       "height": 489,
       "width": 489
      }
     },
     "output_type": "display_data"
    }
   ],
   "source": [
    "#SCA : Shot Creation Action\n",
    "#KP : KeyPass\n",
    "sns.relplot(data=df_22_23_prem_mf, x='KP90', y='SCA90')\n",
    "# จากข้อมูลจะเห็นว่ายิ่งมีการสร้างสรรค์โอกาสมากยิ่งมีkey passมาก"
   ]
  },
  {
   "cell_type": "code",
   "execution_count": 20,
   "metadata": {
    "cell_id": "56a8645fda7e4aac8ae06153674473d5",
    "deepnote_cell_type": "code",
    "deepnote_to_be_reexecuted": false,
    "execution_millis": 6,
    "execution_start": 1679166183512,
    "source_hash": "f7605cbe"
   },
   "outputs": [
    {
     "data": {
      "application/vnd.deepnote.dataframe.v3+json": {
       "column_count": 3,
       "columns": [
        {
         "dtype": "float64",
         "name": "TotCmp%",
         "stats": {
          "histogram": [
           {
            "bin_end": 74.3275,
            "bin_start": 73.23333333333333,
            "count": 2
           },
           {
            "bin_end": 75.42166666666667,
            "bin_start": 74.3275,
            "count": 2
           },
           {
            "bin_end": 76.51583333333333,
            "bin_start": 75.42166666666667,
            "count": 1
           },
           {
            "bin_end": 77.61,
            "bin_start": 76.51583333333333,
            "count": 2
           },
           {
            "bin_end": 78.70416666666667,
            "bin_start": 77.61,
            "count": 1
           },
           {
            "bin_end": 79.79833333333333,
            "bin_start": 78.70416666666667,
            "count": 1
           },
           {
            "bin_end": 80.8925,
            "bin_start": 79.79833333333333,
            "count": 2
           },
           {
            "bin_end": 81.98666666666666,
            "bin_start": 80.8925,
            "count": 5
           },
           {
            "bin_end": 83.08083333333333,
            "bin_start": 81.98666666666666,
            "count": 0
           },
           {
            "bin_end": 84.175,
            "bin_start": 83.08083333333333,
            "count": 4
           }
          ],
          "max": "84.175",
          "min": "73.23333333333333",
          "nan_count": 0,
          "unique_count": 19
         }
        },
        {
         "dtype": "float64",
         "name": "SCA90",
         "stats": {
          "histogram": [
           {
            "bin_end": 2.0645,
            "bin_start": 1.8333333333333333,
            "count": 2
           },
           {
            "bin_end": 2.2956666666666665,
            "bin_start": 2.0645,
            "count": 4
           },
           {
            "bin_end": 2.5268333333333333,
            "bin_start": 2.2956666666666665,
            "count": 3
           },
           {
            "bin_end": 2.758,
            "bin_start": 2.5268333333333333,
            "count": 5
           },
           {
            "bin_end": 2.9891666666666667,
            "bin_start": 2.758,
            "count": 2
           },
           {
            "bin_end": 3.2203333333333335,
            "bin_start": 2.9891666666666667,
            "count": 0
           },
           {
            "bin_end": 3.4515,
            "bin_start": 3.2203333333333335,
            "count": 1
           },
           {
            "bin_end": 3.6826666666666665,
            "bin_start": 3.4515,
            "count": 1
           },
           {
            "bin_end": 3.913833333333333,
            "bin_start": 3.6826666666666665,
            "count": 0
           },
           {
            "bin_end": 4.145,
            "bin_start": 3.913833333333333,
            "count": 2
           }
          ],
          "max": "4.145",
          "min": "1.8333333333333333",
          "nan_count": 0,
          "unique_count": 20
         }
        },
        {
         "dtype": "float64",
         "name": "KP90",
         "stats": {
          "histogram": [
           {
            "bin_end": 0.9590000000000001,
            "bin_start": 0.8533333333333334,
            "count": 4
           },
           {
            "bin_end": 1.0646666666666667,
            "bin_start": 0.9590000000000001,
            "count": 6
           },
           {
            "bin_end": 1.1703333333333332,
            "bin_start": 1.0646666666666667,
            "count": 2
           },
           {
            "bin_end": 1.276,
            "bin_start": 1.1703333333333332,
            "count": 1
           },
           {
            "bin_end": 1.3816666666666668,
            "bin_start": 1.276,
            "count": 3
           },
           {
            "bin_end": 1.4873333333333334,
            "bin_start": 1.3816666666666668,
            "count": 0
           },
           {
            "bin_end": 1.593,
            "bin_start": 1.4873333333333334,
            "count": 1
           },
           {
            "bin_end": 1.6986666666666665,
            "bin_start": 1.593,
            "count": 0
           },
           {
            "bin_end": 1.8043333333333333,
            "bin_start": 1.6986666666666665,
            "count": 1
           },
           {
            "bin_end": 1.91,
            "bin_start": 1.8043333333333333,
            "count": 2
           }
          ],
          "max": "1.91",
          "min": "0.8533333333333334",
          "nan_count": 0,
          "unique_count": 20
         }
        },
        {
         "dtype": "object",
         "name": "_deepnote_index_column"
        }
       ],
       "row_count": 20,
       "rows": [
        {
         "KP90": "1.91",
         "SCA90": "4.145",
         "TotCmp%": "83.4",
         "_deepnote_index_column": "Manchester City"
        },
        {
         "KP90": "1.7300000000000002",
         "SCA90": "3.9166666666666665",
         "TotCmp%": "83.36666666666667",
         "_deepnote_index_column": "Arsenal"
        },
        {
         "KP90": "1.8266666666666669",
         "SCA90": "3.6633333333333336",
         "TotCmp%": "76.3",
         "_deepnote_index_column": "Manchester Utd"
        },
        {
         "KP90": "1.3624999999999998",
         "SCA90": "3.2474999999999996",
         "TotCmp%": "80.05",
         "_deepnote_index_column": "Tottenham"
        },
        {
         "KP90": "1.0375",
         "SCA90": "2.9675000000000002",
         "TotCmp%": "83.925",
         "_deepnote_index_column": "Liverpool"
        },
        {
         "KP90": "1.56",
         "SCA90": "2.96",
         "TotCmp%": "84.175",
         "_deepnote_index_column": "Brighton"
        },
        {
         "KP90": "1.34",
         "SCA90": "2.7375",
         "TotCmp%": "76.55",
         "_deepnote_index_column": "Crystal Palace"
        },
        {
         "KP90": "0.96",
         "SCA90": "2.706666666666667",
         "TotCmp%": "79.8",
         "_deepnote_index_column": "West Ham"
        },
        {
         "KP90": "0.9975",
         "SCA90": "2.6025",
         "TotCmp%": "81.0",
         "_deepnote_index_column": "Newcastle Utd"
        },
        {
         "KP90": "1.2766666666666666",
         "SCA90": "2.5933333333333333",
         "TotCmp%": "80.96666666666667",
         "_deepnote_index_column": "Wolves"
        }
       ]
      },
      "text/html": [
       "<div>\n",
       "<style scoped>\n",
       "    .dataframe tbody tr th:only-of-type {\n",
       "        vertical-align: middle;\n",
       "    }\n",
       "\n",
       "    .dataframe tbody tr th {\n",
       "        vertical-align: top;\n",
       "    }\n",
       "\n",
       "    .dataframe thead th {\n",
       "        text-align: right;\n",
       "    }\n",
       "</style>\n",
       "<table border=\"1\" class=\"dataframe\">\n",
       "  <thead>\n",
       "    <tr style=\"text-align: right;\">\n",
       "      <th></th>\n",
       "      <th>TotCmp%</th>\n",
       "      <th>SCA90</th>\n",
       "      <th>KP90</th>\n",
       "    </tr>\n",
       "    <tr>\n",
       "      <th>Team</th>\n",
       "      <th></th>\n",
       "      <th></th>\n",
       "      <th></th>\n",
       "    </tr>\n",
       "  </thead>\n",
       "  <tbody>\n",
       "    <tr>\n",
       "      <th>Manchester City</th>\n",
       "      <td>83.400000</td>\n",
       "      <td>4.145000</td>\n",
       "      <td>1.910000</td>\n",
       "    </tr>\n",
       "    <tr>\n",
       "      <th>Arsenal</th>\n",
       "      <td>83.366667</td>\n",
       "      <td>3.916667</td>\n",
       "      <td>1.730000</td>\n",
       "    </tr>\n",
       "    <tr>\n",
       "      <th>Manchester Utd</th>\n",
       "      <td>76.300000</td>\n",
       "      <td>3.663333</td>\n",
       "      <td>1.826667</td>\n",
       "    </tr>\n",
       "    <tr>\n",
       "      <th>Tottenham</th>\n",
       "      <td>80.050000</td>\n",
       "      <td>3.247500</td>\n",
       "      <td>1.362500</td>\n",
       "    </tr>\n",
       "    <tr>\n",
       "      <th>Liverpool</th>\n",
       "      <td>83.925000</td>\n",
       "      <td>2.967500</td>\n",
       "      <td>1.037500</td>\n",
       "    </tr>\n",
       "    <tr>\n",
       "      <th>Brighton</th>\n",
       "      <td>84.175000</td>\n",
       "      <td>2.960000</td>\n",
       "      <td>1.560000</td>\n",
       "    </tr>\n",
       "    <tr>\n",
       "      <th>Crystal Palace</th>\n",
       "      <td>76.550000</td>\n",
       "      <td>2.737500</td>\n",
       "      <td>1.340000</td>\n",
       "    </tr>\n",
       "    <tr>\n",
       "      <th>West Ham</th>\n",
       "      <td>79.800000</td>\n",
       "      <td>2.706667</td>\n",
       "      <td>0.960000</td>\n",
       "    </tr>\n",
       "    <tr>\n",
       "      <th>Newcastle Utd</th>\n",
       "      <td>81.000000</td>\n",
       "      <td>2.602500</td>\n",
       "      <td>0.997500</td>\n",
       "    </tr>\n",
       "    <tr>\n",
       "      <th>Wolves</th>\n",
       "      <td>80.966667</td>\n",
       "      <td>2.593333</td>\n",
       "      <td>1.276667</td>\n",
       "    </tr>\n",
       "    <tr>\n",
       "      <th>Brentford</th>\n",
       "      <td>75.225000</td>\n",
       "      <td>2.555000</td>\n",
       "      <td>0.860000</td>\n",
       "    </tr>\n",
       "    <tr>\n",
       "      <th>Aston Villa</th>\n",
       "      <td>81.080000</td>\n",
       "      <td>2.488000</td>\n",
       "      <td>1.002000</td>\n",
       "    </tr>\n",
       "    <tr>\n",
       "      <th>Leicester City</th>\n",
       "      <td>79.666667</td>\n",
       "      <td>2.396667</td>\n",
       "      <td>1.063333</td>\n",
       "    </tr>\n",
       "    <tr>\n",
       "      <th>Chelsea</th>\n",
       "      <td>81.800000</td>\n",
       "      <td>2.346667</td>\n",
       "      <td>0.926667</td>\n",
       "    </tr>\n",
       "    <tr>\n",
       "      <th>Fulham</th>\n",
       "      <td>74.100000</td>\n",
       "      <td>2.273333</td>\n",
       "      <td>1.126667</td>\n",
       "    </tr>\n",
       "    <tr>\n",
       "      <th>Leeds United</th>\n",
       "      <td>77.833333</td>\n",
       "      <td>2.220000</td>\n",
       "      <td>1.236667</td>\n",
       "    </tr>\n",
       "    <tr>\n",
       "      <th>Nott'ham Forest</th>\n",
       "      <td>73.233333</td>\n",
       "      <td>2.166667</td>\n",
       "      <td>1.033333</td>\n",
       "    </tr>\n",
       "    <tr>\n",
       "      <th>Southampton</th>\n",
       "      <td>75.350000</td>\n",
       "      <td>2.157500</td>\n",
       "      <td>1.072500</td>\n",
       "    </tr>\n",
       "    <tr>\n",
       "      <th>Bournemouth</th>\n",
       "      <td>76.960000</td>\n",
       "      <td>1.950000</td>\n",
       "      <td>0.918000</td>\n",
       "    </tr>\n",
       "    <tr>\n",
       "      <th>Everton</th>\n",
       "      <td>81.800000</td>\n",
       "      <td>1.833333</td>\n",
       "      <td>0.853333</td>\n",
       "    </tr>\n",
       "  </tbody>\n",
       "</table>\n",
       "</div>"
      ],
      "text/plain": [
       "                   TotCmp%     SCA90      KP90\n",
       "Team                                          \n",
       "Manchester City  83.400000  4.145000  1.910000\n",
       "Arsenal          83.366667  3.916667  1.730000\n",
       "Manchester Utd   76.300000  3.663333  1.826667\n",
       "Tottenham        80.050000  3.247500  1.362500\n",
       "Liverpool        83.925000  2.967500  1.037500\n",
       "Brighton         84.175000  2.960000  1.560000\n",
       "Crystal Palace   76.550000  2.737500  1.340000\n",
       "West Ham         79.800000  2.706667  0.960000\n",
       "Newcastle Utd    81.000000  2.602500  0.997500\n",
       "Wolves           80.966667  2.593333  1.276667\n",
       "Brentford        75.225000  2.555000  0.860000\n",
       "Aston Villa      81.080000  2.488000  1.002000\n",
       "Leicester City   79.666667  2.396667  1.063333\n",
       "Chelsea          81.800000  2.346667  0.926667\n",
       "Fulham           74.100000  2.273333  1.126667\n",
       "Leeds United     77.833333  2.220000  1.236667\n",
       "Nott'ham Forest  73.233333  2.166667  1.033333\n",
       "Southampton      75.350000  2.157500  1.072500\n",
       "Bournemouth      76.960000  1.950000  0.918000\n",
       "Everton          81.800000  1.833333  0.853333"
      ]
     },
     "execution_count": 20,
     "metadata": {},
     "output_type": "execute_result"
    }
   ],
   "source": [
    "#TotCMp% : TotalPassComp%\n",
    "df_22_23_prem_mf.groupby(by='Team')[['TotCmp%', 'SCA90', 'KP90']].mean().sort_values(by='SCA90', ascending=False) # Rank 1\n",
    "# df_22_23_prem_mf.groupby(by='Team')[['TotCmp%', 'SCA90', 'KP90']].mean().sort_values(by='KP90', ascending=False) # Rank 1\n",
    "# df_22_23_prem_mf.groupby(by='Team')[['TotCmp%', 'SCA90', 'KP90']].mean().sort_values(by='TotCmp%', ascending=False) # Rank 2\n",
    "\n",
    "# ปัดเลขให้สวยๆให้หน่อย"
   ]
  },
  {
   "cell_type": "markdown",
   "metadata": {
    "cell_id": "7d56ca8c592c47d5992f497bdd226439",
    "deepnote_cell_type": "markdown"
   },
   "source": [
    "### Expected assist and Actual assist"
   ]
  },
  {
   "cell_type": "code",
   "execution_count": 21,
   "metadata": {
    "cell_id": "d9d6692442bd4452982360ec2c98e2f2",
    "deepnote_cell_type": "code",
    "deepnote_to_be_reexecuted": false,
    "execution_millis": 331,
    "execution_start": 1679166183521,
    "source_hash": "65e98b45"
   },
   "outputs": [
    {
     "data": {
      "text/plain": [
       "<seaborn.axisgrid.FacetGrid at 0x7f8afb982f40>"
      ]
     },
     "execution_count": 21,
     "metadata": {},
     "output_type": "execute_result"
    },
    {
     "data": {
      "image/png": "[encoded data removed]",
      "text/plain": [
       "<Figure size 662.875x500 with 1 Axes>"
      ]
     },
     "metadata": {
      "image/png": {
       "height": 489,
       "width": 639
      }
     },
     "output_type": "display_data"
    }
   ],
   "source": [
    "sns.relplot(data=df_22_23_prem_mf_top5, x='Ast90', y='xA90', hue='Team')"
   ]
  },
  {
   "cell_type": "markdown",
   "metadata": {
    "cell_id": "e45db8a3da174805ae79e6ff3a834bc3",
    "deepnote_cell_type": "text-cell-h2",
    "formattedRanges": [],
    "is_collapsed": false,
    "tags": []
   },
   "source": [
    "## คาพีบาร่า"
   ]
  },
  {
   "cell_type": "code",
   "execution_count": 22,
   "metadata": {
    "cell_id": "6ac17e7097c1479da98a5db0ab4ca146",
    "deepnote_cell_type": "code",
    "deepnote_to_be_reexecuted": false,
    "execution_millis": 25,
    "execution_start": 1679166184071,
    "source_hash": "3ded7ae5"
   },
   "outputs": [],
   "source": [
    "#Takes on = เลี้ยงผ่าน"
   ]
  },
  {
   "cell_type": "markdown",
   "metadata": {
    "cell_id": "c2008a06783e4991b114f8a53ef6ae09",
    "deepnote_cell_type": "markdown"
   },
   "source": [
    "# นักเตะคนใดในทีม Liverpool ที่สมควรได้รับเวลาในการเล่นเพิ่ม"
   ]
  },
  {
   "cell_type": "markdown",
   "metadata": {
    "cell_id": "ff58a13f4df54f699ddc33b57126ec09",
    "deepnote_cell_type": "text-cell-p",
    "formattedRanges": [],
    "is_collapsed": false,
    "tags": []
   },
   "source": [
    "ก่อนอื่นต้องมาดูภาพรวมผลงานของทีม Liverpool ทั้งฤดูกาล 2021-2022 และ ฤดูลกาล 2022-2023 โดย\n",
    "table_21_22 คือ dataframe ผลงานของทีม Liverpool ฤดูกาล 2021-2022\n",
    "table_22_23 คือ dataframe ผลงานของทีม Liverpool ฤดูกาล 2022-2023\n",
    "เราจะสร้าง field ชื่อ 'Season' เพื่อเป็น tag บอกว่าเป็น field ของฤดูกาลไหน\n",
    "เมื่อเราได้ 2 ตารางแล้วเราจะนำ table_21_22 และ table_22_23 มาเชื่อมกัน บน dataframe ชื่อว่า table\n",
    "เราจะทำการ drop columns บาง columns ที่เราไม่ได้ใช้ในการวิเคราะห์\n",
    "ละจะทำการเปลี่ยนชื่อ Column 'Squad' เป็นคำว่า 'Team' เพื่อให้ง่ายต่อความเข้าใจ\n",
    "xG/90 คือ xG (expected goal) หารด้วย Mp (จำนวน match ที่ได้เล่น โดย 1 matchใช้ระยะเวลา 90 นาที)\n",
    "เราจึงได้ จำนวนประตูที่คาดว่าจะทำได้ ต่อ 1 match การเล่น\n",
    "G/90 คือ GF ( ประดูที่ทำได้ ) หารด้วย MP (จำนวน match ที่ได้เล่น โดย 1 matchใช้ระยะเวลา 90 นาที)\n",
    "เราจึงได้ จำนวนประตูที่ทำได้ ต่อ 1 match การเล่น"
   ]
  },
  {
   "cell_type": "code",
   "execution_count": 23,
   "metadata": {
    "cell_id": "44152c4a6ddd43ddba4d4ea80f73e0e4",
    "deepnote_cell_type": "code",
    "deepnote_to_be_reexecuted": false,
    "execution_millis": 29,
    "execution_start": 1679166184073,
    "source_hash": "3ed15bd1"
   },
   "outputs": [],
   "source": [
    "table_21_22 = pd.read_csv('table/table_21-22.csv') #season ก่อน\n",
    "table_22_23 = pd.read_csv('table/table_22-23.csv') #current\n",
    "table_21_22['Season'] = '21-22'\n",
    "table_22_23['Season'] = '22-23'\n",
    "table = pd.concat([table_21_22, table_22_23])\n",
    "table = table.drop(columns=['Attendance', 'Top Team Scorer', 'Goalkeeper', 'Notes', 'Last 5',])\n",
    "table = table.rename(columns={'Squad' : 'Team'})\n",
    "table['xG/90'] = table.xG / table.MP\n",
    "table['G/90'] = table.GF / table.MP\n",
    "# โหลดตารางของ 2 seasonแล้วรวมกัน"
   ]
  },
  {
   "cell_type": "markdown",
   "metadata": {
    "cell_id": "70304caab85442c98fb244328774afe1",
    "deepnote_cell_type": "text-cell-p",
    "formattedRanges": [],
    "is_collapsed": false,
    "tags": []
   },
   "source": [
    "เมื่อแสดงผล stats ต่างๆของทีม Liverpool ไม่ว่าจะเป็น\n",
    "Team หมายถึง ชื่อทีม\n",
    "Season หมายถึง ฤดูกาล\n",
    "Mp หมายถึง จำนวน match ที่เล่น\n",
    "Pts หมายถึง แต้มสะสมของทีม\n",
    "GF หมายถึง จำนวนประตูที่ทำได้\n",
    "G/90 หมายถึง จำนวนประตูที่ทำได้ ต่อ 1 match การเล่น\n",
    "xG หมายถึง จำนวนประตูที่คาดว่าจะทำได้\n",
    "xG/90 หมายถึง จำนวนประตูที่คาดว่าจะทำได้ ต่อ 1 match การเล่น"
   ]
  },
  {
   "cell_type": "code",
   "execution_count": 24,
   "metadata": {
    "cell_id": "a5856c83471e45549fdfc59d8defec2c",
    "deepnote_cell_type": "code",
    "deepnote_to_be_reexecuted": false,
    "execution_millis": 3,
    "execution_start": 1679166184118,
    "source_hash": "ade1b385"
   },
   "outputs": [
    {
     "data": {
      "application/vnd.deepnote.dataframe.v3+json": {
       "column_count": 8,
       "columns": [
        {
         "dtype": "object",
         "name": "Team",
         "stats": {
          "categories": [
           {
            "count": 2,
            "name": "Liverpool"
           }
          ],
          "nan_count": 0,
          "unique_count": 1
         }
        },
        {
         "dtype": "object",
         "name": "Season",
         "stats": {
          "categories": [
           {
            "count": 1,
            "name": "21-22"
           },
           {
            "count": 1,
            "name": "22-23"
           }
          ],
          "nan_count": 0,
          "unique_count": 2
         }
        },
        {
         "dtype": "int64",
         "name": "MP",
         "stats": {
          "histogram": [
           {
            "bin_end": 27.2,
            "bin_start": 26,
            "count": 1
           },
           {
            "bin_end": 28.4,
            "bin_start": 27.2,
            "count": 0
           },
           {
            "bin_end": 29.6,
            "bin_start": 28.4,
            "count": 0
           },
           {
            "bin_end": 30.8,
            "bin_start": 29.6,
            "count": 0
           },
           {
            "bin_end": 32,
            "bin_start": 30.8,
            "count": 0
           },
           {
            "bin_end": 33.2,
            "bin_start": 32,
            "count": 0
           },
           {
            "bin_end": 34.4,
            "bin_start": 33.2,
            "count": 0
           },
           {
            "bin_end": 35.6,
            "bin_start": 34.4,
            "count": 0
           },
           {
            "bin_end": 36.8,
            "bin_start": 35.6,
            "count": 0
           },
           {
            "bin_end": 38,
            "bin_start": 36.8,
            "count": 1
           }
          ],
          "max": "38",
          "min": "26",
          "nan_count": 0,
          "unique_count": 2
         }
        },
        {
         "dtype": "int64",
         "name": "Pts",
         "stats": {
          "histogram": [
           {
            "bin_end": 47,
            "bin_start": 42,
            "count": 1
           },
           {
            "bin_end": 52,
            "bin_start": 47,
            "count": 0
           },
           {
            "bin_end": 57,
            "bin_start": 52,
            "count": 0
           },
           {
            "bin_end": 62,
            "bin_start": 57,
            "count": 0
           },
           {
            "bin_end": 67,
            "bin_start": 62,
            "count": 0
           },
           {
            "bin_end": 72,
            "bin_start": 67,
            "count": 0
           },
           {
            "bin_end": 77,
            "bin_start": 72,
            "count": 0
           },
           {
            "bin_end": 82,
            "bin_start": 77,
            "count": 0
           },
           {
            "bin_end": 87,
            "bin_start": 82,
            "count": 0
           },
           {
            "bin_end": 92,
            "bin_start": 87,
            "count": 1
           }
          ],
          "max": "92",
          "min": "42",
          "nan_count": 0,
          "unique_count": 2
         }
        },
        {
         "dtype": "int64",
         "name": "GF",
         "stats": {
          "histogram": [
           {
            "bin_end": 51.7,
            "bin_start": 47,
            "count": 1
           },
           {
            "bin_end": 56.4,
            "bin_start": 51.7,
            "count": 0
           },
           {
            "bin_end": 61.1,
            "bin_start": 56.4,
            "count": 0
           },
           {
            "bin_end": 65.8,
            "bin_start": 61.1,
            "count": 0
           },
           {
            "bin_end": 70.5,
            "bin_start": 65.8,
            "count": 0
           },
           {
            "bin_end": 75.2,
            "bin_start": 70.5,
            "count": 0
           },
           {
            "bin_end": 79.9,
            "bin_start": 75.2,
            "count": 0
           },
           {
            "bin_end": 84.6,
            "bin_start": 79.9,
            "count": 0
           },
           {
            "bin_end": 89.30000000000001,
            "bin_start": 84.6,
            "count": 0
           },
           {
            "bin_end": 94,
            "bin_start": 89.30000000000001,
            "count": 1
           }
          ],
          "max": "94",
          "min": "47",
          "nan_count": 0,
          "unique_count": 2
         }
        },
        {
         "dtype": "float64",
         "name": "G/90",
         "stats": {
          "histogram": [
           {
            "bin_end": 1.8742914979757086,
            "bin_start": 1.8076923076923077,
            "count": 1
           },
           {
            "bin_end": 1.9408906882591093,
            "bin_start": 1.8742914979757086,
            "count": 0
           },
           {
            "bin_end": 2.0074898785425104,
            "bin_start": 1.9408906882591093,
            "count": 0
           },
           {
            "bin_end": 2.074089068825911,
            "bin_start": 2.0074898785425104,
            "count": 0
           },
           {
            "bin_end": 2.1406882591093117,
            "bin_start": 2.074089068825911,
            "count": 0
           },
           {
            "bin_end": 2.2072874493927124,
            "bin_start": 2.1406882591093117,
            "count": 0
           },
           {
            "bin_end": 2.2738866396761135,
            "bin_start": 2.2072874493927124,
            "count": 0
           },
           {
            "bin_end": 2.340485829959514,
            "bin_start": 2.2738866396761135,
            "count": 0
           },
           {
            "bin_end": 2.4070850202429153,
            "bin_start": 2.340485829959514,
            "count": 0
           },
           {
            "bin_end": 2.473684210526316,
            "bin_start": 2.4070850202429153,
            "count": 1
           }
          ],
          "max": "2.473684210526316",
          "min": "1.8076923076923077",
          "nan_count": 0,
          "unique_count": 2
         }
        },
        {
         "dtype": "float64",
         "name": "xG",
         "stats": {
          "histogram": [
           {
            "bin_end": 51.62,
            "bin_start": 47.5,
            "count": 1
           },
           {
            "bin_end": 55.74,
            "bin_start": 51.62,
            "count": 0
           },
           {
            "bin_end": 59.86,
            "bin_start": 55.74,
            "count": 0
           },
           {
            "bin_end": 63.980000000000004,
            "bin_start": 59.86,
            "count": 0
           },
           {
            "bin_end": 68.1,
            "bin_start": 63.980000000000004,
            "count": 0
           },
           {
            "bin_end": 72.22,
            "bin_start": 68.1,
            "count": 0
           },
           {
            "bin_end": 76.34,
            "bin_start": 72.22,
            "count": 0
           },
           {
            "bin_end": 80.46000000000001,
            "bin_start": 76.34,
            "count": 0
           },
           {
            "bin_end": 84.58,
            "bin_start": 80.46000000000001,
            "count": 0
           },
           {
            "bin_end": 88.7,
            "bin_start": 84.58,
            "count": 1
           }
          ],
          "max": "88.7",
          "min": "47.5",
          "nan_count": 0,
          "unique_count": 2
         }
        },
        {
         "dtype": "float64",
         "name": "xG/90",
         "stats": {
          "histogram": [
           {
            "bin_end": 1.8776518218623481,
            "bin_start": 1.8269230769230769,
            "count": 1
           },
           {
            "bin_end": 1.9283805668016194,
            "bin_start": 1.8776518218623481,
            "count": 0
           },
           {
            "bin_end": 1.9791093117408907,
            "bin_start": 1.9283805668016194,
            "count": 0
           },
           {
            "bin_end": 2.029838056680162,
            "bin_start": 1.9791093117408907,
            "count": 0
           },
           {
            "bin_end": 2.080566801619433,
            "bin_start": 2.029838056680162,
            "count": 0
           },
           {
            "bin_end": 2.1312955465587047,
            "bin_start": 2.080566801619433,
            "count": 0
           },
           {
            "bin_end": 2.1820242914979757,
            "bin_start": 2.1312955465587047,
            "count": 0
           },
           {
            "bin_end": 2.232753036437247,
            "bin_start": 2.1820242914979757,
            "count": 0
           },
           {
            "bin_end": 2.2834817813765182,
            "bin_start": 2.232753036437247,
            "count": 0
           },
           {
            "bin_end": 2.3342105263157897,
            "bin_start": 2.2834817813765182,
            "count": 1
           }
          ],
          "max": "2.3342105263157897",
          "min": "1.8269230769230769",
          "nan_count": 0,
          "unique_count": 2
         }
        },
        {
         "dtype": "int64",
         "name": "_deepnote_index_column"
        }
       ],
       "row_count": 2,
       "rows": [
        {
         "G/90": "2.473684210526316",
         "GF": "94",
         "MP": "38",
         "Pts": "92",
         "Season": "21-22",
         "Team": "Liverpool",
         "_deepnote_index_column": "1",
         "xG": "88.7",
         "xG/90": "2.3342105263157897"
        },
        {
         "G/90": "1.8076923076923077",
         "GF": "47",
         "MP": "26",
         "Pts": "42",
         "Season": "22-23",
         "Team": "Liverpool",
         "_deepnote_index_column": "5",
         "xG": "47.5",
         "xG/90": "1.8269230769230769"
        }
       ]
      },
      "text/html": [
       "<div>\n",
       "<style scoped>\n",
       "    .dataframe tbody tr th:only-of-type {\n",
       "        vertical-align: middle;\n",
       "    }\n",
       "\n",
       "    .dataframe tbody tr th {\n",
       "        vertical-align: top;\n",
       "    }\n",
       "\n",
       "    .dataframe thead th {\n",
       "        text-align: right;\n",
       "    }\n",
       "</style>\n",
       "<table border=\"1\" class=\"dataframe\">\n",
       "  <thead>\n",
       "    <tr style=\"text-align: right;\">\n",
       "      <th></th>\n",
       "      <th>Team</th>\n",
       "      <th>Season</th>\n",
       "      <th>MP</th>\n",
       "      <th>Pts</th>\n",
       "      <th>GF</th>\n",
       "      <th>G/90</th>\n",
       "      <th>xG</th>\n",
       "      <th>xG/90</th>\n",
       "    </tr>\n",
       "  </thead>\n",
       "  <tbody>\n",
       "    <tr>\n",
       "      <th>1</th>\n",
       "      <td>Liverpool</td>\n",
       "      <td>21-22</td>\n",
       "      <td>38</td>\n",
       "      <td>92</td>\n",
       "      <td>94</td>\n",
       "      <td>2.473684</td>\n",
       "      <td>88.7</td>\n",
       "      <td>2.334211</td>\n",
       "    </tr>\n",
       "    <tr>\n",
       "      <th>5</th>\n",
       "      <td>Liverpool</td>\n",
       "      <td>22-23</td>\n",
       "      <td>26</td>\n",
       "      <td>42</td>\n",
       "      <td>47</td>\n",
       "      <td>1.807692</td>\n",
       "      <td>47.5</td>\n",
       "      <td>1.826923</td>\n",
       "    </tr>\n",
       "  </tbody>\n",
       "</table>\n",
       "</div>"
      ],
      "text/plain": [
       "        Team Season  MP  Pts  GF      G/90    xG     xG/90\n",
       "1  Liverpool  21-22  38   92  94  2.473684  88.7  2.334211\n",
       "5  Liverpool  22-23  26   42  47  1.807692  47.5  1.826923"
      ]
     },
     "execution_count": 24,
     "metadata": {},
     "output_type": "execute_result"
    }
   ],
   "source": [
    "table[table.Team == 'Liverpool'][['Team', 'Season', 'MP', 'Pts', 'GF', 'G/90', 'xG', 'xG/90']]"
   ]
  },
  {
   "cell_type": "markdown",
   "metadata": {
    "cell_id": "bb0f24fadd3b4447b238409d44137fae",
    "deepnote_cell_type": "text-cell-p",
    "formattedRanges": [],
    "is_collapsed": false,
    "tags": []
   },
   "source": [
    "เราจะเห็นได้ว่าเมื่อเทียบสถิติของทีม Liverpool ระหว่าง 2 ฤดูกาล และจากกราฟข้างล่างนี้ เราจะเห็นได้ว่า\n",
    "G/90 นั้นลดลงจากฤดูกาลเดิมถึงร้อยละ 27 ซึ่งเป็นสถิติที่ยืนยันได้ว่า Liverpool ในฤดูกาลก่อนนั้นมีผลงานที่ดีกว่า ฤดูกาลปัจจุบัน "
   ]
  },
  {
   "cell_type": "code",
   "execution_count": 25,
   "metadata": {
    "cell_id": "3d3d781f1d2644998a40ed6dba79ee78",
    "deepnote_cell_type": "code",
    "deepnote_to_be_reexecuted": false,
    "execution_millis": 32,
    "execution_start": 1679166184123,
    "source_hash": "495ab2dc"
   },
   "outputs": [
    {
     "data": {
      "text/plain": [
       "Text(0, 0.5, 'Season')"
      ]
     },
     "execution_count": 25,
     "metadata": {},
     "output_type": "execute_result"
    },
    {
     "data": {
      "image/png": "[encoded data removed]",
      "text/plain": [
       "<Figure size 640x480 with 1 Axes>"
      ]
     },
     "metadata": {
      "image/png": {
       "height": 455,
       "width": 585
      }
     },
     "output_type": "display_data"
    }
   ],
   "source": [
    "sns.barplot(y='Season', x='G/90', data=table[table.Team == 'Liverpool'])\n",
    "plt.title(\"Liverpool's goals per game\")\n",
    "plt.xlabel(\"G/90\")\n",
    "plt.ylabel(\"Season\")"
   ]
  },
  {
   "cell_type": "markdown",
   "metadata": {
    "cell_id": "17ed6d087b5c4f359240992b0198e0a1",
    "deepnote_cell_type": "text-cell-p",
    "formattedRanges": [],
    "is_collapsed": false,
    "tags": []
   },
   "source": [
    "df_22_23_liv คือ dataframe ที่คัดมาเฉพาะทีม Liverpool จากทีมทั้ง Premier League\n",
    "df_22_23_liv_fw คือ dataframe ที่คัดมาเฉพาะทีม Liverpool และ position ตัวรุก\n",
    "half_playtime คือ dataframe ที่นำ df_22_23_liv มาเรียงลำดับระยะเวลาที่เล่นครึ่งนึง โดยแสดงระยะที่นานที่สุด\n",
    "time_mean คือ ระยะเวลาเฉลี่ย"
   ]
  },
  {
   "cell_type": "code",
   "execution_count": 26,
   "metadata": {
    "cell_id": "87ac8b0d1ec5427a8c30b86041db2995",
    "deepnote_cell_type": "code",
    "deepnote_to_be_reexecuted": false,
    "execution_millis": 5,
    "execution_start": 1679166184328,
    "source_hash": "5be96bd0"
   },
   "outputs": [
    {
     "data": {
      "text/plain": [
       "915.4074074074074"
      ]
     },
     "execution_count": 26,
     "metadata": {},
     "output_type": "execute_result"
    }
   ],
   "source": [
    "df_22_23_liv = df_22_23_prem[df_22_23_prem.Team == 'Liverpool'] #filter LIV\n",
    "df_22_23_liv_fw = df_22_23_liv[df_22_23_liv.Pos.str.contains('FW')] #filter forward\n",
    "half_playtime = df_22_23_liv.sort_values(by='Min', ascending=False).head(1)['Min'].iloc[0] / 2 #ระยะเวลาที่เล่นครึ่งนึงของคนที่มากที่สุด\n",
    "time_mean = df_22_23_liv.Min.mean()\n",
    "time_mean\n",
    "#half คือเวลาเล่นครึ่งนึงของคนที่มากสุด\n",
    "#mean คือ เวลาเฉลี่ย"
   ]
  },
  {
   "cell_type": "code",
   "execution_count": 27,
   "metadata": {
    "cell_id": "01c42229a3564a8886401f0ff74bfd84",
    "deepnote_cell_type": "code",
    "deepnote_to_be_reexecuted": false,
    "execution_millis": 59,
    "execution_start": 1679166184352,
    "source_hash": "f30c2451"
   },
   "outputs": [
    {
     "data": {
      "text/plain": [
       "<matplotlib.legend.Legend at 0x7f8af37eabb0>"
      ]
     },
     "execution_count": 27,
     "metadata": {},
     "output_type": "execute_result"
    },
    {
     "data": {
      "image/png": "[encoded data removed]",
      "text/plain": [
       "<Figure size 640x480 with 1 Axes>"
      ]
     },
     "metadata": {
      "image/png": {
       "height": 455,
       "width": 593
      }
     },
     "output_type": "display_data"
    }
   ],
   "source": [
    "sns.scatterplot(data=df_22_23_liv, x='Age', y='Min')\n",
    "plt.axhline(time_mean, color='red', label='mean')\n",
    "plt.axhline(half_playtime, color='green', label='half')\n",
    "for i, row in df_22_23_liv.iterrows():\n",
    "    plt.text(row['Age'] , row['Min'], row['Name'], fontsize=8, ha='center')\n",
    "plt.title(\"Player's Playtime\")\n",
    "plt.legend()"
   ]
  },
  {
   "cell_type": "markdown",
   "metadata": {
    "cell_id": "4c5844d680ff422aaf8802298cce91f2",
    "deepnote_cell_type": "text-cell-p",
    "formattedRanges": [],
    "is_collapsed": false,
    "tags": []
   },
   "source": [
    "สังเกตจากตารางข้างบนเราจะเห็นได้ว่ามีบางผู้เล่นที่ได้เล่นนานกว่าเวลาเฉลี่ยอีก และผู้เล่นที่ได้เล่นน้อยกว่าเวลาเฉลี่ย (เส้นสีแดง) และ มีเส้นสีเขียวที่แบ่งให้เห็นถึงระยะเวลาครึ่งนึง (ครึ่ง match)"
   ]
  },
  {
   "cell_type": "markdown",
   "metadata": {
    "cell_id": "5e691298-31bd-487e-8d90-26356cd1300b",
    "deepnote_cell_type": "text-cell-p",
    "formattedRanges": [],
    "is_collapsed": false,
    "tags": []
   },
   "source": [
    "df_22_23_liv_low คือ dataframe ที่คัดเฉพาะผู้เล่นที่ได้รับเวลาเล่นน้อยกว่าเวลาเฉลี่ย\n",
    "df_22_23_liv_high คือ dataframe ที่คัดเฉพาะผู้เล่นที่ได้รับเวลาเล่นมากกว่าเวลาเฉลี่ย\n",
    "column ชื่อ Playtime บ่งบอกว่าผู้เล่นนั้นได้รับเวลามากกว่า (high) หรือ น้อยกว่าเวลาเฉลี่ย (low)"
   ]
  },
  {
   "cell_type": "markdown",
   "metadata": {
    "cell_id": "fa09c860-8061-46a6-bf6a-df804e89c3d5",
    "deepnote_cell_type": "text-cell-p",
    "formattedRanges": [],
    "is_collapsed": false,
    "tags": []
   },
   "source": [
    "จากการที่เราสืบค้นและเพื่อทำให้การวิเคราะห์เป็นไปตามเป้าหมายที่วางไว้ การวิเคราะห์เรื่องนี้จึงต้องตัด นักเตะที่มีอาการบาดเจ็บออก ได้แก่\n",
    "Luis, Diogo, Naby, และ Cody ทั้งหมด 4 คน, โดยผู้เล่นบาดเจ็บเหล่านี้จะมีผลกับการวิเคราะห์เฉพาะ ผู้เล่นที่ได้รับเวลาเล่นน้อยกว่าเวลาเฉลี่ย\n",
    "df_22_23_liv_low_ninj คือ dataframe ที่เราจะคัดนักเตะที่บาดเจ็บออกจาก df_22_23_liv_low\n",
    "df_22_23_liv_fw_low_ninj คือนำ dataframe เดิมมาคัดให้เหลือแค่ตำแหน่ง ตัวรุก\n",
    "df_22_23_liv_fw_high คือ df_22_23_liv_high ที่คัดเฉพาะตำแหน่ง ตัวรุก"
   ]
  },
  {
   "cell_type": "code",
   "execution_count": 28,
   "metadata": {
    "cell_id": "24306150decf4116afa0031c24c0c951",
    "deepnote_cell_type": "code",
    "deepnote_to_be_reexecuted": false,
    "execution_millis": 15,
    "execution_start": 1679166184787,
    "source_hash": "1f932078"
   },
   "outputs": [
    {
     "name": "stderr",
     "output_type": "stream",
     "text": [
      "/tmp/ipykernel_81/2198805496.py:3: SettingWithCopyWarning: \n",
      "A value is trying to be set on a copy of a slice from a DataFrame.\n",
      "Try using .loc[row_indexer,col_indexer] = value instead\n",
      "\n",
      "See the caveats in the documentation: https://pandas.pydata.org/pandas-docs/stable/user_guide/indexing.html#returning-a-view-versus-a-copy\n",
      "  df_22_23_liv_low['PlayTime'] = 'low'\n",
      "/tmp/ipykernel_81/2198805496.py:5: SettingWithCopyWarning: \n",
      "A value is trying to be set on a copy of a slice from a DataFrame.\n",
      "Try using .loc[row_indexer,col_indexer] = value instead\n",
      "\n",
      "See the caveats in the documentation: https://pandas.pydata.org/pandas-docs/stable/user_guide/indexing.html#returning-a-view-versus-a-copy\n",
      "  df_22_23_liv_high['PlayTime'] = 'high'\n"
     ]
    }
   ],
   "source": [
    "#แยกกลุ่มผู้เล่นเกมรุกที่ได้เล่นเยอะและเล่นน้อย\n",
    "df_22_23_liv_low = df_22_23_liv[df_22_23_liv.Min < time_mean]\n",
    "df_22_23_liv_low['PlayTime'] = 'low'\n",
    "df_22_23_liv_high = df_22_23_liv[df_22_23_liv.Min >= time_mean]\n",
    "df_22_23_liv_high['PlayTime'] = 'high'\n",
    "liv_inj = ['Luis', 'Diogo', 'Naby', 'Cody']\n",
    "df_22_23_liv_low_ninj = df_22_23_liv_low[~df_22_23_liv_low['Name'].str.contains('|'.join(liv_inj))]\n",
    "df_22_23_liv_fw_low_ninj = df_22_23_liv_low_ninj[df_22_23_liv_low_ninj.Pos.str.contains('FW')]\n",
    "df_22_23_liv_fw_high = df_22_23_liv_high[df_22_23_liv_high.Pos.str.contains('FW')]\n",
    "# df_22_23_liv_low.sort_values(by='Min', ascending=False)\n"
   ]
  },
  {
   "cell_type": "markdown",
   "metadata": {
    "cell_id": "6861c3d5e6274215b97bebeef889ad91",
    "deepnote_cell_type": "text-cell-p",
    "formattedRanges": [],
    "is_collapsed": false,
    "tags": []
   },
   "source": [
    "โดยผู้เล่นที่ได้รับเวลาเล่นน้อยกว่าเวลาเฉลี่ย มีทั้งหมด 15 คน\n",
    "โดยผู้เล่นที่ได้รับเวลาเล่นมากกว่าเวลาเฉลี่ย มีทั้งหมด 11 คน"
   ]
  },
  {
   "cell_type": "code",
   "execution_count": 29,
   "metadata": {
    "cell_id": "6f7698b007de4d82b0986f3b9ce6ce48",
    "deepnote_cell_type": "code",
    "deepnote_to_be_reexecuted": false,
    "execution_millis": 3,
    "execution_start": 1679166184804,
    "source_hash": "1779c78"
   },
   "outputs": [
    {
     "data": {
      "text/plain": [
       "(15, 177)"
      ]
     },
     "execution_count": 29,
     "metadata": {},
     "output_type": "execute_result"
    }
   ],
   "source": [
    "df_22_23_liv_low.shape\n",
    "# ต่ำมีกี่คน\n"
   ]
  },
  {
   "cell_type": "code",
   "execution_count": 30,
   "metadata": {
    "cell_id": "32e23d1f5ed94241aa21dbee16cb0b0d",
    "deepnote_cell_type": "code",
    "deepnote_to_be_reexecuted": false,
    "execution_millis": 7,
    "execution_start": 1679166184808,
    "source_hash": "71aa4500"
   },
   "outputs": [
    {
     "data": {
      "text/plain": [
       "(11, 177)"
      ]
     },
     "execution_count": 30,
     "metadata": {},
     "output_type": "execute_result"
    }
   ],
   "source": [
    "df_22_23_liv_low_ninj.shape\n",
    "# ต่ำไม่เจ็บมีกี่คน"
   ]
  },
  {
   "cell_type": "markdown",
   "metadata": {
    "cell_id": "1ca0675108204cf6aea2a39a4503ac5e",
    "deepnote_cell_type": "text-cell-p",
    "formattedRanges": [],
    "is_collapsed": false,
    "tags": []
   },
   "source": [
    "ตารางนี้เป็นการแสดงผลผู้เล่นตำแหน่งตัวรุกที่ได้รับเวลาเล่นน้อยกว่าเวลาเฉลี่ย"
   ]
  },
  {
   "cell_type": "code",
   "execution_count": 31,
   "metadata": {
    "cell_id": "8afe405ecb604b61a75f5b768fdb491a",
    "deepnote_cell_type": "code",
    "deepnote_to_be_reexecuted": false,
    "execution_millis": 20,
    "execution_start": 1679166184859,
    "source_hash": "854316fa"
   },
   "outputs": [
    {
     "data": {
      "application/vnd.deepnote.dataframe.v3+json": {
       "column_count": 16,
       "columns": [
        {
         "dtype": "object",
         "name": "Name",
         "stats": {
          "categories": [
           {
            "count": 1,
            "name": "Fabio Carvalho"
           },
           {
            "count": 1,
            "name": "Alex Oxlade-Chamberlain"
           },
           {
            "count": 2,
            "name": "2 others"
           }
          ],
          "nan_count": 0,
          "unique_count": 4
         }
        },
        {
         "dtype": "int64",
         "name": "Age",
         "stats": {
          "histogram": [
           {
            "bin_end": 18.2,
            "bin_start": 17,
            "count": 1
           },
           {
            "bin_end": 19.4,
            "bin_start": 18.2,
            "count": 0
           },
           {
            "bin_end": 20.6,
            "bin_start": 19.4,
            "count": 1
           },
           {
            "bin_end": 21.8,
            "bin_start": 20.6,
            "count": 0
           },
           {
            "bin_end": 23,
            "bin_start": 21.8,
            "count": 1
           },
           {
            "bin_end": 24.2,
            "bin_start": 23,
            "count": 0
           },
           {
            "bin_end": 25.4,
            "bin_start": 24.2,
            "count": 0
           },
           {
            "bin_end": 26.6,
            "bin_start": 25.4,
            "count": 0
           },
           {
            "bin_end": 27.799999999999997,
            "bin_start": 26.6,
            "count": 0
           },
           {
            "bin_end": 29,
            "bin_start": 27.799999999999997,
            "count": 1
           }
          ],
          "max": "29",
          "min": "17",
          "nan_count": 0,
          "unique_count": 4
         }
        },
        {
         "dtype": "object",
         "name": "Pos",
         "stats": {
          "categories": [
           {
            "count": 2,
            "name": "MFFW"
           },
           {
            "count": 1,
            "name": "FWMF"
           },
           {
            "count": 1,
            "name": "FW"
           }
          ],
          "nan_count": 0,
          "unique_count": 3
         }
        },
        {
         "dtype": "float64",
         "name": "Min",
         "stats": {
          "histogram": [
           {
            "bin_end": 57.1,
            "bin_start": 26,
            "count": 1
           },
           {
            "bin_end": 88.2,
            "bin_start": 57.1,
            "count": 0
           },
           {
            "bin_end": 119.30000000000001,
            "bin_start": 88.2,
            "count": 0
           },
           {
            "bin_end": 150.4,
            "bin_start": 119.30000000000001,
            "count": 0
           },
           {
            "bin_end": 181.5,
            "bin_start": 150.4,
            "count": 0
           },
           {
            "bin_end": 212.60000000000002,
            "bin_start": 181.5,
            "count": 1
           },
           {
            "bin_end": 243.70000000000002,
            "bin_start": 212.60000000000002,
            "count": 0
           },
           {
            "bin_end": 274.8,
            "bin_start": 243.70000000000002,
            "count": 0
           },
           {
            "bin_end": 305.90000000000003,
            "bin_start": 274.8,
            "count": 0
           },
           {
            "bin_end": 337,
            "bin_start": 305.90000000000003,
            "count": 2
           }
          ],
          "max": "337.0",
          "min": "26.0",
          "nan_count": 0,
          "unique_count": 4
         }
        },
        {
         "dtype": "float64",
         "name": "TotCmp%",
         "stats": {
          "histogram": [
           {
            "bin_end": 72.84,
            "bin_start": 71.4,
            "count": 1
           },
           {
            "bin_end": 74.28,
            "bin_start": 72.84,
            "count": 1
           },
           {
            "bin_end": 75.72,
            "bin_start": 74.28,
            "count": 0
           },
           {
            "bin_end": 77.16,
            "bin_start": 75.72,
            "count": 0
           },
           {
            "bin_end": 78.6,
            "bin_start": 77.16,
            "count": 0
           },
           {
            "bin_end": 80.03999999999999,
            "bin_start": 78.6,
            "count": 0
           },
           {
            "bin_end": 81.48,
            "bin_start": 80.03999999999999,
            "count": 0
           },
           {
            "bin_end": 82.92,
            "bin_start": 81.48,
            "count": 1
           },
           {
            "bin_end": 84.36,
            "bin_start": 82.92,
            "count": 0
           },
           {
            "bin_end": 85.8,
            "bin_start": 84.36,
            "count": 1
           }
          ],
          "max": "85.8",
          "min": "71.4",
          "nan_count": 0,
          "unique_count": 4
         }
        },
        {
         "dtype": "float64",
         "name": "SCA90",
         "stats": {
          "histogram": [
           {
            "bin_end": 0.462,
            "bin_start": 0,
            "count": 1
           },
           {
            "bin_end": 0.924,
            "bin_start": 0.462,
            "count": 0
           },
           {
            "bin_end": 1.3860000000000001,
            "bin_start": 0.924,
            "count": 0
           },
           {
            "bin_end": 1.848,
            "bin_start": 1.3860000000000001,
            "count": 0
           },
           {
            "bin_end": 2.31,
            "bin_start": 1.848,
            "count": 0
           },
           {
            "bin_end": 2.7720000000000002,
            "bin_start": 2.31,
            "count": 2
           },
           {
            "bin_end": 3.234,
            "bin_start": 2.7720000000000002,
            "count": 0
           },
           {
            "bin_end": 3.696,
            "bin_start": 3.234,
            "count": 0
           },
           {
            "bin_end": 4.158,
            "bin_start": 3.696,
            "count": 0
           },
           {
            "bin_end": 4.62,
            "bin_start": 4.158,
            "count": 1
           }
          ],
          "max": "4.62",
          "min": "0.0",
          "nan_count": 0,
          "unique_count": 4
         }
        },
        {
         "dtype": "float64",
         "name": "KP90",
         "stats": {
          "histogram": [
           {
            "bin_end": 0.143,
            "bin_start": 0,
            "count": 1
           },
           {
            "bin_end": 0.286,
            "bin_start": 0.143,
            "count": 1
           },
           {
            "bin_end": 0.42899999999999994,
            "bin_start": 0.286,
            "count": 0
           },
           {
            "bin_end": 0.572,
            "bin_start": 0.42899999999999994,
            "count": 0
           },
           {
            "bin_end": 0.715,
            "bin_start": 0.572,
            "count": 0
           },
           {
            "bin_end": 0.8579999999999999,
            "bin_start": 0.715,
            "count": 0
           },
           {
            "bin_end": 1.001,
            "bin_start": 0.8579999999999999,
            "count": 1
           },
           {
            "bin_end": 1.144,
            "bin_start": 1.001,
            "count": 0
           },
           {
            "bin_end": 1.287,
            "bin_start": 1.144,
            "count": 0
           },
           {
            "bin_end": 1.43,
            "bin_start": 1.287,
            "count": 1
           }
          ],
          "max": "1.43",
          "min": "0.0",
          "nan_count": 0,
          "unique_count": 4
         }
        },
        {
         "dtype": "float64",
         "name": "Gls",
         "stats": {
          "histogram": [
           {
            "bin_end": 0.2,
            "bin_start": 0,
            "count": 2
           },
           {
            "bin_end": 0.4,
            "bin_start": 0.2,
            "count": 0
           },
           {
            "bin_end": 0.6000000000000001,
            "bin_start": 0.4,
            "count": 0
           },
           {
            "bin_end": 0.8,
            "bin_start": 0.6000000000000001,
            "count": 0
           },
           {
            "bin_end": 1,
            "bin_start": 0.8,
            "count": 0
           },
           {
            "bin_end": 1.2000000000000002,
            "bin_start": 1,
            "count": 1
           },
           {
            "bin_end": 1.4000000000000001,
            "bin_start": 1.2000000000000002,
            "count": 0
           },
           {
            "bin_end": 1.6,
            "bin_start": 1.4000000000000001,
            "count": 0
           },
           {
            "bin_end": 1.8,
            "bin_start": 1.6,
            "count": 0
           },
           {
            "bin_end": 2,
            "bin_start": 1.8,
            "count": 1
           }
          ],
          "max": "2.0",
          "min": "0.0",
          "nan_count": 0,
          "unique_count": 3
         }
        },
        {
         "dtype": "float64",
         "name": "Gls/90s",
         "stats": {
          "histogram": [
           {
            "bin_end": 0.053000000000000005,
            "bin_start": 0,
            "count": 2
           },
           {
            "bin_end": 0.10600000000000001,
            "bin_start": 0.053000000000000005,
            "count": 0
           },
           {
            "bin_end": 0.15900000000000003,
            "bin_start": 0.10600000000000001,
            "count": 0
           },
           {
            "bin_end": 0.21200000000000002,
            "bin_start": 0.15900000000000003,
            "count": 0
           },
           {
            "bin_end": 0.265,
            "bin_start": 0.21200000000000002,
            "count": 0
           },
           {
            "bin_end": 0.31800000000000006,
            "bin_start": 0.265,
            "count": 1
           },
           {
            "bin_end": 0.37100000000000005,
            "bin_start": 0.31800000000000006,
            "count": 0
           },
           {
            "bin_end": 0.42400000000000004,
            "bin_start": 0.37100000000000005,
            "count": 0
           },
           {
            "bin_end": 0.47700000000000004,
            "bin_start": 0.42400000000000004,
            "count": 0
           },
           {
            "bin_end": 0.53,
            "bin_start": 0.47700000000000004,
            "count": 1
           }
          ],
          "max": "0.53",
          "min": "0.0",
          "nan_count": 0,
          "unique_count": 3
         }
        },
        {
         "dtype": "float64",
         "name": "xG",
         "stats": {
          "histogram": [
           {
            "bin_end": 0.13,
            "bin_start": 0,
            "count": 1
           },
           {
            "bin_end": 0.26,
            "bin_start": 0.13,
            "count": 1
           },
           {
            "bin_end": 0.39,
            "bin_start": 0.26,
            "count": 0
           },
           {
            "bin_end": 0.52,
            "bin_start": 0.39,
            "count": 0
           },
           {
            "bin_end": 0.65,
            "bin_start": 0.52,
            "count": 0
           },
           {
            "bin_end": 0.78,
            "bin_start": 0.65,
            "count": 0
           },
           {
            "bin_end": 0.91,
            "bin_start": 0.78,
            "count": 0
           },
           {
            "bin_end": 1.04,
            "bin_start": 0.91,
            "count": 0
           },
           {
            "bin_end": 1.17,
            "bin_start": 1.04,
            "count": 1
           },
           {
            "bin_end": 1.3,
            "bin_start": 1.17,
            "count": 1
           }
          ],
          "max": "1.3",
          "min": "0.0",
          "nan_count": 0,
          "unique_count": 4
         }
        },
        {
         "dtype": "float64",
         "name": "xG/90s",
         "stats": {
          "histogram": [
           {
            "bin_end": 0.037142857142857144,
            "bin_start": 0,
            "count": 1
           },
           {
            "bin_end": 0.07428571428571429,
            "bin_start": 0.037142857142857144,
            "count": 0
           },
           {
            "bin_end": 0.11142857142857143,
            "bin_start": 0.07428571428571429,
            "count": 1
           },
           {
            "bin_end": 0.14857142857142858,
            "bin_start": 0.11142857142857143,
            "count": 0
           },
           {
            "bin_end": 0.18571428571428572,
            "bin_start": 0.14857142857142858,
            "count": 0
           },
           {
            "bin_end": 0.22285714285714286,
            "bin_start": 0.18571428571428572,
            "count": 0
           },
           {
            "bin_end": 0.26,
            "bin_start": 0.22285714285714286,
            "count": 0
           },
           {
            "bin_end": 0.29714285714285715,
            "bin_start": 0.26,
            "count": 0
           },
           {
            "bin_end": 0.3342857142857143,
            "bin_start": 0.29714285714285715,
            "count": 1
           },
           {
            "bin_end": 0.37142857142857144,
            "bin_start": 0.3342857142857143,
            "count": 1
           }
          ],
          "max": "0.37142857142857144",
          "min": "0.0",
          "nan_count": 0,
          "unique_count": 4
         }
        },
        {
         "dtype": "float64",
         "name": "G/Sh",
         "stats": {
          "histogram": [
           {
            "bin_end": 0.018,
            "bin_start": 0,
            "count": 1
           },
           {
            "bin_end": 0.036,
            "bin_start": 0.018,
            "count": 0
           },
           {
            "bin_end": 0.05399999999999999,
            "bin_start": 0.036,
            "count": 0
           },
           {
            "bin_end": 0.072,
            "bin_start": 0.05399999999999999,
            "count": 0
           },
           {
            "bin_end": 0.09,
            "bin_start": 0.072,
            "count": 0
           },
           {
            "bin_end": 0.10799999999999998,
            "bin_start": 0.09,
            "count": 0
           },
           {
            "bin_end": 0.126,
            "bin_start": 0.10799999999999998,
            "count": 0
           },
           {
            "bin_end": 0.144,
            "bin_start": 0.126,
            "count": 1
           },
           {
            "bin_end": 0.16199999999999998,
            "bin_start": 0.144,
            "count": 0
           },
           {
            "bin_end": 0.18,
            "bin_start": 0.16199999999999998,
            "count": 1
           }
          ],
          "max": "0.18",
          "min": "0.0",
          "nan_count": 1,
          "unique_count": 3
         }
        },
        {
         "dtype": "float64",
         "name": "Ast",
         "stats": {
          "histogram": [
           {
            "bin_end": -0.4,
            "bin_start": -0.5,
            "count": 0
           },
           {
            "bin_end": -0.3,
            "bin_start": -0.4,
            "count": 0
           },
           {
            "bin_end": -0.19999999999999996,
            "bin_start": -0.3,
            "count": 0
           },
           {
            "bin_end": -0.09999999999999998,
            "bin_start": -0.19999999999999996,
            "count": 0
           },
           {
            "bin_end": 0,
            "bin_start": -0.09999999999999998,
            "count": 0
           },
           {
            "bin_end": 0.10000000000000009,
            "bin_start": 0,
            "count": 4
           },
           {
            "bin_end": 0.20000000000000007,
            "bin_start": 0.10000000000000009,
            "count": 0
           },
           {
            "bin_end": 0.30000000000000004,
            "bin_start": 0.20000000000000007,
            "count": 0
           },
           {
            "bin_end": 0.4,
            "bin_start": 0.30000000000000004,
            "count": 0
           },
           {
            "bin_end": 0.5,
            "bin_start": 0.4,
            "count": 0
           }
          ],
          "max": "0.0",
          "min": "0.0",
          "nan_count": 0,
          "unique_count": 1
         }
        },
        {
         "dtype": "float64",
         "name": "xA",
         "stats": {
          "histogram": [
           {
            "bin_end": 0.03,
            "bin_start": 0,
            "count": 1
           },
           {
            "bin_end": 0.06,
            "bin_start": 0.03,
            "count": 0
           },
           {
            "bin_end": 0.09,
            "bin_start": 0.06,
            "count": 0
           },
           {
            "bin_end": 0.12,
            "bin_start": 0.09,
            "count": 0
           },
           {
            "bin_end": 0.15,
            "bin_start": 0.12,
            "count": 0
           },
           {
            "bin_end": 0.18,
            "bin_start": 0.15,
            "count": 0
           },
           {
            "bin_end": 0.21,
            "bin_start": 0.18,
            "count": 2
           },
           {
            "bin_end": 0.24,
            "bin_start": 0.21,
            "count": 0
           },
           {
            "bin_end": 0.27,
            "bin_start": 0.24,
            "count": 0
           },
           {
            "bin_end": 0.3,
            "bin_start": 0.27,
            "count": 1
           }
          ],
          "max": "0.3",
          "min": "0.0",
          "nan_count": 0,
          "unique_count": 3
         }
        },
        {
         "dtype": "float64",
         "name": "Ast90",
         "stats": {
          "histogram": [
           {
            "bin_end": -0.4,
            "bin_start": -0.5,
            "count": 0
           },
           {
            "bin_end": -0.3,
            "bin_start": -0.4,
            "count": 0
           },
           {
            "bin_end": -0.19999999999999996,
            "bin_start": -0.3,
            "count": 0
           },
           {
            "bin_end": -0.09999999999999998,
            "bin_start": -0.19999999999999996,
            "count": 0
           },
           {
            "bin_end": 0,
            "bin_start": -0.09999999999999998,
            "count": 0
           },
           {
            "bin_end": 0.10000000000000009,
            "bin_start": 0,
            "count": 4
           },
           {
            "bin_end": 0.20000000000000007,
            "bin_start": 0.10000000000000009,
            "count": 0
           },
           {
            "bin_end": 0.30000000000000004,
            "bin_start": 0.20000000000000007,
            "count": 0
           },
           {
            "bin_end": 0.4,
            "bin_start": 0.30000000000000004,
            "count": 0
           },
           {
            "bin_end": 0.5,
            "bin_start": 0.4,
            "count": 0
           }
          ],
          "max": "0.0",
          "min": "0.0",
          "nan_count": 0,
          "unique_count": 1
         }
        },
        {
         "dtype": "object",
         "name": "PlayTime",
         "stats": {
          "categories": [
           {
            "count": 4,
            "name": "low"
           }
          ],
          "nan_count": 0,
          "unique_count": 1
         }
        },
        {
         "dtype": "int64",
         "name": "_deepnote_index_column"
        }
       ],
       "row_count": 4,
       "rows": [
        {
         "Age": "20",
         "Ast": "0.0",
         "Ast90": "0.0",
         "G/Sh": "0.18",
         "Gls": "2.0",
         "Gls/90s": "0.53",
         "KP90": "0.27",
         "Min": "337.0",
         "Name": "Fabio Carvalho",
         "PlayTime": "low",
         "Pos": "MFFW",
         "SCA90": "2.4",
         "TotCmp%": "82.2",
         "_deepnote_index_column": "461",
         "xA": "0.2",
         "xG": "1.1",
         "xG/90s": "0.2972972972972973"
        },
        {
         "Age": "29",
         "Ast": "0.0",
         "Ast90": "0.0",
         "G/Sh": "0.14",
         "Gls": "1.0",
         "Gls/90s": "0.29",
         "KP90": "1.43",
         "Min": "314.0",
         "Name": "Alex Oxlade-Chamberlain",
         "PlayTime": "low",
         "Pos": "FWMF",
         "SCA90": "2.59",
         "TotCmp%": "73.7",
         "_deepnote_index_column": "1915",
         "xA": "0.2",
         "xG": "1.3",
         "xG/90s": "0.37142857142857144"
        },
        {
         "Age": "17",
         "Ast": "0.0",
         "Ast90": "0.0",
         "G/Sh": "nan",
         "Gls": "0.0",
         "Gls/90s": "0.0",
         "KP90": "0.0",
         "Min": "26.0",
         "Name": "Ben Doak",
         "PlayTime": "low",
         "Pos": "FW",
         "SCA90": "0.0",
         "TotCmp%": "71.4",
         "_deepnote_index_column": "730",
         "xA": "0.0",
         "xG": "0.0",
         "xG/90s": "0.0"
        },
        {
         "Age": "22",
         "Ast": "0.0",
         "Ast90": "0.0",
         "G/Sh": "0.0",
         "Gls": "0.0",
         "Gls/90s": "0.0",
         "KP90": "0.91",
         "Min": "195.0",
         "Name": "Curtis Jones",
         "PlayTime": "low",
         "Pos": "MFFW",
         "SCA90": "4.62",
         "TotCmp%": "85.8",
         "_deepnote_index_column": "1244",
         "xA": "0.3",
         "xG": "0.2",
         "xG/90s": "0.09090909090909091"
        }
       ]
      },
      "text/html": [
       "<div>\n",
       "<style scoped>\n",
       "    .dataframe tbody tr th:only-of-type {\n",
       "        vertical-align: middle;\n",
       "    }\n",
       "\n",
       "    .dataframe tbody tr th {\n",
       "        vertical-align: top;\n",
       "    }\n",
       "\n",
       "    .dataframe thead th {\n",
       "        text-align: right;\n",
       "    }\n",
       "</style>\n",
       "<table border=\"1\" class=\"dataframe\">\n",
       "  <thead>\n",
       "    <tr style=\"text-align: right;\">\n",
       "      <th></th>\n",
       "      <th>Name</th>\n",
       "      <th>Age</th>\n",
       "      <th>Pos</th>\n",
       "      <th>Min</th>\n",
       "      <th>TotCmp%</th>\n",
       "      <th>SCA90</th>\n",
       "      <th>KP90</th>\n",
       "      <th>Gls</th>\n",
       "      <th>Gls/90s</th>\n",
       "      <th>xG</th>\n",
       "      <th>xG/90s</th>\n",
       "      <th>G/Sh</th>\n",
       "      <th>Ast</th>\n",
       "      <th>xA</th>\n",
       "      <th>Ast90</th>\n",
       "      <th>PlayTime</th>\n",
       "    </tr>\n",
       "  </thead>\n",
       "  <tbody>\n",
       "    <tr>\n",
       "      <th>461</th>\n",
       "      <td>Fabio Carvalho</td>\n",
       "      <td>20</td>\n",
       "      <td>MFFW</td>\n",
       "      <td>337.0</td>\n",
       "      <td>82.2</td>\n",
       "      <td>2.40</td>\n",
       "      <td>0.27</td>\n",
       "      <td>2.0</td>\n",
       "      <td>0.53</td>\n",
       "      <td>1.1</td>\n",
       "      <td>0.297297</td>\n",
       "      <td>0.18</td>\n",
       "      <td>0.0</td>\n",
       "      <td>0.2</td>\n",
       "      <td>0.0</td>\n",
       "      <td>low</td>\n",
       "    </tr>\n",
       "    <tr>\n",
       "      <th>1915</th>\n",
       "      <td>Alex Oxlade-Chamberlain</td>\n",
       "      <td>29</td>\n",
       "      <td>FWMF</td>\n",
       "      <td>314.0</td>\n",
       "      <td>73.7</td>\n",
       "      <td>2.59</td>\n",
       "      <td>1.43</td>\n",
       "      <td>1.0</td>\n",
       "      <td>0.29</td>\n",
       "      <td>1.3</td>\n",
       "      <td>0.371429</td>\n",
       "      <td>0.14</td>\n",
       "      <td>0.0</td>\n",
       "      <td>0.2</td>\n",
       "      <td>0.0</td>\n",
       "      <td>low</td>\n",
       "    </tr>\n",
       "    <tr>\n",
       "      <th>730</th>\n",
       "      <td>Ben Doak</td>\n",
       "      <td>17</td>\n",
       "      <td>FW</td>\n",
       "      <td>26.0</td>\n",
       "      <td>71.4</td>\n",
       "      <td>0.00</td>\n",
       "      <td>0.00</td>\n",
       "      <td>0.0</td>\n",
       "      <td>0.00</td>\n",
       "      <td>0.0</td>\n",
       "      <td>0.000000</td>\n",
       "      <td>NaN</td>\n",
       "      <td>0.0</td>\n",
       "      <td>0.0</td>\n",
       "      <td>0.0</td>\n",
       "      <td>low</td>\n",
       "    </tr>\n",
       "    <tr>\n",
       "      <th>1244</th>\n",
       "      <td>Curtis Jones</td>\n",
       "      <td>22</td>\n",
       "      <td>MFFW</td>\n",
       "      <td>195.0</td>\n",
       "      <td>85.8</td>\n",
       "      <td>4.62</td>\n",
       "      <td>0.91</td>\n",
       "      <td>0.0</td>\n",
       "      <td>0.00</td>\n",
       "      <td>0.2</td>\n",
       "      <td>0.090909</td>\n",
       "      <td>0.00</td>\n",
       "      <td>0.0</td>\n",
       "      <td>0.3</td>\n",
       "      <td>0.0</td>\n",
       "      <td>low</td>\n",
       "    </tr>\n",
       "  </tbody>\n",
       "</table>\n",
       "</div>"
      ],
      "text/plain": [
       "                         Name  Age   Pos    Min  TotCmp%  SCA90  KP90  Gls  \\\n",
       "461            Fabio Carvalho   20  MFFW  337.0     82.2   2.40  0.27  2.0   \n",
       "1915  Alex Oxlade-Chamberlain   29  FWMF  314.0     73.7   2.59  1.43  1.0   \n",
       "730                  Ben Doak   17    FW   26.0     71.4   0.00  0.00  0.0   \n",
       "1244             Curtis Jones   22  MFFW  195.0     85.8   4.62  0.91  0.0   \n",
       "\n",
       "      Gls/90s   xG    xG/90s  G/Sh  Ast   xA  Ast90 PlayTime  \n",
       "461      0.53  1.1  0.297297  0.18  0.0  0.2    0.0      low  \n",
       "1915     0.29  1.3  0.371429  0.14  0.0  0.2    0.0      low  \n",
       "730      0.00  0.0  0.000000   NaN  0.0  0.0    0.0      low  \n",
       "1244     0.00  0.2  0.090909  0.00  0.0  0.3    0.0      low  "
      ]
     },
     "execution_count": 31,
     "metadata": {},
     "output_type": "execute_result"
    }
   ],
   "source": [
    "#ผู้เล่นเกมรุกที่ได้เล่นน้อย\n",
    "df_22_23_liv_fw_low_ninj[['Name', 'Age', 'Pos', 'Min', 'TotCmp%', 'SCA90', 'KP90', 'Gls', 'Gls/90s', 'xG', 'xG/90s', 'G/Sh', 'Ast', 'xA', 'Ast90', 'PlayTime']].sort_values(by='Gls/90s', ascending=False)"
   ]
  },
  {
   "cell_type": "markdown",
   "metadata": {
    "cell_id": "97a7a11a8941453d8da625876211febb",
    "deepnote_cell_type": "text-cell-p",
    "formattedRanges": [],
    "is_collapsed": false,
    "tags": []
   },
   "source": [
    "ตารางนี้เป็นการแสดงผลผู้เล่นตำแหน่งตัวรุกที่ได้รับเวลาเล่นมากกว่าเวลาเฉลี่ย"
   ]
  },
  {
   "cell_type": "code",
   "execution_count": 32,
   "metadata": {
    "cell_id": "2358c891e5cc43539cdf5195ddb3ee04",
    "deepnote_cell_type": "code",
    "deepnote_to_be_reexecuted": false,
    "execution_millis": 45,
    "execution_start": 1679166184897,
    "source_hash": "5a1ffd94"
   },
   "outputs": [
    {
     "data": {
      "application/vnd.deepnote.dataframe.v3+json": {
       "column_count": 16,
       "columns": [
        {
         "dtype": "object",
         "name": "Name",
         "stats": {
          "categories": [
           {
            "count": 1,
            "name": "Roberto Firmino"
           },
           {
            "count": 1,
            "name": "Darwin Núñez"
           },
           {
            "count": 2,
            "name": "2 others"
           }
          ],
          "nan_count": 0,
          "unique_count": 4
         }
        },
        {
         "dtype": "int64",
         "name": "Age",
         "stats": {
          "histogram": [
           {
            "bin_end": 20.2,
            "bin_start": 19,
            "count": 1
           },
           {
            "bin_end": 21.4,
            "bin_start": 20.2,
            "count": 0
           },
           {
            "bin_end": 22.6,
            "bin_start": 21.4,
            "count": 0
           },
           {
            "bin_end": 23.8,
            "bin_start": 22.6,
            "count": 1
           },
           {
            "bin_end": 25,
            "bin_start": 23.8,
            "count": 0
           },
           {
            "bin_end": 26.2,
            "bin_start": 25,
            "count": 0
           },
           {
            "bin_end": 27.4,
            "bin_start": 26.2,
            "count": 0
           },
           {
            "bin_end": 28.6,
            "bin_start": 27.4,
            "count": 0
           },
           {
            "bin_end": 29.799999999999997,
            "bin_start": 28.6,
            "count": 0
           },
           {
            "bin_end": 31,
            "bin_start": 29.799999999999997,
            "count": 2
           }
          ],
          "max": "31",
          "min": "19",
          "nan_count": 0,
          "unique_count": 4
         }
        },
        {
         "dtype": "object",
         "name": "Pos",
         "stats": {
          "categories": [
           {
            "count": 2,
            "name": "FW"
           },
           {
            "count": 1,
            "name": "FWMF"
           },
           {
            "count": 1,
            "name": "MFFW"
           }
          ],
          "nan_count": 0,
          "unique_count": 3
         }
        },
        {
         "dtype": "float64",
         "name": "Min",
         "stats": {
          "histogram": [
           {
            "bin_end": 1127.9,
            "bin_start": 1006,
            "count": 1
           },
           {
            "bin_end": 1249.8,
            "bin_start": 1127.9,
            "count": 0
           },
           {
            "bin_end": 1371.7,
            "bin_start": 1249.8,
            "count": 1
           },
           {
            "bin_end": 1493.6,
            "bin_start": 1371.7,
            "count": 1
           },
           {
            "bin_end": 1615.5,
            "bin_start": 1493.6,
            "count": 0
           },
           {
            "bin_end": 1737.4,
            "bin_start": 1615.5,
            "count": 0
           },
           {
            "bin_end": 1859.3000000000002,
            "bin_start": 1737.4,
            "count": 0
           },
           {
            "bin_end": 1981.2,
            "bin_start": 1859.3000000000002,
            "count": 0
           },
           {
            "bin_end": 2103.1000000000004,
            "bin_start": 1981.2,
            "count": 0
           },
           {
            "bin_end": 2225,
            "bin_start": 2103.1000000000004,
            "count": 1
           }
          ],
          "max": "2225.0",
          "min": "1006.0",
          "nan_count": 0,
          "unique_count": 4
         }
        },
        {
         "dtype": "float64",
         "name": "TotCmp%",
         "stats": {
          "histogram": [
           {
            "bin_end": 64.83,
            "bin_start": 63.2,
            "count": 1
           },
           {
            "bin_end": 66.46000000000001,
            "bin_start": 64.83,
            "count": 0
           },
           {
            "bin_end": 68.09,
            "bin_start": 66.46000000000001,
            "count": 0
           },
           {
            "bin_end": 69.72,
            "bin_start": 68.09,
            "count": 0
           },
           {
            "bin_end": 71.35,
            "bin_start": 69.72,
            "count": 0
           },
           {
            "bin_end": 72.98,
            "bin_start": 71.35,
            "count": 0
           },
           {
            "bin_end": 74.61,
            "bin_start": 72.98,
            "count": 0
           },
           {
            "bin_end": 76.24,
            "bin_start": 74.61,
            "count": 1
           },
           {
            "bin_end": 77.87,
            "bin_start": 76.24,
            "count": 0
           },
           {
            "bin_end": 79.5,
            "bin_start": 77.87,
            "count": 2
           }
          ],
          "max": "79.5",
          "min": "63.2",
          "nan_count": 0,
          "unique_count": 4
         }
        },
        {
         "dtype": "float64",
         "name": "SCA90",
         "stats": {
          "histogram": [
           {
            "bin_end": 3.304,
            "bin_start": 3.23,
            "count": 1
           },
           {
            "bin_end": 3.378,
            "bin_start": 3.304,
            "count": 0
           },
           {
            "bin_end": 3.452,
            "bin_start": 3.378,
            "count": 0
           },
           {
            "bin_end": 3.5260000000000002,
            "bin_start": 3.452,
            "count": 0
           },
           {
            "bin_end": 3.6,
            "bin_start": 3.5260000000000002,
            "count": 0
           },
           {
            "bin_end": 3.6740000000000004,
            "bin_start": 3.6,
            "count": 1
           },
           {
            "bin_end": 3.748,
            "bin_start": 3.6740000000000004,
            "count": 0
           },
           {
            "bin_end": 3.822,
            "bin_start": 3.748,
            "count": 0
           },
           {
            "bin_end": 3.8960000000000004,
            "bin_start": 3.822,
            "count": 1
           },
           {
            "bin_end": 3.97,
            "bin_start": 3.8960000000000004,
            "count": 1
           }
          ],
          "max": "3.97",
          "min": "3.23",
          "nan_count": 0,
          "unique_count": 4
         }
        },
        {
         "dtype": "float64",
         "name": "KP90",
         "stats": {
          "histogram": [
           {
            "bin_end": 1.36,
            "bin_start": 1.3,
            "count": 1
           },
           {
            "bin_end": 1.42,
            "bin_start": 1.36,
            "count": 0
           },
           {
            "bin_end": 1.48,
            "bin_start": 1.42,
            "count": 0
           },
           {
            "bin_end": 1.54,
            "bin_start": 1.48,
            "count": 0
           },
           {
            "bin_end": 1.6,
            "bin_start": 1.54,
            "count": 0
           },
           {
            "bin_end": 1.66,
            "bin_start": 1.6,
            "count": 1
           },
           {
            "bin_end": 1.72,
            "bin_start": 1.66,
            "count": 0
           },
           {
            "bin_end": 1.7799999999999998,
            "bin_start": 1.72,
            "count": 0
           },
           {
            "bin_end": 1.8399999999999999,
            "bin_start": 1.7799999999999998,
            "count": 1
           },
           {
            "bin_end": 1.9,
            "bin_start": 1.8399999999999999,
            "count": 1
           }
          ],
          "max": "1.9",
          "min": "1.3",
          "nan_count": 0,
          "unique_count": 4
         }
        },
        {
         "dtype": "float64",
         "name": "Gls",
         "stats": {
          "histogram": [
           {
            "bin_end": 2,
            "bin_start": 1,
            "count": 1
           },
           {
            "bin_end": 3,
            "bin_start": 2,
            "count": 0
           },
           {
            "bin_end": 4,
            "bin_start": 3,
            "count": 0
           },
           {
            "bin_end": 5,
            "bin_start": 4,
            "count": 0
           },
           {
            "bin_end": 6,
            "bin_start": 5,
            "count": 0
           },
           {
            "bin_end": 7,
            "bin_start": 6,
            "count": 0
           },
           {
            "bin_end": 8,
            "bin_start": 7,
            "count": 0
           },
           {
            "bin_end": 9,
            "bin_start": 8,
            "count": 2
           },
           {
            "bin_end": 10,
            "bin_start": 9,
            "count": 0
           },
           {
            "bin_end": 11,
            "bin_start": 10,
            "count": 1
           }
          ],
          "max": "11.0",
          "min": "1.0",
          "nan_count": 0,
          "unique_count": 3
         }
        },
        {
         "dtype": "float64",
         "name": "Gls/90s",
         "stats": {
          "histogram": [
           {
            "bin_end": 0.135,
            "bin_start": 0.07,
            "count": 1
           },
           {
            "bin_end": 0.19999999999999998,
            "bin_start": 0.135,
            "count": 0
           },
           {
            "bin_end": 0.26499999999999996,
            "bin_start": 0.19999999999999998,
            "count": 0
           },
           {
            "bin_end": 0.32999999999999996,
            "bin_start": 0.26499999999999996,
            "count": 0
           },
           {
            "bin_end": 0.39499999999999996,
            "bin_start": 0.32999999999999996,
            "count": 0
           },
           {
            "bin_end": 0.4599999999999999,
            "bin_start": 0.39499999999999996,
            "count": 1
           },
           {
            "bin_end": 0.5249999999999999,
            "bin_start": 0.4599999999999999,
            "count": 0
           },
           {
            "bin_end": 0.5899999999999999,
            "bin_start": 0.5249999999999999,
            "count": 1
           },
           {
            "bin_end": 0.6549999999999998,
            "bin_start": 0.5899999999999999,
            "count": 0
           },
           {
            "bin_end": 0.72,
            "bin_start": 0.6549999999999998,
            "count": 1
           }
          ],
          "max": "0.72",
          "min": "0.07",
          "nan_count": 0,
          "unique_count": 4
         }
        },
        {
         "dtype": "float64",
         "name": "xG",
         "stats": {
          "histogram": [
           {
            "bin_end": 2.71,
            "bin_start": 1.7,
            "count": 1
           },
           {
            "bin_end": 3.7200000000000006,
            "bin_start": 2.71,
            "count": 0
           },
           {
            "bin_end": 4.73,
            "bin_start": 3.7200000000000006,
            "count": 1
           },
           {
            "bin_end": 5.740000000000001,
            "bin_start": 4.73,
            "count": 0
           },
           {
            "bin_end": 6.750000000000001,
            "bin_start": 5.740000000000001,
            "count": 0
           },
           {
            "bin_end": 7.760000000000002,
            "bin_start": 6.750000000000001,
            "count": 0
           },
           {
            "bin_end": 8.770000000000001,
            "bin_start": 7.760000000000002,
            "count": 0
           },
           {
            "bin_end": 9.780000000000001,
            "bin_start": 8.770000000000001,
            "count": 0
           },
           {
            "bin_end": 10.790000000000001,
            "bin_start": 9.780000000000001,
            "count": 1
           },
           {
            "bin_end": 11.8,
            "bin_start": 10.790000000000001,
            "count": 1
           }
          ],
          "max": "11.8",
          "min": "1.7",
          "nan_count": 0,
          "unique_count": 4
         }
        },
        {
         "dtype": "float64",
         "name": "xG/90s",
         "stats": {
          "histogram": [
           {
            "bin_end": 0.17188586061825498,
            "bin_start": 0.11038961038961038,
            "count": 1
           },
           {
            "bin_end": 0.23338211084689958,
            "bin_start": 0.17188586061825498,
            "count": 0
           },
           {
            "bin_end": 0.29487836107554416,
            "bin_start": 0.23338211084689958,
            "count": 0
           },
           {
            "bin_end": 0.3563746113041888,
            "bin_start": 0.29487836107554416,
            "count": 0
           },
           {
            "bin_end": 0.41787086153283337,
            "bin_start": 0.3563746113041888,
            "count": 1
           },
           {
            "bin_end": 0.47936711176147795,
            "bin_start": 0.41787086153283337,
            "count": 1
           },
           {
            "bin_end": 0.5408633619901226,
            "bin_start": 0.47936711176147795,
            "count": 0
           },
           {
            "bin_end": 0.6023596122187672,
            "bin_start": 0.5408633619901226,
            "count": 0
           },
           {
            "bin_end": 0.6638558624474118,
            "bin_start": 0.6023596122187672,
            "count": 0
           },
           {
            "bin_end": 0.7253521126760564,
            "bin_start": 0.6638558624474118,
            "count": 1
           }
          ],
          "max": "0.7253521126760564",
          "min": "0.11038961038961038",
          "nan_count": 0,
          "unique_count": 4
         }
        },
        {
         "dtype": "float64",
         "name": "G/Sh",
         "stats": {
          "histogram": [
           {
            "bin_end": 0.06,
            "bin_start": 0.04,
            "count": 1
           },
           {
            "bin_end": 0.07999999999999999,
            "bin_start": 0.06,
            "count": 0
           },
           {
            "bin_end": 0.09999999999999999,
            "bin_start": 0.07999999999999999,
            "count": 0
           },
           {
            "bin_end": 0.12,
            "bin_start": 0.09999999999999999,
            "count": 1
           },
           {
            "bin_end": 0.13999999999999999,
            "bin_start": 0.12,
            "count": 0
           },
           {
            "bin_end": 0.15999999999999998,
            "bin_start": 0.13999999999999999,
            "count": 1
           },
           {
            "bin_end": 0.18,
            "bin_start": 0.15999999999999998,
            "count": 0
           },
           {
            "bin_end": 0.19999999999999998,
            "bin_start": 0.18,
            "count": 0
           },
           {
            "bin_end": 0.21999999999999997,
            "bin_start": 0.19999999999999998,
            "count": 0
           },
           {
            "bin_end": 0.24,
            "bin_start": 0.21999999999999997,
            "count": 1
           }
          ],
          "max": "0.24",
          "min": "0.04",
          "nan_count": 0,
          "unique_count": 4
         }
        },
        {
         "dtype": "float64",
         "name": "Ast",
         "stats": {
          "histogram": [
           {
            "bin_end": 2.5,
            "bin_start": 2,
            "count": 1
           },
           {
            "bin_end": 3,
            "bin_start": 2.5,
            "count": 0
           },
           {
            "bin_end": 3.5,
            "bin_start": 3,
            "count": 1
           },
           {
            "bin_end": 4,
            "bin_start": 3.5,
            "count": 0
           },
           {
            "bin_end": 4.5,
            "bin_start": 4,
            "count": 1
           },
           {
            "bin_end": 5,
            "bin_start": 4.5,
            "count": 0
           },
           {
            "bin_end": 5.5,
            "bin_start": 5,
            "count": 0
           },
           {
            "bin_end": 6,
            "bin_start": 5.5,
            "count": 0
           },
           {
            "bin_end": 6.5,
            "bin_start": 6,
            "count": 0
           },
           {
            "bin_end": 7,
            "bin_start": 6.5,
            "count": 1
           }
          ],
          "max": "7.0",
          "min": "2.0",
          "nan_count": 0,
          "unique_count": 4
         }
        },
        {
         "dtype": "float64",
         "name": "xA",
         "stats": {
          "histogram": [
           {
            "bin_end": 2.06,
            "bin_start": 1.8,
            "count": 1
           },
           {
            "bin_end": 2.3200000000000003,
            "bin_start": 2.06,
            "count": 1
           },
           {
            "bin_end": 2.58,
            "bin_start": 2.3200000000000003,
            "count": 0
           },
           {
            "bin_end": 2.8400000000000003,
            "bin_start": 2.58,
            "count": 0
           },
           {
            "bin_end": 3.1000000000000005,
            "bin_start": 2.8400000000000003,
            "count": 0
           },
           {
            "bin_end": 3.3600000000000003,
            "bin_start": 3.1000000000000005,
            "count": 0
           },
           {
            "bin_end": 3.6200000000000006,
            "bin_start": 3.3600000000000003,
            "count": 0
           },
           {
            "bin_end": 3.880000000000001,
            "bin_start": 3.6200000000000006,
            "count": 0
           },
           {
            "bin_end": 4.140000000000001,
            "bin_start": 3.880000000000001,
            "count": 1
           },
           {
            "bin_end": 4.4,
            "bin_start": 4.140000000000001,
            "count": 1
           }
          ],
          "max": "4.4",
          "min": "1.8",
          "nan_count": 0,
          "unique_count": 4
         }
        },
        {
         "dtype": "float64",
         "name": "Ast90",
         "stats": {
          "histogram": [
           {
            "bin_end": 0.1527,
            "bin_start": 0.13,
            "count": 1
           },
           {
            "bin_end": 0.1754,
            "bin_start": 0.1527,
            "count": 0
           },
           {
            "bin_end": 0.1981,
            "bin_start": 0.1754,
            "count": 0
           },
           {
            "bin_end": 0.2208,
            "bin_start": 0.1981,
            "count": 1
           },
           {
            "bin_end": 0.2435,
            "bin_start": 0.2208,
            "count": 0
           },
           {
            "bin_end": 0.2662,
            "bin_start": 0.2435,
            "count": 0
           },
           {
            "bin_end": 0.2889,
            "bin_start": 0.2662,
            "count": 1
           },
           {
            "bin_end": 0.3116,
            "bin_start": 0.2889,
            "count": 0
           },
           {
            "bin_end": 0.3343,
            "bin_start": 0.3116,
            "count": 0
           },
           {
            "bin_end": 0.357,
            "bin_start": 0.3343,
            "count": 1
           }
          ],
          "max": "0.357",
          "min": "0.13",
          "nan_count": 0,
          "unique_count": 4
         }
        },
        {
         "dtype": "object",
         "name": "PlayTime",
         "stats": {
          "categories": [
           {
            "count": 4,
            "name": "high"
           }
          ],
          "nan_count": 0,
          "unique_count": 1
         }
        },
        {
         "dtype": "int64",
         "name": "_deepnote_index_column"
        }
       ],
       "row_count": 4,
       "rows": [
        {
         "Age": "31",
         "Ast": "4.0",
         "Ast90": "0.357",
         "G/Sh": "0.24",
         "Gls": "8.0",
         "Gls/90s": "0.72",
         "KP90": "1.79",
         "Min": "1006.0",
         "Name": "Roberto Firmino",
         "PlayTime": "high",
         "Pos": "FWMF",
         "SCA90": "3.66",
         "TotCmp%": "78.5",
         "_deepnote_index_column": "880",
         "xA": "1.8",
         "xG": "4.5",
         "xG/90s": "0.4017857142857143"
        },
        {
         "Age": "23",
         "Ast": "3.0",
         "Ast90": "0.211",
         "G/Sh": "0.11",
         "Gls": "8.0",
         "Gls/90s": "0.56",
         "KP90": "1.62",
         "Min": "1282.0",
         "Name": "Darwin Núñez",
         "PlayTime": "high",
         "Pos": "FW",
         "SCA90": "3.23",
         "TotCmp%": "63.2",
         "_deepnote_index_column": "1850",
         "xA": "2.3",
         "xG": "10.3",
         "xG/90s": "0.7253521126760564"
        },
        {
         "Age": "30",
         "Ast": "7.0",
         "Ast90": "0.283",
         "G/Sh": "0.14",
         "Gls": "11.0",
         "Gls/90s": "0.44",
         "KP90": "1.9",
         "Min": "2225.0",
         "Name": "Mohamed Salah",
         "PlayTime": "high",
         "Pos": "FW",
         "SCA90": "3.84",
         "TotCmp%": "75.7",
         "_deepnote_index_column": "2220",
         "xA": "4.4",
         "xG": "11.8",
         "xG/90s": "0.4777327935222673"
        },
        {
         "Age": "19",
         "Ast": "2.0",
         "Ast90": "0.13",
         "G/Sh": "0.04",
         "Gls": "1.0",
         "Gls/90s": "0.07",
         "KP90": "1.3",
         "Min": "1383.0",
         "Name": "Harvey Elliott",
         "PlayTime": "high",
         "Pos": "MFFW",
         "SCA90": "3.97",
         "TotCmp%": "79.5",
         "_deepnote_index_column": "801",
         "xA": "3.9",
         "xG": "1.7",
         "xG/90s": "0.11038961038961038"
        }
       ]
      },
      "text/html": [
       "<div>\n",
       "<style scoped>\n",
       "    .dataframe tbody tr th:only-of-type {\n",
       "        vertical-align: middle;\n",
       "    }\n",
       "\n",
       "    .dataframe tbody tr th {\n",
       "        vertical-align: top;\n",
       "    }\n",
       "\n",
       "    .dataframe thead th {\n",
       "        text-align: right;\n",
       "    }\n",
       "</style>\n",
       "<table border=\"1\" class=\"dataframe\">\n",
       "  <thead>\n",
       "    <tr style=\"text-align: right;\">\n",
       "      <th></th>\n",
       "      <th>Name</th>\n",
       "      <th>Age</th>\n",
       "      <th>Pos</th>\n",
       "      <th>Min</th>\n",
       "      <th>TotCmp%</th>\n",
       "      <th>SCA90</th>\n",
       "      <th>KP90</th>\n",
       "      <th>Gls</th>\n",
       "      <th>Gls/90s</th>\n",
       "      <th>xG</th>\n",
       "      <th>xG/90s</th>\n",
       "      <th>G/Sh</th>\n",
       "      <th>Ast</th>\n",
       "      <th>xA</th>\n",
       "      <th>Ast90</th>\n",
       "      <th>PlayTime</th>\n",
       "    </tr>\n",
       "  </thead>\n",
       "  <tbody>\n",
       "    <tr>\n",
       "      <th>880</th>\n",
       "      <td>Roberto Firmino</td>\n",
       "      <td>31</td>\n",
       "      <td>FWMF</td>\n",
       "      <td>1006.0</td>\n",
       "      <td>78.5</td>\n",
       "      <td>3.66</td>\n",
       "      <td>1.79</td>\n",
       "      <td>8.0</td>\n",
       "      <td>0.72</td>\n",
       "      <td>4.5</td>\n",
       "      <td>0.401786</td>\n",
       "      <td>0.24</td>\n",
       "      <td>4.0</td>\n",
       "      <td>1.8</td>\n",
       "      <td>0.357</td>\n",
       "      <td>high</td>\n",
       "    </tr>\n",
       "    <tr>\n",
       "      <th>1850</th>\n",
       "      <td>Darwin Núñez</td>\n",
       "      <td>23</td>\n",
       "      <td>FW</td>\n",
       "      <td>1282.0</td>\n",
       "      <td>63.2</td>\n",
       "      <td>3.23</td>\n",
       "      <td>1.62</td>\n",
       "      <td>8.0</td>\n",
       "      <td>0.56</td>\n",
       "      <td>10.3</td>\n",
       "      <td>0.725352</td>\n",
       "      <td>0.11</td>\n",
       "      <td>3.0</td>\n",
       "      <td>2.3</td>\n",
       "      <td>0.211</td>\n",
       "      <td>high</td>\n",
       "    </tr>\n",
       "    <tr>\n",
       "      <th>2220</th>\n",
       "      <td>Mohamed Salah</td>\n",
       "      <td>30</td>\n",
       "      <td>FW</td>\n",
       "      <td>2225.0</td>\n",
       "      <td>75.7</td>\n",
       "      <td>3.84</td>\n",
       "      <td>1.90</td>\n",
       "      <td>11.0</td>\n",
       "      <td>0.44</td>\n",
       "      <td>11.8</td>\n",
       "      <td>0.477733</td>\n",
       "      <td>0.14</td>\n",
       "      <td>7.0</td>\n",
       "      <td>4.4</td>\n",
       "      <td>0.283</td>\n",
       "      <td>high</td>\n",
       "    </tr>\n",
       "    <tr>\n",
       "      <th>801</th>\n",
       "      <td>Harvey Elliott</td>\n",
       "      <td>19</td>\n",
       "      <td>MFFW</td>\n",
       "      <td>1383.0</td>\n",
       "      <td>79.5</td>\n",
       "      <td>3.97</td>\n",
       "      <td>1.30</td>\n",
       "      <td>1.0</td>\n",
       "      <td>0.07</td>\n",
       "      <td>1.7</td>\n",
       "      <td>0.110390</td>\n",
       "      <td>0.04</td>\n",
       "      <td>2.0</td>\n",
       "      <td>3.9</td>\n",
       "      <td>0.130</td>\n",
       "      <td>high</td>\n",
       "    </tr>\n",
       "  </tbody>\n",
       "</table>\n",
       "</div>"
      ],
      "text/plain": [
       "                 Name  Age   Pos     Min  TotCmp%  SCA90  KP90   Gls  Gls/90s  \\\n",
       "880   Roberto Firmino   31  FWMF  1006.0     78.5   3.66  1.79   8.0     0.72   \n",
       "1850     Darwin Núñez   23    FW  1282.0     63.2   3.23  1.62   8.0     0.56   \n",
       "2220    Mohamed Salah   30    FW  2225.0     75.7   3.84  1.90  11.0     0.44   \n",
       "801    Harvey Elliott   19  MFFW  1383.0     79.5   3.97  1.30   1.0     0.07   \n",
       "\n",
       "        xG    xG/90s  G/Sh  Ast   xA  Ast90 PlayTime  \n",
       "880    4.5  0.401786  0.24  4.0  1.8  0.357     high  \n",
       "1850  10.3  0.725352  0.11  3.0  2.3  0.211     high  \n",
       "2220  11.8  0.477733  0.14  7.0  4.4  0.283     high  \n",
       "801    1.7  0.110390  0.04  2.0  3.9  0.130     high  "
      ]
     },
     "execution_count": 32,
     "metadata": {},
     "output_type": "execute_result"
    }
   ],
   "source": [
    "#ผู้เล่นเกมรุกที่ได้เล่นเยอะ\n",
    "df_22_23_liv_fw_high[['Name', 'Age', 'Pos', 'Min', 'TotCmp%', 'SCA90', 'KP90', 'Gls', 'Gls/90s', 'xG', 'xG/90s', 'G/Sh', 'Ast', 'xA', 'Ast90', 'PlayTime']].sort_values(by='Gls/90s', ascending=False)"
   ]
  },
  {
   "cell_type": "markdown",
   "metadata": {
    "cell_id": "91007266f60e47b0a28ddf778be2cafe",
    "deepnote_cell_type": "text-cell-p",
    "formattedRanges": [],
    "is_collapsed": false,
    "tags": []
   },
   "source": [
    "ตารางนี้เป็นการรวมตารางกันของทั้งผู้เล่นตำแหน่งตัวรุกที่ได้รับเวลาเล่นน้อยกว่าเวลาเฉลี่ย และ ผู้เล่นตำแหน่งตัวรุกที่ได้รับเวลาเล่นมากกว่าเวลาเฉลี่ย"
   ]
  },
  {
   "cell_type": "code",
   "execution_count": 33,
   "metadata": {
    "cell_id": "a197ef5417d54648ab6338a9e9f10cf5",
    "deepnote_cell_type": "code",
    "deepnote_to_be_reexecuted": false,
    "execution_millis": 61,
    "execution_start": 1679166184945,
    "source_hash": "c80da2f9"
   },
   "outputs": [
    {
     "data": {
      "application/vnd.deepnote.dataframe.v3+json": {
       "column_count": 14,
       "columns": [
        {
         "dtype": "object",
         "name": "Name",
         "stats": {
          "categories": [
           {
            "count": 1,
            "name": "Fabio Carvalho"
           },
           {
            "count": 1,
            "name": "Ben Doak"
           },
           {
            "count": 6,
            "name": "6 others"
           }
          ],
          "nan_count": 0,
          "unique_count": 8
         }
        },
        {
         "dtype": "int64",
         "name": "Age",
         "stats": {
          "histogram": [
           {
            "bin_end": 18.4,
            "bin_start": 17,
            "count": 1
           },
           {
            "bin_end": 19.8,
            "bin_start": 18.4,
            "count": 1
           },
           {
            "bin_end": 21.2,
            "bin_start": 19.8,
            "count": 1
           },
           {
            "bin_end": 22.6,
            "bin_start": 21.2,
            "count": 1
           },
           {
            "bin_end": 24,
            "bin_start": 22.6,
            "count": 1
           },
           {
            "bin_end": 25.4,
            "bin_start": 24,
            "count": 0
           },
           {
            "bin_end": 26.799999999999997,
            "bin_start": 25.4,
            "count": 0
           },
           {
            "bin_end": 28.2,
            "bin_start": 26.799999999999997,
            "count": 0
           },
           {
            "bin_end": 29.6,
            "bin_start": 28.2,
            "count": 1
           },
           {
            "bin_end": 31,
            "bin_start": 29.6,
            "count": 2
           }
          ],
          "max": "31",
          "min": "17",
          "nan_count": 0,
          "unique_count": 8
         }
        },
        {
         "dtype": "object",
         "name": "Pos",
         "stats": {
          "categories": [
           {
            "count": 3,
            "name": "MFFW"
           },
           {
            "count": 3,
            "name": "FW"
           },
           {
            "count": 2,
            "name": "FWMF"
           }
          ],
          "nan_count": 0,
          "unique_count": 3
         }
        },
        {
         "dtype": "float64",
         "name": "Min",
         "stats": {
          "histogram": [
           {
            "bin_end": 245.9,
            "bin_start": 26,
            "count": 2
           },
           {
            "bin_end": 465.8,
            "bin_start": 245.9,
            "count": 2
           },
           {
            "bin_end": 685.7,
            "bin_start": 465.8,
            "count": 0
           },
           {
            "bin_end": 905.6,
            "bin_start": 685.7,
            "count": 0
           },
           {
            "bin_end": 1125.5,
            "bin_start": 905.6,
            "count": 1
           },
           {
            "bin_end": 1345.4,
            "bin_start": 1125.5,
            "count": 1
           },
           {
            "bin_end": 1565.3,
            "bin_start": 1345.4,
            "count": 1
           },
           {
            "bin_end": 1785.2,
            "bin_start": 1565.3,
            "count": 0
           },
           {
            "bin_end": 2005.1000000000001,
            "bin_start": 1785.2,
            "count": 0
           },
           {
            "bin_end": 2225,
            "bin_start": 2005.1000000000001,
            "count": 1
           }
          ],
          "max": "2225.0",
          "min": "26.0",
          "nan_count": 0,
          "unique_count": 8
         }
        },
        {
         "dtype": "float64",
         "name": "TotCmp%",
         "stats": {
          "histogram": [
           {
            "bin_end": 65.46000000000001,
            "bin_start": 63.2,
            "count": 1
           },
           {
            "bin_end": 67.72,
            "bin_start": 65.46000000000001,
            "count": 0
           },
           {
            "bin_end": 69.98,
            "bin_start": 67.72,
            "count": 0
           },
           {
            "bin_end": 72.24,
            "bin_start": 69.98,
            "count": 1
           },
           {
            "bin_end": 74.5,
            "bin_start": 72.24,
            "count": 1
           },
           {
            "bin_end": 76.75999999999999,
            "bin_start": 74.5,
            "count": 1
           },
           {
            "bin_end": 79.02,
            "bin_start": 76.75999999999999,
            "count": 1
           },
           {
            "bin_end": 81.28,
            "bin_start": 79.02,
            "count": 1
           },
           {
            "bin_end": 83.53999999999999,
            "bin_start": 81.28,
            "count": 1
           },
           {
            "bin_end": 85.8,
            "bin_start": 83.53999999999999,
            "count": 1
           }
          ],
          "max": "85.8",
          "min": "63.2",
          "nan_count": 0,
          "unique_count": 8
         }
        },
        {
         "dtype": "float64",
         "name": "SCA90",
         "stats": {
          "histogram": [
           {
            "bin_end": 0.462,
            "bin_start": 0,
            "count": 1
           },
           {
            "bin_end": 0.924,
            "bin_start": 0.462,
            "count": 0
           },
           {
            "bin_end": 1.3860000000000001,
            "bin_start": 0.924,
            "count": 0
           },
           {
            "bin_end": 1.848,
            "bin_start": 1.3860000000000001,
            "count": 0
           },
           {
            "bin_end": 2.31,
            "bin_start": 1.848,
            "count": 0
           },
           {
            "bin_end": 2.7720000000000002,
            "bin_start": 2.31,
            "count": 2
           },
           {
            "bin_end": 3.234,
            "bin_start": 2.7720000000000002,
            "count": 1
           },
           {
            "bin_end": 3.696,
            "bin_start": 3.234,
            "count": 1
           },
           {
            "bin_end": 4.158,
            "bin_start": 3.696,
            "count": 2
           },
           {
            "bin_end": 4.62,
            "bin_start": 4.158,
            "count": 1
           }
          ],
          "max": "4.62",
          "min": "0.0",
          "nan_count": 0,
          "unique_count": 8
         }
        },
        {
         "dtype": "float64",
         "name": "KP90",
         "stats": {
          "histogram": [
           {
            "bin_end": 0.19,
            "bin_start": 0,
            "count": 1
           },
           {
            "bin_end": 0.38,
            "bin_start": 0.19,
            "count": 1
           },
           {
            "bin_end": 0.5700000000000001,
            "bin_start": 0.38,
            "count": 0
           },
           {
            "bin_end": 0.76,
            "bin_start": 0.5700000000000001,
            "count": 0
           },
           {
            "bin_end": 0.95,
            "bin_start": 0.76,
            "count": 1
           },
           {
            "bin_end": 1.1400000000000001,
            "bin_start": 0.95,
            "count": 0
           },
           {
            "bin_end": 1.33,
            "bin_start": 1.1400000000000001,
            "count": 1
           },
           {
            "bin_end": 1.52,
            "bin_start": 1.33,
            "count": 1
           },
           {
            "bin_end": 1.71,
            "bin_start": 1.52,
            "count": 1
           },
           {
            "bin_end": 1.9,
            "bin_start": 1.71,
            "count": 2
           }
          ],
          "max": "1.9",
          "min": "0.0",
          "nan_count": 0,
          "unique_count": 8
         }
        },
        {
         "dtype": "float64",
         "name": "Gls",
         "stats": {
          "histogram": [
           {
            "bin_end": 1.1,
            "bin_start": 0,
            "count": 4
           },
           {
            "bin_end": 2.2,
            "bin_start": 1.1,
            "count": 1
           },
           {
            "bin_end": 3.3000000000000003,
            "bin_start": 2.2,
            "count": 0
           },
           {
            "bin_end": 4.4,
            "bin_start": 3.3000000000000003,
            "count": 0
           },
           {
            "bin_end": 5.5,
            "bin_start": 4.4,
            "count": 0
           },
           {
            "bin_end": 6.6000000000000005,
            "bin_start": 5.5,
            "count": 0
           },
           {
            "bin_end": 7.700000000000001,
            "bin_start": 6.6000000000000005,
            "count": 0
           },
           {
            "bin_end": 8.8,
            "bin_start": 7.700000000000001,
            "count": 2
           },
           {
            "bin_end": 9.9,
            "bin_start": 8.8,
            "count": 0
           },
           {
            "bin_end": 11,
            "bin_start": 9.9,
            "count": 1
           }
          ],
          "max": "11.0",
          "min": "0.0",
          "nan_count": 0,
          "unique_count": 5
         }
        },
        {
         "dtype": "float64",
         "name": "Gls/90s",
         "stats": {
          "histogram": [
           {
            "bin_end": 0.072,
            "bin_start": 0,
            "count": 3
           },
           {
            "bin_end": 0.144,
            "bin_start": 0.072,
            "count": 0
           },
           {
            "bin_end": 0.21599999999999997,
            "bin_start": 0.144,
            "count": 0
           },
           {
            "bin_end": 0.288,
            "bin_start": 0.21599999999999997,
            "count": 0
           },
           {
            "bin_end": 0.36,
            "bin_start": 0.288,
            "count": 1
           },
           {
            "bin_end": 0.43199999999999994,
            "bin_start": 0.36,
            "count": 0
           },
           {
            "bin_end": 0.504,
            "bin_start": 0.43199999999999994,
            "count": 1
           },
           {
            "bin_end": 0.576,
            "bin_start": 0.504,
            "count": 2
           },
           {
            "bin_end": 0.6479999999999999,
            "bin_start": 0.576,
            "count": 0
           },
           {
            "bin_end": 0.72,
            "bin_start": 0.6479999999999999,
            "count": 1
           }
          ],
          "max": "0.72",
          "min": "0.0",
          "nan_count": 0,
          "unique_count": 7
         }
        },
        {
         "dtype": "float64",
         "name": "xG",
         "stats": {
          "histogram": [
           {
            "bin_end": 1.1800000000000002,
            "bin_start": 0,
            "count": 3
           },
           {
            "bin_end": 2.3600000000000003,
            "bin_start": 1.1800000000000002,
            "count": 2
           },
           {
            "bin_end": 3.5400000000000005,
            "bin_start": 2.3600000000000003,
            "count": 0
           },
           {
            "bin_end": 4.720000000000001,
            "bin_start": 3.5400000000000005,
            "count": 1
           },
           {
            "bin_end": 5.9,
            "bin_start": 4.720000000000001,
            "count": 0
           },
           {
            "bin_end": 7.080000000000001,
            "bin_start": 5.9,
            "count": 0
           },
           {
            "bin_end": 8.260000000000002,
            "bin_start": 7.080000000000001,
            "count": 0
           },
           {
            "bin_end": 9.440000000000001,
            "bin_start": 8.260000000000002,
            "count": 0
           },
           {
            "bin_end": 10.620000000000001,
            "bin_start": 9.440000000000001,
            "count": 1
           },
           {
            "bin_end": 11.8,
            "bin_start": 10.620000000000001,
            "count": 1
           }
          ],
          "max": "11.8",
          "min": "0.0",
          "nan_count": 0,
          "unique_count": 8
         }
        },
        {
         "dtype": "float64",
         "name": "xG/90s",
         "stats": {
          "histogram": [
           {
            "bin_end": 0.07253521126760563,
            "bin_start": 0,
            "count": 1
           },
           {
            "bin_end": 0.14507042253521127,
            "bin_start": 0.07253521126760563,
            "count": 2
           },
           {
            "bin_end": 0.2176056338028169,
            "bin_start": 0.14507042253521127,
            "count": 0
           },
           {
            "bin_end": 0.29014084507042254,
            "bin_start": 0.2176056338028169,
            "count": 0
           },
           {
            "bin_end": 0.3626760563380282,
            "bin_start": 0.29014084507042254,
            "count": 1
           },
           {
            "bin_end": 0.4352112676056338,
            "bin_start": 0.3626760563380282,
            "count": 2
           },
           {
            "bin_end": 0.5077464788732394,
            "bin_start": 0.4352112676056338,
            "count": 1
           },
           {
            "bin_end": 0.5802816901408451,
            "bin_start": 0.5077464788732394,
            "count": 0
           },
           {
            "bin_end": 0.6528169014084507,
            "bin_start": 0.5802816901408451,
            "count": 0
           },
           {
            "bin_end": 0.7253521126760564,
            "bin_start": 0.6528169014084507,
            "count": 1
           }
          ],
          "max": "0.7253521126760564",
          "min": "0.0",
          "nan_count": 0,
          "unique_count": 8
         }
        },
        {
         "dtype": "float64",
         "name": "G/Sh",
         "stats": {
          "histogram": [
           {
            "bin_end": 0.024,
            "bin_start": 0,
            "count": 1
           },
           {
            "bin_end": 0.048,
            "bin_start": 0.024,
            "count": 1
           },
           {
            "bin_end": 0.07200000000000001,
            "bin_start": 0.048,
            "count": 0
           },
           {
            "bin_end": 0.096,
            "bin_start": 0.07200000000000001,
            "count": 0
           },
           {
            "bin_end": 0.12,
            "bin_start": 0.096,
            "count": 1
           },
           {
            "bin_end": 0.14400000000000002,
            "bin_start": 0.12,
            "count": 2
           },
           {
            "bin_end": 0.168,
            "bin_start": 0.14400000000000002,
            "count": 0
           },
           {
            "bin_end": 0.192,
            "bin_start": 0.168,
            "count": 1
           },
           {
            "bin_end": 0.216,
            "bin_start": 0.192,
            "count": 0
           },
           {
            "bin_end": 0.24,
            "bin_start": 0.216,
            "count": 1
           }
          ],
          "max": "0.24",
          "min": "0.0",
          "nan_count": 1,
          "unique_count": 6
         }
        },
        {
         "dtype": "float64",
         "name": "(Gls-xG)/90s",
         "stats": {
          "histogram": [
           {
            "bin_end": -0.11699547283702212,
            "bin_start": -0.16535211267605632,
            "count": 1
           },
           {
            "bin_end": -0.06863883299798793,
            "bin_start": -0.11699547283702212,
            "count": 2
           },
           {
            "bin_end": -0.020282193158953743,
            "bin_start": -0.06863883299798793,
            "count": 2
           },
           {
            "bin_end": 0.028074446680080467,
            "bin_start": -0.020282193158953743,
            "count": 1
           },
           {
            "bin_end": 0.07643108651911468,
            "bin_start": 0.028074446680080467,
            "count": 0
           },
           {
            "bin_end": 0.12478772635814883,
            "bin_start": 0.07643108651911468,
            "count": 0
           },
           {
            "bin_end": 0.17314436619718304,
            "bin_start": 0.12478772635814883,
            "count": 0
           },
           {
            "bin_end": 0.22150100603621725,
            "bin_start": 0.17314436619718304,
            "count": 0
           },
           {
            "bin_end": 0.26985764587525146,
            "bin_start": 0.22150100603621725,
            "count": 1
           },
           {
            "bin_end": 0.31821428571428567,
            "bin_start": 0.26985764587525146,
            "count": 1
           }
          ],
          "max": "0.31821428571428567",
          "min": "-0.16535211267605632",
          "nan_count": 0,
          "unique_count": 8
         }
        },
        {
         "dtype": "object",
         "name": "PlayTime",
         "stats": {
          "categories": [
           {
            "count": 4,
            "name": "low"
           },
           {
            "count": 4,
            "name": "high"
           }
          ],
          "nan_count": 0,
          "unique_count": 2
         }
        },
        {
         "dtype": "int64",
         "name": "_deepnote_index_column"
        }
       ],
       "row_count": 8,
       "rows": [
        {
         "(Gls-xG)/90s": "0.2327027027027027",
         "Age": "20",
         "G/Sh": "0.18",
         "Gls": "2.0",
         "Gls/90s": "0.53",
         "KP90": "0.27",
         "Min": "337.0",
         "Name": "Fabio Carvalho",
         "PlayTime": "low",
         "Pos": "MFFW",
         "SCA90": "2.4",
         "TotCmp%": "82.2",
         "_deepnote_index_column": "461",
         "xG": "1.1",
         "xG/90s": "0.2972972972972973"
        },
        {
         "(Gls-xG)/90s": "0.0",
         "Age": "17",
         "G/Sh": "nan",
         "Gls": "0.0",
         "Gls/90s": "0.0",
         "KP90": "0.0",
         "Min": "26.0",
         "Name": "Ben Doak",
         "PlayTime": "low",
         "Pos": "FW",
         "SCA90": "0.0",
         "TotCmp%": "71.4",
         "_deepnote_index_column": "730",
         "xG": "0.0",
         "xG/90s": "0.0"
        },
        {
         "(Gls-xG)/90s": "-0.09090909090909091",
         "Age": "22",
         "G/Sh": "0.0",
         "Gls": "0.0",
         "Gls/90s": "0.0",
         "KP90": "0.91",
         "Min": "195.0",
         "Name": "Curtis Jones",
         "PlayTime": "low",
         "Pos": "MFFW",
         "SCA90": "4.62",
         "TotCmp%": "85.8",
         "_deepnote_index_column": "1244",
         "xG": "0.2",
         "xG/90s": "0.09090909090909091"
        },
        {
         "(Gls-xG)/90s": "-0.08142857142857146",
         "Age": "29",
         "G/Sh": "0.14",
         "Gls": "1.0",
         "Gls/90s": "0.29",
         "KP90": "1.43",
         "Min": "314.0",
         "Name": "Alex Oxlade-Chamberlain",
         "PlayTime": "low",
         "Pos": "FWMF",
         "SCA90": "2.59",
         "TotCmp%": "73.7",
         "_deepnote_index_column": "1915",
         "xG": "1.3",
         "xG/90s": "0.37142857142857144"
        },
        {
         "(Gls-xG)/90s": "-0.04038961038961038",
         "Age": "19",
         "G/Sh": "0.04",
         "Gls": "1.0",
         "Gls/90s": "0.07",
         "KP90": "1.3",
         "Min": "1383.0",
         "Name": "Harvey Elliott",
         "PlayTime": "high",
         "Pos": "MFFW",
         "SCA90": "3.97",
         "TotCmp%": "79.5",
         "_deepnote_index_column": "801",
         "xG": "1.7",
         "xG/90s": "0.11038961038961038"
        },
        {
         "(Gls-xG)/90s": "0.31821428571428567",
         "Age": "31",
         "G/Sh": "0.24",
         "Gls": "8.0",
         "Gls/90s": "0.72",
         "KP90": "1.79",
         "Min": "1006.0",
         "Name": "Roberto Firmino",
         "PlayTime": "high",
         "Pos": "FWMF",
         "SCA90": "3.66",
         "TotCmp%": "78.5",
         "_deepnote_index_column": "880",
         "xG": "4.5",
         "xG/90s": "0.4017857142857143"
        },
        {
         "(Gls-xG)/90s": "-0.16535211267605632",
         "Age": "23",
         "G/Sh": "0.11",
         "Gls": "8.0",
         "Gls/90s": "0.56",
         "KP90": "1.62",
         "Min": "1282.0",
         "Name": "Darwin Núñez",
         "PlayTime": "high",
         "Pos": "FW",
         "SCA90": "3.23",
         "TotCmp%": "63.2",
         "_deepnote_index_column": "1850",
         "xG": "10.3",
         "xG/90s": "0.7253521126760564"
        },
        {
         "(Gls-xG)/90s": "-0.03773279352226727",
         "Age": "30",
         "G/Sh": "0.14",
         "Gls": "11.0",
         "Gls/90s": "0.44",
         "KP90": "1.9",
         "Min": "2225.0",
         "Name": "Mohamed Salah",
         "PlayTime": "high",
         "Pos": "FW",
         "SCA90": "3.84",
         "TotCmp%": "75.7",
         "_deepnote_index_column": "2220",
         "xG": "11.8",
         "xG/90s": "0.4777327935222673"
        }
       ]
      },
      "text/html": [
       "<div>\n",
       "<style scoped>\n",
       "    .dataframe tbody tr th:only-of-type {\n",
       "        vertical-align: middle;\n",
       "    }\n",
       "\n",
       "    .dataframe tbody tr th {\n",
       "        vertical-align: top;\n",
       "    }\n",
       "\n",
       "    .dataframe thead th {\n",
       "        text-align: right;\n",
       "    }\n",
       "</style>\n",
       "<table border=\"1\" class=\"dataframe\">\n",
       "  <thead>\n",
       "    <tr style=\"text-align: right;\">\n",
       "      <th></th>\n",
       "      <th>Name</th>\n",
       "      <th>Age</th>\n",
       "      <th>Pos</th>\n",
       "      <th>Min</th>\n",
       "      <th>TotCmp%</th>\n",
       "      <th>SCA90</th>\n",
       "      <th>KP90</th>\n",
       "      <th>Gls</th>\n",
       "      <th>Gls/90s</th>\n",
       "      <th>xG</th>\n",
       "      <th>xG/90s</th>\n",
       "      <th>G/Sh</th>\n",
       "      <th>(Gls-xG)/90s</th>\n",
       "      <th>PlayTime</th>\n",
       "    </tr>\n",
       "  </thead>\n",
       "  <tbody>\n",
       "    <tr>\n",
       "      <th>461</th>\n",
       "      <td>Fabio Carvalho</td>\n",
       "      <td>20</td>\n",
       "      <td>MFFW</td>\n",
       "      <td>337.0</td>\n",
       "      <td>82.2</td>\n",
       "      <td>2.40</td>\n",
       "      <td>0.27</td>\n",
       "      <td>2.0</td>\n",
       "      <td>0.53</td>\n",
       "      <td>1.1</td>\n",
       "      <td>0.297297</td>\n",
       "      <td>0.18</td>\n",
       "      <td>0.232703</td>\n",
       "      <td>low</td>\n",
       "    </tr>\n",
       "    <tr>\n",
       "      <th>730</th>\n",
       "      <td>Ben Doak</td>\n",
       "      <td>17</td>\n",
       "      <td>FW</td>\n",
       "      <td>26.0</td>\n",
       "      <td>71.4</td>\n",
       "      <td>0.00</td>\n",
       "      <td>0.00</td>\n",
       "      <td>0.0</td>\n",
       "      <td>0.00</td>\n",
       "      <td>0.0</td>\n",
       "      <td>0.000000</td>\n",
       "      <td>NaN</td>\n",
       "      <td>0.000000</td>\n",
       "      <td>low</td>\n",
       "    </tr>\n",
       "    <tr>\n",
       "      <th>1244</th>\n",
       "      <td>Curtis Jones</td>\n",
       "      <td>22</td>\n",
       "      <td>MFFW</td>\n",
       "      <td>195.0</td>\n",
       "      <td>85.8</td>\n",
       "      <td>4.62</td>\n",
       "      <td>0.91</td>\n",
       "      <td>0.0</td>\n",
       "      <td>0.00</td>\n",
       "      <td>0.2</td>\n",
       "      <td>0.090909</td>\n",
       "      <td>0.00</td>\n",
       "      <td>-0.090909</td>\n",
       "      <td>low</td>\n",
       "    </tr>\n",
       "    <tr>\n",
       "      <th>1915</th>\n",
       "      <td>Alex Oxlade-Chamberlain</td>\n",
       "      <td>29</td>\n",
       "      <td>FWMF</td>\n",
       "      <td>314.0</td>\n",
       "      <td>73.7</td>\n",
       "      <td>2.59</td>\n",
       "      <td>1.43</td>\n",
       "      <td>1.0</td>\n",
       "      <td>0.29</td>\n",
       "      <td>1.3</td>\n",
       "      <td>0.371429</td>\n",
       "      <td>0.14</td>\n",
       "      <td>-0.081429</td>\n",
       "      <td>low</td>\n",
       "    </tr>\n",
       "    <tr>\n",
       "      <th>801</th>\n",
       "      <td>Harvey Elliott</td>\n",
       "      <td>19</td>\n",
       "      <td>MFFW</td>\n",
       "      <td>1383.0</td>\n",
       "      <td>79.5</td>\n",
       "      <td>3.97</td>\n",
       "      <td>1.30</td>\n",
       "      <td>1.0</td>\n",
       "      <td>0.07</td>\n",
       "      <td>1.7</td>\n",
       "      <td>0.110390</td>\n",
       "      <td>0.04</td>\n",
       "      <td>-0.040390</td>\n",
       "      <td>high</td>\n",
       "    </tr>\n",
       "    <tr>\n",
       "      <th>880</th>\n",
       "      <td>Roberto Firmino</td>\n",
       "      <td>31</td>\n",
       "      <td>FWMF</td>\n",
       "      <td>1006.0</td>\n",
       "      <td>78.5</td>\n",
       "      <td>3.66</td>\n",
       "      <td>1.79</td>\n",
       "      <td>8.0</td>\n",
       "      <td>0.72</td>\n",
       "      <td>4.5</td>\n",
       "      <td>0.401786</td>\n",
       "      <td>0.24</td>\n",
       "      <td>0.318214</td>\n",
       "      <td>high</td>\n",
       "    </tr>\n",
       "    <tr>\n",
       "      <th>1850</th>\n",
       "      <td>Darwin Núñez</td>\n",
       "      <td>23</td>\n",
       "      <td>FW</td>\n",
       "      <td>1282.0</td>\n",
       "      <td>63.2</td>\n",
       "      <td>3.23</td>\n",
       "      <td>1.62</td>\n",
       "      <td>8.0</td>\n",
       "      <td>0.56</td>\n",
       "      <td>10.3</td>\n",
       "      <td>0.725352</td>\n",
       "      <td>0.11</td>\n",
       "      <td>-0.165352</td>\n",
       "      <td>high</td>\n",
       "    </tr>\n",
       "    <tr>\n",
       "      <th>2220</th>\n",
       "      <td>Mohamed Salah</td>\n",
       "      <td>30</td>\n",
       "      <td>FW</td>\n",
       "      <td>2225.0</td>\n",
       "      <td>75.7</td>\n",
       "      <td>3.84</td>\n",
       "      <td>1.90</td>\n",
       "      <td>11.0</td>\n",
       "      <td>0.44</td>\n",
       "      <td>11.8</td>\n",
       "      <td>0.477733</td>\n",
       "      <td>0.14</td>\n",
       "      <td>-0.037733</td>\n",
       "      <td>high</td>\n",
       "    </tr>\n",
       "  </tbody>\n",
       "</table>\n",
       "</div>"
      ],
      "text/plain": [
       "                         Name  Age   Pos     Min  TotCmp%  SCA90  KP90   Gls  \\\n",
       "461            Fabio Carvalho   20  MFFW   337.0     82.2   2.40  0.27   2.0   \n",
       "730                  Ben Doak   17    FW    26.0     71.4   0.00  0.00   0.0   \n",
       "1244             Curtis Jones   22  MFFW   195.0     85.8   4.62  0.91   0.0   \n",
       "1915  Alex Oxlade-Chamberlain   29  FWMF   314.0     73.7   2.59  1.43   1.0   \n",
       "801            Harvey Elliott   19  MFFW  1383.0     79.5   3.97  1.30   1.0   \n",
       "880           Roberto Firmino   31  FWMF  1006.0     78.5   3.66  1.79   8.0   \n",
       "1850             Darwin Núñez   23    FW  1282.0     63.2   3.23  1.62   8.0   \n",
       "2220            Mohamed Salah   30    FW  2225.0     75.7   3.84  1.90  11.0   \n",
       "\n",
       "      Gls/90s    xG    xG/90s  G/Sh  (Gls-xG)/90s PlayTime  \n",
       "461      0.53   1.1  0.297297  0.18      0.232703      low  \n",
       "730      0.00   0.0  0.000000   NaN      0.000000      low  \n",
       "1244     0.00   0.2  0.090909  0.00     -0.090909      low  \n",
       "1915     0.29   1.3  0.371429  0.14     -0.081429      low  \n",
       "801      0.07   1.7  0.110390  0.04     -0.040390     high  \n",
       "880      0.72   4.5  0.401786  0.24      0.318214     high  \n",
       "1850     0.56  10.3  0.725352  0.11     -0.165352     high  \n",
       "2220     0.44  11.8  0.477733  0.14     -0.037733     high  "
      ]
     },
     "execution_count": 33,
     "metadata": {},
     "output_type": "execute_result"
    }
   ],
   "source": [
    "#2กลุ่มรวมกัน\n",
    "df_pt = pd.concat([df_22_23_liv_fw_low_ninj, df_22_23_liv_fw_high])\n",
    "df_pt[['Name', 'Age', 'Pos', 'Min', 'TotCmp%', 'SCA90', 'KP90', 'Gls', 'Gls/90s', 'xG', 'xG/90s', 'G/Sh', '(Gls-xG)/90s', 'PlayTime']]"
   ]
  },
  {
   "cell_type": "markdown",
   "metadata": {
    "cell_id": "9aa0b6e01f414c25bc58b2aab72de3a3",
    "deepnote_cell_type": "text-cell-p",
    "formattedRanges": [],
    "is_collapsed": false,
    "tags": []
   },
   "source": [
    "Elliot!!!"
   ]
  },
  {
   "cell_type": "markdown",
   "metadata": {
    "cell_id": "a1003f8ce18642ef96ad8e12b037eb40",
    "deepnote_cell_type": "text-cell-p",
    "formattedRanges": [],
    "is_collapsed": false,
    "tags": []
   },
   "source": [
    "เมื่อนำตารางข้างบนมา plot เป็นกราฟ ซึ่งแกน x คือ Gls/90s (อัตราส่วนการทำประตูต่อ 90 วินาที) ส่วนแกน y คือ xG/90s (อัตราส่วนการประตูที่คาดว่าจะทำได้ต่อ 90 วิ) โดยจะมี สีของจุดเป็นตัวแบ่งผู้เล่นว่าผู้เล่นใด ได้รับเวลาเล่นมากกว่าหรือน้อยกว่าเวลาเฉลี่ย"
   ]
  },
  {
   "cell_type": "markdown",
   "metadata": {
    "cell_id": "6308b479-0494-4d22-8264-cdf1e8fabf16",
    "deepnote_cell_type": "text-cell-p",
    "formattedRanges": [],
    "is_collapsed": false,
    "tags": []
   },
   "source": [
    "จากการสังเกตกราฟ แสดงให้เห็นว่า Fabio Carvelho และ Oxlade-Chamberlain มีผลงานที่ดีกว่า Harvey Elliott ทั้งๆที่ทั้งคู่นั้นเป็นนักเตะที่ได้รับเวลาเล่นน้อยกว่าเวลาเฉลี่ยซะอีก แต่กลับกัน Harvey Elliott นั้นได้เวลาการลงเตะมากกว่า 2 คนนั้นที่มีผลงานดีกว่า"
   ]
  },
  {
   "cell_type": "code",
   "execution_count": 34,
   "metadata": {
    "cell_id": "a4e5c7c50b7d4689a73d612de9061328",
    "deepnote_cell_type": "code",
    "deepnote_to_be_reexecuted": false,
    "execution_millis": 452,
    "execution_start": 1679166185021,
    "source_hash": "347c8761"
   },
   "outputs": [
    {
     "data": {
      "image/png": "[encoded data removed]",
      "text/plain": [
       "<Figure size 640x480 with 1 Axes>"
      ]
     },
     "metadata": {
      "image/png": {
       "height": 455,
       "width": 588
      }
     },
     "output_type": "display_data"
    }
   ],
   "source": [
    "#จะเห็นว่า Fabio Carvalho, Oxlade-Chamb ทำได้ดีกว่า Harvey Elliott อย่างเห็นได้ชัด\n",
    "sns.scatterplot(x='Gls/90s', y='xG/90s', data=df_pt, hue='PlayTime', alpha=0.5)\n",
    "plt.title(\"Player Goals vs xG\")\n",
    "for i, row in df_pt.iterrows():\n",
    "    plt.text(row['Gls/90s'] , row['xG/90s']-0.025, row['Name'], fontsize=8, ha='center')"
   ]
  },
  {
   "cell_type": "markdown",
   "metadata": {
    "cell_id": "c9e6badad34b4e6fbcd2be0a936b3757",
    "deepnote_cell_type": "text-cell-p",
    "formattedRanges": [],
    "is_collapsed": false,
    "tags": []
   },
   "source": [
    "ต่อมาจะเป็นการ plot กราฟแสดงผล Conversion Rates โดย คำนวณมากจากการนำ G/Sh (จำนวนประตูที่ทำได้ / จำนวนการยิงประตู) โดยจะมี สีของจุดเป็นตัวแบ่งผู้เล่นว่าผู้เล่นใด ได้รับเวลาเล่นมากกว่าหรือน้อยกว่าเวลาเฉลี่ย"
   ]
  },
  {
   "cell_type": "markdown",
   "metadata": {
    "cell_id": "2e6f0d23-b567-4908-84ff-4fa66c2286b5",
    "deepnote_cell_type": "text-cell-p",
    "formattedRanges": [],
    "is_collapsed": false,
    "tags": []
   },
   "source": [
    "ยิ่ง Conversion Rates มากยิ่งแปลว่าผู้เล่นนั้นมีศักยภาพในการยิงประตูแล้วทำประตูได"
   ]
  },
  {
   "cell_type": "code",
   "execution_count": 35,
   "metadata": {
    "cell_id": "439c31414a8048b78b3e41028fed17ab",
    "deepnote_cell_type": "code",
    "deepnote_to_be_reexecuted": false,
    "execution_millis": 56,
    "execution_start": 1679166185481,
    "source_hash": "2b96b3c9"
   },
   "outputs": [
    {
     "data": {
      "text/plain": [
       "Text(0, 0.5, '')"
      ]
     },
     "execution_count": 35,
     "metadata": {},
     "output_type": "execute_result"
    },
    {
     "data": {
      "image/png": "[encoded data removed]",
      "text/plain": [
       "<Figure size 640x480 with 1 Axes>"
      ]
     },
     "metadata": {
      "image/png": {
       "height": 455,
       "width": 714
      }
     },
     "output_type": "display_data"
    }
   ],
   "source": [
    "# convers-rate ก็ดีกว่าคนที่ได้เล่นเยอะหลายคน\n",
    "sns.barplot(y='Name', x='G/Sh', data=df_pt[df_pt['G/Sh'] > 0].sort_values(by='G/Sh', ascending=False), hue='PlayTime')\n",
    "plt.title('Conversion Rates of Different Players')\n",
    "plt.xlabel(\"Goal/Shot\")\n",
    "plt.ylabel(\"\")\n"
   ]
  },
  {
   "cell_type": "markdown",
   "metadata": {
    "cell_id": "8f1ab0f641ab462084a8b9933eeb1ed5",
    "deepnote_cell_type": "text-cell-p",
    "formattedRanges": [],
    "is_collapsed": false,
    "tags": []
   },
   "source": []
  },
  {
   "cell_type": "markdown",
   "metadata": {
    "cell_id": "d607c135d40246748a43b4a4bb4c80fc",
    "deepnote_cell_type": "markdown"
   },
   "source": [
    "ให้สรุปว่า 2 คนนี้ควรได้โอกาสลงเล่นเยอะขึ้น ถ้าต้องเลือกคนเดียวเอา Fabio"
   ]
  },
  {
   "cell_type": "markdown",
   "metadata": {
    "created_in_deepnote_cell": true,
    "deepnote_cell_type": "markdown",
    "tags": []
   },
   "source": [
    "<a style='text-decoration:none;line-height:16px;display:flex;color:#5B5B62;padding:10px;justify-content:end;' href='https://deepnote.com?utm_source=created-in-deepnote-cell&projectId=235b08f4-68a5-4cf3-a020-cfa8c12f5a2f' target=\"_blank\">\n",
    "<img alt='Created in deepnote.com' style='display:inline;max-height:16px;margin:0px;margin-right:7.5px;' src='data:image/svg+xml;base64,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' > </img>\n",
    "Created in <span style='font-weight:600;margin-left:4px;'>Deepnote</span></a>"
   ]
  }
 ],
 "metadata": {
  "deepnote": {},
  "deepnote_execution_queue": [],
  "deepnote_notebook_id": "e89459b265b546c791dfca15f617dcd0",
  "deepnote_persisted_session": {
   "createdAt": "2023-03-17T16:15:11.278Z"
  },
  "kernelspec": {
   "display_name": "Python 3 (ipykernel)",
   "language": "python",
   "name": "python3"
  },
  "language_info": {
   "codemirror_mode": {
    "name": "ipython",
    "version": 3
   },
   "file_extension": ".py",
   "mimetype": "text/x-python",
   "name": "python",
   "nbconvert_exporter": "python",
   "pygments_lexer": "ipython3",
   "version": "3.9.13"
  }
 },
 "nbformat": 4,
 "nbformat_minor": 1
}
